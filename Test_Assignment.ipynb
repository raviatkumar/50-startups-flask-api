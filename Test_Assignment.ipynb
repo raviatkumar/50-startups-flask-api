{
  "nbformat": 4,
  "nbformat_minor": 0,
  "metadata": {
    "colab": {
      "provenance": [],
      "gpuType": "T4",
      "authorship_tag": "ABX9TyNwDAe8OLVHq8MwFcAQdkTw"
    },
    "kernelspec": {
      "name": "python3",
      "display_name": "Python 3"
    },
    "language_info": {
      "name": "python"
    },
    "accelerator": "GPU"
  },
  "cells": [
    {
      "cell_type": "markdown",
      "source": [
        "#Test Assignment : Extract Title and Text from given URL"
      ],
      "metadata": {
        "id": "7yn0FzjjPtAQ"
      }
    },
    {
      "cell_type": "markdown",
      "source": [
        "###The objective of this assignment is to extract textual data articles from the given URL and perform text analysis to compute variables that are explained below.\n",
        "\n",
        "###Variables :\n",
        "\n",
        "* POSITIVE SCORE\n",
        "\n",
        "* NEGATIVE SCORE\n",
        "\n",
        "* POLARITY SCORE\n",
        "\n",
        "* SUBJECTIVITY SCORE\n",
        "\n",
        "* AVG SENTENCE LENGTH\n",
        "\n",
        "* PERCENTAGE OF COMPLEX WORDS\n",
        "\n",
        "* FOG INDEX\n",
        "\n",
        "* AVG NUMBER OF WORDS PER SENTENCE\n",
        "\n",
        "* COMPLEX WORD COUNT\n",
        "\n",
        "* WORD COUNT\n",
        "\n",
        "* SYLLABLE PER WORD\n",
        "\n",
        "* PERSONAL PRONOUNS\n",
        "\n",
        "* AVG WORD LENGTH"
      ],
      "metadata": {
        "id": "IylaPzev3rPh"
      }
    },
    {
      "cell_type": "markdown",
      "source": [
        "###Import Libraries"
      ],
      "metadata": {
        "id": "BLPiIb9EUJBl"
      }
    },
    {
      "cell_type": "code",
      "execution_count": null,
      "metadata": {
        "id": "U3NKrNawQlO0"
      },
      "outputs": [],
      "source": [
        "import pandas as pd\n",
        "import numpy as np\n",
        "import requests\n",
        "from bs4 import BeautifulSoup\n",
        "from nltk.tokenize import word_tokenize\n",
        "from nltk.tokenize import sent_tokenize, word_tokenize\n",
        "from nltk.corpus import cmudict\n",
        "import string\n",
        "import nltk\n",
        "import string\n",
        "import re"
      ]
    },
    {
      "cell_type": "code",
      "source": [
        "nltk.download('cmudict')\n",
        "nltk.download('punkt')"
      ],
      "metadata": {
        "colab": {
          "base_uri": "https://localhost:8080/"
        },
        "id": "66f2ucEMUGtf",
        "outputId": "2eaa0043-b14c-43dd-d431-93106e002232"
      },
      "execution_count": null,
      "outputs": [
        {
          "output_type": "stream",
          "name": "stderr",
          "text": [
            "[nltk_data] Downloading package cmudict to /root/nltk_data...\n",
            "[nltk_data]   Unzipping corpora/cmudict.zip.\n",
            "[nltk_data] Downloading package punkt to /root/nltk_data...\n",
            "[nltk_data]   Unzipping tokenizers/punkt.zip.\n"
          ]
        },
        {
          "output_type": "execute_result",
          "data": {
            "text/plain": [
              "True"
            ]
          },
          "metadata": {},
          "execution_count": 2
        }
      ]
    },
    {
      "cell_type": "markdown",
      "source": [
        "###Step 1: Mount Drive"
      ],
      "metadata": {
        "id": "GftzCry0lxJo"
      }
    },
    {
      "cell_type": "markdown",
      "source": [
        "###Mount Drive"
      ],
      "metadata": {
        "id": "-BOIoDoOUNwN"
      }
    },
    {
      "cell_type": "code",
      "source": [
        "from google.colab import drive\n",
        "drive.mount('/content/drive')"
      ],
      "metadata": {
        "colab": {
          "base_uri": "https://localhost:8080/"
        },
        "id": "1veI2yIlQxQI",
        "outputId": "2ded83c2-b66e-4081-bd03-2f22e9e5c6a4"
      },
      "execution_count": null,
      "outputs": [
        {
          "output_type": "stream",
          "name": "stdout",
          "text": [
            "Mounted at /content/drive\n"
          ]
        }
      ]
    },
    {
      "cell_type": "code",
      "source": [
        "df=pd.read_excel('/content/drive/MyDrive/20211030 Test Assignment-20240530T063043Z-001/20211030 Test Assignment/Input.xlsx')"
      ],
      "metadata": {
        "id": "HCYeSCu9Q2Id"
      },
      "execution_count": null,
      "outputs": []
    },
    {
      "cell_type": "markdown",
      "source": [
        "### print the first 5 rows"
      ],
      "metadata": {
        "id": "8ARcUClql2NS"
      }
    },
    {
      "cell_type": "code",
      "source": [
        "df.head()"
      ],
      "metadata": {
        "colab": {
          "base_uri": "https://localhost:8080/",
          "height": 206
        },
        "id": "rjoqrPg3T_-o",
        "outputId": "e19c5d1d-cb40-44d5-898d-8ffcc743c244"
      },
      "execution_count": null,
      "outputs": [
        {
          "output_type": "execute_result",
          "data": {
            "text/plain": [
              "            URL_ID                                                URL\n",
              "0  blackassign0001  https://insights.blackcoffer.com/rising-it-cit...\n",
              "1  blackassign0002  https://insights.blackcoffer.com/rising-it-cit...\n",
              "2  blackassign0003  https://insights.blackcoffer.com/internet-dema...\n",
              "3  blackassign0004  https://insights.blackcoffer.com/rise-of-cyber...\n",
              "4  blackassign0005  https://insights.blackcoffer.com/ott-platform-..."
            ],
            "text/html": [
              "\n",
              "  <div id=\"df-203f4ae2-8dcf-416f-a09c-e6a279189813\" class=\"colab-df-container\">\n",
              "    <div>\n",
              "<style scoped>\n",
              "    .dataframe tbody tr th:only-of-type {\n",
              "        vertical-align: middle;\n",
              "    }\n",
              "\n",
              "    .dataframe tbody tr th {\n",
              "        vertical-align: top;\n",
              "    }\n",
              "\n",
              "    .dataframe thead th {\n",
              "        text-align: right;\n",
              "    }\n",
              "</style>\n",
              "<table border=\"1\" class=\"dataframe\">\n",
              "  <thead>\n",
              "    <tr style=\"text-align: right;\">\n",
              "      <th></th>\n",
              "      <th>URL_ID</th>\n",
              "      <th>URL</th>\n",
              "    </tr>\n",
              "  </thead>\n",
              "  <tbody>\n",
              "    <tr>\n",
              "      <th>0</th>\n",
              "      <td>blackassign0001</td>\n",
              "      <td>https://insights.blackcoffer.com/rising-it-cit...</td>\n",
              "    </tr>\n",
              "    <tr>\n",
              "      <th>1</th>\n",
              "      <td>blackassign0002</td>\n",
              "      <td>https://insights.blackcoffer.com/rising-it-cit...</td>\n",
              "    </tr>\n",
              "    <tr>\n",
              "      <th>2</th>\n",
              "      <td>blackassign0003</td>\n",
              "      <td>https://insights.blackcoffer.com/internet-dema...</td>\n",
              "    </tr>\n",
              "    <tr>\n",
              "      <th>3</th>\n",
              "      <td>blackassign0004</td>\n",
              "      <td>https://insights.blackcoffer.com/rise-of-cyber...</td>\n",
              "    </tr>\n",
              "    <tr>\n",
              "      <th>4</th>\n",
              "      <td>blackassign0005</td>\n",
              "      <td>https://insights.blackcoffer.com/ott-platform-...</td>\n",
              "    </tr>\n",
              "  </tbody>\n",
              "</table>\n",
              "</div>\n",
              "    <div class=\"colab-df-buttons\">\n",
              "\n",
              "  <div class=\"colab-df-container\">\n",
              "    <button class=\"colab-df-convert\" onclick=\"convertToInteractive('df-203f4ae2-8dcf-416f-a09c-e6a279189813')\"\n",
              "            title=\"Convert this dataframe to an interactive table.\"\n",
              "            style=\"display:none;\">\n",
              "\n",
              "  <svg xmlns=\"http://www.w3.org/2000/svg\" height=\"24px\" viewBox=\"0 -960 960 960\">\n",
              "    <path d=\"M120-120v-720h720v720H120Zm60-500h600v-160H180v160Zm220 220h160v-160H400v160Zm0 220h160v-160H400v160ZM180-400h160v-160H180v160Zm440 0h160v-160H620v160ZM180-180h160v-160H180v160Zm440 0h160v-160H620v160Z\"/>\n",
              "  </svg>\n",
              "    </button>\n",
              "\n",
              "  <style>\n",
              "    .colab-df-container {\n",
              "      display:flex;\n",
              "      gap: 12px;\n",
              "    }\n",
              "\n",
              "    .colab-df-convert {\n",
              "      background-color: #E8F0FE;\n",
              "      border: none;\n",
              "      border-radius: 50%;\n",
              "      cursor: pointer;\n",
              "      display: none;\n",
              "      fill: #1967D2;\n",
              "      height: 32px;\n",
              "      padding: 0 0 0 0;\n",
              "      width: 32px;\n",
              "    }\n",
              "\n",
              "    .colab-df-convert:hover {\n",
              "      background-color: #E2EBFA;\n",
              "      box-shadow: 0px 1px 2px rgba(60, 64, 67, 0.3), 0px 1px 3px 1px rgba(60, 64, 67, 0.15);\n",
              "      fill: #174EA6;\n",
              "    }\n",
              "\n",
              "    .colab-df-buttons div {\n",
              "      margin-bottom: 4px;\n",
              "    }\n",
              "\n",
              "    [theme=dark] .colab-df-convert {\n",
              "      background-color: #3B4455;\n",
              "      fill: #D2E3FC;\n",
              "    }\n",
              "\n",
              "    [theme=dark] .colab-df-convert:hover {\n",
              "      background-color: #434B5C;\n",
              "      box-shadow: 0px 1px 3px 1px rgba(0, 0, 0, 0.15);\n",
              "      filter: drop-shadow(0px 1px 2px rgba(0, 0, 0, 0.3));\n",
              "      fill: #FFFFFF;\n",
              "    }\n",
              "  </style>\n",
              "\n",
              "    <script>\n",
              "      const buttonEl =\n",
              "        document.querySelector('#df-203f4ae2-8dcf-416f-a09c-e6a279189813 button.colab-df-convert');\n",
              "      buttonEl.style.display =\n",
              "        google.colab.kernel.accessAllowed ? 'block' : 'none';\n",
              "\n",
              "      async function convertToInteractive(key) {\n",
              "        const element = document.querySelector('#df-203f4ae2-8dcf-416f-a09c-e6a279189813');\n",
              "        const dataTable =\n",
              "          await google.colab.kernel.invokeFunction('convertToInteractive',\n",
              "                                                    [key], {});\n",
              "        if (!dataTable) return;\n",
              "\n",
              "        const docLinkHtml = 'Like what you see? Visit the ' +\n",
              "          '<a target=\"_blank\" href=https://colab.research.google.com/notebooks/data_table.ipynb>data table notebook</a>'\n",
              "          + ' to learn more about interactive tables.';\n",
              "        element.innerHTML = '';\n",
              "        dataTable['output_type'] = 'display_data';\n",
              "        await google.colab.output.renderOutput(dataTable, element);\n",
              "        const docLink = document.createElement('div');\n",
              "        docLink.innerHTML = docLinkHtml;\n",
              "        element.appendChild(docLink);\n",
              "      }\n",
              "    </script>\n",
              "  </div>\n",
              "\n",
              "\n",
              "<div id=\"df-fa3518d4-d0c5-4f2a-8eb5-8da2c3bae008\">\n",
              "  <button class=\"colab-df-quickchart\" onclick=\"quickchart('df-fa3518d4-d0c5-4f2a-8eb5-8da2c3bae008')\"\n",
              "            title=\"Suggest charts\"\n",
              "            style=\"display:none;\">\n",
              "\n",
              "<svg xmlns=\"http://www.w3.org/2000/svg\" height=\"24px\"viewBox=\"0 0 24 24\"\n",
              "     width=\"24px\">\n",
              "    <g>\n",
              "        <path d=\"M19 3H5c-1.1 0-2 .9-2 2v14c0 1.1.9 2 2 2h14c1.1 0 2-.9 2-2V5c0-1.1-.9-2-2-2zM9 17H7v-7h2v7zm4 0h-2V7h2v10zm4 0h-2v-4h2v4z\"/>\n",
              "    </g>\n",
              "</svg>\n",
              "  </button>\n",
              "\n",
              "<style>\n",
              "  .colab-df-quickchart {\n",
              "      --bg-color: #E8F0FE;\n",
              "      --fill-color: #1967D2;\n",
              "      --hover-bg-color: #E2EBFA;\n",
              "      --hover-fill-color: #174EA6;\n",
              "      --disabled-fill-color: #AAA;\n",
              "      --disabled-bg-color: #DDD;\n",
              "  }\n",
              "\n",
              "  [theme=dark] .colab-df-quickchart {\n",
              "      --bg-color: #3B4455;\n",
              "      --fill-color: #D2E3FC;\n",
              "      --hover-bg-color: #434B5C;\n",
              "      --hover-fill-color: #FFFFFF;\n",
              "      --disabled-bg-color: #3B4455;\n",
              "      --disabled-fill-color: #666;\n",
              "  }\n",
              "\n",
              "  .colab-df-quickchart {\n",
              "    background-color: var(--bg-color);\n",
              "    border: none;\n",
              "    border-radius: 50%;\n",
              "    cursor: pointer;\n",
              "    display: none;\n",
              "    fill: var(--fill-color);\n",
              "    height: 32px;\n",
              "    padding: 0;\n",
              "    width: 32px;\n",
              "  }\n",
              "\n",
              "  .colab-df-quickchart:hover {\n",
              "    background-color: var(--hover-bg-color);\n",
              "    box-shadow: 0 1px 2px rgba(60, 64, 67, 0.3), 0 1px 3px 1px rgba(60, 64, 67, 0.15);\n",
              "    fill: var(--button-hover-fill-color);\n",
              "  }\n",
              "\n",
              "  .colab-df-quickchart-complete:disabled,\n",
              "  .colab-df-quickchart-complete:disabled:hover {\n",
              "    background-color: var(--disabled-bg-color);\n",
              "    fill: var(--disabled-fill-color);\n",
              "    box-shadow: none;\n",
              "  }\n",
              "\n",
              "  .colab-df-spinner {\n",
              "    border: 2px solid var(--fill-color);\n",
              "    border-color: transparent;\n",
              "    border-bottom-color: var(--fill-color);\n",
              "    animation:\n",
              "      spin 1s steps(1) infinite;\n",
              "  }\n",
              "\n",
              "  @keyframes spin {\n",
              "    0% {\n",
              "      border-color: transparent;\n",
              "      border-bottom-color: var(--fill-color);\n",
              "      border-left-color: var(--fill-color);\n",
              "    }\n",
              "    20% {\n",
              "      border-color: transparent;\n",
              "      border-left-color: var(--fill-color);\n",
              "      border-top-color: var(--fill-color);\n",
              "    }\n",
              "    30% {\n",
              "      border-color: transparent;\n",
              "      border-left-color: var(--fill-color);\n",
              "      border-top-color: var(--fill-color);\n",
              "      border-right-color: var(--fill-color);\n",
              "    }\n",
              "    40% {\n",
              "      border-color: transparent;\n",
              "      border-right-color: var(--fill-color);\n",
              "      border-top-color: var(--fill-color);\n",
              "    }\n",
              "    60% {\n",
              "      border-color: transparent;\n",
              "      border-right-color: var(--fill-color);\n",
              "    }\n",
              "    80% {\n",
              "      border-color: transparent;\n",
              "      border-right-color: var(--fill-color);\n",
              "      border-bottom-color: var(--fill-color);\n",
              "    }\n",
              "    90% {\n",
              "      border-color: transparent;\n",
              "      border-bottom-color: var(--fill-color);\n",
              "    }\n",
              "  }\n",
              "</style>\n",
              "\n",
              "  <script>\n",
              "    async function quickchart(key) {\n",
              "      const quickchartButtonEl =\n",
              "        document.querySelector('#' + key + ' button');\n",
              "      quickchartButtonEl.disabled = true;  // To prevent multiple clicks.\n",
              "      quickchartButtonEl.classList.add('colab-df-spinner');\n",
              "      try {\n",
              "        const charts = await google.colab.kernel.invokeFunction(\n",
              "            'suggestCharts', [key], {});\n",
              "      } catch (error) {\n",
              "        console.error('Error during call to suggestCharts:', error);\n",
              "      }\n",
              "      quickchartButtonEl.classList.remove('colab-df-spinner');\n",
              "      quickchartButtonEl.classList.add('colab-df-quickchart-complete');\n",
              "    }\n",
              "    (() => {\n",
              "      let quickchartButtonEl =\n",
              "        document.querySelector('#df-fa3518d4-d0c5-4f2a-8eb5-8da2c3bae008 button');\n",
              "      quickchartButtonEl.style.display =\n",
              "        google.colab.kernel.accessAllowed ? 'block' : 'none';\n",
              "    })();\n",
              "  </script>\n",
              "</div>\n",
              "\n",
              "    </div>\n",
              "  </div>\n"
            ],
            "application/vnd.google.colaboratory.intrinsic+json": {
              "type": "dataframe",
              "variable_name": "df",
              "summary": "{\n  \"name\": \"df\",\n  \"rows\": 100,\n  \"fields\": [\n    {\n      \"column\": \"URL_ID\",\n      \"properties\": {\n        \"dtype\": \"string\",\n        \"num_unique_values\": 100,\n        \"samples\": [\n          \"blackassign0084\",\n          \"blackassign0054\",\n          \"blackassign0071\"\n        ],\n        \"semantic_type\": \"\",\n        \"description\": \"\"\n      }\n    },\n    {\n      \"column\": \"URL\",\n      \"properties\": {\n        \"dtype\": \"string\",\n        \"num_unique_values\": 100,\n        \"samples\": [\n          \"https://insights.blackcoffer.com/how-voice-search-makes-your-business-a-successful-business/\",\n          \"https://insights.blackcoffer.com/how-google-fit-measure-heart-and-respiratory-rates-using-a-phone/\",\n          \"https://insights.blackcoffer.com/how-to-overcome-your-fear-of-making-mistakes-2/\"\n        ],\n        \"semantic_type\": \"\",\n        \"description\": \"\"\n      }\n    }\n  ]\n}"
            }
          },
          "metadata": {},
          "execution_count": 5
        }
      ]
    },
    {
      "cell_type": "code",
      "source": [
        "df['URL'][1]"
      ],
      "metadata": {
        "colab": {
          "base_uri": "https://localhost:8080/",
          "height": 35
        },
        "id": "_3ijjpAn1D90",
        "outputId": "32f7e902-5a49-469d-fa14-4a1fb607c074"
      },
      "execution_count": null,
      "outputs": [
        {
          "output_type": "execute_result",
          "data": {
            "text/plain": [
              "'https://insights.blackcoffer.com/rising-it-cities-and-their-impact-on-the-economy-environment-infrastructure-and-city-life-in-future/'"
            ],
            "application/vnd.google.colaboratory.intrinsic+json": {
              "type": "string"
            }
          },
          "metadata": {},
          "execution_count": 6
        }
      ]
    },
    {
      "cell_type": "markdown",
      "source": [
        "### Shape of dataset"
      ],
      "metadata": {
        "id": "O_XQEaH3mAbf"
      }
    },
    {
      "cell_type": "code",
      "source": [
        "df.shape"
      ],
      "metadata": {
        "colab": {
          "base_uri": "https://localhost:8080/"
        },
        "id": "ck2fXmQ5UFvO",
        "outputId": "c627152a-932f-4c7f-cfb9-497e48ea9fa1"
      },
      "execution_count": null,
      "outputs": [
        {
          "output_type": "execute_result",
          "data": {
            "text/plain": [
              "(100, 2)"
            ]
          },
          "metadata": {},
          "execution_count": 7
        }
      ]
    },
    {
      "cell_type": "markdown",
      "source": [
        "###Check for null values"
      ],
      "metadata": {
        "id": "f4E5qdvoURfH"
      }
    },
    {
      "cell_type": "code",
      "source": [
        "df.isnull().sum()"
      ],
      "metadata": {
        "colab": {
          "base_uri": "https://localhost:8080/"
        },
        "id": "OVxA0uqOUWLt",
        "outputId": "d9b48f84-8c6a-46e5-bb7e-8218fafb15d2"
      },
      "execution_count": null,
      "outputs": [
        {
          "output_type": "execute_result",
          "data": {
            "text/plain": [
              "URL_ID    0\n",
              "URL       0\n",
              "dtype: int64"
            ]
          },
          "metadata": {},
          "execution_count": 8
        }
      ]
    },
    {
      "cell_type": "markdown",
      "source": [
        "### Check for duplicate values"
      ],
      "metadata": {
        "id": "ccTQFr2CUUcz"
      }
    },
    {
      "cell_type": "code",
      "source": [
        "print(len(df[df.duplicated()]))"
      ],
      "metadata": {
        "colab": {
          "base_uri": "https://localhost:8080/"
        },
        "id": "815j_38CUY5O",
        "outputId": "6c630f52-ad04-44b1-fc39-c6a925c2bb98"
      },
      "execution_count": null,
      "outputs": [
        {
          "output_type": "stream",
          "name": "stdout",
          "text": [
            "0\n"
          ]
        }
      ]
    },
    {
      "cell_type": "markdown",
      "source": [
        "### Value Counts"
      ],
      "metadata": {
        "id": "URviFK57mMs4"
      }
    },
    {
      "cell_type": "code",
      "source": [
        "df['URL_ID'].value_counts()"
      ],
      "metadata": {
        "colab": {
          "base_uri": "https://localhost:8080/"
        },
        "id": "-zy2ZPafUdj3",
        "outputId": "2a0d4bc0-2407-40d2-bd67-1a480fc04721"
      },
      "execution_count": null,
      "outputs": [
        {
          "output_type": "execute_result",
          "data": {
            "text/plain": [
              "URL_ID\n",
              "blackassign0100    1\n",
              "blackassign0001    1\n",
              "blackassign0002    1\n",
              "blackassign0003    1\n",
              "blackassign0085    1\n",
              "                  ..\n",
              "blackassign0008    1\n",
              "blackassign0009    1\n",
              "blackassign0010    1\n",
              "blackassign0011    1\n",
              "blackassign0012    1\n",
              "Name: count, Length: 100, dtype: int64"
            ]
          },
          "metadata": {},
          "execution_count": 10
        }
      ]
    },
    {
      "cell_type": "code",
      "source": [
        "df['URL'].value_counts()"
      ],
      "metadata": {
        "colab": {
          "base_uri": "https://localhost:8080/"
        },
        "id": "2ycyDD7sUqwc",
        "outputId": "a3a0ddec-1260-48ac-b177-a0f938015bb7"
      },
      "execution_count": null,
      "outputs": [
        {
          "output_type": "execute_result",
          "data": {
            "text/plain": [
              "URL\n",
              "https://insights.blackcoffer.com/how-will-covid-19-affect-the-world-of-work-2/                                                                  1\n",
              "https://insights.blackcoffer.com/rising-it-cities-and-its-impact-on-the-economy-environment-infrastructure-and-city-life-by-the-year-2040-2/    1\n",
              "https://insights.blackcoffer.com/rising-it-cities-and-their-impact-on-the-economy-environment-infrastructure-and-city-life-in-future/           1\n",
              "https://insights.blackcoffer.com/internet-demands-evolution-communication-impact-and-2035s-alternative-pathways/                                1\n",
              "https://insights.blackcoffer.com/how-the-covid-19-crisis-is-redefining-jobs-and-services/                                                       1\n",
              "                                                                                                                                               ..\n",
              "https://insights.blackcoffer.com/rise-of-internet-demand-and-its-impact-on-communications-and-alternatives-by-the-year-2035-2/                  1\n",
              "https://insights.blackcoffer.com/rise-of-cybercrime-and-its-effect-by-the-year-2040-2/                                                          1\n",
              "https://insights.blackcoffer.com/rise-of-cybercrime-and-its-effect-by-the-year-2040/                                                            1\n",
              "https://insights.blackcoffer.com/rise-of-internet-demand-and-its-impact-on-communications-and-alternatives-by-the-year-2035/                    1\n",
              "https://insights.blackcoffer.com/rise-of-telemedicine-and-its-impact-on-livelihood-by-2040-3-2/                                                 1\n",
              "Name: count, Length: 100, dtype: int64"
            ]
          },
          "metadata": {},
          "execution_count": 11
        }
      ]
    },
    {
      "cell_type": "markdown",
      "source": [
        "###Step 2:\n",
        "\n",
        "* ### Extract title and text from a given URL"
      ],
      "metadata": {
        "id": "L9zkKRiEUnZD"
      }
    },
    {
      "cell_type": "code",
      "source": [
        "# Function to extract title and text from a given URL\n",
        "def extract_article_content(url):\n",
        "    try:\n",
        "        reqs = requests.get(url)\n",
        "        soup = BeautifulSoup(reqs.text, 'html.parser')\n",
        "\n",
        "        # Extracting the title\n",
        "        title = soup.find('title').get_text() if soup.find('title') else 'No Title'\n",
        "\n",
        "        # Assuming the article text is within multiple tags\n",
        "        paragraphs = []\n",
        "\n",
        "        # Possible containers and tags for the article text\n",
        "        containers = soup.find_all(['div', 'article'], class_=['td-post-content', 'entry-content', 'content'])\n",
        "        for container in containers:\n",
        "            paragraphs.extend(container.find_all('p'))\n",
        "\n",
        "        # Gathering all text from the paragraphs\n",
        "        text = ' '.join([p.get_text() for p in paragraphs])\n",
        "\n",
        "        return title, text\n",
        "    except Exception as e:\n",
        "        return 'No Title', 'No Content'\n",
        "\n",
        "# Extracting titles and texts for all URLs in the DataFrame\n",
        "df['Title'], df['Text'] = zip(*df['URL'].apply(extract_article_content))\n",
        "\n",
        "# Displaying the DataFrame\n",
        "print(df.head())"
      ],
      "metadata": {
        "colab": {
          "base_uri": "https://localhost:8080/"
        },
        "id": "uNB_66BTF_at",
        "outputId": "7ae29471-91c8-4727-b5ce-e477f450fb28"
      },
      "execution_count": null,
      "outputs": [
        {
          "output_type": "stream",
          "name": "stdout",
          "text": [
            "            URL_ID                                                URL  \\\n",
            "0  blackassign0001  https://insights.blackcoffer.com/rising-it-cit...   \n",
            "1  blackassign0002  https://insights.blackcoffer.com/rising-it-cit...   \n",
            "2  blackassign0003  https://insights.blackcoffer.com/internet-dema...   \n",
            "3  blackassign0004  https://insights.blackcoffer.com/rise-of-cyber...   \n",
            "4  blackassign0005  https://insights.blackcoffer.com/ott-platform-...   \n",
            "\n",
            "                                               Title  \\\n",
            "0  Rising IT cities and its impact on the economy...   \n",
            "1  Rising IT Cities and Their Impact on the Econo...   \n",
            "2  Internet Demand's Evolution, Communication Imp...   \n",
            "3  Rise of Cybercrime and its Effect in upcoming ...   \n",
            "4  OTT platform and its impact on the entertainme...   \n",
            "\n",
            "                                                Text  \n",
            "0  We have seen a huge development and dependence...  \n",
            "1  Throughout history, from the industrial revolu...  \n",
            "2  Introduction In the span of just a few decades...  \n",
            "3  The way we live, work, and communicate has unq...  \n",
            "4  The year 2040 is poised to witness a continued...  \n"
          ]
        }
      ]
    },
    {
      "cell_type": "markdown",
      "source": [
        "*   Inside the function, define reqs variable to  extract article content use request.get(url) to get url from the dataframe df.\n",
        "\n",
        "* Define soup variable and use beautifulsoup to parse reqs.text and html parse.\n",
        "\n",
        "* First extract title from the  given url. If text is present extract title else print no title.\n",
        "\n",
        "* Create empty list and possible container and tags from the given article text and then  gathering all text from the paragraphs\n",
        "\n",
        "* Finally return title and text  if exists else raise an expectation no title and no content.\n",
        "\n",
        "* Then define columns title and text to extract title and text from the given url and store it in a given dataframe."
      ],
      "metadata": {
        "id": "bWA91wC54No3"
      }
    },
    {
      "cell_type": "code",
      "source": [
        "df['Text'][0]"
      ],
      "metadata": {
        "id": "YnAaGVjaLG_M",
        "outputId": "39c12de1-3a1b-4033-b59d-f84fda6560fc",
        "colab": {
          "base_uri": "https://localhost:8080/",
          "height": 140
        }
      },
      "execution_count": null,
      "outputs": [
        {
          "output_type": "execute_result",
          "data": {
            "text/plain": [
              "'We have seen a huge development and dependence of people on technology in recent years. We have also seen the development of AI and ChatGPT in recent years. So it is a normal thing that we will become fully dependent on technology by 2040. Information technology will be a major power for all the developing nations. As a member of a developing nation, India is rapidly growing its IT base. It has also grown some IT cities which will be the major control centres for Information technology by 2040. Rising IT cities Kolkata:- Kolkata in West Bengal is an emerging major IT hub. The new Kolkata i.e. Saltlake Sector\\xa0 5, New town, Rajarhat area of Kolkata is a major IT hub. The government is giving the software companies land at almost free of cost to set up the companies there. Many large companies like Google, Microsoft, IBM, Infosys and others have set up their companies here. Kolkata has a market base of billions of dollars and is doing a great job of boosting the national economy. Impact on Economy There is a huge impact of the rising IT cities on our economy. Some of the effects are- Impact on Environment The rising IT cities will create a huge impact on the environment, the maximum of which will be harmful effects. The impact of rising IT cities on the environment is- Impact on infrastructure There are many contributions of the IT cities on infrastructure.\\xa0 They are- Impact on city life With the growth of IT cities, more people will get jobs and will earn more. So the purchasing power of the people will increase. People will lead a better lifestyle. They will buy things of good brand value. The tastes and preferences of people will also change. The human development index is going to increase. People will buy good quality food and good quality cars. So the food, automobile and many other industries are going to increase. So there will be a huge impact on city life by 2040.'"
            ],
            "application/vnd.google.colaboratory.intrinsic+json": {
              "type": "string"
            }
          },
          "metadata": {},
          "execution_count": 13
        }
      ]
    },
    {
      "cell_type": "markdown",
      "source": [
        "###Replace Blackoffer Insights with empty space"
      ],
      "metadata": {
        "id": "gUFH06Yyi0ua"
      }
    },
    {
      "cell_type": "code",
      "source": [
        "df.loc[0:100, 'Title'] = df.loc[0:100, 'Title'].str.replace(' - Blackcoffer Insights', '')"
      ],
      "metadata": {
        "id": "-4-t6CiJOQio"
      },
      "execution_count": null,
      "outputs": []
    },
    {
      "cell_type": "code",
      "source": [
        "df.head()"
      ],
      "metadata": {
        "colab": {
          "base_uri": "https://localhost:8080/",
          "height": 206
        },
        "id": "i75fZj6vOQn4",
        "outputId": "b9467da6-d631-4dff-eae3-66ebbb6d7383"
      },
      "execution_count": null,
      "outputs": [
        {
          "output_type": "execute_result",
          "data": {
            "text/plain": [
              "            URL_ID                                                URL  \\\n",
              "0  blackassign0001  https://insights.blackcoffer.com/rising-it-cit...   \n",
              "1  blackassign0002  https://insights.blackcoffer.com/rising-it-cit...   \n",
              "2  blackassign0003  https://insights.blackcoffer.com/internet-dema...   \n",
              "3  blackassign0004  https://insights.blackcoffer.com/rise-of-cyber...   \n",
              "4  blackassign0005  https://insights.blackcoffer.com/ott-platform-...   \n",
              "\n",
              "                                               Title  \\\n",
              "0  Rising IT cities and its impact on the economy...   \n",
              "1  Rising IT Cities and Their Impact on the Econo...   \n",
              "2  Internet Demand's Evolution, Communication Imp...   \n",
              "3  Rise of Cybercrime and its Effect in upcoming ...   \n",
              "4  OTT platform and its impact on the entertainme...   \n",
              "\n",
              "                                                Text  \n",
              "0  We have seen a huge development and dependence...  \n",
              "1  Throughout history, from the industrial revolu...  \n",
              "2  Introduction In the span of just a few decades...  \n",
              "3  The way we live, work, and communicate has unq...  \n",
              "4  The year 2040 is poised to witness a continued...  "
            ],
            "text/html": [
              "\n",
              "  <div id=\"df-d926f8cc-048a-4c8b-be40-7da25ca7d671\" class=\"colab-df-container\">\n",
              "    <div>\n",
              "<style scoped>\n",
              "    .dataframe tbody tr th:only-of-type {\n",
              "        vertical-align: middle;\n",
              "    }\n",
              "\n",
              "    .dataframe tbody tr th {\n",
              "        vertical-align: top;\n",
              "    }\n",
              "\n",
              "    .dataframe thead th {\n",
              "        text-align: right;\n",
              "    }\n",
              "</style>\n",
              "<table border=\"1\" class=\"dataframe\">\n",
              "  <thead>\n",
              "    <tr style=\"text-align: right;\">\n",
              "      <th></th>\n",
              "      <th>URL_ID</th>\n",
              "      <th>URL</th>\n",
              "      <th>Title</th>\n",
              "      <th>Text</th>\n",
              "    </tr>\n",
              "  </thead>\n",
              "  <tbody>\n",
              "    <tr>\n",
              "      <th>0</th>\n",
              "      <td>blackassign0001</td>\n",
              "      <td>https://insights.blackcoffer.com/rising-it-cit...</td>\n",
              "      <td>Rising IT cities and its impact on the economy...</td>\n",
              "      <td>We have seen a huge development and dependence...</td>\n",
              "    </tr>\n",
              "    <tr>\n",
              "      <th>1</th>\n",
              "      <td>blackassign0002</td>\n",
              "      <td>https://insights.blackcoffer.com/rising-it-cit...</td>\n",
              "      <td>Rising IT Cities and Their Impact on the Econo...</td>\n",
              "      <td>Throughout history, from the industrial revolu...</td>\n",
              "    </tr>\n",
              "    <tr>\n",
              "      <th>2</th>\n",
              "      <td>blackassign0003</td>\n",
              "      <td>https://insights.blackcoffer.com/internet-dema...</td>\n",
              "      <td>Internet Demand's Evolution, Communication Imp...</td>\n",
              "      <td>Introduction In the span of just a few decades...</td>\n",
              "    </tr>\n",
              "    <tr>\n",
              "      <th>3</th>\n",
              "      <td>blackassign0004</td>\n",
              "      <td>https://insights.blackcoffer.com/rise-of-cyber...</td>\n",
              "      <td>Rise of Cybercrime and its Effect in upcoming ...</td>\n",
              "      <td>The way we live, work, and communicate has unq...</td>\n",
              "    </tr>\n",
              "    <tr>\n",
              "      <th>4</th>\n",
              "      <td>blackassign0005</td>\n",
              "      <td>https://insights.blackcoffer.com/ott-platform-...</td>\n",
              "      <td>OTT platform and its impact on the entertainme...</td>\n",
              "      <td>The year 2040 is poised to witness a continued...</td>\n",
              "    </tr>\n",
              "  </tbody>\n",
              "</table>\n",
              "</div>\n",
              "    <div class=\"colab-df-buttons\">\n",
              "\n",
              "  <div class=\"colab-df-container\">\n",
              "    <button class=\"colab-df-convert\" onclick=\"convertToInteractive('df-d926f8cc-048a-4c8b-be40-7da25ca7d671')\"\n",
              "            title=\"Convert this dataframe to an interactive table.\"\n",
              "            style=\"display:none;\">\n",
              "\n",
              "  <svg xmlns=\"http://www.w3.org/2000/svg\" height=\"24px\" viewBox=\"0 -960 960 960\">\n",
              "    <path d=\"M120-120v-720h720v720H120Zm60-500h600v-160H180v160Zm220 220h160v-160H400v160Zm0 220h160v-160H400v160ZM180-400h160v-160H180v160Zm440 0h160v-160H620v160ZM180-180h160v-160H180v160Zm440 0h160v-160H620v160Z\"/>\n",
              "  </svg>\n",
              "    </button>\n",
              "\n",
              "  <style>\n",
              "    .colab-df-container {\n",
              "      display:flex;\n",
              "      gap: 12px;\n",
              "    }\n",
              "\n",
              "    .colab-df-convert {\n",
              "      background-color: #E8F0FE;\n",
              "      border: none;\n",
              "      border-radius: 50%;\n",
              "      cursor: pointer;\n",
              "      display: none;\n",
              "      fill: #1967D2;\n",
              "      height: 32px;\n",
              "      padding: 0 0 0 0;\n",
              "      width: 32px;\n",
              "    }\n",
              "\n",
              "    .colab-df-convert:hover {\n",
              "      background-color: #E2EBFA;\n",
              "      box-shadow: 0px 1px 2px rgba(60, 64, 67, 0.3), 0px 1px 3px 1px rgba(60, 64, 67, 0.15);\n",
              "      fill: #174EA6;\n",
              "    }\n",
              "\n",
              "    .colab-df-buttons div {\n",
              "      margin-bottom: 4px;\n",
              "    }\n",
              "\n",
              "    [theme=dark] .colab-df-convert {\n",
              "      background-color: #3B4455;\n",
              "      fill: #D2E3FC;\n",
              "    }\n",
              "\n",
              "    [theme=dark] .colab-df-convert:hover {\n",
              "      background-color: #434B5C;\n",
              "      box-shadow: 0px 1px 3px 1px rgba(0, 0, 0, 0.15);\n",
              "      filter: drop-shadow(0px 1px 2px rgba(0, 0, 0, 0.3));\n",
              "      fill: #FFFFFF;\n",
              "    }\n",
              "  </style>\n",
              "\n",
              "    <script>\n",
              "      const buttonEl =\n",
              "        document.querySelector('#df-d926f8cc-048a-4c8b-be40-7da25ca7d671 button.colab-df-convert');\n",
              "      buttonEl.style.display =\n",
              "        google.colab.kernel.accessAllowed ? 'block' : 'none';\n",
              "\n",
              "      async function convertToInteractive(key) {\n",
              "        const element = document.querySelector('#df-d926f8cc-048a-4c8b-be40-7da25ca7d671');\n",
              "        const dataTable =\n",
              "          await google.colab.kernel.invokeFunction('convertToInteractive',\n",
              "                                                    [key], {});\n",
              "        if (!dataTable) return;\n",
              "\n",
              "        const docLinkHtml = 'Like what you see? Visit the ' +\n",
              "          '<a target=\"_blank\" href=https://colab.research.google.com/notebooks/data_table.ipynb>data table notebook</a>'\n",
              "          + ' to learn more about interactive tables.';\n",
              "        element.innerHTML = '';\n",
              "        dataTable['output_type'] = 'display_data';\n",
              "        await google.colab.output.renderOutput(dataTable, element);\n",
              "        const docLink = document.createElement('div');\n",
              "        docLink.innerHTML = docLinkHtml;\n",
              "        element.appendChild(docLink);\n",
              "      }\n",
              "    </script>\n",
              "  </div>\n",
              "\n",
              "\n",
              "<div id=\"df-612dfca6-520b-4585-b9bb-10d6e2cade5a\">\n",
              "  <button class=\"colab-df-quickchart\" onclick=\"quickchart('df-612dfca6-520b-4585-b9bb-10d6e2cade5a')\"\n",
              "            title=\"Suggest charts\"\n",
              "            style=\"display:none;\">\n",
              "\n",
              "<svg xmlns=\"http://www.w3.org/2000/svg\" height=\"24px\"viewBox=\"0 0 24 24\"\n",
              "     width=\"24px\">\n",
              "    <g>\n",
              "        <path d=\"M19 3H5c-1.1 0-2 .9-2 2v14c0 1.1.9 2 2 2h14c1.1 0 2-.9 2-2V5c0-1.1-.9-2-2-2zM9 17H7v-7h2v7zm4 0h-2V7h2v10zm4 0h-2v-4h2v4z\"/>\n",
              "    </g>\n",
              "</svg>\n",
              "  </button>\n",
              "\n",
              "<style>\n",
              "  .colab-df-quickchart {\n",
              "      --bg-color: #E8F0FE;\n",
              "      --fill-color: #1967D2;\n",
              "      --hover-bg-color: #E2EBFA;\n",
              "      --hover-fill-color: #174EA6;\n",
              "      --disabled-fill-color: #AAA;\n",
              "      --disabled-bg-color: #DDD;\n",
              "  }\n",
              "\n",
              "  [theme=dark] .colab-df-quickchart {\n",
              "      --bg-color: #3B4455;\n",
              "      --fill-color: #D2E3FC;\n",
              "      --hover-bg-color: #434B5C;\n",
              "      --hover-fill-color: #FFFFFF;\n",
              "      --disabled-bg-color: #3B4455;\n",
              "      --disabled-fill-color: #666;\n",
              "  }\n",
              "\n",
              "  .colab-df-quickchart {\n",
              "    background-color: var(--bg-color);\n",
              "    border: none;\n",
              "    border-radius: 50%;\n",
              "    cursor: pointer;\n",
              "    display: none;\n",
              "    fill: var(--fill-color);\n",
              "    height: 32px;\n",
              "    padding: 0;\n",
              "    width: 32px;\n",
              "  }\n",
              "\n",
              "  .colab-df-quickchart:hover {\n",
              "    background-color: var(--hover-bg-color);\n",
              "    box-shadow: 0 1px 2px rgba(60, 64, 67, 0.3), 0 1px 3px 1px rgba(60, 64, 67, 0.15);\n",
              "    fill: var(--button-hover-fill-color);\n",
              "  }\n",
              "\n",
              "  .colab-df-quickchart-complete:disabled,\n",
              "  .colab-df-quickchart-complete:disabled:hover {\n",
              "    background-color: var(--disabled-bg-color);\n",
              "    fill: var(--disabled-fill-color);\n",
              "    box-shadow: none;\n",
              "  }\n",
              "\n",
              "  .colab-df-spinner {\n",
              "    border: 2px solid var(--fill-color);\n",
              "    border-color: transparent;\n",
              "    border-bottom-color: var(--fill-color);\n",
              "    animation:\n",
              "      spin 1s steps(1) infinite;\n",
              "  }\n",
              "\n",
              "  @keyframes spin {\n",
              "    0% {\n",
              "      border-color: transparent;\n",
              "      border-bottom-color: var(--fill-color);\n",
              "      border-left-color: var(--fill-color);\n",
              "    }\n",
              "    20% {\n",
              "      border-color: transparent;\n",
              "      border-left-color: var(--fill-color);\n",
              "      border-top-color: var(--fill-color);\n",
              "    }\n",
              "    30% {\n",
              "      border-color: transparent;\n",
              "      border-left-color: var(--fill-color);\n",
              "      border-top-color: var(--fill-color);\n",
              "      border-right-color: var(--fill-color);\n",
              "    }\n",
              "    40% {\n",
              "      border-color: transparent;\n",
              "      border-right-color: var(--fill-color);\n",
              "      border-top-color: var(--fill-color);\n",
              "    }\n",
              "    60% {\n",
              "      border-color: transparent;\n",
              "      border-right-color: var(--fill-color);\n",
              "    }\n",
              "    80% {\n",
              "      border-color: transparent;\n",
              "      border-right-color: var(--fill-color);\n",
              "      border-bottom-color: var(--fill-color);\n",
              "    }\n",
              "    90% {\n",
              "      border-color: transparent;\n",
              "      border-bottom-color: var(--fill-color);\n",
              "    }\n",
              "  }\n",
              "</style>\n",
              "\n",
              "  <script>\n",
              "    async function quickchart(key) {\n",
              "      const quickchartButtonEl =\n",
              "        document.querySelector('#' + key + ' button');\n",
              "      quickchartButtonEl.disabled = true;  // To prevent multiple clicks.\n",
              "      quickchartButtonEl.classList.add('colab-df-spinner');\n",
              "      try {\n",
              "        const charts = await google.colab.kernel.invokeFunction(\n",
              "            'suggestCharts', [key], {});\n",
              "      } catch (error) {\n",
              "        console.error('Error during call to suggestCharts:', error);\n",
              "      }\n",
              "      quickchartButtonEl.classList.remove('colab-df-spinner');\n",
              "      quickchartButtonEl.classList.add('colab-df-quickchart-complete');\n",
              "    }\n",
              "    (() => {\n",
              "      let quickchartButtonEl =\n",
              "        document.querySelector('#df-612dfca6-520b-4585-b9bb-10d6e2cade5a button');\n",
              "      quickchartButtonEl.style.display =\n",
              "        google.colab.kernel.accessAllowed ? 'block' : 'none';\n",
              "    })();\n",
              "  </script>\n",
              "</div>\n",
              "\n",
              "    </div>\n",
              "  </div>\n"
            ],
            "application/vnd.google.colaboratory.intrinsic+json": {
              "type": "dataframe",
              "variable_name": "df",
              "summary": "{\n  \"name\": \"df\",\n  \"rows\": 100,\n  \"fields\": [\n    {\n      \"column\": \"URL_ID\",\n      \"properties\": {\n        \"dtype\": \"string\",\n        \"num_unique_values\": 100,\n        \"samples\": [\n          \"blackassign0084\",\n          \"blackassign0054\",\n          \"blackassign0071\"\n        ],\n        \"semantic_type\": \"\",\n        \"description\": \"\"\n      }\n    },\n    {\n      \"column\": \"URL\",\n      \"properties\": {\n        \"dtype\": \"string\",\n        \"num_unique_values\": 100,\n        \"samples\": [\n          \"https://insights.blackcoffer.com/how-voice-search-makes-your-business-a-successful-business/\",\n          \"https://insights.blackcoffer.com/how-google-fit-measure-heart-and-respiratory-rates-using-a-phone/\",\n          \"https://insights.blackcoffer.com/how-to-overcome-your-fear-of-making-mistakes-2/\"\n        ],\n        \"semantic_type\": \"\",\n        \"description\": \"\"\n      }\n    },\n    {\n      \"column\": \"Title\",\n      \"properties\": {\n        \"dtype\": \"string\",\n        \"num_unique_values\": 93,\n        \"samples\": [\n          \"All you need to know about online marketing\",\n          \"An outlook of healthcare by the year 2040, and how it will impact human lives.\",\n          \"Are we any closer to preventing a nuclear holocaust?\"\n        ],\n        \"semantic_type\": \"\",\n        \"description\": \"\"\n      }\n    },\n    {\n      \"column\": \"Text\",\n      \"properties\": {\n        \"dtype\": \"string\",\n        \"num_unique_values\": 98,\n        \"samples\": [\n          \"Nature has blessed humanity with earth, a rounded globe where all essential necessity lies in the hand of a human. Though in this 21st-century building Space shuttle and exploring space has become an obvious activity among the human raise, now with the inclusion of Start-ups like Space X once dreamed for reaching out at space now is coming true. We all have to agree upon a fact that in the Growth of industrialization we have generated a humungous carbon footprint and colonize at outer space will create a much-needed area for our survival. With time the human race has visualized and has undergone many transformations, and these transformations may for starters were not that effective but were a major role at existence to this age. Be it a natural transformation like shifting of tectonic plates or manmade like Dumping water and damaging water bodies, somehow have affected usual life of humans so creating space of humans is what next humans are eyeing for. All this idea for Colonizing in outer space emerged when NASA was able to launch a space shuttle with a heavy payload in the late 1990s this idea didn\\u2019t stir brain at that time but later was like apple eyes when various articles from astronauts and their writeup came into limelight and this idea saw its progression, space exploration was not a new normal, companies were petrified by the number of investments that these kinds of projects ask for. But things change with the entry of PayPal\\u2019s owner Elon Musk, in 2002 where he laid stones of Space X, with NASA providing the launchpad for their exploration. Being space travel legitimate there where many bottlenecks knowing the nature of outer space will boost the idea of colonizing, here one has to realize the optimum. But the main target that these company put forward with themself was to not just get into other planet but to get back at earth safely, earlier these projects due to high fund was always subdued and priority was given to the rocket technology. Thus, this unimaginable quest for the search of space was far-fetched though. Now being in 2020 we do not find it out of a place of colonizing outside of space, the kind of emergence of technologies has led to the escalation of spreading the roots of human existence, the plan for reaching out to outer space too plays a key role for this idea too. Proper Planning, Analysing, Organising, and Executing were required for these projects to be successful for deeper know how I would like to mention here an example of Space X, According to them they wud be successful for sending Rockets by 2022 and would able to colonize by 2050, For achieving these vision they have planned a total of 36 times pre-launch of the same rocket which they will be launching by 2020. Not only that they have already placed their star link satellites which will provide the basic network connectivity for their colonized world, they have planned this to that extent that they have targeted a profit of $ 22 billion yearly by 2025. Already they have sent the first manned rocket successfully what Elon musk plan is to create that infrastructure by which going to Mars with cost as a regular air flight ticket all this will lead to better chances for colonizing at another planet. With setting up their commercial flight once started to the red planet it wud just be a stepping stone for the colonizing at the outer space. But the fundamental change that people have to undergo while living on another planet will be a change in gravity and being able to be near to live support if any technical issues arise to their suit until unless we find a similar place like the earth that is the change which humans have to adjust. Aspects like Ultraviolet rays too will play an immense role in the survival, but with the rate of technology expanding and challenging at very boundaries there are not many days left when we find solutions to these aspects but this idea of colonizing has more to do with monetary terms it has been projected that building a colony at space will cost at about $10 Trillian which is more than many countries GDP. Placing that much of an amount and getting funding for such highly anticipated projects is tough. Elon to have addressed with these questions with an open Door he believes that this cost is nothing when we find a route to colonize space and these costs will be justifiable when space exploration will reach new heights. Also, our world is around water and the percentage of land comparison to water is too less. Whereas the population is increasing with the speed and the level of excitement in order to search for new things and the obsession with the new and innovative things never going to finish. Because in the end, we do not satisfy what we have achieved, we are only looking for other things and crave to achieve that. In order to achieve that planning is most crucial stage. As of now we have searched 9 planets but still didn\\u2019t shortlisted the outcomes. But according to the 3-decade theory of ELON MUSK, it seems to be possible. As the most important thing to survive is the atmospheric environment, whether is this suitable or not, and in order to make it suitable what steps had to take and maintain the suitable level of oxygen.\\u00a0 The missions are now what everyone is focusing about. Finding the source of water, because its 2nd crucial thing which is needed to survive. Apart from the excitement and the things, the threats or the uncertainties are bound to happen like any kind of mammal which could occur during construction or after that. So the security for that or any protection so that uncertainties could be replicated. After the basic things, other factors like what are the natural habitats available there, whether the plants could be grown over there or not. If yes, then what types of plants could survive there. The environment for the animals is safe or not. Because to balance the nature we need all types of animals, natural habitat, even insects and other small things which seems to be ignorable but plays an important role in maintaining the environmental balance. For e.g.\\u00a0 \\u2013 Ants are among the leading predators of other insects, helping to keep pest populations low.\\u00a0 Ants move approximately the same amount of soil as earthworms, loosening the soil in the process and increasing air and water movement into the ground.\\u00a0 They keep the ecosystem clean of dead insect carcasses and aid in the destruction and decomposition of plant and animal matter.\\u00a0So, every small thing contributes in its own way. Another matter of concern is the level of artificial intelligence and machine learning required to maintain that kind of requirement. Because as the current scenario, we need energy to run any vehicle or even for the robotics. So, the availability of the energy and the source of energy is needed. And apart from this, the heat of sun is equally important in order to maintain the level. Because with artificial air we can survive but not for so long. So, in order to remain healthy as well the calculation has to be done. When thinking about disease, you may have heard in the news about the concern that antibiotics (such as penicillin) \\u2013 which help fight infections \\u2013 may eventually stop working. Global health organisations are trying to reduce the use of antibiotics, especially for conditions that aren\\u2019t serious. This is because their overuse in recent years means that they\\u2019re becoming less effective. But still we can survive without antibiotics. Because there are ways\\u00a0of dealing with diseases caused by bacteria such as isolation which is how they were treated before penicillin. It might sound like something set firmly in the realm of fantasy, but experts in private industry and governments around the world are trying to understand how feasible it would be to establish a lunar base. Some scientists think humans could survive comfortably on the moon. In some ways, the very minimal gravity of the moon might actually be more conducive to life than the microgravity astronauts experience on the International Space Station. Although it hasn\\u2019t been formally tested, some experts hypothesize that the small amount of gravitational force put on an astronaut\\u2019s body when on the moon\\u00a0could help stem some of the adverse effects like bone-density and muscle loss that space flyers experience while living in microgravity on the International Space Station. By using the moon\\u2019s indigenous material, space agencies can save money on the cost of flying pricey missions to and from the moon\\u2019s surface.\\u00a0Once on the moon, instead of having to stage costly missions aimed at delivering oxygen and other necessary resources from Earth, experts might be able to actually use the material to manufacture gasses needed to sustain life on the satellite. On earth, we are protected from radioactive solar winds and cosmic rays by our own magnet field known as the magnetosphere. But out in the space, we can\\u2019t rely on this type of protection, and in order to make that protection, it could take a lot but yes with more upgraded technology it could achieve. Although till now the approximate value of the project is $10 trillion. But the aim is to make the fare equivalent to the normal air fare. As once we are comfortable with all the resources, securities for uncertainties, risk analysis, and the probability of survival of the human being and many other factors after consideration, then development won\\u2019t take much time. Because to construct a building it take normally 8-9 months. Which is totally acceptable. But the main concern is the density of the land, i.e. whether the land has the capacity to bear that much weight or not. And the type of land is adaptable for cultivation or nor. Although land can be converted into different types of cultivation but with the help of upgraded technology. In order to transport the equipments on the regular basis, a large amount of fuel Is required, and other factors as well and Built the propellor depo for rocket landing building various infrastructure for the city one by one will create a way forward for idea of Colonizing at outer space.\",\n          \"The way work is being done now is destined to undergo massive transformational changes which will impact humans and their ways of working dramatically. With the development of the new machine programs, A.I. is all set to take over the humans in their workplace as no other did. Now we are not only in competition with other beings but with robots too. And robots will overcome us in our fields of work. At present we are being surrounded by A.I. from dusk till dawn, from facial recognition present in our mobile application to dating websites/applications which uses decision making as their algorithms and learn from the past data as well. It is believed that A.I. has grown over 270% over the last years. First, let us know what A.I. is and all the fuss going on about it?A.I. as defined by the internet is simply \\u2018simulation of human intelligence in machines that are programmed to think like humans and mimic their actions\\u2019. This translates to, it can work as a human being just at fast speed and with 100% accuracy.In my definition I would define A.I. as the god form of human beings. Now the question that arises is, what does A.I. entails for the future? A.I. is fancy enough to continue existing in our minds all the time, but it does come with certain limitations and threats which is a cause for a peaceful sleep for most of the workers. With its introduction to different areas of the workplace, it is clear that half of the human jobs would be taken up by A.I. and then there would arise a need for more jobs for humans in new upcoming AI-based ventures in different industries. Thereby giving us our fair share back to us. In a survey, it was found that some believed that AI will be devastating for humans and while some professionals and tech-savvy people believed that inculcating AI technology into business and our daily lives would be a remarkable step as it will lead to the flourishment of business in the future and give them a competitive edge over their rivals. People believed that when these advanced technologies would come together to work with humans, they will produce a smarter strategic decision with productive collaborative practices. More modern technology prevailing in the organization will lead to stress reduction and produce more satisfying results thereby making the organization more efficient. The Organizations who are in use of the AI technology responds by saying that their managers are more comfortable using A.I. and are accustomed to it and the organizations are now looking forward to having integration of higher-end technology systems, as it is believed that new technology will result in more productivity thereby making more profits in the long run. Many jobs today require AI and humans working in collaboration, which creates a positive signal that in the future to humans would be working closely with the technology. Beyond just training and developing these machines, humans would be working in close vicinity with them and making decisions on how to act on the result that is given by the machine. It can be said that both the AI advanced technology and human can\\u2019t remain in the workforce without each other, as the technology will produce accurate and top-notch results but it requires someone to make delivery.e.g., in a firm, an AI-based system produces results based on historical data but there is a need for someone to analyze and communicate and present this data to the respective stakeholders whether inside or outside of the organization. Various uses of artificial intelligence technology in day-to-day functions in regards to interactions with humans are: Artificial intelligence as we know works on algorithms, neural networks, and deep learning which all are analytical tools that help AI in taking analytical decisions based on the data provided. Whereas, humans on the other hand take higher-level decisions based on \\u2018Intuition\\u2019 sometimes, which refers to the gut feeling that generates in humans concerning any situation or challenge. AI alone can\\u2019t work to handle critical situations on its own as it needs humans for it to reciprocate them and share the information with stakeholders, and humans alone can\\u2019t anticipate much on the accurate and fast-paced analytical solutions to the problems persisting in place of the situation. The strength of humans and AI working in synergy can be surprisingly beneficial and advantageous to organizations. It is believed that machines in the future would be eating up our traditional jobs. But the reality seems to be turning otherwise. The future trend shows that in future the AI-powered technology would take up jobs that were being done by humans but in return would produce more jobs that would require human interference with them. As and when the newer technology is approaching more and more countries are now proceeding towards GIG Economies, and so in the future, we can witness an increase in freelance jobs and the permanent labor market norms could reduce drastically. Some of the jobs today will be replaced by AI which is in the transportation or retail commerce sector that can be 100% automated in the future years. There is an \\u2018Amazon Go\\u2019 store that uses this technology which goes by the name \\u2018Just walk out technology\\u2019 wherein there is no need for any human-induced workforce and all the operations are carried out by AI-powered technologies, which is indeed a breakthrough technology in today\\u2019s world. Rather than eating up our jobs AI in return will be creating more jobs in the future by creating massive innovations thereby fueling up many new industries and thereby giving us our fair share of jobs back. There will be a lot of demand placed on the upcoming young workforce which is also categorized as \\u2018Gen Z\\u2019. They are expected to know more about technology and would be high in demand. \\u00a0These young generations are required to learn new skills which are needed to survive in the dynamic changing environment, and as most of the activities that are carried out by workers will be automated, there will be demand for people working in the back office and maintaining and developing the technology to its best versions. \\u00a0 AI powered technology has its limitations which makes it a rigid system to hold on to and also which makes it a costly affair at the initial stage. \\u00a0 It was predicted that the cost of electricity to power a supercharged AI model was around $4.6 million. So, this super-powered AI can be purchased only by big fortune firms and thereby creating more value to their net worth. One of the major limitations of AI is that it can contain biased data as the scientists who put in the data can create biasedness and so the resultant output of the same would have a biased report. These machines as do not have neuroscience-based technology in them yet which enables them to carry human emotions to understand complex situations and a creative way out of that, they tend to have a lack of out of box thinking which in the case is rigid in themselves as they are programmed to work on a single task and they cannot perform more than a single task at the same time. It is also believed that there exists no creativity among the computer, no matter it is fast-paced, but they are not intelligent. Businesses and organizations need to understand and anticipate the opportunities that the future holds for them and they need to start training their employees based on today\\u2019s dynamic changing technology. While it\\u2019s still unclear what does the future holds for us, but the anticipation of it could benefit us in several ways. As we are unclear about what the future looks like, we need to think in probable terms how it could turn out to be and then employ specific training programs for the employees of the organization.The training the employees are needed to be done on a continuous and lifetime basis which means that education won\\u2019t be only limited to PG degrees but will be now a lifetime process of learning. As the Covid-19 changed the scenario of the work patterns around the world, we now need to think strategically about the working dynamics of the future and how does it look like compared to the pre-covid and post-covid scenario. Employees will be playing a major role in transforming the organizations and work practices in the upcoming future, so organizations need to select and recruit the best candidates among the pool and then provide them with best practices of the new machines and make proficient in their area of work. Policies need to be developed to hire the best people and then retaining the talent in the organization. There needs to be a continuous scanning of the environment by the organizations to comprehend any new trends and assess them, not all trends will be beneficial for organizations, they must be aware of the prospects and plan for the future systematically and consistently. There lies a possibility in future certain years from now, we could have machines who will have general human intelligence who would be able to answer deep meaningful questions asking \\u2018Why are the curtains blue?\\u2019, would be able to clean cars, play politics and tell jokes to us, and by using deep and machine learning programs their level of intelligence would be beyond mathematical calculations to us. That\\u2019s how good machines will be in the future, but to make ourselves competitive with machines, we would need to train ourselves for the impending ambiguous future ahead of us. Humans and machines need to work in synergy to get beneficial and satisfying results for both parties. Machines are indeed going take away many of our jobs, but let me make you sleep peacefully tonight, the machines aren\\u2019t arriving until we\\u2019re retired. \\u00a0\",\n          \"COVID 19 has bought the world to its knees. With businesses being shut, travel being banned, schools, and colleges being closed, we have observed an impeccable amount of sorrow and despise along with a great amount of mental torture and destruction. Though situations are improving now, and the lockdowns are being lifted, it is a fact that it cannot be shunned that this virus will have a long term impact on people, and the effects will not only be felt economically and physically but also mentally. We\\u2019ve been reading articles regarding the impact of COVID 19 on the economy, education, mental health, and every other possible aspect. But one topic which has not been talked about much is the impact of COVID 19 on office space and co-working industries. Well, it is quite obvious that offices will start functioning now, but, the COVID period hasn\\u2019t ended. This means that social distancing will also have to be followed in offices; where it will be a problem to do so because of the lack of adequate infrastructure and space. The same will be the condition in co-working industries, wherein employees of different companies come and work together under the same roof. However, these problems are quite obvious (though people haven\\u2019t thought about them much), but the fact which people fail to notice and understand is that the meaning of space is not only limited to infrastructural space which is measured in square foot or square meters; but it also extends to metal space, or for that fact, space in the minds of people for others and their thoughts as well as opinions. Coronavirus has left a big scratch in our country; just the way a car needs repair after an accident, our country will also need repair after the control of this virus. But, unlike a car, our country will require a large amount of time to get restored and to stand straight without any support. Needless to say, the economic stability of our country will definitely be hit because of this reason. But the problem is since the earnings of the employers will reduce, it will subsequently lead to a drop in the salary of the employees. While some employees might be preferred by their bosses and may receive a raise regularly, others might be subjected to unfair treatment and made to do the same amount of work for a lower salary. People tend to overlook the thin line which exists between cooperation and competition. The problem doesn\\u2019t arise when such a situation happens wherein an employee is getting paid more than the other, but instead, it arises when people start to compare their earnings as well as benefits to that of others. And in today\\u2019s world, where people keep money at the top of their priority list, comparisons will play a very important role in the performance of employees and their company. Since there will exist inequalities and partialities in companies, there will also exist a sense of hatred and competition among the employees of the same company; who will compete to get a better position or a raise in their salary. This may seem beneficial to some as it might compel the employees to work harder and better, but however, will bring huge losses in the long run. The fact is; employees might end up doing unethical acts which will help them to make a better impression in their boss\\u2019s eyes. Moreover, since there will be comparisons among the employees, it might happen that the \\u2018Employee of the Month\\u2019 ends up being hated by all other employees in the company. Another situation that might arise is that of bluffing and pretending; wherein employees tend to show that they work very hard but they don\\u2019t. This might be practiced by showing the boss that they are working when he is on around, and then chilling the rest of the time when the boss goes home or sits in his office. In fact, employees might also lose interest in working if they sense repeated partialities and inequalities; which they might show by quitting the jobs or not performing to their best. Such situations will definitely arise in companies and offices; wherein employees will compete for attention and resources; which will have a great impact on the company and its functioning. And all this will happen because of only one thing; lack of office mental space i.e. space in the minds of people working together in a particular office for cooperation and teamwork, along with ignorance of the fact that things will get better and eventually the same after some time. Another kind of industry and companies that will be affected due to the long-lasting impact of COVID 19 is the co-working industry and offices. This is because, there will be a shortage of resources and the income of people, but the maintenance cost to be born for the infrastructure, as well the rent will remain the same. Because of this, employees will be told by the company owners to exploit the resources present in the offices and use them to the fullest; to compensate for the losses being born and to make better use of the money being used. However, the number of resources will be the same, and so, there will be a case of competition between employees of different companies to use resources and take benefits of the same. If the above two situations happen to occur at the same time (which they most likely will), we will observe a scene of intra-company as well as inter-company competition. Also, our personal relations with other employees in the company might also be affected due to this comparison and competition; which itself will be a result of limited mental space. COVID 19 will have severe impacts on the office (mental) space of companies and people.\\u00a0 People\\u2019s thoughts, how they treat others, along with accepting defeat and rejection will be an important aspect of everyone\\u2019s lives. Moreover, we might also observe a shoot in the intensity and frequency of office people going to psychologists; because of repeated rejection and unfair treatment. However, we need to cope with this thing and realize that it is indeed very important for us to start preparing to expand our mental space and that this competition and comparison will not stay for long and should not affect our personal relations and life at any cost.\"\n        ],\n        \"semantic_type\": \"\",\n        \"description\": \"\"\n      }\n    }\n  ]\n}"
            }
          },
          "metadata": {},
          "execution_count": 15
        }
      ]
    },
    {
      "cell_type": "markdown",
      "source": [
        "*   Replace blackoffer with empty space"
      ],
      "metadata": {
        "id": "nZgoMEKH7OYL"
      }
    },
    {
      "cell_type": "code",
      "source": [
        "df['Title'][17]"
      ],
      "metadata": {
        "colab": {
          "base_uri": "https://localhost:8080/",
          "height": 35
        },
        "id": "8J8rooK2Ozil",
        "outputId": "da4fe342-45e0-440b-aeaa-fd284ccedb72"
      },
      "execution_count": null,
      "outputs": [
        {
          "output_type": "execute_result",
          "data": {
            "text/plain": [
              "'Rise of e-health and its impact on humans by the year 2030'"
            ],
            "application/vnd.google.colaboratory.intrinsic+json": {
              "type": "string"
            }
          },
          "metadata": {},
          "execution_count": 16
        }
      ]
    },
    {
      "cell_type": "markdown",
      "source": [
        "### Sentimental Analysis\n",
        "\n",
        "* Sentimental analysis is the process of determining whether a piece of writing is positive, negative, or neutral."
      ],
      "metadata": {
        "id": "xJ7DErIrU8zD"
      }
    },
    {
      "cell_type": "markdown",
      "source": [
        "###Cleaning using Stop Words Lists\n",
        "\n",
        "* The Stop Words Lists (found in the folder StopWords) are used to clean the text so that Sentiment Analysis can be performed by excluding the words found in Stop Words List.\n"
      ],
      "metadata": {
        "id": "KrV2Awr0umYU"
      }
    },
    {
      "cell_type": "code",
      "source": [
        "# Load Stop Words Lists\n",
        "stop_words_files = [\n",
        "    \"StopWords_Auditor.txt\",\n",
        "    \"StopWords_Currencies.txt\",\n",
        "    \"StopWords_DatesandNumbers.txt\",\n",
        "    \"StopWords_Generic.txt\",\n",
        "    \"StopWords_GenericLong.txt\",\n",
        "    \"StopWords_Geographic.txt\",\n",
        "    \"StopWords_Names.txt\"\n",
        "]"
      ],
      "metadata": {
        "id": "enriOOVxO2gF"
      },
      "execution_count": null,
      "outputs": []
    },
    {
      "cell_type": "code",
      "source": [
        "stop_words = set()\n",
        "\n",
        "for file in stop_words_files:\n",
        "    with open(f\"/content/drive/MyDrive/20211030 Test Assignment-20240530T063043Z-001/20211030 Test Assignment/StopWords/{file}\", \"r\", encoding=\"ISO-8859-1\") as f:\n",
        "        stop_words.update(f.read().splitlines())"
      ],
      "metadata": {
        "id": "gHVzhfJEjXPC"
      },
      "execution_count": null,
      "outputs": []
    },
    {
      "cell_type": "code",
      "source": [
        "# Tokenize Text\n",
        "def tokenize_text(text):\n",
        "    return text.split()"
      ],
      "metadata": {
        "id": "6vjAH3-LjYbe"
      },
      "execution_count": null,
      "outputs": []
    },
    {
      "cell_type": "code",
      "source": [
        "# Remove Stop Words\n",
        "def remove_stop_words(words):\n",
        "    return [word for word in words if word.lower() not in stop_words]"
      ],
      "metadata": {
        "id": "zMUZvRgBj2VM"
      },
      "execution_count": null,
      "outputs": []
    },
    {
      "cell_type": "code",
      "source": [
        "# Reconstruct Text\n",
        "def reconstruct_text(words):\n",
        "    return ' '.join(words)"
      ],
      "metadata": {
        "id": "2JxDB2Kbj4vY"
      },
      "execution_count": null,
      "outputs": []
    },
    {
      "cell_type": "code",
      "source": [
        "df['Tokenized_Text'] = df['Text'].apply(tokenize_text)"
      ],
      "metadata": {
        "id": "MokxZ7aLkJux"
      },
      "execution_count": null,
      "outputs": []
    },
    {
      "cell_type": "code",
      "source": [
        "df['StopWords_Removed'] = df['Tokenized_Text'].apply(remove_stop_words)"
      ],
      "metadata": {
        "id": "tkuHcznik6-Q"
      },
      "execution_count": null,
      "outputs": []
    },
    {
      "cell_type": "code",
      "source": [
        "df['Cleaned_Text'] = df['StopWords_Removed'].apply(reconstruct_text)"
      ],
      "metadata": {
        "id": "enmvOlruk8Pw"
      },
      "execution_count": null,
      "outputs": []
    },
    {
      "cell_type": "markdown",
      "source": [
        "*  Load the stopword files\n",
        "\n",
        "*   Define function tokenise te, remove stop words and then reconstruct text and create columns tokenised_text,stopwros_removed, cleaned_text"
      ],
      "metadata": {
        "id": "w3g-B0mA7b26"
      }
    },
    {
      "cell_type": "code",
      "source": [
        "df.head()"
      ],
      "metadata": {
        "colab": {
          "base_uri": "https://localhost:8080/",
          "height": 397
        },
        "id": "XT7lmUqgk9cQ",
        "outputId": "80de9ea0-4e50-41b1-a774-22916b51b471"
      },
      "execution_count": null,
      "outputs": [
        {
          "output_type": "execute_result",
          "data": {
            "text/plain": [
              "            URL_ID                                                URL  \\\n",
              "0  blackassign0001  https://insights.blackcoffer.com/rising-it-cit...   \n",
              "1  blackassign0002  https://insights.blackcoffer.com/rising-it-cit...   \n",
              "2  blackassign0003  https://insights.blackcoffer.com/internet-dema...   \n",
              "3  blackassign0004  https://insights.blackcoffer.com/rise-of-cyber...   \n",
              "4  blackassign0005  https://insights.blackcoffer.com/ott-platform-...   \n",
              "\n",
              "                                               Title  \\\n",
              "0  Rising IT cities and its impact on the economy...   \n",
              "1  Rising IT Cities and Their Impact on the Econo...   \n",
              "2  Internet Demand's Evolution, Communication Imp...   \n",
              "3  Rise of Cybercrime and its Effect in upcoming ...   \n",
              "4  OTT platform and its impact on the entertainme...   \n",
              "\n",
              "                                                Text  \\\n",
              "0  We have seen a huge development and dependence...   \n",
              "1  Throughout history, from the industrial revolu...   \n",
              "2  Introduction In the span of just a few decades...   \n",
              "3  The way we live, work, and communicate has unq...   \n",
              "4  The year 2040 is poised to witness a continued...   \n",
              "\n",
              "                                      Tokenized_Text  \\\n",
              "0  [We, have, seen, a, huge, development, and, de...   \n",
              "1  [Throughout, history,, from, the, industrial, ...   \n",
              "2  [Introduction, In, the, span, of, just, a, few...   \n",
              "3  [The, way, we, live,, work,, and, communicate,...   \n",
              "4  [The, year, 2040, is, poised, to, witness, a, ...   \n",
              "\n",
              "                                   StopWords_Removed  \\\n",
              "0  [huge, development, dependence, people, techno...   \n",
              "1  [history,, industrial, revolution, 18th, centu...   \n",
              "2  [Introduction, span, decades,, internet, under...   \n",
              "3  [live,, work,, communicate, unquestionably, ch...   \n",
              "4  [year, 2040, poised, witness, continued, revol...   \n",
              "\n",
              "                                        Cleaned_Text  \n",
              "0  huge development dependence people technology ...  \n",
              "1  history, industrial revolution 18th century de...  \n",
              "2  Introduction span decades, internet undergone ...  \n",
              "3  live, work, communicate unquestionably changed...  \n",
              "4  year 2040 poised witness continued revolution ...  "
            ],
            "text/html": [
              "\n",
              "  <div id=\"df-7a410ed6-4f13-4f1a-8419-f407f6aac164\" class=\"colab-df-container\">\n",
              "    <div>\n",
              "<style scoped>\n",
              "    .dataframe tbody tr th:only-of-type {\n",
              "        vertical-align: middle;\n",
              "    }\n",
              "\n",
              "    .dataframe tbody tr th {\n",
              "        vertical-align: top;\n",
              "    }\n",
              "\n",
              "    .dataframe thead th {\n",
              "        text-align: right;\n",
              "    }\n",
              "</style>\n",
              "<table border=\"1\" class=\"dataframe\">\n",
              "  <thead>\n",
              "    <tr style=\"text-align: right;\">\n",
              "      <th></th>\n",
              "      <th>URL_ID</th>\n",
              "      <th>URL</th>\n",
              "      <th>Title</th>\n",
              "      <th>Text</th>\n",
              "      <th>Tokenized_Text</th>\n",
              "      <th>StopWords_Removed</th>\n",
              "      <th>Cleaned_Text</th>\n",
              "    </tr>\n",
              "  </thead>\n",
              "  <tbody>\n",
              "    <tr>\n",
              "      <th>0</th>\n",
              "      <td>blackassign0001</td>\n",
              "      <td>https://insights.blackcoffer.com/rising-it-cit...</td>\n",
              "      <td>Rising IT cities and its impact on the economy...</td>\n",
              "      <td>We have seen a huge development and dependence...</td>\n",
              "      <td>[We, have, seen, a, huge, development, and, de...</td>\n",
              "      <td>[huge, development, dependence, people, techno...</td>\n",
              "      <td>huge development dependence people technology ...</td>\n",
              "    </tr>\n",
              "    <tr>\n",
              "      <th>1</th>\n",
              "      <td>blackassign0002</td>\n",
              "      <td>https://insights.blackcoffer.com/rising-it-cit...</td>\n",
              "      <td>Rising IT Cities and Their Impact on the Econo...</td>\n",
              "      <td>Throughout history, from the industrial revolu...</td>\n",
              "      <td>[Throughout, history,, from, the, industrial, ...</td>\n",
              "      <td>[history,, industrial, revolution, 18th, centu...</td>\n",
              "      <td>history, industrial revolution 18th century de...</td>\n",
              "    </tr>\n",
              "    <tr>\n",
              "      <th>2</th>\n",
              "      <td>blackassign0003</td>\n",
              "      <td>https://insights.blackcoffer.com/internet-dema...</td>\n",
              "      <td>Internet Demand's Evolution, Communication Imp...</td>\n",
              "      <td>Introduction In the span of just a few decades...</td>\n",
              "      <td>[Introduction, In, the, span, of, just, a, few...</td>\n",
              "      <td>[Introduction, span, decades,, internet, under...</td>\n",
              "      <td>Introduction span decades, internet undergone ...</td>\n",
              "    </tr>\n",
              "    <tr>\n",
              "      <th>3</th>\n",
              "      <td>blackassign0004</td>\n",
              "      <td>https://insights.blackcoffer.com/rise-of-cyber...</td>\n",
              "      <td>Rise of Cybercrime and its Effect in upcoming ...</td>\n",
              "      <td>The way we live, work, and communicate has unq...</td>\n",
              "      <td>[The, way, we, live,, work,, and, communicate,...</td>\n",
              "      <td>[live,, work,, communicate, unquestionably, ch...</td>\n",
              "      <td>live, work, communicate unquestionably changed...</td>\n",
              "    </tr>\n",
              "    <tr>\n",
              "      <th>4</th>\n",
              "      <td>blackassign0005</td>\n",
              "      <td>https://insights.blackcoffer.com/ott-platform-...</td>\n",
              "      <td>OTT platform and its impact on the entertainme...</td>\n",
              "      <td>The year 2040 is poised to witness a continued...</td>\n",
              "      <td>[The, year, 2040, is, poised, to, witness, a, ...</td>\n",
              "      <td>[year, 2040, poised, witness, continued, revol...</td>\n",
              "      <td>year 2040 poised witness continued revolution ...</td>\n",
              "    </tr>\n",
              "  </tbody>\n",
              "</table>\n",
              "</div>\n",
              "    <div class=\"colab-df-buttons\">\n",
              "\n",
              "  <div class=\"colab-df-container\">\n",
              "    <button class=\"colab-df-convert\" onclick=\"convertToInteractive('df-7a410ed6-4f13-4f1a-8419-f407f6aac164')\"\n",
              "            title=\"Convert this dataframe to an interactive table.\"\n",
              "            style=\"display:none;\">\n",
              "\n",
              "  <svg xmlns=\"http://www.w3.org/2000/svg\" height=\"24px\" viewBox=\"0 -960 960 960\">\n",
              "    <path d=\"M120-120v-720h720v720H120Zm60-500h600v-160H180v160Zm220 220h160v-160H400v160Zm0 220h160v-160H400v160ZM180-400h160v-160H180v160Zm440 0h160v-160H620v160ZM180-180h160v-160H180v160Zm440 0h160v-160H620v160Z\"/>\n",
              "  </svg>\n",
              "    </button>\n",
              "\n",
              "  <style>\n",
              "    .colab-df-container {\n",
              "      display:flex;\n",
              "      gap: 12px;\n",
              "    }\n",
              "\n",
              "    .colab-df-convert {\n",
              "      background-color: #E8F0FE;\n",
              "      border: none;\n",
              "      border-radius: 50%;\n",
              "      cursor: pointer;\n",
              "      display: none;\n",
              "      fill: #1967D2;\n",
              "      height: 32px;\n",
              "      padding: 0 0 0 0;\n",
              "      width: 32px;\n",
              "    }\n",
              "\n",
              "    .colab-df-convert:hover {\n",
              "      background-color: #E2EBFA;\n",
              "      box-shadow: 0px 1px 2px rgba(60, 64, 67, 0.3), 0px 1px 3px 1px rgba(60, 64, 67, 0.15);\n",
              "      fill: #174EA6;\n",
              "    }\n",
              "\n",
              "    .colab-df-buttons div {\n",
              "      margin-bottom: 4px;\n",
              "    }\n",
              "\n",
              "    [theme=dark] .colab-df-convert {\n",
              "      background-color: #3B4455;\n",
              "      fill: #D2E3FC;\n",
              "    }\n",
              "\n",
              "    [theme=dark] .colab-df-convert:hover {\n",
              "      background-color: #434B5C;\n",
              "      box-shadow: 0px 1px 3px 1px rgba(0, 0, 0, 0.15);\n",
              "      filter: drop-shadow(0px 1px 2px rgba(0, 0, 0, 0.3));\n",
              "      fill: #FFFFFF;\n",
              "    }\n",
              "  </style>\n",
              "\n",
              "    <script>\n",
              "      const buttonEl =\n",
              "        document.querySelector('#df-7a410ed6-4f13-4f1a-8419-f407f6aac164 button.colab-df-convert');\n",
              "      buttonEl.style.display =\n",
              "        google.colab.kernel.accessAllowed ? 'block' : 'none';\n",
              "\n",
              "      async function convertToInteractive(key) {\n",
              "        const element = document.querySelector('#df-7a410ed6-4f13-4f1a-8419-f407f6aac164');\n",
              "        const dataTable =\n",
              "          await google.colab.kernel.invokeFunction('convertToInteractive',\n",
              "                                                    [key], {});\n",
              "        if (!dataTable) return;\n",
              "\n",
              "        const docLinkHtml = 'Like what you see? Visit the ' +\n",
              "          '<a target=\"_blank\" href=https://colab.research.google.com/notebooks/data_table.ipynb>data table notebook</a>'\n",
              "          + ' to learn more about interactive tables.';\n",
              "        element.innerHTML = '';\n",
              "        dataTable['output_type'] = 'display_data';\n",
              "        await google.colab.output.renderOutput(dataTable, element);\n",
              "        const docLink = document.createElement('div');\n",
              "        docLink.innerHTML = docLinkHtml;\n",
              "        element.appendChild(docLink);\n",
              "      }\n",
              "    </script>\n",
              "  </div>\n",
              "\n",
              "\n",
              "<div id=\"df-6f28e270-70de-4a88-a166-87b128443d3e\">\n",
              "  <button class=\"colab-df-quickchart\" onclick=\"quickchart('df-6f28e270-70de-4a88-a166-87b128443d3e')\"\n",
              "            title=\"Suggest charts\"\n",
              "            style=\"display:none;\">\n",
              "\n",
              "<svg xmlns=\"http://www.w3.org/2000/svg\" height=\"24px\"viewBox=\"0 0 24 24\"\n",
              "     width=\"24px\">\n",
              "    <g>\n",
              "        <path d=\"M19 3H5c-1.1 0-2 .9-2 2v14c0 1.1.9 2 2 2h14c1.1 0 2-.9 2-2V5c0-1.1-.9-2-2-2zM9 17H7v-7h2v7zm4 0h-2V7h2v10zm4 0h-2v-4h2v4z\"/>\n",
              "    </g>\n",
              "</svg>\n",
              "  </button>\n",
              "\n",
              "<style>\n",
              "  .colab-df-quickchart {\n",
              "      --bg-color: #E8F0FE;\n",
              "      --fill-color: #1967D2;\n",
              "      --hover-bg-color: #E2EBFA;\n",
              "      --hover-fill-color: #174EA6;\n",
              "      --disabled-fill-color: #AAA;\n",
              "      --disabled-bg-color: #DDD;\n",
              "  }\n",
              "\n",
              "  [theme=dark] .colab-df-quickchart {\n",
              "      --bg-color: #3B4455;\n",
              "      --fill-color: #D2E3FC;\n",
              "      --hover-bg-color: #434B5C;\n",
              "      --hover-fill-color: #FFFFFF;\n",
              "      --disabled-bg-color: #3B4455;\n",
              "      --disabled-fill-color: #666;\n",
              "  }\n",
              "\n",
              "  .colab-df-quickchart {\n",
              "    background-color: var(--bg-color);\n",
              "    border: none;\n",
              "    border-radius: 50%;\n",
              "    cursor: pointer;\n",
              "    display: none;\n",
              "    fill: var(--fill-color);\n",
              "    height: 32px;\n",
              "    padding: 0;\n",
              "    width: 32px;\n",
              "  }\n",
              "\n",
              "  .colab-df-quickchart:hover {\n",
              "    background-color: var(--hover-bg-color);\n",
              "    box-shadow: 0 1px 2px rgba(60, 64, 67, 0.3), 0 1px 3px 1px rgba(60, 64, 67, 0.15);\n",
              "    fill: var(--button-hover-fill-color);\n",
              "  }\n",
              "\n",
              "  .colab-df-quickchart-complete:disabled,\n",
              "  .colab-df-quickchart-complete:disabled:hover {\n",
              "    background-color: var(--disabled-bg-color);\n",
              "    fill: var(--disabled-fill-color);\n",
              "    box-shadow: none;\n",
              "  }\n",
              "\n",
              "  .colab-df-spinner {\n",
              "    border: 2px solid var(--fill-color);\n",
              "    border-color: transparent;\n",
              "    border-bottom-color: var(--fill-color);\n",
              "    animation:\n",
              "      spin 1s steps(1) infinite;\n",
              "  }\n",
              "\n",
              "  @keyframes spin {\n",
              "    0% {\n",
              "      border-color: transparent;\n",
              "      border-bottom-color: var(--fill-color);\n",
              "      border-left-color: var(--fill-color);\n",
              "    }\n",
              "    20% {\n",
              "      border-color: transparent;\n",
              "      border-left-color: var(--fill-color);\n",
              "      border-top-color: var(--fill-color);\n",
              "    }\n",
              "    30% {\n",
              "      border-color: transparent;\n",
              "      border-left-color: var(--fill-color);\n",
              "      border-top-color: var(--fill-color);\n",
              "      border-right-color: var(--fill-color);\n",
              "    }\n",
              "    40% {\n",
              "      border-color: transparent;\n",
              "      border-right-color: var(--fill-color);\n",
              "      border-top-color: var(--fill-color);\n",
              "    }\n",
              "    60% {\n",
              "      border-color: transparent;\n",
              "      border-right-color: var(--fill-color);\n",
              "    }\n",
              "    80% {\n",
              "      border-color: transparent;\n",
              "      border-right-color: var(--fill-color);\n",
              "      border-bottom-color: var(--fill-color);\n",
              "    }\n",
              "    90% {\n",
              "      border-color: transparent;\n",
              "      border-bottom-color: var(--fill-color);\n",
              "    }\n",
              "  }\n",
              "</style>\n",
              "\n",
              "  <script>\n",
              "    async function quickchart(key) {\n",
              "      const quickchartButtonEl =\n",
              "        document.querySelector('#' + key + ' button');\n",
              "      quickchartButtonEl.disabled = true;  // To prevent multiple clicks.\n",
              "      quickchartButtonEl.classList.add('colab-df-spinner');\n",
              "      try {\n",
              "        const charts = await google.colab.kernel.invokeFunction(\n",
              "            'suggestCharts', [key], {});\n",
              "      } catch (error) {\n",
              "        console.error('Error during call to suggestCharts:', error);\n",
              "      }\n",
              "      quickchartButtonEl.classList.remove('colab-df-spinner');\n",
              "      quickchartButtonEl.classList.add('colab-df-quickchart-complete');\n",
              "    }\n",
              "    (() => {\n",
              "      let quickchartButtonEl =\n",
              "        document.querySelector('#df-6f28e270-70de-4a88-a166-87b128443d3e button');\n",
              "      quickchartButtonEl.style.display =\n",
              "        google.colab.kernel.accessAllowed ? 'block' : 'none';\n",
              "    })();\n",
              "  </script>\n",
              "</div>\n",
              "\n",
              "    </div>\n",
              "  </div>\n"
            ],
            "application/vnd.google.colaboratory.intrinsic+json": {
              "type": "dataframe",
              "variable_name": "df",
              "summary": "{\n  \"name\": \"df\",\n  \"rows\": 100,\n  \"fields\": [\n    {\n      \"column\": \"URL_ID\",\n      \"properties\": {\n        \"dtype\": \"string\",\n        \"num_unique_values\": 100,\n        \"samples\": [\n          \"blackassign0084\",\n          \"blackassign0054\",\n          \"blackassign0071\"\n        ],\n        \"semantic_type\": \"\",\n        \"description\": \"\"\n      }\n    },\n    {\n      \"column\": \"URL\",\n      \"properties\": {\n        \"dtype\": \"string\",\n        \"num_unique_values\": 100,\n        \"samples\": [\n          \"https://insights.blackcoffer.com/how-voice-search-makes-your-business-a-successful-business/\",\n          \"https://insights.blackcoffer.com/how-google-fit-measure-heart-and-respiratory-rates-using-a-phone/\",\n          \"https://insights.blackcoffer.com/how-to-overcome-your-fear-of-making-mistakes-2/\"\n        ],\n        \"semantic_type\": \"\",\n        \"description\": \"\"\n      }\n    },\n    {\n      \"column\": \"Title\",\n      \"properties\": {\n        \"dtype\": \"string\",\n        \"num_unique_values\": 93,\n        \"samples\": [\n          \"All you need to know about online marketing\",\n          \"An outlook of healthcare by the year 2040, and how it will impact human lives.\",\n          \"Are we any closer to preventing a nuclear holocaust?\"\n        ],\n        \"semantic_type\": \"\",\n        \"description\": \"\"\n      }\n    },\n    {\n      \"column\": \"Text\",\n      \"properties\": {\n        \"dtype\": \"string\",\n        \"num_unique_values\": 98,\n        \"samples\": [\n          \"Nature has blessed humanity with earth, a rounded globe where all essential necessity lies in the hand of a human. Though in this 21st-century building Space shuttle and exploring space has become an obvious activity among the human raise, now with the inclusion of Start-ups like Space X once dreamed for reaching out at space now is coming true. We all have to agree upon a fact that in the Growth of industrialization we have generated a humungous carbon footprint and colonize at outer space will create a much-needed area for our survival. With time the human race has visualized and has undergone many transformations, and these transformations may for starters were not that effective but were a major role at existence to this age. Be it a natural transformation like shifting of tectonic plates or manmade like Dumping water and damaging water bodies, somehow have affected usual life of humans so creating space of humans is what next humans are eyeing for. All this idea for Colonizing in outer space emerged when NASA was able to launch a space shuttle with a heavy payload in the late 1990s this idea didn\\u2019t stir brain at that time but later was like apple eyes when various articles from astronauts and their writeup came into limelight and this idea saw its progression, space exploration was not a new normal, companies were petrified by the number of investments that these kinds of projects ask for. But things change with the entry of PayPal\\u2019s owner Elon Musk, in 2002 where he laid stones of Space X, with NASA providing the launchpad for their exploration. Being space travel legitimate there where many bottlenecks knowing the nature of outer space will boost the idea of colonizing, here one has to realize the optimum. But the main target that these company put forward with themself was to not just get into other planet but to get back at earth safely, earlier these projects due to high fund was always subdued and priority was given to the rocket technology. Thus, this unimaginable quest for the search of space was far-fetched though. Now being in 2020 we do not find it out of a place of colonizing outside of space, the kind of emergence of technologies has led to the escalation of spreading the roots of human existence, the plan for reaching out to outer space too plays a key role for this idea too. Proper Planning, Analysing, Organising, and Executing were required for these projects to be successful for deeper know how I would like to mention here an example of Space X, According to them they wud be successful for sending Rockets by 2022 and would able to colonize by 2050, For achieving these vision they have planned a total of 36 times pre-launch of the same rocket which they will be launching by 2020. Not only that they have already placed their star link satellites which will provide the basic network connectivity for their colonized world, they have planned this to that extent that they have targeted a profit of $ 22 billion yearly by 2025. Already they have sent the first manned rocket successfully what Elon musk plan is to create that infrastructure by which going to Mars with cost as a regular air flight ticket all this will lead to better chances for colonizing at another planet. With setting up their commercial flight once started to the red planet it wud just be a stepping stone for the colonizing at the outer space. But the fundamental change that people have to undergo while living on another planet will be a change in gravity and being able to be near to live support if any technical issues arise to their suit until unless we find a similar place like the earth that is the change which humans have to adjust. Aspects like Ultraviolet rays too will play an immense role in the survival, but with the rate of technology expanding and challenging at very boundaries there are not many days left when we find solutions to these aspects but this idea of colonizing has more to do with monetary terms it has been projected that building a colony at space will cost at about $10 Trillian which is more than many countries GDP. Placing that much of an amount and getting funding for such highly anticipated projects is tough. Elon to have addressed with these questions with an open Door he believes that this cost is nothing when we find a route to colonize space and these costs will be justifiable when space exploration will reach new heights. Also, our world is around water and the percentage of land comparison to water is too less. Whereas the population is increasing with the speed and the level of excitement in order to search for new things and the obsession with the new and innovative things never going to finish. Because in the end, we do not satisfy what we have achieved, we are only looking for other things and crave to achieve that. In order to achieve that planning is most crucial stage. As of now we have searched 9 planets but still didn\\u2019t shortlisted the outcomes. But according to the 3-decade theory of ELON MUSK, it seems to be possible. As the most important thing to survive is the atmospheric environment, whether is this suitable or not, and in order to make it suitable what steps had to take and maintain the suitable level of oxygen.\\u00a0 The missions are now what everyone is focusing about. Finding the source of water, because its 2nd crucial thing which is needed to survive. Apart from the excitement and the things, the threats or the uncertainties are bound to happen like any kind of mammal which could occur during construction or after that. So the security for that or any protection so that uncertainties could be replicated. After the basic things, other factors like what are the natural habitats available there, whether the plants could be grown over there or not. If yes, then what types of plants could survive there. The environment for the animals is safe or not. Because to balance the nature we need all types of animals, natural habitat, even insects and other small things which seems to be ignorable but plays an important role in maintaining the environmental balance. For e.g.\\u00a0 \\u2013 Ants are among the leading predators of other insects, helping to keep pest populations low.\\u00a0 Ants move approximately the same amount of soil as earthworms, loosening the soil in the process and increasing air and water movement into the ground.\\u00a0 They keep the ecosystem clean of dead insect carcasses and aid in the destruction and decomposition of plant and animal matter.\\u00a0So, every small thing contributes in its own way. Another matter of concern is the level of artificial intelligence and machine learning required to maintain that kind of requirement. Because as the current scenario, we need energy to run any vehicle or even for the robotics. So, the availability of the energy and the source of energy is needed. And apart from this, the heat of sun is equally important in order to maintain the level. Because with artificial air we can survive but not for so long. So, in order to remain healthy as well the calculation has to be done. When thinking about disease, you may have heard in the news about the concern that antibiotics (such as penicillin) \\u2013 which help fight infections \\u2013 may eventually stop working. Global health organisations are trying to reduce the use of antibiotics, especially for conditions that aren\\u2019t serious. This is because their overuse in recent years means that they\\u2019re becoming less effective. But still we can survive without antibiotics. Because there are ways\\u00a0of dealing with diseases caused by bacteria such as isolation which is how they were treated before penicillin. It might sound like something set firmly in the realm of fantasy, but experts in private industry and governments around the world are trying to understand how feasible it would be to establish a lunar base. Some scientists think humans could survive comfortably on the moon. In some ways, the very minimal gravity of the moon might actually be more conducive to life than the microgravity astronauts experience on the International Space Station. Although it hasn\\u2019t been formally tested, some experts hypothesize that the small amount of gravitational force put on an astronaut\\u2019s body when on the moon\\u00a0could help stem some of the adverse effects like bone-density and muscle loss that space flyers experience while living in microgravity on the International Space Station. By using the moon\\u2019s indigenous material, space agencies can save money on the cost of flying pricey missions to and from the moon\\u2019s surface.\\u00a0Once on the moon, instead of having to stage costly missions aimed at delivering oxygen and other necessary resources from Earth, experts might be able to actually use the material to manufacture gasses needed to sustain life on the satellite. On earth, we are protected from radioactive solar winds and cosmic rays by our own magnet field known as the magnetosphere. But out in the space, we can\\u2019t rely on this type of protection, and in order to make that protection, it could take a lot but yes with more upgraded technology it could achieve. Although till now the approximate value of the project is $10 trillion. But the aim is to make the fare equivalent to the normal air fare. As once we are comfortable with all the resources, securities for uncertainties, risk analysis, and the probability of survival of the human being and many other factors after consideration, then development won\\u2019t take much time. Because to construct a building it take normally 8-9 months. Which is totally acceptable. But the main concern is the density of the land, i.e. whether the land has the capacity to bear that much weight or not. And the type of land is adaptable for cultivation or nor. Although land can be converted into different types of cultivation but with the help of upgraded technology. In order to transport the equipments on the regular basis, a large amount of fuel Is required, and other factors as well and Built the propellor depo for rocket landing building various infrastructure for the city one by one will create a way forward for idea of Colonizing at outer space.\",\n          \"The way work is being done now is destined to undergo massive transformational changes which will impact humans and their ways of working dramatically. With the development of the new machine programs, A.I. is all set to take over the humans in their workplace as no other did. Now we are not only in competition with other beings but with robots too. And robots will overcome us in our fields of work. At present we are being surrounded by A.I. from dusk till dawn, from facial recognition present in our mobile application to dating websites/applications which uses decision making as their algorithms and learn from the past data as well. It is believed that A.I. has grown over 270% over the last years. First, let us know what A.I. is and all the fuss going on about it?A.I. as defined by the internet is simply \\u2018simulation of human intelligence in machines that are programmed to think like humans and mimic their actions\\u2019. This translates to, it can work as a human being just at fast speed and with 100% accuracy.In my definition I would define A.I. as the god form of human beings. Now the question that arises is, what does A.I. entails for the future? A.I. is fancy enough to continue existing in our minds all the time, but it does come with certain limitations and threats which is a cause for a peaceful sleep for most of the workers. With its introduction to different areas of the workplace, it is clear that half of the human jobs would be taken up by A.I. and then there would arise a need for more jobs for humans in new upcoming AI-based ventures in different industries. Thereby giving us our fair share back to us. In a survey, it was found that some believed that AI will be devastating for humans and while some professionals and tech-savvy people believed that inculcating AI technology into business and our daily lives would be a remarkable step as it will lead to the flourishment of business in the future and give them a competitive edge over their rivals. People believed that when these advanced technologies would come together to work with humans, they will produce a smarter strategic decision with productive collaborative practices. More modern technology prevailing in the organization will lead to stress reduction and produce more satisfying results thereby making the organization more efficient. The Organizations who are in use of the AI technology responds by saying that their managers are more comfortable using A.I. and are accustomed to it and the organizations are now looking forward to having integration of higher-end technology systems, as it is believed that new technology will result in more productivity thereby making more profits in the long run. Many jobs today require AI and humans working in collaboration, which creates a positive signal that in the future to humans would be working closely with the technology. Beyond just training and developing these machines, humans would be working in close vicinity with them and making decisions on how to act on the result that is given by the machine. It can be said that both the AI advanced technology and human can\\u2019t remain in the workforce without each other, as the technology will produce accurate and top-notch results but it requires someone to make delivery.e.g., in a firm, an AI-based system produces results based on historical data but there is a need for someone to analyze and communicate and present this data to the respective stakeholders whether inside or outside of the organization. Various uses of artificial intelligence technology in day-to-day functions in regards to interactions with humans are: Artificial intelligence as we know works on algorithms, neural networks, and deep learning which all are analytical tools that help AI in taking analytical decisions based on the data provided. Whereas, humans on the other hand take higher-level decisions based on \\u2018Intuition\\u2019 sometimes, which refers to the gut feeling that generates in humans concerning any situation or challenge. AI alone can\\u2019t work to handle critical situations on its own as it needs humans for it to reciprocate them and share the information with stakeholders, and humans alone can\\u2019t anticipate much on the accurate and fast-paced analytical solutions to the problems persisting in place of the situation. The strength of humans and AI working in synergy can be surprisingly beneficial and advantageous to organizations. It is believed that machines in the future would be eating up our traditional jobs. But the reality seems to be turning otherwise. The future trend shows that in future the AI-powered technology would take up jobs that were being done by humans but in return would produce more jobs that would require human interference with them. As and when the newer technology is approaching more and more countries are now proceeding towards GIG Economies, and so in the future, we can witness an increase in freelance jobs and the permanent labor market norms could reduce drastically. Some of the jobs today will be replaced by AI which is in the transportation or retail commerce sector that can be 100% automated in the future years. There is an \\u2018Amazon Go\\u2019 store that uses this technology which goes by the name \\u2018Just walk out technology\\u2019 wherein there is no need for any human-induced workforce and all the operations are carried out by AI-powered technologies, which is indeed a breakthrough technology in today\\u2019s world. Rather than eating up our jobs AI in return will be creating more jobs in the future by creating massive innovations thereby fueling up many new industries and thereby giving us our fair share of jobs back. There will be a lot of demand placed on the upcoming young workforce which is also categorized as \\u2018Gen Z\\u2019. They are expected to know more about technology and would be high in demand. \\u00a0These young generations are required to learn new skills which are needed to survive in the dynamic changing environment, and as most of the activities that are carried out by workers will be automated, there will be demand for people working in the back office and maintaining and developing the technology to its best versions. \\u00a0 AI powered technology has its limitations which makes it a rigid system to hold on to and also which makes it a costly affair at the initial stage. \\u00a0 It was predicted that the cost of electricity to power a supercharged AI model was around $4.6 million. So, this super-powered AI can be purchased only by big fortune firms and thereby creating more value to their net worth. One of the major limitations of AI is that it can contain biased data as the scientists who put in the data can create biasedness and so the resultant output of the same would have a biased report. These machines as do not have neuroscience-based technology in them yet which enables them to carry human emotions to understand complex situations and a creative way out of that, they tend to have a lack of out of box thinking which in the case is rigid in themselves as they are programmed to work on a single task and they cannot perform more than a single task at the same time. It is also believed that there exists no creativity among the computer, no matter it is fast-paced, but they are not intelligent. Businesses and organizations need to understand and anticipate the opportunities that the future holds for them and they need to start training their employees based on today\\u2019s dynamic changing technology. While it\\u2019s still unclear what does the future holds for us, but the anticipation of it could benefit us in several ways. As we are unclear about what the future looks like, we need to think in probable terms how it could turn out to be and then employ specific training programs for the employees of the organization.The training the employees are needed to be done on a continuous and lifetime basis which means that education won\\u2019t be only limited to PG degrees but will be now a lifetime process of learning. As the Covid-19 changed the scenario of the work patterns around the world, we now need to think strategically about the working dynamics of the future and how does it look like compared to the pre-covid and post-covid scenario. Employees will be playing a major role in transforming the organizations and work practices in the upcoming future, so organizations need to select and recruit the best candidates among the pool and then provide them with best practices of the new machines and make proficient in their area of work. Policies need to be developed to hire the best people and then retaining the talent in the organization. There needs to be a continuous scanning of the environment by the organizations to comprehend any new trends and assess them, not all trends will be beneficial for organizations, they must be aware of the prospects and plan for the future systematically and consistently. There lies a possibility in future certain years from now, we could have machines who will have general human intelligence who would be able to answer deep meaningful questions asking \\u2018Why are the curtains blue?\\u2019, would be able to clean cars, play politics and tell jokes to us, and by using deep and machine learning programs their level of intelligence would be beyond mathematical calculations to us. That\\u2019s how good machines will be in the future, but to make ourselves competitive with machines, we would need to train ourselves for the impending ambiguous future ahead of us. Humans and machines need to work in synergy to get beneficial and satisfying results for both parties. Machines are indeed going take away many of our jobs, but let me make you sleep peacefully tonight, the machines aren\\u2019t arriving until we\\u2019re retired. \\u00a0\",\n          \"COVID 19 has bought the world to its knees. With businesses being shut, travel being banned, schools, and colleges being closed, we have observed an impeccable amount of sorrow and despise along with a great amount of mental torture and destruction. Though situations are improving now, and the lockdowns are being lifted, it is a fact that it cannot be shunned that this virus will have a long term impact on people, and the effects will not only be felt economically and physically but also mentally. We\\u2019ve been reading articles regarding the impact of COVID 19 on the economy, education, mental health, and every other possible aspect. But one topic which has not been talked about much is the impact of COVID 19 on office space and co-working industries. Well, it is quite obvious that offices will start functioning now, but, the COVID period hasn\\u2019t ended. This means that social distancing will also have to be followed in offices; where it will be a problem to do so because of the lack of adequate infrastructure and space. The same will be the condition in co-working industries, wherein employees of different companies come and work together under the same roof. However, these problems are quite obvious (though people haven\\u2019t thought about them much), but the fact which people fail to notice and understand is that the meaning of space is not only limited to infrastructural space which is measured in square foot or square meters; but it also extends to metal space, or for that fact, space in the minds of people for others and their thoughts as well as opinions. Coronavirus has left a big scratch in our country; just the way a car needs repair after an accident, our country will also need repair after the control of this virus. But, unlike a car, our country will require a large amount of time to get restored and to stand straight without any support. Needless to say, the economic stability of our country will definitely be hit because of this reason. But the problem is since the earnings of the employers will reduce, it will subsequently lead to a drop in the salary of the employees. While some employees might be preferred by their bosses and may receive a raise regularly, others might be subjected to unfair treatment and made to do the same amount of work for a lower salary. People tend to overlook the thin line which exists between cooperation and competition. The problem doesn\\u2019t arise when such a situation happens wherein an employee is getting paid more than the other, but instead, it arises when people start to compare their earnings as well as benefits to that of others. And in today\\u2019s world, where people keep money at the top of their priority list, comparisons will play a very important role in the performance of employees and their company. Since there will exist inequalities and partialities in companies, there will also exist a sense of hatred and competition among the employees of the same company; who will compete to get a better position or a raise in their salary. This may seem beneficial to some as it might compel the employees to work harder and better, but however, will bring huge losses in the long run. The fact is; employees might end up doing unethical acts which will help them to make a better impression in their boss\\u2019s eyes. Moreover, since there will be comparisons among the employees, it might happen that the \\u2018Employee of the Month\\u2019 ends up being hated by all other employees in the company. Another situation that might arise is that of bluffing and pretending; wherein employees tend to show that they work very hard but they don\\u2019t. This might be practiced by showing the boss that they are working when he is on around, and then chilling the rest of the time when the boss goes home or sits in his office. In fact, employees might also lose interest in working if they sense repeated partialities and inequalities; which they might show by quitting the jobs or not performing to their best. Such situations will definitely arise in companies and offices; wherein employees will compete for attention and resources; which will have a great impact on the company and its functioning. And all this will happen because of only one thing; lack of office mental space i.e. space in the minds of people working together in a particular office for cooperation and teamwork, along with ignorance of the fact that things will get better and eventually the same after some time. Another kind of industry and companies that will be affected due to the long-lasting impact of COVID 19 is the co-working industry and offices. This is because, there will be a shortage of resources and the income of people, but the maintenance cost to be born for the infrastructure, as well the rent will remain the same. Because of this, employees will be told by the company owners to exploit the resources present in the offices and use them to the fullest; to compensate for the losses being born and to make better use of the money being used. However, the number of resources will be the same, and so, there will be a case of competition between employees of different companies to use resources and take benefits of the same. If the above two situations happen to occur at the same time (which they most likely will), we will observe a scene of intra-company as well as inter-company competition. Also, our personal relations with other employees in the company might also be affected due to this comparison and competition; which itself will be a result of limited mental space. COVID 19 will have severe impacts on the office (mental) space of companies and people.\\u00a0 People\\u2019s thoughts, how they treat others, along with accepting defeat and rejection will be an important aspect of everyone\\u2019s lives. Moreover, we might also observe a shoot in the intensity and frequency of office people going to psychologists; because of repeated rejection and unfair treatment. However, we need to cope with this thing and realize that it is indeed very important for us to start preparing to expand our mental space and that this competition and comparison will not stay for long and should not affect our personal relations and life at any cost.\"\n        ],\n        \"semantic_type\": \"\",\n        \"description\": \"\"\n      }\n    },\n    {\n      \"column\": \"Tokenized_Text\",\n      \"properties\": {\n        \"dtype\": \"object\",\n        \"semantic_type\": \"\",\n        \"description\": \"\"\n      }\n    },\n    {\n      \"column\": \"StopWords_Removed\",\n      \"properties\": {\n        \"dtype\": \"object\",\n        \"semantic_type\": \"\",\n        \"description\": \"\"\n      }\n    },\n    {\n      \"column\": \"Cleaned_Text\",\n      \"properties\": {\n        \"dtype\": \"string\",\n        \"num_unique_values\": 98,\n        \"samples\": [\n          \"Nature blessed humanity earth, rounded globe essential necessity lies hand human. 21st-century building Space shuttle exploring space obvious activity human raise, inclusion Start-ups Space dreamed reaching space coming true. agree fact Growth industrialization generated humungous carbon footprint colonize outer space create much-needed area survival. time human race visualized undergone transformations, transformations starters effective major role existence age. natural transformation shifting tectonic plates manmade Dumping water damaging water bodies, affected usual life humans creating space humans humans eyeing for. idea Colonizing outer space emerged NASA launch space shuttle heavy payload late 1990s idea didn\\u2019t stir brain time apple eyes articles astronauts writeup limelight idea progression, space exploration normal, companies petrified number investments kinds projects for. things change entry PayPal\\u2019s owner Elon Musk, 2002 laid stones Space X, NASA providing launchpad exploration. space travel legitimate bottlenecks knowing nature outer space boost idea colonizing, realize optimum. main target company put forward themself planet back earth safely, earlier projects due high fund subdued priority rocket technology. Thus, unimaginable quest search space far-fetched though. 2020 find place colonizing space, kind emergence technologies led escalation spreading roots human existence, plan reaching outer space plays key role idea too. Proper Planning, Analysing, Organising, Executing required projects successful deeper mention Space X, wud successful sending Rockets 2022 colonize 2050, achieving vision planned total 36 times pre-launch rocket launching 2020. star link satellites provide basic network connectivity colonized world, planned extent targeted profit $ 22 billion yearly 2025. manned rocket successfully Elon musk plan create infrastructure Mars cost regular air flight ticket lead chances colonizing planet. setting commercial flight started red planet wud stepping stone colonizing outer space. fundamental change people undergo living planet change gravity live support technical issues arise suit find similar place earth change humans adjust. Aspects Ultraviolet rays play immense role survival, rate technology expanding challenging boundaries days left find solutions aspects idea colonizing monetary terms projected building colony space cost $10 Trillian countries GDP. Placing amount funding highly anticipated projects tough. Elon addressed questions open Door believes cost find route colonize space costs justifiable space exploration reach heights. Also, world water percentage land comparison water less. population increasing speed level excitement order search things obsession innovative things finish. end, satisfy achieved, things crave achieve that. order achieve planning crucial stage. searched 9 planets didn\\u2019t shortlisted outcomes. 3-decade theory ELON MUSK, possible. important thing survive atmospheric environment, suitable not, order make suitable steps maintain suitable level oxygen. missions focusing about. Finding source water, 2nd crucial thing needed survive. excitement things, threats uncertainties bound happen kind mammal occur construction that. security protection uncertainties replicated. basic things, factors natural habitats there, plants grown not. yes, types plants survive there. environment animals safe not. balance nature types animals, natural habitat, insects small things ignorable plays important role maintaining environmental balance. e.g. \\u2013 Ants leading predators insects, helping pest populations low. Ants move approximately amount soil earthworms, loosening soil process increasing air water movement ground. ecosystem clean dead insect carcasses aid destruction decomposition plant animal matter. So, small thing contributes way. matter concern level artificial intelligence machine learning required maintain kind requirement. current scenario, energy run vehicle robotics. So, availability energy source energy needed. this, heat sun equally important order maintain level. artificial air survive long. So, order remain healthy calculation done. thinking disease, heard news concern antibiotics (such penicillin) \\u2013 fight infections \\u2013 eventually stop working. Global health organisations reduce antibiotics, conditions aren\\u2019t serious. overuse recent years means they\\u2019re effective. survive antibiotics. ways dealing diseases caused bacteria isolation treated penicillin. sound set firmly realm fantasy, experts private industry governments world understand feasible establish lunar base. scientists humans survive comfortably moon. ways, minimal gravity moon conducive life microgravity astronauts experience International Space Station. hasn\\u2019t formally tested, experts hypothesize small amount gravitational force put astronaut\\u2019s body moon stem adverse effects bone-density muscle loss space flyers experience living microgravity International Space Station. moon\\u2019s indigenous material, space agencies save money cost flying pricey missions moon\\u2019s surface. moon, stage costly missions aimed delivering oxygen resources Earth, experts material manufacture gasses needed sustain life satellite. earth, protected radioactive solar winds cosmic rays magnet field magnetosphere. space, can\\u2019t rely type protection, order make protection, lot upgraded technology achieve. till approximate project $10 trillion. aim make fare equivalent normal air fare. comfortable resources, securities uncertainties, risk analysis, probability survival human factors consideration, development won\\u2019t time. construct building 8-9 months. totally acceptable. main concern density land, i.e. land capacity bear weight not. type land adaptable cultivation nor. land converted types cultivation upgraded technology. order transport equipments regular basis, large amount fuel required, factors Built propellor depo rocket landing building infrastructure city create forward idea Colonizing outer space.\",\n          \"work destined undergo massive transformational impact humans ways working dramatically. development machine programs, A.I. set humans workplace did. competition beings robots too. robots overcome fields work. present surrounded A.I. dusk till dawn, facial recognition present mobile application dating websites/applications decision making algorithms learn past data well. believed A.I. grown 270% years. First, A.I. fuss it?A.I. defined internet simply \\u2018simulation human intelligence machines programmed humans mimic actions\\u2019. translates to, work human fast speed 100% accuracy.In definition define A.I. god form human beings. question arises is, A.I. entails future? A.I. fancy continue existing minds time, limitations threats peaceful sleep workers. introduction areas workplace, clear half human jobs A.I. arise jobs humans upcoming AI-based ventures industries. giving fair share back us. survey, found believed AI devastating humans professionals tech-savvy people believed inculcating AI technology business daily lives remarkable step lead flourishment business future give competitive edge rivals. People believed advanced technologies work humans, produce smarter strategic decision productive collaborative practices. modern technology prevailing organization lead stress reduction produce satisfying results making organization efficient. Organizations AI technology responds managers comfortable A.I. accustomed organizations forward integration higher-end technology systems, believed technology result productivity making profits long run. jobs today require AI humans working collaboration, creates positive signal future humans working closely technology. training developing machines, humans working close vicinity making decisions act result machine. AI advanced technology human can\\u2019t remain workforce other, technology produce accurate top-notch results requires make delivery.e.g., firm, AI-based system produces results based historical data analyze communicate present data respective stakeholders inside organization. artificial intelligence technology day-to-day functions interactions humans are: Artificial intelligence works algorithms, neural networks, deep learning analytical tools AI taking analytical decisions based data provided. Whereas, humans hand higher-level decisions based \\u2018Intuition\\u2019 sometimes, refers gut feeling generates humans situation challenge. AI can\\u2019t work handle critical situations humans reciprocate share information stakeholders, humans can\\u2019t anticipate accurate fast-paced analytical solutions problems persisting place situation. strength humans AI working synergy surprisingly beneficial advantageous organizations. believed machines future eating traditional jobs. reality turning otherwise. future trend shows future AI-powered technology jobs humans return produce jobs require human interference them. newer technology approaching countries proceeding GIG Economies, future, witness increase freelance jobs permanent labor market norms reduce drastically. jobs today replaced AI transportation retail commerce sector 100% automated future years. \\u2018Amazon Go\\u2019 store technology \\u2018Just walk technology\\u2019 human-induced workforce operations carried AI-powered technologies, breakthrough technology today\\u2019s world. eating jobs AI return creating jobs future creating massive innovations fueling industries giving fair share jobs back. lot demand upcoming young workforce categorized \\u2018Gen Z\\u2019. expected technology high demand. young generations required learn skills needed survive dynamic changing environment, activities carried workers automated, demand people working back office maintaining developing technology versions. AI powered technology limitations makes rigid system hold makes costly affair initial stage. predicted cost electricity power supercharged AI model $4.6 million. So, super-powered AI purchased big fortune firms creating net worth. major limitations AI biased data scientists put data create biasedness resultant output biased report. machines neuroscience-based technology enables carry human emotions understand complex situations creative that, tend lack box thinking case rigid programmed work single task perform single task time. believed exists creativity computer, matter fast-paced, intelligent. Businesses organizations understand anticipate opportunities future holds start training employees based today\\u2019s dynamic changing technology. it\\u2019s unclear future holds us, anticipation benefit ways. unclear future like, probable terms turn employ specific training programs employees organization.The training employees needed continuous lifetime basis means education won\\u2019t limited PG degrees lifetime process learning. Covid-19 changed scenario work patterns world, strategically working dynamics future compared pre-covid post-covid scenario. Employees playing major role transforming organizations work practices upcoming future, organizations select recruit candidates pool provide practices machines make proficient area work. Policies developed hire people retaining talent organization. continuous scanning environment organizations comprehend trends assess them, trends beneficial organizations, aware prospects plan future systematically consistently. lies possibility future years now, machines general human intelligence answer deep meaningful questions \\u2018Why curtains blue?\\u2019, clean cars, play politics jokes us, deep machine learning programs level intelligence mathematical calculations us. That\\u2019s good machines future, make competitive machines, train impending ambiguous future ahead us. Humans machines work synergy beneficial satisfying results parties. Machines jobs, make sleep peacefully tonight, machines aren\\u2019t arriving we\\u2019re retired.\",\n          \"COVID 19 bought world knees. businesses shut, travel banned, schools, colleges closed, observed impeccable amount sorrow despise great amount mental torture destruction. situations improving now, lockdowns lifted, fact shunned virus long term impact people, effects felt economically physically mentally. We\\u2019ve reading articles impact COVID 19 economy, education, mental health, aspect. topic talked impact COVID 19 office space co-working industries. Well, obvious offices start functioning now, but, COVID period hasn\\u2019t ended. means social distancing offices; problem lack adequate infrastructure space. condition co-working industries, employees companies work roof. However, problems obvious (though people haven\\u2019t thought much), fact people fail notice understand meaning space limited infrastructural space measured square foot square meters; extends metal space, fact, space minds people thoughts opinions. Coronavirus left big scratch country; car repair accident, country repair control virus. But, unlike car, country require large amount time restored stand straight support. Needless say, economic stability country hit reason. problem earnings employers reduce, subsequently lead drop salary employees. employees preferred bosses receive raise regularly, subjected unfair treatment made amount work lower salary. People tend overlook thin line exists cooperation competition. problem doesn\\u2019t arise situation employee paid other, instead, arises people start compare earnings benefits others. today\\u2019s world, people money top priority list, comparisons play important role performance employees company. exist inequalities partialities companies, exist sense hatred competition employees company; compete position raise salary. beneficial compel employees work harder better, however, bring huge losses long run. fact is; employees end unethical acts make impression boss\\u2019s eyes. Moreover, comparisons employees, happen \\u2018Employee Month\\u2019 ends hated employees company. situation arise bluffing pretending; employees tend show work hard don\\u2019t. practiced showing boss working around, chilling rest time boss home sits office. fact, employees lose interest working sense repeated partialities inequalities; show quitting jobs performing best. situations arise companies offices; employees compete attention resources; great impact company functioning. happen thing; lack office mental space i.e. space minds people working office cooperation teamwork, ignorance fact things eventually time. kind industry companies affected due long-lasting impact COVID 19 co-working industry offices. because, shortage resources income people, maintenance cost born infrastructure, rent remain same. this, employees told company owners exploit resources present offices fullest; compensate losses born make money used. However, number resources same, so, case competition employees companies resources benefits same. situations happen occur time (which will), observe scene intra-company inter-company competition. Also, personal relations employees company affected due comparison competition; result limited mental space. COVID 19 severe impacts office (mental) space companies people. People\\u2019s thoughts, treat others, accepting defeat rejection important aspect everyone\\u2019s lives. Moreover, observe shoot intensity frequency office people psychologists; repeated rejection unfair treatment. However, cope thing realize important start preparing expand mental space competition comparison stay long affect personal relations life cost.\"\n        ],\n        \"semantic_type\": \"\",\n        \"description\": \"\"\n      }\n    }\n  ]\n}"
            }
          },
          "metadata": {},
          "execution_count": 25
        }
      ]
    },
    {
      "cell_type": "code",
      "source": [
        "# Drop intermediate columns if needed\n",
        "df.drop(['Tokenized_Text', 'StopWords_Removed'], axis=1, inplace=True)"
      ],
      "metadata": {
        "id": "LDoC-_-gk_uA"
      },
      "execution_count": null,
      "outputs": []
    },
    {
      "cell_type": "markdown",
      "source": [
        "*   Drop columns Tokenized_Text, StopWords_Removed"
      ],
      "metadata": {
        "id": "ocKs_qak8B0p"
      }
    },
    {
      "cell_type": "code",
      "source": [
        "df['Cleaned_Text'][0]"
      ],
      "metadata": {
        "colab": {
          "base_uri": "https://localhost:8080/",
          "height": 140
        },
        "id": "18PQsJI3lEmA",
        "outputId": "8fcc717b-cd1b-4ce9-d6e4-70fd03927292"
      },
      "execution_count": null,
      "outputs": [
        {
          "output_type": "execute_result",
          "data": {
            "text/plain": [
              "'huge development dependence people technology recent years. development AI ChatGPT recent years. normal thing fully dependent technology 2040. Information technology major power developing nations. member developing nation, India rapidly growing base. grown cities major control centres Information technology 2040. Rising cities Kolkata:- Kolkata West Bengal emerging major hub. Kolkata i.e. Saltlake Sector 5, town, Rajarhat area Kolkata major hub. government giving software companies land free cost set companies there. large companies Google, Microsoft, IBM, Infosys set companies here. Kolkata market base billions dollars great job boosting national economy. Impact Economy huge impact rising cities economy. effects are- Impact Environment rising cities create huge impact environment, maximum harmful effects. impact rising cities environment is- Impact infrastructure contributions cities infrastructure. are- Impact city life growth cities, people jobs earn more. purchasing power people increase. People lead lifestyle. buy things good brand value. tastes preferences people change. human development index increase. People buy good quality food good quality cars. food, automobile industries increase. huge impact city life 2040.'"
            ],
            "application/vnd.google.colaboratory.intrinsic+json": {
              "type": "string"
            }
          },
          "metadata": {},
          "execution_count": 27
        }
      ]
    },
    {
      "cell_type": "code",
      "source": [
        "df['Text'][0]"
      ],
      "metadata": {
        "colab": {
          "base_uri": "https://localhost:8080/",
          "height": 140
        },
        "id": "lkQTeyhqlJgF",
        "outputId": "02929856-744d-4495-b749-8647acaa942b"
      },
      "execution_count": null,
      "outputs": [
        {
          "output_type": "execute_result",
          "data": {
            "text/plain": [
              "'We have seen a huge development and dependence of people on technology in recent years. We have also seen the development of AI and ChatGPT in recent years. So it is a normal thing that we will become fully dependent on technology by 2040. Information technology will be a major power for all the developing nations. As a member of a developing nation, India is rapidly growing its IT base. It has also grown some IT cities which will be the major control centres for Information technology by 2040. Rising IT cities Kolkata:- Kolkata in West Bengal is an emerging major IT hub. The new Kolkata i.e. Saltlake Sector\\xa0 5, New town, Rajarhat area of Kolkata is a major IT hub. The government is giving the software companies land at almost free of cost to set up the companies there. Many large companies like Google, Microsoft, IBM, Infosys and others have set up their companies here. Kolkata has a market base of billions of dollars and is doing a great job of boosting the national economy. Impact on Economy There is a huge impact of the rising IT cities on our economy. Some of the effects are- Impact on Environment The rising IT cities will create a huge impact on the environment, the maximum of which will be harmful effects. The impact of rising IT cities on the environment is- Impact on infrastructure There are many contributions of the IT cities on infrastructure.\\xa0 They are- Impact on city life With the growth of IT cities, more people will get jobs and will earn more. So the purchasing power of the people will increase. People will lead a better lifestyle. They will buy things of good brand value. The tastes and preferences of people will also change. The human development index is going to increase. People will buy good quality food and good quality cars. So the food, automobile and many other industries are going to increase. So there will be a huge impact on city life by 2040.'"
            ],
            "application/vnd.google.colaboratory.intrinsic+json": {
              "type": "string"
            }
          },
          "metadata": {},
          "execution_count": 28
        }
      ]
    },
    {
      "cell_type": "markdown",
      "source": [
        "###List of positive and negative dictionary"
      ],
      "metadata": {
        "id": "ZtP-OdZBt_fR"
      }
    },
    {
      "cell_type": "markdown",
      "source": [
        "###Creating a dictionary of Positive and Negative words\n",
        "\n",
        "* The Master Dictionary (found in the folder MasterDictionary) is used for creating a dictionary of Positive and Negative words. We add only those words in the dictionary if they are not found in the Stop Words Lists."
      ],
      "metadata": {
        "id": "AoSFLgDhuvTD"
      }
    },
    {
      "cell_type": "code",
      "source": [
        "# Load Positive and Negative Words\n",
        "positive_words = []\n",
        "negative_words = []"
      ],
      "metadata": {
        "id": "0rIz4UE5lMVA"
      },
      "execution_count": null,
      "outputs": []
    },
    {
      "cell_type": "markdown",
      "source": [
        "*   Create empty list of positive_words and negative_words"
      ],
      "metadata": {
        "id": "-sYKy4rZ8J_R"
      }
    },
    {
      "cell_type": "code",
      "source": [
        "# Load positive words\n",
        "with open(\"/content/drive/MyDrive/20211030 Test Assignment-20240530T063043Z-001/20211030 Test Assignment/MasterDictionary/positive-words.txt\", \"r\", encoding=\"ISO-8859-1\") as f:\n",
        "    positive_words = [word.strip() for word in f.readlines() if word.strip() not in stop_words]"
      ],
      "metadata": {
        "id": "SuuprBmqmQ-P"
      },
      "execution_count": null,
      "outputs": []
    },
    {
      "cell_type": "code",
      "source": [
        "# Load negative words\n",
        "with open(\"/content/drive/MyDrive/20211030 Test Assignment-20240530T063043Z-001/20211030 Test Assignment/MasterDictionary/negative-words.txt\", \"r\", encoding=\"ISO-8859-1\") as f:\n",
        "    negative_words = [word.strip() for word in f.readlines() if word.strip() not in stop_words]"
      ],
      "metadata": {
        "id": "tmjXNUEBmSTv"
      },
      "execution_count": null,
      "outputs": []
    },
    {
      "cell_type": "markdown",
      "source": [
        "*   Load the positive and negative words from given file"
      ],
      "metadata": {
        "id": "j26YskkH8R5h"
      }
    },
    {
      "cell_type": "code",
      "source": [
        "# Step Construct Dictionaries for Positive and Negative Words\n",
        "positive_dictionary = {word: 1 for word in positive_words}\n",
        "negative_dictionary = {word: 1 for word in negative_words}"
      ],
      "metadata": {
        "id": "6tQixolLmT5f"
      },
      "execution_count": null,
      "outputs": []
    },
    {
      "cell_type": "code",
      "source": [
        "print(\"Positive Dictionary:\", positive_dictionary)\n",
        "print(\"Negative Dictionary:\", negative_dictionary)"
      ],
      "metadata": {
        "colab": {
          "base_uri": "https://localhost:8080/"
        },
        "id": "r7u-A5tJma8Q",
        "outputId": "f518bd6d-c544-4abb-e29b-ba3191837699"
      },
      "execution_count": null,
      "outputs": [
        {
          "output_type": "stream",
          "name": "stdout",
          "text": [
            "Positive Dictionary: {'a+': 1, 'abound': 1, 'abounds': 1, 'abundance': 1, 'abundant': 1, 'accessable': 1, 'accessible': 1, 'acclaim': 1, 'acclaimed': 1, 'acclamation': 1, 'accolade': 1, 'accolades': 1, 'accommodative': 1, 'accomodative': 1, 'accomplish': 1, 'accomplished': 1, 'accomplishment': 1, 'accomplishments': 1, 'accurate': 1, 'accurately': 1, 'achievable': 1, 'achievement': 1, 'achievements': 1, 'achievible': 1, 'acumen': 1, 'adaptable': 1, 'adaptive': 1, 'adequate': 1, 'adjustable': 1, 'admirable': 1, 'admirably': 1, 'admiration': 1, 'admire': 1, 'admirer': 1, 'admiring': 1, 'admiringly': 1, 'adorable': 1, 'adore': 1, 'adored': 1, 'adorer': 1, 'adoring': 1, 'adoringly': 1, 'adroit': 1, 'adroitly': 1, 'adulate': 1, 'adulation': 1, 'adulatory': 1, 'advanced': 1, 'advantage': 1, 'advantageous': 1, 'advantageously': 1, 'advantages': 1, 'adventuresome': 1, 'adventurous': 1, 'advocate': 1, 'advocated': 1, 'advocates': 1, 'affability': 1, 'affable': 1, 'affably': 1, 'affectation': 1, 'affection': 1, 'affectionate': 1, 'affinity': 1, 'affirm': 1, 'affirmation': 1, 'affirmative': 1, 'affluence': 1, 'affluent': 1, 'afford': 1, 'affordable': 1, 'affordably': 1, 'afordable': 1, 'agile': 1, 'agilely': 1, 'agility': 1, 'agreeable': 1, 'agreeableness': 1, 'agreeably': 1, 'all-around': 1, 'alluring': 1, 'alluringly': 1, 'altruistic': 1, 'altruistically': 1, 'amaze': 1, 'amazed': 1, 'amazement': 1, 'amazes': 1, 'amazing': 1, 'amazingly': 1, 'ambitious': 1, 'ambitiously': 1, 'ameliorate': 1, 'amenable': 1, 'amenity': 1, 'amiability': 1, 'amiabily': 1, 'amiable': 1, 'amicability': 1, 'amicable': 1, 'amicably': 1, 'amity': 1, 'ample': 1, 'amply': 1, 'amuse': 1, 'amusing': 1, 'amusingly': 1, 'angel': 1, 'angelic': 1, 'apotheosis': 1, 'appeal': 1, 'appealing': 1, 'applaud': 1, 'appreciable': 1, 'appreciated': 1, 'appreciates': 1, 'appreciative': 1, 'appreciatively': 1, 'approval': 1, 'approve': 1, 'ardent': 1, 'ardently': 1, 'ardor': 1, 'articulate': 1, 'aspiration': 1, 'aspirations': 1, 'aspire': 1, 'assurance': 1, 'assurances': 1, 'assure': 1, 'assuredly': 1, 'assuring': 1, 'astonish': 1, 'astonished': 1, 'astonishing': 1, 'astonishingly': 1, 'astonishment': 1, 'astound': 1, 'astounded': 1, 'astounding': 1, 'astoundingly': 1, 'astutely': 1, 'attentive': 1, 'attraction': 1, 'attractive': 1, 'attractively': 1, 'attune': 1, 'audible': 1, 'audibly': 1, 'auspicious': 1, 'authentic': 1, 'authoritative': 1, 'autonomous': 1, 'aver': 1, 'avid': 1, 'avidly': 1, 'award': 1, 'awarded': 1, 'awards': 1, 'awe': 1, 'awed': 1, 'awesome': 1, 'awesomely': 1, 'awesomeness': 1, 'awestruck': 1, 'awsome': 1, 'backbone': 1, 'balanced': 1, 'bargain': 1, 'beauteous': 1, 'beautiful': 1, 'beautifullly': 1, 'beautifully': 1, 'beautify': 1, 'beauty': 1, 'beckon': 1, 'beckoned': 1, 'beckoning': 1, 'beckons': 1, 'believable': 1, 'believeable': 1, 'beloved': 1, 'benefactor': 1, 'beneficent': 1, 'beneficial': 1, 'beneficially': 1, 'beneficiary': 1, 'benefit': 1, 'benefits': 1, 'benevolence': 1, 'benevolent': 1, 'benifits': 1, 'best-known': 1, 'best-performing': 1, 'best-selling': 1, 'better-known': 1, 'better-than-expected': 1, 'beutifully': 1, 'blameless': 1, 'bless': 1, 'blessing': 1, 'bliss': 1, 'blissful': 1, 'blissfully': 1, 'blithe': 1, 'blockbuster': 1, 'bloom': 1, 'blossom': 1, 'bolster': 1, 'bonny': 1, 'bonus': 1, 'bonuses': 1, 'boom': 1, 'booming': 1, 'boost': 1, 'boundless': 1, 'bountiful': 1, 'brainiest': 1, 'brainy': 1, 'brand-new': 1, 'brave': 1, 'bravery': 1, 'bravo': 1, 'breakthrough': 1, 'breakthroughs': 1, 'breathlessness': 1, 'breathtaking': 1, 'breathtakingly': 1, 'breeze': 1, 'bright': 1, 'brighten': 1, 'brighter': 1, 'brightest': 1, 'brilliance': 1, 'brilliances': 1, 'brilliant': 1, 'brilliantly': 1, 'brisk': 1, 'brotherly': 1, 'bullish': 1, 'buoyant': 1, 'cajole': 1, 'calm': 1, 'calming': 1, 'calmness': 1, 'capability': 1, 'capable': 1, 'capably': 1, 'captivate': 1, 'captivating': 1, 'carefree': 1, 'cashback': 1, 'cashbacks': 1, 'catchy': 1, 'celebrate': 1, 'celebrated': 1, 'celebration': 1, 'celebratory': 1, 'champ': 1, 'champion': 1, 'charisma': 1, 'charismatic': 1, 'charitable': 1, 'charm': 1, 'charming': 1, 'charmingly': 1, 'chaste': 1, 'cheaper': 1, 'cheapest': 1, 'cheer': 1, 'cheerful': 1, 'cheery': 1, 'cherish': 1, 'cherished': 1, 'cherub': 1, 'chic': 1, 'chivalrous': 1, 'chivalry': 1, 'civility': 1, 'civilize': 1, 'clarity': 1, 'classic': 1, 'classy': 1, 'clean': 1, 'cleaner': 1, 'cleanest': 1, 'cleanliness': 1, 'cleanly': 1, 'clear': 1, 'clear-cut': 1, 'cleared': 1, 'clearer': 1, 'clears': 1, 'clever': 1, 'cleverly': 1, 'cohere': 1, 'coherence': 1, 'coherent': 1, 'cohesive': 1, 'colorful': 1, 'comely': 1, 'comfort': 1, 'comfortable': 1, 'comfortably': 1, 'comforting': 1, 'comfy': 1, 'commend': 1, 'commendable': 1, 'commendably': 1, 'commitment': 1, 'commodious': 1, 'compact': 1, 'compactly': 1, 'compassion': 1, 'compassionate': 1, 'compatible': 1, 'competitive': 1, 'complement': 1, 'complementary': 1, 'complemented': 1, 'complements': 1, 'compliant': 1, 'compliment': 1, 'complimentary': 1, 'comprehensive': 1, 'conciliate': 1, 'conciliatory': 1, 'concise': 1, 'confidence': 1, 'confident': 1, 'congenial': 1, 'congratulate': 1, 'congratulation': 1, 'congratulations': 1, 'congratulatory': 1, 'conscientious': 1, 'considerate': 1, 'consistent': 1, 'consistently': 1, 'constructive': 1, 'consummate': 1, 'contentment': 1, 'continuity': 1, 'contrasty': 1, 'contribution': 1, 'convenience': 1, 'convenient': 1, 'conveniently': 1, 'convience': 1, 'convienient': 1, 'convient': 1, 'convincing': 1, 'convincingly': 1, 'cool': 1, 'coolest': 1, 'cooperative': 1, 'cooperatively': 1, 'cornerstone': 1, 'correct': 1, 'correctly': 1, 'cost-effective': 1, 'cost-saving': 1, 'counter-attack': 1, 'counter-attacks': 1, 'courage': 1, 'courageous': 1, 'courageously': 1, 'courageousness': 1, 'courteous': 1, 'courtly': 1, 'covenant': 1, 'cozy': 1, 'creative': 1, 'credence': 1, 'credible': 1, 'crisp': 1, 'crisper': 1, 'cure': 1, 'cure-all': 1, 'cushy': 1, 'cute': 1, 'cuteness': 1, 'danke': 1, 'danken': 1, 'daring': 1, 'daringly': 1, 'darling': 1, 'dashing': 1, 'dauntless': 1, 'dawn': 1, 'dazzle': 1, 'dazzled': 1, 'dazzling': 1, 'dead-cheap': 1, 'dead-on': 1, 'decency': 1, 'decent': 1, 'decisive': 1, 'decisiveness': 1, 'dedicated': 1, 'defeat': 1, 'defeated': 1, 'defeating': 1, 'defeats': 1, 'defender': 1, 'deference': 1, 'deft': 1, 'deginified': 1, 'delectable': 1, 'delicacy': 1, 'delicate': 1, 'delicious': 1, 'delight': 1, 'delighted': 1, 'delightful': 1, 'delightfully': 1, 'delightfulness': 1, 'dependable': 1, 'dependably': 1, 'deservedly': 1, 'deserving': 1, 'desirable': 1, 'desiring': 1, 'desirous': 1, 'destiny': 1, 'detachable': 1, 'devout': 1, 'dexterous': 1, 'dexterously': 1, 'dextrous': 1, 'dignified': 1, 'dignify': 1, 'dignity': 1, 'diligence': 1, 'diligent': 1, 'diligently': 1, 'diplomatic': 1, 'dirt-cheap': 1, 'distinction': 1, 'distinctive': 1, 'distinguished': 1, 'diversified': 1, 'divine': 1, 'divinely': 1, 'dominate': 1, 'dominated': 1, 'dominates': 1, 'dote': 1, 'dotingly': 1, 'doubtless': 1, 'dreamland': 1, 'dumbfounded': 1, 'dumbfounding': 1, 'dummy-proof': 1, 'durable': 1, 'dynamic': 1, 'eager': 1, 'eagerly': 1, 'eagerness': 1, 'earnest': 1, 'earnestly': 1, 'earnestness': 1, 'ease': 1, 'eased': 1, 'eases': 1, 'easier': 1, 'easiest': 1, 'easiness': 1, 'easing': 1, 'easy': 1, 'easy-to-use': 1, 'easygoing': 1, 'ebullience': 1, 'ebullient': 1, 'ebulliently': 1, 'ecenomical': 1, 'economical': 1, 'ecstasies': 1, 'ecstasy': 1, 'ecstatic': 1, 'ecstatically': 1, 'edify': 1, 'educated': 1, 'effective': 1, 'effectively': 1, 'effectiveness': 1, 'effectual': 1, 'efficacious': 1, 'efficient': 1, 'efficiently': 1, 'effortless': 1, 'effortlessly': 1, 'effusion': 1, 'effusive': 1, 'effusively': 1, 'effusiveness': 1, 'elan': 1, 'elate': 1, 'elated': 1, 'elatedly': 1, 'elation': 1, 'electrify': 1, 'elegance': 1, 'elegant': 1, 'elegantly': 1, 'elevate': 1, 'elite': 1, 'eloquence': 1, 'eloquent': 1, 'eloquently': 1, 'embolden': 1, 'eminence': 1, 'eminent': 1, 'empathize': 1, 'empathy': 1, 'empower': 1, 'empowerment': 1, 'enchant': 1, 'enchanted': 1, 'enchanting': 1, 'enchantingly': 1, 'encourage': 1, 'encouragement': 1, 'encouraging': 1, 'encouragingly': 1, 'endear': 1, 'endearing': 1, 'endorse': 1, 'endorsed': 1, 'endorsement': 1, 'endorses': 1, 'endorsing': 1, 'energetic': 1, 'energize': 1, 'energy-efficient': 1, 'energy-saving': 1, 'engaging': 1, 'engrossing': 1, 'enhance': 1, 'enhanced': 1, 'enhancement': 1, 'enhances': 1, 'enjoy': 1, 'enjoyable': 1, 'enjoyably': 1, 'enjoyed': 1, 'enjoying': 1, 'enjoyment': 1, 'enjoys': 1, 'enlighten': 1, 'enlightenment': 1, 'enliven': 1, 'ennoble': 1, 'enrapt': 1, 'enrapture': 1, 'enraptured': 1, 'enrich': 1, 'enrichment': 1, 'enterprising': 1, 'entertain': 1, 'entertaining': 1, 'entertains': 1, 'enthral': 1, 'enthrall': 1, 'enthralled': 1, 'enthuse': 1, 'enthusiasm': 1, 'enthusiast': 1, 'enthusiastic': 1, 'enthusiastically': 1, 'entice': 1, 'enticed': 1, 'enticing': 1, 'enticingly': 1, 'entranced': 1, 'entrancing': 1, 'entrust': 1, 'enviable': 1, 'enviably': 1, 'envious': 1, 'enviously': 1, 'enviousness': 1, 'envy': 1, 'equitable': 1, 'ergonomical': 1, 'err-free': 1, 'erudite': 1, 'ethical': 1, 'eulogize': 1, 'euphoria': 1, 'euphoric': 1, 'euphorically': 1, 'evaluative': 1, 'evenly': 1, 'eventful': 1, 'everlasting': 1, 'evocative': 1, 'exalt': 1, 'exaltation': 1, 'exalted': 1, 'exaltedly': 1, 'exalting': 1, 'exaltingly': 1, 'examplar': 1, 'examplary': 1, 'excallent': 1, 'exceed': 1, 'exceeded': 1, 'exceeding': 1, 'exceedingly': 1, 'exceeds': 1, 'excel': 1, 'exceled': 1, 'excelent': 1, 'excellant': 1, 'excelled': 1, 'excellence': 1, 'excellency': 1, 'excellent': 1, 'excellently': 1, 'excels': 1, 'exceptional': 1, 'exceptionally': 1, 'excite': 1, 'excited': 1, 'excitedly': 1, 'excitedness': 1, 'excitement': 1, 'excites': 1, 'exciting': 1, 'excitingly': 1, 'exellent': 1, 'exemplar': 1, 'exemplary': 1, 'exhilarate': 1, 'exhilarating': 1, 'exhilaratingly': 1, 'exhilaration': 1, 'exonerate': 1, 'expansive': 1, 'expeditiously': 1, 'expertly': 1, 'exquisite': 1, 'exquisitely': 1, 'extol': 1, 'extoll': 1, 'extraordinarily': 1, 'extraordinary': 1, 'exuberance': 1, 'exuberant': 1, 'exuberantly': 1, 'exult': 1, 'exultant': 1, 'exultation': 1, 'exultingly': 1, 'eye-catch': 1, 'eye-catching': 1, 'eyecatch': 1, 'eyecatching': 1, 'fabulous': 1, 'fabulously': 1, 'facilitate': 1, 'fair': 1, 'fairly': 1, 'fairness': 1, 'faith': 1, 'faithful': 1, 'faithfully': 1, 'faithfulness': 1, 'fame': 1, 'famed': 1, 'famous': 1, 'famously': 1, 'fancier': 1, 'fancinating': 1, 'fancy': 1, 'fanfare': 1, 'fans': 1, 'fantastic': 1, 'fantastically': 1, 'fascinate': 1, 'fascinating': 1, 'fascinatingly': 1, 'fascination': 1, 'fashionable': 1, 'fashionably': 1, 'fast': 1, 'fast-growing': 1, 'fast-paced': 1, 'faster': 1, 'fastest': 1, 'fastest-growing': 1, 'faultless': 1, 'fav': 1, 'fave': 1, 'favor': 1, 'favorable': 1, 'favored': 1, 'favorite': 1, 'favorited': 1, 'favour': 1, 'fearless': 1, 'fearlessly': 1, 'feasible': 1, 'feasibly': 1, 'feat': 1, 'feature-rich': 1, 'fecilitous': 1, 'feisty': 1, 'felicitate': 1, 'felicitous': 1, 'felicity': 1, 'fertile': 1, 'fervent': 1, 'fervently': 1, 'fervid': 1, 'fervidly': 1, 'fervor': 1, 'festive': 1, 'fidelity': 1, 'fiery': 1, 'fine': 1, 'fine-looking': 1, 'finely': 1, 'finer': 1, 'finest': 1, 'firmer': 1, 'first-class': 1, 'first-in-class': 1, 'first-rate': 1, 'flashy': 1, 'flatter': 1, 'flattering': 1, 'flatteringly': 1, 'flawless': 1, 'flawlessly': 1, 'flexibility': 1, 'flexible': 1, 'flourish': 1, 'flourishing': 1, 'fluent': 1, 'flutter': 1, 'fond': 1, 'fondly': 1, 'fondness': 1, 'foolproof': 1, 'foremost': 1, 'foresight': 1, 'formidable': 1, 'fortitude': 1, 'fortuitous': 1, 'fortuitously': 1, 'fortunate': 1, 'fortunately': 1, 'fortune': 1, 'fragrant': 1, 'free': 1, 'freed': 1, 'freedom': 1, 'freedoms': 1, 'fresh': 1, 'fresher': 1, 'freshest': 1, 'friendliness': 1, 'friendly': 1, 'frolic': 1, 'frugal': 1, 'fruitful': 1, 'ftw': 1, 'fulfillment': 1, 'fun': 1, 'futurestic': 1, 'futuristic': 1, 'gaiety': 1, 'gaily': 1, 'gain': 1, 'gained': 1, 'gainful': 1, 'gainfully': 1, 'gaining': 1, 'gains': 1, 'gallant': 1, 'gallantly': 1, 'galore': 1, 'geekier': 1, 'geeky': 1, 'gem': 1, 'gems': 1, 'generosity': 1, 'generous': 1, 'generously': 1, 'genial': 1, 'genius': 1, 'gentle': 1, 'gentlest': 1, 'genuine': 1, 'gifted': 1, 'glad': 1, 'gladden': 1, 'gladly': 1, 'gladness': 1, 'glamorous': 1, 'glee': 1, 'gleeful': 1, 'gleefully': 1, 'glimmer': 1, 'glimmering': 1, 'glisten': 1, 'glistening': 1, 'glitter': 1, 'glitz': 1, 'glorify': 1, 'glorious': 1, 'gloriously': 1, 'glory': 1, 'glow': 1, 'glowing': 1, 'glowingly': 1, 'god-given': 1, 'god-send': 1, 'godlike': 1, 'godsend': 1, 'gold': 1, 'golden': 1, 'good': 1, 'goodly': 1, 'goodness': 1, 'goodwill': 1, 'goood': 1, 'gooood': 1, 'gorgeous': 1, 'gorgeously': 1, 'grace': 1, 'graceful': 1, 'gracefully': 1, 'gracious': 1, 'graciously': 1, 'graciousness': 1, 'grand': 1, 'grandeur': 1, 'grateful': 1, 'gratefully': 1, 'gratification': 1, 'gratified': 1, 'gratifies': 1, 'gratify': 1, 'gratifying': 1, 'gratifyingly': 1, 'gratitude': 1, 'great': 1, 'greatest': 1, 'greatness': 1, 'grin': 1, 'groundbreaking': 1, 'guarantee': 1, 'guidance': 1, 'guiltless': 1, 'gumption': 1, 'gush': 1, 'gusto': 1, 'gutsy': 1, 'hail': 1, 'halcyon': 1, 'hale': 1, 'hallmark': 1, 'hallmarks': 1, 'hallowed': 1, 'handier': 1, 'handily': 1, 'hands-down': 1, 'handsome': 1, 'handsomely': 1, 'handy': 1, 'happier': 1, 'happily': 1, 'happiness': 1, 'happy': 1, 'hard-working': 1, 'hardier': 1, 'hardy': 1, 'harmless': 1, 'harmonious': 1, 'harmoniously': 1, 'harmonize': 1, 'harmony': 1, 'headway': 1, 'heal': 1, 'healthful': 1, 'healthy': 1, 'hearten': 1, 'heartening': 1, 'heartfelt': 1, 'heartily': 1, 'heartwarming': 1, 'heaven': 1, 'heavenly': 1, 'helped': 1, 'helpful': 1, 'helping': 1, 'hero': 1, 'heroic': 1, 'heroically': 1, 'heroine': 1, 'heroize': 1, 'heros': 1, 'high-quality': 1, 'high-spirited': 1, 'hilarious': 1, 'holy': 1, 'homage': 1, 'honest': 1, 'honesty': 1, 'honor': 1, 'honorable': 1, 'honored': 1, 'honoring': 1, 'hooray': 1, 'hopeful': 1, 'hospitable': 1, 'hot': 1, 'hotcake': 1, 'hotcakes': 1, 'hottest': 1, 'hug': 1, 'humane': 1, 'humble': 1, 'humility': 1, 'humor': 1, 'humorous': 1, 'humorously': 1, 'humour': 1, 'humourous': 1, 'ideal': 1, 'idealize': 1, 'ideally': 1, 'idol': 1, 'idolize': 1, 'idolized': 1, 'idyllic': 1, 'illuminate': 1, 'illuminati': 1, 'illuminating': 1, 'illumine': 1, 'illustrious': 1, 'ilu': 1, 'imaculate': 1, 'imaginative': 1, 'immaculate': 1, 'immaculately': 1, 'immense': 1, 'impartial': 1, 'impartiality': 1, 'impartially': 1, 'impassioned': 1, 'impeccable': 1, 'impeccably': 1, 'important': 1, 'impress': 1, 'impressed': 1, 'impresses': 1, 'impressive': 1, 'impressively': 1, 'impressiveness': 1, 'improve': 1, 'improved': 1, 'improvement': 1, 'improvements': 1, 'improves': 1, 'improving': 1, 'incredible': 1, 'incredibly': 1, 'indebted': 1, 'individualized': 1, 'indulgence': 1, 'indulgent': 1, 'industrious': 1, 'inestimable': 1, 'inestimably': 1, 'inexpensive': 1, 'infallibility': 1, 'infallible': 1, 'infallibly': 1, 'influential': 1, 'ingenious': 1, 'ingeniously': 1, 'ingenuity': 1, 'ingenuous': 1, 'ingenuously': 1, 'innocuous': 1, 'innovation': 1, 'innovative': 1, 'inpressed': 1, 'insightful': 1, 'insightfully': 1, 'inspiration': 1, 'inspirational': 1, 'inspire': 1, 'inspiring': 1, 'instantly': 1, 'instructive': 1, 'instrumental': 1, 'integral': 1, 'integrated': 1, 'intelligence': 1, 'intelligent': 1, 'intelligible': 1, 'interesting': 1, 'interests': 1, 'intimacy': 1, 'intimate': 1, 'intricate': 1, 'intrigue': 1, 'intriguing': 1, 'intriguingly': 1, 'intuitive': 1, 'invaluable': 1, 'invaluablely': 1, 'inventive': 1, 'invigorate': 1, 'invigorating': 1, 'invincibility': 1, 'invincible': 1, 'inviolable': 1, 'inviolate': 1, 'invulnerable': 1, 'irreplaceable': 1, 'irreproachable': 1, 'irresistible': 1, 'irresistibly': 1, 'issue-free': 1, 'jaw-droping': 1, 'jaw-dropping': 1, 'jollify': 1, 'jolly': 1, 'jovial': 1, 'joy': 1, 'joyful': 1, 'joyfully': 1, 'joyous': 1, 'joyously': 1, 'jubilant': 1, 'jubilantly': 1, 'jubilate': 1, 'jubilation': 1, 'jubiliant': 1, 'judicious': 1, 'justly': 1, 'keen': 1, 'keenly': 1, 'keenness': 1, 'kid-friendly': 1, 'kindliness': 1, 'kindly': 1, 'kindness': 1, 'knowledgeable': 1, 'kudos': 1, 'large-capacity': 1, 'laud': 1, 'laudable': 1, 'laudably': 1, 'lavish': 1, 'lavishly': 1, 'law-abiding': 1, 'lawful': 1, 'lawfully': 1, 'lead': 1, 'leading': 1, 'leads': 1, 'lean': 1, 'led': 1, 'legendary': 1, 'leverage': 1, 'levity': 1, 'liberate': 1, 'liberation': 1, 'liberty': 1, 'lifesaver': 1, 'light-hearted': 1, 'lighter': 1, 'likable': 1, 'likes': 1, 'liking': 1, 'lionhearted': 1, 'lively': 1, 'logical': 1, 'long-lasting': 1, 'lovable': 1, 'lovably': 1, 'love': 1, 'loved': 1, 'loveliness': 1, 'lovely': 1, 'lover': 1, 'loves': 1, 'loving': 1, 'low-cost': 1, 'low-price': 1, 'low-priced': 1, 'low-risk': 1, 'lower-priced': 1, 'loyal': 1, 'loyalty': 1, 'lucid': 1, 'lucidly': 1, 'luck': 1, 'luckier': 1, 'luckiest': 1, 'luckiness': 1, 'lucky': 1, 'lucrative': 1, 'luminous': 1, 'lush': 1, 'luster': 1, 'lustrous': 1, 'luxuriant': 1, 'luxuriate': 1, 'luxurious': 1, 'luxuriously': 1, 'luxury': 1, 'lyrical': 1, 'magic': 1, 'magical': 1, 'magnanimous': 1, 'magnanimously': 1, 'magnificence': 1, 'magnificent': 1, 'magnificently': 1, 'majestic': 1, 'majesty': 1, 'manageable': 1, 'maneuverable': 1, 'marvel': 1, 'marveled': 1, 'marvelled': 1, 'marvellous': 1, 'marvelous': 1, 'marvelously': 1, 'marvelousness': 1, 'marvels': 1, 'master': 1, 'masterful': 1, 'masterfully': 1, 'masterpiece': 1, 'masterpieces': 1, 'masters': 1, 'mastery': 1, 'matchless': 1, 'mature': 1, 'maturely': 1, 'maturity': 1, 'meaningful': 1, 'memorable': 1, 'merciful': 1, 'mercifully': 1, 'mercy': 1, 'merit': 1, 'meritorious': 1, 'merrily': 1, 'merriment': 1, 'merriness': 1, 'merry': 1, 'mesmerize': 1, 'mesmerized': 1, 'mesmerizes': 1, 'mesmerizing': 1, 'mesmerizingly': 1, 'meticulous': 1, 'meticulously': 1, 'mightily': 1, 'mighty': 1, 'mind-blowing': 1, 'miracle': 1, 'miracles': 1, 'miraculous': 1, 'miraculously': 1, 'miraculousness': 1, 'modern': 1, 'modest': 1, 'modesty': 1, 'momentous': 1, 'monumental': 1, 'monumentally': 1, 'morality': 1, 'motivated': 1, 'multi-purpose': 1, 'navigable': 1, 'neat': 1, 'neatest': 1, 'neatly': 1, 'nice': 1, 'nicely': 1, 'nicer': 1, 'nicest': 1, 'nifty': 1, 'nimble': 1, 'noble': 1, 'nobly': 1, 'noiseless': 1, 'non-violence': 1, 'non-violent': 1, 'notably': 1, 'noteworthy': 1, 'nourish': 1, 'nourishing': 1, 'nourishment': 1, 'novelty': 1, 'nurturing': 1, 'oasis': 1, 'obsession': 1, 'obsessions': 1, 'obtainable': 1, 'openly': 1, 'openness': 1, 'optimal': 1, 'optimism': 1, 'optimistic': 1, 'opulent': 1, 'orderly': 1, 'originality': 1, 'outdo': 1, 'outdone': 1, 'outperform': 1, 'outperformed': 1, 'outperforming': 1, 'outperforms': 1, 'outshine': 1, 'outshone': 1, 'outsmart': 1, 'outstanding': 1, 'outstandingly': 1, 'outstrip': 1, 'outwit': 1, 'ovation': 1, 'overjoyed': 1, 'overtake': 1, 'overtaken': 1, 'overtakes': 1, 'overtaking': 1, 'overtook': 1, 'overture': 1, 'pain-free': 1, 'painless': 1, 'painlessly': 1, 'palatial': 1, 'pamper': 1, 'pampered': 1, 'pamperedly': 1, 'pamperedness': 1, 'pampers': 1, 'panoramic': 1, 'paradise': 1, 'paramount': 1, 'pardon': 1, 'passion': 1, 'passionate': 1, 'passionately': 1, 'patience': 1, 'patient': 1, 'patiently': 1, 'patriot': 1, 'patriotic': 1, 'peace': 1, 'peaceable': 1, 'peaceful': 1, 'peacefully': 1, 'peacekeepers': 1, 'peach': 1, 'peerless': 1, 'pep': 1, 'pepped': 1, 'pepping': 1, 'peppy': 1, 'peps': 1, 'perfect': 1, 'perfection': 1, 'perfectly': 1, 'permissible': 1, 'perseverance': 1, 'persevere': 1, 'personages': 1, 'personalized': 1, 'phenomenal': 1, 'phenomenally': 1, 'picturesque': 1, 'piety': 1, 'pinnacle': 1, 'playful': 1, 'playfully': 1, 'pleasant': 1, 'pleasantly': 1, 'pleased': 1, 'pleases': 1, 'pleasing': 1, 'pleasingly': 1, 'pleasurable': 1, 'pleasurably': 1, 'pleasure': 1, 'plentiful': 1, 'pluses': 1, 'plush': 1, 'plusses': 1, 'poetic': 1, 'poeticize': 1, 'poignant': 1, 'poise': 1, 'poised': 1, 'polished': 1, 'polite': 1, 'politeness': 1, 'popular': 1, 'portable': 1, 'posh': 1, 'positive': 1, 'positively': 1, 'positives': 1, 'powerful': 1, 'powerfully': 1, 'praise': 1, 'praiseworthy': 1, 'praising': 1, 'pre-eminent': 1, 'precious': 1, 'precise': 1, 'precisely': 1, 'preeminent': 1, 'prefer': 1, 'preferable': 1, 'preferably': 1, 'prefered': 1, 'preferes': 1, 'preferring': 1, 'prefers': 1, 'premier': 1, 'prestige': 1, 'prestigious': 1, 'prettily': 1, 'pretty': 1, 'priceless': 1, 'pride': 1, 'principled': 1, 'privilege': 1, 'privileged': 1, 'prize': 1, 'proactive': 1, 'problem-free': 1, 'problem-solver': 1, 'prodigious': 1, 'prodigiously': 1, 'prodigy': 1, 'productive': 1, 'productively': 1, 'proficient': 1, 'proficiently': 1, 'profound': 1, 'profoundly': 1, 'profuse': 1, 'profusion': 1, 'progress': 1, 'progressive': 1, 'prolific': 1, 'prominence': 1, 'prominent': 1, 'promise': 1, 'promised': 1, 'promises': 1, 'promising': 1, 'promoter': 1, 'prompt': 1, 'promptly': 1, 'proper': 1, 'properly': 1, 'propitious': 1, 'propitiously': 1, 'pros': 1, 'prosper': 1, 'prosperity': 1, 'prosperous': 1, 'prospros': 1, 'protect': 1, 'protection': 1, 'protective': 1, 'proud': 1, 'proven': 1, 'proves': 1, 'providence': 1, 'proving': 1, 'prowess': 1, 'prudence': 1, 'prudent': 1, 'prudently': 1, 'punctual': 1, 'pure': 1, 'purify': 1, 'purposeful': 1, 'quaint': 1, 'qualified': 1, 'qualify': 1, 'quicker': 1, 'quiet': 1, 'quieter': 1, 'radiance': 1, 'radiant': 1, 'rapid': 1, 'rapport': 1, 'rapt': 1, 'rapture': 1, 'raptureous': 1, 'raptureously': 1, 'rapturous': 1, 'rapturously': 1, 'rational': 1, 'razor-sharp': 1, 'reachable': 1, 'readable': 1, 'readily': 1, 'ready': 1, 'reaffirm': 1, 'reaffirmation': 1, 'realistic': 1, 'realizable': 1, 'reasonable': 1, 'reasoned': 1, 'reassurance': 1, 'reassure': 1, 'receptive': 1, 'reclaim': 1, 'recomend': 1, 'recommend': 1, 'recommendation': 1, 'recommendations': 1, 'recommended': 1, 'reconcile': 1, 'reconciliation': 1, 'record-setting': 1, 'recover': 1, 'recovery': 1, 'rectification': 1, 'rectify': 1, 'rectifying': 1, 'redeem': 1, 'redeeming': 1, 'redemption': 1, 'refine': 1, 'refined': 1, 'refinement': 1, 'reform': 1, 'reformed': 1, 'reforming': 1, 'reforms': 1, 'refresh': 1, 'refreshed': 1, 'refreshing': 1, 'refund': 1, 'refunded': 1, 'regal': 1, 'regally': 1, 'regard': 1, 'rejoice': 1, 'rejoicing': 1, 'rejoicingly': 1, 'rejuvenate': 1, 'rejuvenated': 1, 'rejuvenating': 1, 'relaxed': 1, 'relent': 1, 'reliable': 1, 'reliably': 1, 'relief': 1, 'relish': 1, 'remarkable': 1, 'remarkably': 1, 'remedy': 1, 'remission': 1, 'remunerate': 1, 'renaissance': 1, 'renewed': 1, 'renown': 1, 'renowned': 1, 'replaceable': 1, 'reputable': 1, 'reputation': 1, 'resilient': 1, 'resolute': 1, 'resound': 1, 'resounding': 1, 'resourceful': 1, 'resourcefulness': 1, 'respect': 1, 'respectable': 1, 'respectful': 1, 'respectfully': 1, 'respite': 1, 'resplendent': 1, 'responsibly': 1, 'responsive': 1, 'restful': 1, 'restored': 1, 'restructure': 1, 'restructured': 1, 'restructuring': 1, 'retractable': 1, 'revel': 1, 'revelation': 1, 'revere': 1, 'reverence': 1, 'reverent': 1, 'reverently': 1, 'revitalize': 1, 'revival': 1, 'revive': 1, 'revives': 1, 'revolutionary': 1, 'revolutionize': 1, 'revolutionized': 1, 'revolutionizes': 1, 'reward': 1, 'rewarding': 1, 'rewardingly': 1, 'rich': 1, 'richer': 1, 'richly': 1, 'richness': 1, 'righten': 1, 'righteous': 1, 'righteously': 1, 'righteousness': 1, 'rightful': 1, 'rightfully': 1, 'rightly': 1, 'rightness': 1, 'risk-free': 1, 'robust': 1, 'rock-star': 1, 'rock-stars': 1, 'rockstar': 1, 'rockstars': 1, 'romantic': 1, 'romantically': 1, 'romanticize': 1, 'roomier': 1, 'roomy': 1, 'rosy': 1, 'safe': 1, 'safely': 1, 'sagacity': 1, 'sagely': 1, 'saint': 1, 'saintliness': 1, 'saintly': 1, 'salutary': 1, 'salute': 1, 'sane': 1, 'satisfactorily': 1, 'satisfactory': 1, 'satisfied': 1, 'satisfies': 1, 'satisfy': 1, 'satisfying': 1, 'satisified': 1, 'saver': 1, 'savings': 1, 'savior': 1, 'savvy': 1, 'scenic': 1, 'seamless': 1, 'seasoned': 1, 'secure': 1, 'securely': 1, 'selective': 1, 'self-determination': 1, 'self-respect': 1, 'self-satisfaction': 1, 'self-sufficiency': 1, 'self-sufficient': 1, 'sensation': 1, 'sensational': 1, 'sensationally': 1, 'sensations': 1, 'sensibly': 1, 'sensitive': 1, 'serene': 1, 'serenity': 1, 'sexy': 1, 'sharp': 1, 'sharper': 1, 'sharpest': 1, 'shimmering': 1, 'shimmeringly': 1, 'shine': 1, 'shiny': 1, 'significant': 1, 'silent': 1, 'simpler': 1, 'simplest': 1, 'simplified': 1, 'simplifies': 1, 'simplify': 1, 'simplifying': 1, 'sincere': 1, 'sincerely': 1, 'sincerity': 1, 'skill': 1, 'skilled': 1, 'skillful': 1, 'skillfully': 1, 'slammin': 1, 'sleek': 1, 'slick': 1, 'smart': 1, 'smarter': 1, 'smartest': 1, 'smartly': 1, 'smile': 1, 'smiles': 1, 'smiling': 1, 'smilingly': 1, 'smitten': 1, 'smooth': 1, 'smoother': 1, 'smoothes': 1, 'smoothest': 1, 'smoothly': 1, 'snappy': 1, 'snazzy': 1, 'sociable': 1, 'soft': 1, 'softer': 1, 'solace': 1, 'solicitous': 1, 'solicitously': 1, 'solid': 1, 'solidarity': 1, 'soothe': 1, 'soothingly': 1, 'sophisticated': 1, 'soulful': 1, 'soundly': 1, 'soundness': 1, 'spacious': 1, 'sparkle': 1, 'sparkling': 1, 'spectacular': 1, 'spectacularly': 1, 'speedily': 1, 'speedy': 1, 'spellbind': 1, 'spellbinding': 1, 'spellbindingly': 1, 'spellbound': 1, 'spirited': 1, 'spiritual': 1, 'splendid': 1, 'splendidly': 1, 'splendor': 1, 'spontaneous': 1, 'sporty': 1, 'spotless': 1, 'sprightly': 1, 'stability': 1, 'stabilize': 1, 'stable': 1, 'stainless': 1, 'standout': 1, 'state-of-the-art': 1, 'stately': 1, 'statuesque': 1, 'staunch': 1, 'staunchly': 1, 'staunchness': 1, 'steadfast': 1, 'steadfastly': 1, 'steadfastness': 1, 'steadiest': 1, 'steadiness': 1, 'steady': 1, 'stellar': 1, 'stellarly': 1, 'stimulate': 1, 'stimulates': 1, 'stimulating': 1, 'stimulative': 1, 'stirringly': 1, 'straighten': 1, 'straightforward': 1, 'streamlined': 1, 'striking': 1, 'strikingly': 1, 'striving': 1, 'strong': 1, 'stronger': 1, 'strongest': 1, 'stunned': 1, 'stunning': 1, 'stunningly': 1, 'stupendous': 1, 'stupendously': 1, 'sturdier': 1, 'sturdy': 1, 'stylish': 1, 'stylishly': 1, 'stylized': 1, 'suave': 1, 'suavely': 1, 'sublime': 1, 'subsidize': 1, 'subsidized': 1, 'subsidizes': 1, 'subsidizing': 1, 'substantive': 1, 'succeed': 1, 'succeeded': 1, 'succeeding': 1, 'succeeds': 1, 'succes': 1, 'success': 1, 'successes': 1, 'successful': 1, 'successfully': 1, 'suffice': 1, 'sufficed': 1, 'suffices': 1, 'sufficient': 1, 'sufficiently': 1, 'suitable': 1, 'sumptuous': 1, 'sumptuously': 1, 'sumptuousness': 1, 'super': 1, 'superb': 1, 'superbly': 1, 'superior': 1, 'superiority': 1, 'supple': 1, 'support': 1, 'supported': 1, 'supporter': 1, 'supporting': 1, 'supportive': 1, 'supports': 1, 'supremacy': 1, 'supreme': 1, 'supremely': 1, 'supurb': 1, 'supurbly': 1, 'surmount': 1, 'surpass': 1, 'surreal': 1, 'survival': 1, 'survivor': 1, 'sustainability': 1, 'sustainable': 1, 'swank': 1, 'swankier': 1, 'swankiest': 1, 'swanky': 1, 'sweeping': 1, 'sweet': 1, 'sweeten': 1, 'sweetheart': 1, 'sweetly': 1, 'sweetness': 1, 'swift': 1, 'swiftness': 1, 'talent': 1, 'talented': 1, 'talents': 1, 'tantalize': 1, 'tantalizing': 1, 'tantalizingly': 1, 'tempt': 1, 'tempting': 1, 'temptingly': 1, 'tenacious': 1, 'tenaciously': 1, 'tenacity': 1, 'tender': 1, 'tenderly': 1, 'terrific': 1, 'terrifically': 1, 'thankful': 1, 'thinner': 1, 'thoughtful': 1, 'thoughtfully': 1, 'thoughtfulness': 1, 'thrift': 1, 'thrifty': 1, 'thrill': 1, 'thrilled': 1, 'thrilling': 1, 'thrillingly': 1, 'thrills': 1, 'thrive': 1, 'thriving': 1, 'thumb-up': 1, 'thumbs-up': 1, 'tickle': 1, 'tidy': 1, 'time-honored': 1, 'timely': 1, 'tingle': 1, 'titillate': 1, 'titillating': 1, 'titillatingly': 1, 'togetherness': 1, 'tolerable': 1, 'toll-free': 1, 'top': 1, 'top-notch': 1, 'top-quality': 1, 'topnotch': 1, 'tops': 1, 'tough': 1, 'tougher': 1, 'toughest': 1, 'traction': 1, 'tranquil': 1, 'tranquility': 1, 'transparent': 1, 'treasure': 1, 'tremendously': 1, 'trendy': 1, 'triumph': 1, 'triumphal': 1, 'triumphant': 1, 'triumphantly': 1, 'trivially': 1, 'trophy': 1, 'trouble-free': 1, 'trump': 1, 'trumpet': 1, 'trust': 1, 'trusted': 1, 'trusting': 1, 'trustingly': 1, 'trustworthiness': 1, 'trustworthy': 1, 'trusty': 1, 'truthful': 1, 'truthfully': 1, 'truthfulness': 1, 'twinkly': 1, 'ultra-crisp': 1, 'unabashed': 1, 'unabashedly': 1, 'unaffected': 1, 'unassailable': 1, 'unbeatable': 1, 'unbiased': 1, 'unbound': 1, 'uncomplicated': 1, 'unconditional': 1, 'undamaged': 1, 'undaunted': 1, 'understandable': 1, 'undisputable': 1, 'undisputably': 1, 'undisputed': 1, 'unencumbered': 1, 'unequivocal': 1, 'unequivocally': 1, 'unfazed': 1, 'unfettered': 1, 'unforgettable': 1, 'unity': 1, 'unlimited': 1, 'unmatched': 1, 'unparalleled': 1, 'unquestionable': 1, 'unquestionably': 1, 'unreal': 1, 'unrestricted': 1, 'unrivaled': 1, 'unselfish': 1, 'unwavering': 1, 'upbeat': 1, 'upgradable': 1, 'upgradeable': 1, 'upgraded': 1, 'upheld': 1, 'uphold': 1, 'uplift': 1, 'uplifting': 1, 'upliftingly': 1, 'upliftment': 1, 'upscale': 1, 'usable': 1, 'useable': 1, 'user-friendly': 1, 'user-replaceable': 1, 'valiant': 1, 'valiantly': 1, 'valor': 1, 'valuable': 1, 'variety': 1, 'venerate': 1, 'verifiable': 1, 'veritable': 1, 'versatile': 1, 'versatility': 1, 'vibrant': 1, 'vibrantly': 1, 'victorious': 1, 'victory': 1, 'viewable': 1, 'vigilance': 1, 'vigilant': 1, 'virtue': 1, 'virtuous': 1, 'virtuously': 1, 'visionary': 1, 'vivacious': 1, 'vivid': 1, 'vouch': 1, 'vouchsafe': 1, 'warm': 1, 'warmer': 1, 'warmhearted': 1, 'warmly': 1, 'warmth': 1, 'wealthy': 1, 'well-backlit': 1, 'well-balanced': 1, 'well-behaved': 1, 'well-being': 1, 'well-bred': 1, 'well-connected': 1, 'well-educated': 1, 'well-established': 1, 'well-informed': 1, 'well-intentioned': 1, 'well-known': 1, 'well-made': 1, 'well-managed': 1, 'well-mannered': 1, 'well-positioned': 1, 'well-received': 1, 'well-regarded': 1, 'well-rounded': 1, 'well-run': 1, 'well-wishers': 1, 'wellbeing': 1, 'whoa': 1, 'wholeheartedly': 1, 'wholesome': 1, 'whooa': 1, 'whoooa': 1, 'wieldy': 1, 'willingly': 1, 'willingness': 1, 'win': 1, 'windfall': 1, 'winnable': 1, 'winner': 1, 'winners': 1, 'winning': 1, 'wins': 1, 'wisdom': 1, 'wise': 1, 'wisely': 1, 'witty': 1, 'won': 1, 'wonderful': 1, 'wonderfully': 1, 'wonderous': 1, 'wonderously': 1, 'wonders': 1, 'wondrous': 1, 'woo': 1, 'work': 1, 'workable': 1, 'worked': 1, 'works': 1, 'world-famous': 1, 'worth': 1, 'worth-while': 1, 'worthiness': 1, 'worthwhile': 1, 'worthy': 1, 'wow': 1, 'wowed': 1, 'wowing': 1, 'wows': 1, 'yay': 1, 'youthful': 1, 'zeal': 1, 'zenith': 1, 'zest': 1, 'zippy': 1}\n",
            "Negative Dictionary: {'2-faced': 1, '2-faces': 1, 'abnormal': 1, 'abolish': 1, 'abominable': 1, 'abominably': 1, 'abominate': 1, 'abomination': 1, 'abort': 1, 'aborted': 1, 'aborts': 1, 'abrade': 1, 'abrasive': 1, 'abrupt': 1, 'abruptly': 1, 'abscond': 1, 'absence': 1, 'absent-minded': 1, 'absentee': 1, 'absurd': 1, 'absurdity': 1, 'absurdly': 1, 'absurdness': 1, 'abuse': 1, 'abused': 1, 'abuses': 1, 'abusive': 1, 'abysmal': 1, 'abysmally': 1, 'abyss': 1, 'accidental': 1, 'accost': 1, 'accursed': 1, 'accusation': 1, 'accusations': 1, 'accuse': 1, 'accuses': 1, 'accusing': 1, 'accusingly': 1, 'acerbate': 1, 'acerbic': 1, 'acerbically': 1, 'ache': 1, 'ached': 1, 'aches': 1, 'achey': 1, 'aching': 1, 'acrid': 1, 'acridly': 1, 'acridness': 1, 'acrimonious': 1, 'acrimoniously': 1, 'acrimony': 1, 'adamant': 1, 'adamantly': 1, 'addict': 1, 'addicted': 1, 'addicting': 1, 'addicts': 1, 'admonish': 1, 'admonisher': 1, 'admonishingly': 1, 'admonishment': 1, 'admonition': 1, 'adulterate': 1, 'adulterated': 1, 'adulteration': 1, 'adulterier': 1, 'adversarial': 1, 'adversary': 1, 'adverse': 1, 'adversity': 1, 'afflict': 1, 'affliction': 1, 'afflictive': 1, 'affront': 1, 'afraid': 1, 'aggravate': 1, 'aggravating': 1, 'aggravation': 1, 'aggression': 1, 'aggressive': 1, 'aggressiveness': 1, 'aggressor': 1, 'aggrieve': 1, 'aggrieved': 1, 'aggrivation': 1, 'aghast': 1, 'agonies': 1, 'agonize': 1, 'agonizing': 1, 'agonizingly': 1, 'agony': 1, 'aground': 1, 'ail': 1, 'ailing': 1, 'ailment': 1, 'aimless': 1, 'alarm': 1, 'alarmed': 1, 'alarming': 1, 'alarmingly': 1, 'alienate': 1, 'alienated': 1, 'alienation': 1, 'allegation': 1, 'allegations': 1, 'allege': 1, 'allergic': 1, 'allergies': 1, 'allergy': 1, 'aloof': 1, 'altercation': 1, 'ambiguity': 1, 'ambiguous': 1, 'ambivalence': 1, 'ambivalent': 1, 'ambush': 1, 'amiss': 1, 'amputate': 1, 'anarchism': 1, 'anarchist': 1, 'anarchistic': 1, 'anarchy': 1, 'anemic': 1, 'anger': 1, 'angrily': 1, 'angriness': 1, 'angry': 1, 'anguish': 1, 'animosity': 1, 'annihilate': 1, 'annihilation': 1, 'annoy': 1, 'annoyance': 1, 'annoyances': 1, 'annoyed': 1, 'annoying': 1, 'annoyingly': 1, 'annoys': 1, 'anomalous': 1, 'anomaly': 1, 'antagonism': 1, 'antagonist': 1, 'antagonistic': 1, 'antagonize': 1, 'anti-': 1, 'anti-american': 1, 'anti-israeli': 1, 'anti-occupation': 1, 'anti-proliferation': 1, 'anti-semites': 1, 'anti-social': 1, 'anti-us': 1, 'anti-white': 1, 'antipathy': 1, 'antiquated': 1, 'antithetical': 1, 'anxieties': 1, 'anxiety': 1, 'anxious': 1, 'anxiously': 1, 'anxiousness': 1, 'apathetic': 1, 'apathetically': 1, 'apathy': 1, 'apocalypse': 1, 'apocalyptic': 1, 'apologist': 1, 'apologists': 1, 'appal': 1, 'appall': 1, 'appalled': 1, 'appalling': 1, 'appallingly': 1, 'apprehension': 1, 'apprehensions': 1, 'apprehensive': 1, 'apprehensively': 1, 'arbitrary': 1, 'arcane': 1, 'archaic': 1, 'arduous': 1, 'arduously': 1, 'argumentative': 1, 'arrogance': 1, 'arrogant': 1, 'arrogantly': 1, 'ashamed': 1, 'asinine': 1, 'asininely': 1, 'asinininity': 1, 'askance': 1, 'asperse': 1, 'aspersion': 1, 'aspersions': 1, 'assail': 1, 'assassin': 1, 'assassinate': 1, 'assault': 1, 'assult': 1, 'astray': 1, 'asunder': 1, 'atrocious': 1, 'atrocities': 1, 'atrocity': 1, 'atrophy': 1, 'attack': 1, 'attacks': 1, 'audacious': 1, 'audaciously': 1, 'audaciousness': 1, 'audacity': 1, 'audiciously': 1, 'austere': 1, 'authoritarian': 1, 'autocrat': 1, 'autocratic': 1, 'avalanche': 1, 'avarice': 1, 'avaricious': 1, 'avariciously': 1, 'avenge': 1, 'averse': 1, 'aversion': 1, 'aweful': 1, 'awful': 1, 'awfulness': 1, 'awkward': 1, 'awkwardness': 1, 'ax': 1, 'babble': 1, 'back-logged': 1, 'back-wood': 1, 'back-woods': 1, 'backache': 1, 'backaches': 1, 'backaching': 1, 'backbite': 1, 'backbiting': 1, 'backward': 1, 'backwardness': 1, 'backwood': 1, 'backwoods': 1, 'bad': 1, 'badly': 1, 'baffle': 1, 'baffled': 1, 'bafflement': 1, 'baffling': 1, 'bait': 1, 'balk': 1, 'banal': 1, 'banalize': 1, 'bane': 1, 'banish': 1, 'banishment': 1, 'bankrupt': 1, 'barbarian': 1, 'barbaric': 1, 'barbarically': 1, 'barbarity': 1, 'barbarous': 1, 'barbarously': 1, 'barren': 1, 'baseless': 1, 'bash': 1, 'bashed': 1, 'bashful': 1, 'bashing': 1, 'bastard': 1, 'bastards': 1, 'battered': 1, 'battering': 1, 'batty': 1, 'bearish': 1, 'beastly': 1, 'bedlam': 1, 'bedlamite': 1, 'befoul': 1, 'beg': 1, 'beggar': 1, 'beggarly': 1, 'begging': 1, 'beguile': 1, 'belabor': 1, 'belated': 1, 'beleaguer': 1, 'belie': 1, 'belittle': 1, 'belittled': 1, 'belittling': 1, 'bellicose': 1, 'belligerence': 1, 'belligerent': 1, 'belligerently': 1, 'bemoan': 1, 'bemoaning': 1, 'bemused': 1, 'bent': 1, 'berate': 1, 'bereave': 1, 'bereavement': 1, 'bereft': 1, 'berserk': 1, 'beseech': 1, 'beset': 1, 'besiege': 1, 'besmirch': 1, 'bestial': 1, 'betray': 1, 'betrayal': 1, 'betrayals': 1, 'betrayer': 1, 'betraying': 1, 'betrays': 1, 'bewail': 1, 'beware': 1, 'bewilder': 1, 'bewildered': 1, 'bewildering': 1, 'bewilderingly': 1, 'bewilderment': 1, 'bewitch': 1, 'bias': 1, 'biased': 1, 'biases': 1, 'bicker': 1, 'bickering': 1, 'bid-rigging': 1, 'bigotries': 1, 'bigotry': 1, 'bitch': 1, 'bitchy': 1, 'biting': 1, 'bitingly': 1, 'bitter': 1, 'bitterly': 1, 'bitterness': 1, 'bizarre': 1, 'blab': 1, 'blabber': 1, 'blackmail': 1, 'blah': 1, 'blame': 1, 'blameworthy': 1, 'bland': 1, 'blandish': 1, 'blaspheme': 1, 'blasphemous': 1, 'blasphemy': 1, 'blasted': 1, 'blatant': 1, 'blatantly': 1, 'blather': 1, 'bleak': 1, 'bleakly': 1, 'bleakness': 1, 'bleed': 1, 'bleeding': 1, 'bleeds': 1, 'blemish': 1, 'blind': 1, 'blinding': 1, 'blindingly': 1, 'blindside': 1, 'blister': 1, 'blistering': 1, 'bloated': 1, 'blockage': 1, 'blockhead': 1, 'bloodshed': 1, 'bloodthirsty': 1, 'bloody': 1, 'blotchy': 1, 'blow': 1, 'blunder': 1, 'blundering': 1, 'blunders': 1, 'blunt': 1, 'blur': 1, 'bluring': 1, 'blurred': 1, 'blurring': 1, 'blurry': 1, 'blurs': 1, 'blurt': 1, 'boastful': 1, 'boggle': 1, 'bogus': 1, 'boil': 1, 'boiling': 1, 'boisterous': 1, 'bomb': 1, 'bombard': 1, 'bombardment': 1, 'bombastic': 1, 'bondage': 1, 'bonkers': 1, 'bore': 1, 'bored': 1, 'boredom': 1, 'bores': 1, 'boring': 1, 'botch': 1, 'bother': 1, 'bothered': 1, 'bothering': 1, 'bothers': 1, 'bothersome': 1, 'bowdlerize': 1, 'boycott': 1, 'braggart': 1, 'bragger': 1, 'brainless': 1, 'brainwash': 1, 'brash': 1, 'brashly': 1, 'brashness': 1, 'brat': 1, 'bravado': 1, 'brazen': 1, 'brazenly': 1, 'brazenness': 1, 'breach': 1, 'break': 1, 'break-up': 1, 'break-ups': 1, 'breakdown': 1, 'breaking': 1, 'breaks': 1, 'breakup': 1, 'breakups': 1, 'bribery': 1, 'brimstone': 1, 'bristle': 1, 'brittle': 1, 'broke': 1, 'broken': 1, 'broken-hearted': 1, 'brood': 1, 'browbeat': 1, 'bruise': 1, 'bruised': 1, 'bruises': 1, 'bruising': 1, 'brusque': 1, 'brutal': 1, 'brutalising': 1, 'brutalities': 1, 'brutality': 1, 'brutalize': 1, 'brutalizing': 1, 'brutally': 1, 'brute': 1, 'brutish': 1, 'bs': 1, 'buckle': 1, 'bug': 1, 'bugging': 1, 'buggy': 1, 'bugs': 1, 'bulkier': 1, 'bulkiness': 1, 'bulky': 1, 'bulkyness': 1, 'bull****': 1, 'bull----': 1, 'bullies': 1, 'bullshit': 1, 'bullshyt': 1, 'bully': 1, 'bullying': 1, 'bullyingly': 1, 'bum': 1, 'bump': 1, 'bumped': 1, 'bumping': 1, 'bumpping': 1, 'bumps': 1, 'bumpy': 1, 'bungle': 1, 'bungler': 1, 'bungling': 1, 'bunk': 1, 'burden': 1, 'burdensome': 1, 'burdensomely': 1, 'burn': 1, 'burned': 1, 'burning': 1, 'burns': 1, 'bust': 1, 'busts': 1, 'busybody': 1, 'butcher': 1, 'butchery': 1, 'buzzing': 1, 'byzantine': 1, 'cackle': 1, 'calamities': 1, 'calamitous': 1, 'calamitously': 1, 'calamity': 1, 'callous': 1, 'calumniate': 1, 'calumniation': 1, 'calumnies': 1, 'calumnious': 1, 'calumniously': 1, 'calumny': 1, 'cancer': 1, 'cancerous': 1, 'cannibal': 1, 'cannibalize': 1, 'capitulate': 1, 'capricious': 1, 'capriciously': 1, 'capriciousness': 1, 'capsize': 1, 'careless': 1, 'carelessness': 1, 'caricature': 1, 'carnage': 1, 'carp': 1, 'cartoonish': 1, 'cash-strapped': 1, 'castigate': 1, 'castrated': 1, 'casualty': 1, 'cataclysm': 1, 'cataclysmal': 1, 'cataclysmic': 1, 'cataclysmically': 1, 'catastrophe': 1, 'catastrophes': 1, 'catastrophic': 1, 'catastrophically': 1, 'catastrophies': 1, 'caustic': 1, 'caustically': 1, 'cautionary': 1, 'cave': 1, 'censure': 1, 'chafe': 1, 'chaff': 1, 'chagrin': 1, 'challenging': 1, 'chaos': 1, 'chaotic': 1, 'chasten': 1, 'chastise': 1, 'chastisement': 1, 'chatter': 1, 'chatterbox': 1, 'cheap': 1, 'cheapen': 1, 'cheaply': 1, 'cheat': 1, 'cheated': 1, 'cheater': 1, 'cheating': 1, 'cheats': 1, 'checkered': 1, 'cheerless': 1, 'cheesy': 1, 'chide': 1, 'childish': 1, 'chill': 1, 'chilly': 1, 'chintzy': 1, 'choke': 1, 'choleric': 1, 'choppy': 1, 'chore': 1, 'chronic': 1, 'chunky': 1, 'clamor': 1, 'clamorous': 1, 'clash': 1, 'cliche': 1, 'cliched': 1, 'clique': 1, 'clog': 1, 'clogged': 1, 'clogs': 1, 'cloud': 1, 'clouding': 1, 'cloudy': 1, 'clueless': 1, 'clumsy': 1, 'clunky': 1, 'coarse': 1, 'cocky': 1, 'coerce': 1, 'coercion': 1, 'coercive': 1, 'cold': 1, 'coldly': 1, 'collapse': 1, 'collude': 1, 'collusion': 1, 'combative': 1, 'combust': 1, 'comical': 1, 'commiserate': 1, 'commonplace': 1, 'commotion': 1, 'commotions': 1, 'complacent': 1, 'complain': 1, 'complained': 1, 'complaining': 1, 'complains': 1, 'complaint': 1, 'complaints': 1, 'complex': 1, 'complicated': 1, 'complication': 1, 'complicit': 1, 'compulsion': 1, 'compulsive': 1, 'concede': 1, 'conceded': 1, 'conceit': 1, 'conceited': 1, 'concen': 1, 'concens': 1, 'concern': 1, 'concerned': 1, 'concerns': 1, 'concession': 1, 'concessions': 1, 'condemn': 1, 'condemnable': 1, 'condemnation': 1, 'condemned': 1, 'condemns': 1, 'condescend': 1, 'condescending': 1, 'condescendingly': 1, 'condescension': 1, 'confess': 1, 'confession': 1, 'confessions': 1, 'confined': 1, 'conflict': 1, 'conflicted': 1, 'conflicting': 1, 'conflicts': 1, 'confound': 1, 'confounded': 1, 'confounding': 1, 'confront': 1, 'confrontation': 1, 'confrontational': 1, 'confuse': 1, 'confused': 1, 'confuses': 1, 'confusing': 1, 'confusion': 1, 'confusions': 1, 'congested': 1, 'congestion': 1, 'cons': 1, 'conscons': 1, 'conservative': 1, 'conspicuous': 1, 'conspicuously': 1, 'conspiracies': 1, 'conspiracy': 1, 'conspirator': 1, 'conspiratorial': 1, 'conspire': 1, 'consternation': 1, 'contagious': 1, 'contaminate': 1, 'contaminated': 1, 'contaminates': 1, 'contaminating': 1, 'contamination': 1, 'contempt': 1, 'contemptible': 1, 'contemptuous': 1, 'contemptuously': 1, 'contend': 1, 'contention': 1, 'contentious': 1, 'contort': 1, 'contortions': 1, 'contradict': 1, 'contradiction': 1, 'contradictory': 1, 'contrariness': 1, 'contravene': 1, 'contrive': 1, 'contrived': 1, 'controversial': 1, 'controversy': 1, 'convoluted': 1, 'corrode': 1, 'corrosion': 1, 'corrosions': 1, 'corrosive': 1, 'corrupt': 1, 'corrupted': 1, 'corrupting': 1, 'corruption': 1, 'corrupts': 1, 'corruptted': 1, 'costlier': 1, 'costly': 1, 'counter-productive': 1, 'counterproductive': 1, 'coupists': 1, 'covetous': 1, 'coward': 1, 'cowardly': 1, 'crabby': 1, 'crack': 1, 'cracked': 1, 'cracks': 1, 'craftily': 1, 'craftly': 1, 'crafty': 1, 'cramp': 1, 'cramped': 1, 'cramping': 1, 'cranky': 1, 'crap': 1, 'crappy': 1, 'craps': 1, 'crash': 1, 'crashed': 1, 'crashes': 1, 'crashing': 1, 'crass': 1, 'craven': 1, 'cravenly': 1, 'craze': 1, 'crazily': 1, 'craziness': 1, 'crazy': 1, 'creak': 1, 'creaking': 1, 'creaks': 1, 'credulous': 1, 'creep': 1, 'creeping': 1, 'creeps': 1, 'creepy': 1, 'crept': 1, 'crime': 1, 'criminal': 1, 'cringe': 1, 'cringed': 1, 'cringes': 1, 'cripple': 1, 'crippled': 1, 'cripples': 1, 'crippling': 1, 'crisis': 1, 'critic': 1, 'critical': 1, 'criticism': 1, 'criticisms': 1, 'criticize': 1, 'criticized': 1, 'criticizing': 1, 'critics': 1, 'cronyism': 1, 'crook': 1, 'crooked': 1, 'crooks': 1, 'crowded': 1, 'crowdedness': 1, 'crude': 1, 'cruel': 1, 'crueler': 1, 'cruelest': 1, 'cruelly': 1, 'cruelness': 1, 'cruelties': 1, 'cruelty': 1, 'crumble': 1, 'crumbling': 1, 'crummy': 1, 'crumple': 1, 'crumpled': 1, 'crumples': 1, 'crush': 1, 'crushed': 1, 'crushing': 1, 'cry': 1, 'culpable': 1, 'culprit': 1, 'cumbersome': 1, 'cunt': 1, 'cunts': 1, 'cuplrit': 1, 'curse': 1, 'cursed': 1, 'curses': 1, 'curt': 1, 'cuss': 1, 'cussed': 1, 'cutthroat': 1, 'cynical': 1, 'cynicism': 1, 'd*mn': 1, 'damage': 1, 'damaged': 1, 'damages': 1, 'damaging': 1, 'damn': 1, 'damnable': 1, 'damnably': 1, 'damnation': 1, 'damned': 1, 'damning': 1, 'damper': 1, 'danger': 1, 'dangerous': 1, 'dangerousness': 1, 'dark': 1, 'darken': 1, 'darkened': 1, 'darker': 1, 'darkness': 1, 'dastard': 1, 'dastardly': 1, 'daunt': 1, 'daunting': 1, 'dauntingly': 1, 'dawdle': 1, 'daze': 1, 'dazed': 1, 'dead': 1, 'deadbeat': 1, 'deadlock': 1, 'deadly': 1, 'deadweight': 1, 'deaf': 1, 'dearth': 1, 'death': 1, 'debacle': 1, 'debase': 1, 'debasement': 1, 'debaser': 1, 'debatable': 1, 'debauch': 1, 'debaucher': 1, 'debauchery': 1, 'debilitate': 1, 'debilitating': 1, 'debility': 1, 'debt': 1, 'debts': 1, 'decadence': 1, 'decadent': 1, 'decay': 1, 'decayed': 1, 'deceit': 1, 'deceitful': 1, 'deceitfully': 1, 'deceitfulness': 1, 'deceive': 1, 'deceiver': 1, 'deceivers': 1, 'deceiving': 1, 'deception': 1, 'deceptive': 1, 'deceptively': 1, 'declaim': 1, 'decline': 1, 'declines': 1, 'declining': 1, 'decrement': 1, 'decrepit': 1, 'decrepitude': 1, 'decry': 1, 'defamation': 1, 'defamations': 1, 'defamatory': 1, 'defame': 1, 'defect': 1, 'defective': 1, 'defects': 1, 'defensive': 1, 'defiance': 1, 'defiant': 1, 'defiantly': 1, 'deficiencies': 1, 'deficiency': 1, 'deficient': 1, 'defile': 1, 'defiler': 1, 'deform': 1, 'deformed': 1, 'defrauding': 1, 'defunct': 1, 'defy': 1, 'degenerate': 1, 'degenerately': 1, 'degeneration': 1, 'degradation': 1, 'degrade': 1, 'degrading': 1, 'degradingly': 1, 'dehumanization': 1, 'dehumanize': 1, 'deign': 1, 'deject': 1, 'dejected': 1, 'dejectedly': 1, 'dejection': 1, 'delay': 1, 'delayed': 1, 'delaying': 1, 'delays': 1, 'delinquency': 1, 'delinquent': 1, 'delirious': 1, 'delirium': 1, 'delude': 1, 'deluded': 1, 'deluge': 1, 'delusion': 1, 'delusional': 1, 'delusions': 1, 'demean': 1, 'demeaning': 1, 'demise': 1, 'demolish': 1, 'demolisher': 1, 'demon': 1, 'demonic': 1, 'demonize': 1, 'demonized': 1, 'demonizes': 1, 'demonizing': 1, 'demoralize': 1, 'demoralizing': 1, 'demoralizingly': 1, 'denial': 1, 'denied': 1, 'denies': 1, 'denigrate': 1, 'denounce': 1, 'dense': 1, 'dent': 1, 'dented': 1, 'dents': 1, 'denunciate': 1, 'denunciation': 1, 'denunciations': 1, 'deny': 1, 'denying': 1, 'deplete': 1, 'deplorable': 1, 'deplorably': 1, 'deplore': 1, 'deploring': 1, 'deploringly': 1, 'deprave': 1, 'depraved': 1, 'depravedly': 1, 'deprecate': 1, 'depress': 1, 'depressed': 1, 'depressing': 1, 'depressingly': 1, 'depression': 1, 'depressions': 1, 'deprive': 1, 'deprived': 1, 'deride': 1, 'derision': 1, 'derisive': 1, 'derisively': 1, 'derisiveness': 1, 'derogatory': 1, 'desecrate': 1, 'desert': 1, 'desertion': 1, 'desiccate': 1, 'desiccated': 1, 'desititute': 1, 'desolate': 1, 'desolately': 1, 'desolation': 1, 'despair': 1, 'despairing': 1, 'despairingly': 1, 'desperate': 1, 'desperately': 1, 'desperation': 1, 'despicable': 1, 'despicably': 1, 'despise': 1, 'despised': 1, 'despoil': 1, 'despoiler': 1, 'despondence': 1, 'despondency': 1, 'despondent': 1, 'despondently': 1, 'despot': 1, 'despotic': 1, 'despotism': 1, 'destabilisation': 1, 'destains': 1, 'destitute': 1, 'destitution': 1, 'destroy': 1, 'destroyer': 1, 'destruction': 1, 'destructive': 1, 'desultory': 1, 'deter': 1, 'deteriorate': 1, 'deteriorating': 1, 'deterioration': 1, 'deterrent': 1, 'detest': 1, 'detestable': 1, 'detestably': 1, 'detested': 1, 'detesting': 1, 'detests': 1, 'detract': 1, 'detracted': 1, 'detracting': 1, 'detraction': 1, 'detracts': 1, 'detriment': 1, 'detrimental': 1, 'devastate': 1, 'devastated': 1, 'devastates': 1, 'devastating': 1, 'devastatingly': 1, 'devastation': 1, 'deviate': 1, 'deviation': 1, 'devil': 1, 'devilish': 1, 'devilishly': 1, 'devilment': 1, 'devilry': 1, 'devious': 1, 'deviously': 1, 'deviousness': 1, 'devoid': 1, 'diabolic': 1, 'diabolical': 1, 'diabolically': 1, 'diametrically': 1, 'diappointed': 1, 'diatribe': 1, 'diatribes': 1, 'dick': 1, 'dictator': 1, 'dictatorial': 1, 'die': 1, 'die-hard': 1, 'died': 1, 'dies': 1, 'difficult': 1, 'difficulties': 1, 'difficulty': 1, 'diffidence': 1, 'dilapidated': 1, 'dilemma': 1, 'dilly-dally': 1, 'dim': 1, 'dimmer': 1, 'din': 1, 'ding': 1, 'dings': 1, 'dinky': 1, 'dire': 1, 'direly': 1, 'direness': 1, 'dirt': 1, 'dirtbag': 1, 'dirtbags': 1, 'dirts': 1, 'dirty': 1, 'disable': 1, 'disabled': 1, 'disaccord': 1, 'disadvantage': 1, 'disadvantaged': 1, 'disadvantageous': 1, 'disadvantages': 1, 'disaffect': 1, 'disaffected': 1, 'disaffirm': 1, 'disagree': 1, 'disagreeable': 1, 'disagreeably': 1, 'disagreed': 1, 'disagreeing': 1, 'disagreement': 1, 'disagrees': 1, 'disallow': 1, 'disapointed': 1, 'disapointing': 1, 'disapointment': 1, 'disappoint': 1, 'disappointed': 1, 'disappointing': 1, 'disappointingly': 1, 'disappointment': 1, 'disappointments': 1, 'disappoints': 1, 'disapprobation': 1, 'disapproval': 1, 'disapprove': 1, 'disapproving': 1, 'disarm': 1, 'disarray': 1, 'disaster': 1, 'disasterous': 1, 'disastrous': 1, 'disastrously': 1, 'disavow': 1, 'disavowal': 1, 'disbelief': 1, 'disbelieve': 1, 'disbeliever': 1, 'disclaim': 1, 'discombobulate': 1, 'discomfit': 1, 'discomfititure': 1, 'discomfort': 1, 'discompose': 1, 'disconcert': 1, 'disconcerted': 1, 'disconcerting': 1, 'disconcertingly': 1, 'disconsolate': 1, 'disconsolately': 1, 'disconsolation': 1, 'discontent': 1, 'discontented': 1, 'discontentedly': 1, 'discontinued': 1, 'discontinuity': 1, 'discontinuous': 1, 'discord': 1, 'discordance': 1, 'discordant': 1, 'discountenance': 1, 'discourage': 1, 'discouragement': 1, 'discouraging': 1, 'discouragingly': 1, 'discourteous': 1, 'discourteously': 1, 'discoutinous': 1, 'discredit': 1, 'discrepant': 1, 'discriminate': 1, 'discrimination': 1, 'discriminatory': 1, 'disdain': 1, 'disdained': 1, 'disdainful': 1, 'disdainfully': 1, 'disfavor': 1, 'disgrace': 1, 'disgraced': 1, 'disgraceful': 1, 'disgracefully': 1, 'disgruntle': 1, 'disgruntled': 1, 'disgust': 1, 'disgusted': 1, 'disgustedly': 1, 'disgustful': 1, 'disgustfully': 1, 'disgusting': 1, 'disgustingly': 1, 'dishearten': 1, 'disheartening': 1, 'dishearteningly': 1, 'dishonest': 1, 'dishonestly': 1, 'dishonesty': 1, 'dishonor': 1, 'dishonorable': 1, 'dishonorablely': 1, 'disillusion': 1, 'disillusioned': 1, 'disillusionment': 1, 'disillusions': 1, 'disinclination': 1, 'disinclined': 1, 'disingenuous': 1, 'disingenuously': 1, 'disintegrate': 1, 'disintegrated': 1, 'disintegrates': 1, 'disintegration': 1, 'disinterest': 1, 'disinterested': 1, 'dislike': 1, 'disliked': 1, 'dislikes': 1, 'disliking': 1, 'dislocated': 1, 'disloyal': 1, 'disloyalty': 1, 'dismal': 1, 'dismally': 1, 'dismalness': 1, 'dismay': 1, 'dismayed': 1, 'dismaying': 1, 'dismayingly': 1, 'dismissive': 1, 'dismissively': 1, 'disobedience': 1, 'disobedient': 1, 'disobey': 1, 'disoobedient': 1, 'disorder': 1, 'disordered': 1, 'disorderly': 1, 'disorganized': 1, 'disorient': 1, 'disoriented': 1, 'disown': 1, 'disparage': 1, 'disparaging': 1, 'disparagingly': 1, 'dispensable': 1, 'dispirit': 1, 'dispirited': 1, 'dispiritedly': 1, 'dispiriting': 1, 'displace': 1, 'displaced': 1, 'displease': 1, 'displeased': 1, 'displeasing': 1, 'displeasure': 1, 'disproportionate': 1, 'disprove': 1, 'disputable': 1, 'dispute': 1, 'disputed': 1, 'disquiet': 1, 'disquieting': 1, 'disquietingly': 1, 'disquietude': 1, 'disregard': 1, 'disregardful': 1, 'disreputable': 1, 'disrepute': 1, 'disrespect': 1, 'disrespectable': 1, 'disrespectablity': 1, 'disrespectful': 1, 'disrespectfully': 1, 'disrespectfulness': 1, 'disrespecting': 1, 'disrupt': 1, 'disruption': 1, 'disruptive': 1, 'diss': 1, 'dissapointed': 1, 'dissappointed': 1, 'dissappointing': 1, 'dissatisfaction': 1, 'dissatisfactory': 1, 'dissatisfied': 1, 'dissatisfies': 1, 'dissatisfy': 1, 'dissatisfying': 1, 'dissed': 1, 'dissemble': 1, 'dissembler': 1, 'dissension': 1, 'dissent': 1, 'dissenter': 1, 'dissention': 1, 'disservice': 1, 'disses': 1, 'dissidence': 1, 'dissident': 1, 'dissidents': 1, 'dissing': 1, 'dissocial': 1, 'dissolute': 1, 'dissolution': 1, 'dissonance': 1, 'dissonant': 1, 'dissonantly': 1, 'dissuade': 1, 'dissuasive': 1, 'distains': 1, 'distaste': 1, 'distasteful': 1, 'distastefully': 1, 'distort': 1, 'distorted': 1, 'distortion': 1, 'distorts': 1, 'distract': 1, 'distracting': 1, 'distraction': 1, 'distraught': 1, 'distraughtly': 1, 'distraughtness': 1, 'distress': 1, 'distressed': 1, 'distressing': 1, 'distressingly': 1, 'distrust': 1, 'distrustful': 1, 'distrusting': 1, 'disturb': 1, 'disturbance': 1, 'disturbed': 1, 'disturbing': 1, 'disturbingly': 1, 'disunity': 1, 'disvalue': 1, 'divergent': 1, 'divisive': 1, 'divisively': 1, 'divisiveness': 1, 'dizzing': 1, 'dizzingly': 1, 'dizzy': 1, 'doddering': 1, 'dodgey': 1, 'dogged': 1, 'doggedly': 1, 'dogmatic': 1, 'doldrums': 1, 'domineer': 1, 'domineering': 1, 'donside': 1, 'doom': 1, 'doomed': 1, 'doomsday': 1, 'dope': 1, 'doubt': 1, 'doubtful': 1, 'doubtfully': 1, 'doubts': 1, 'douchbag': 1, 'douchebag': 1, 'douchebags': 1, 'downbeat': 1, 'downcast': 1, 'downer': 1, 'downfall': 1, 'downfallen': 1, 'downgrade': 1, 'downhearted': 1, 'downheartedly': 1, 'downhill': 1, 'downside': 1, 'downsides': 1, 'downturn': 1, 'downturns': 1, 'drab': 1, 'draconian': 1, 'draconic': 1, 'drag': 1, 'dragged': 1, 'dragging': 1, 'dragoon': 1, 'drags': 1, 'drain': 1, 'drained': 1, 'draining': 1, 'drains': 1, 'drastic': 1, 'drastically': 1, 'drawback': 1, 'drawbacks': 1, 'dread': 1, 'dreadful': 1, 'dreadfully': 1, 'dreadfulness': 1, 'dreary': 1, 'dripped': 1, 'dripping': 1, 'drippy': 1, 'drips': 1, 'drones': 1, 'droop': 1, 'droops': 1, 'drop-out': 1, 'drop-outs': 1, 'dropout': 1, 'dropouts': 1, 'drought': 1, 'drowning': 1, 'drunk': 1, 'drunkard': 1, 'drunken': 1, 'dubious': 1, 'dubiously': 1, 'dubitable': 1, 'dud': 1, 'dull': 1, 'dullard': 1, 'dumb': 1, 'dumbfound': 1, 'dump': 1, 'dumped': 1, 'dumping': 1, 'dumps': 1, 'dunce': 1, 'dungeon': 1, 'dungeons': 1, 'dupe': 1, 'dust': 1, 'dusty': 1, 'dwindling': 1, 'dying': 1, 'earsplitting': 1, 'eccentric': 1, 'eccentricity': 1, 'effigy': 1, 'effrontery': 1, 'egocentric': 1, 'egomania': 1, 'egotism': 1, 'egotistical': 1, 'egotistically': 1, 'egregious': 1, 'egregiously': 1, 'election-rigger': 1, 'elimination': 1, 'emaciated': 1, 'emasculate': 1, 'embarrass': 1, 'embarrassing': 1, 'embarrassingly': 1, 'embarrassment': 1, 'embattled': 1, 'embroil': 1, 'embroiled': 1, 'embroilment': 1, 'emergency': 1, 'emphatic': 1, 'emphatically': 1, 'emptiness': 1, 'encroach': 1, 'encroachment': 1, 'endanger': 1, 'enemies': 1, 'enemy': 1, 'enervate': 1, 'enfeeble': 1, 'enflame': 1, 'engulf': 1, 'enjoin': 1, 'enmity': 1, 'enrage': 1, 'enraged': 1, 'enraging': 1, 'enslave': 1, 'entangle': 1, 'entanglement': 1, 'entrap': 1, 'entrapment': 1, 'envious': 1, 'enviously': 1, 'enviousness': 1, 'epidemic': 1, 'equivocal': 1, 'erase': 1, 'erode': 1, 'erodes': 1, 'erosion': 1, 'err': 1, 'errant': 1, 'erratic': 1, 'erratically': 1, 'erroneous': 1, 'erroneously': 1, 'error': 1, 'errors': 1, 'eruptions': 1, 'escapade': 1, 'eschew': 1, 'estranged': 1, 'evade': 1, 'evasion': 1, 'evasive': 1, 'evil': 1, 'evildoer': 1, 'evils': 1, 'eviscerate': 1, 'exacerbate': 1, 'exagerate': 1, 'exagerated': 1, 'exagerates': 1, 'exaggerate': 1, 'exaggeration': 1, 'exasperate': 1, 'exasperated': 1, 'exasperating': 1, 'exasperatingly': 1, 'exasperation': 1, 'excessive': 1, 'excessively': 1, 'exclusion': 1, 'excoriate': 1, 'excruciating': 1, 'excruciatingly': 1, 'excuse': 1, 'excuses': 1, 'execrate': 1, 'exhaust': 1, 'exhausted': 1, 'exhaustion': 1, 'exhausts': 1, 'exhorbitant': 1, 'exhort': 1, 'exile': 1, 'exorbitant': 1, 'exorbitantance': 1, 'exorbitantly': 1, 'expel': 1, 'expensive': 1, 'expire': 1, 'expired': 1, 'explode': 1, 'exploit': 1, 'exploitation': 1, 'explosive': 1, 'expropriate': 1, 'expropriation': 1, 'expulse': 1, 'expunge': 1, 'exterminate': 1, 'extermination': 1, 'extinguish': 1, 'extort': 1, 'extortion': 1, 'extraneous': 1, 'extravagance': 1, 'extravagant': 1, 'extravagantly': 1, 'extremism': 1, 'extremist': 1, 'extremists': 1, 'eyesore': 1, 'f**k': 1, 'fabricate': 1, 'fabrication': 1, 'facetious': 1, 'facetiously': 1, 'fail': 1, 'failed': 1, 'failing': 1, 'fails': 1, 'failure': 1, 'failures': 1, 'faint': 1, 'fainthearted': 1, 'faithless': 1, 'fake': 1, 'fall': 1, 'fallacies': 1, 'fallacious': 1, 'fallaciously': 1, 'fallaciousness': 1, 'fallacy': 1, 'fallen': 1, 'falling': 1, 'fallout': 1, 'falls': 1, 'false': 1, 'falsehood': 1, 'falsely': 1, 'falsify': 1, 'falter': 1, 'faltered': 1, 'famine': 1, 'famished': 1, 'fanatic': 1, 'fanatical': 1, 'fanatically': 1, 'fanaticism': 1, 'fanatics': 1, 'fanciful': 1, 'far-fetched': 1, 'farce': 1, 'farcical': 1, 'farcical-yet-provocative': 1, 'farcically': 1, 'farfetched': 1, 'fascism': 1, 'fascist': 1, 'fastidious': 1, 'fastidiously': 1, 'fastuous': 1, 'fat': 1, 'fat-cat': 1, 'fat-cats': 1, 'fatal': 1, 'fatalistic': 1, 'fatalistically': 1, 'fatally': 1, 'fatcat': 1, 'fatcats': 1, 'fateful': 1, 'fatefully': 1, 'fathomless': 1, 'fatigue': 1, 'fatigued': 1, 'fatique': 1, 'fatty': 1, 'fatuity': 1, 'fatuous': 1, 'fatuously': 1, 'fault': 1, 'faults': 1, 'faulty': 1, 'fawningly': 1, 'faze': 1, 'fear': 1, 'fearful': 1, 'fearfully': 1, 'fears': 1, 'fearsome': 1, 'feckless': 1, 'feeble': 1, 'feeblely': 1, 'feebleminded': 1, 'feign': 1, 'feint': 1, 'fell': 1, 'felon': 1, 'felonious': 1, 'ferociously': 1, 'ferocity': 1, 'fetid': 1, 'fever': 1, 'feverish': 1, 'fevers': 1, 'fiasco': 1, 'fib': 1, 'fibber': 1, 'fickle': 1, 'fiction': 1, 'fictional': 1, 'fictitious': 1, 'fidget': 1, 'fidgety': 1, 'fiend': 1, 'fiendish': 1, 'fierce': 1, 'figurehead': 1, 'filth': 1, 'filthy': 1, 'finagle': 1, 'finicky': 1, 'fissures': 1, 'fist': 1, 'flabbergast': 1, 'flabbergasted': 1, 'flagging': 1, 'flagrant': 1, 'flagrantly': 1, 'flair': 1, 'flairs': 1, 'flak': 1, 'flake': 1, 'flakey': 1, 'flakieness': 1, 'flaking': 1, 'flaky': 1, 'flare': 1, 'flares': 1, 'flareup': 1, 'flareups': 1, 'flat-out': 1, 'flaunt': 1, 'flaw': 1, 'flawed': 1, 'flaws': 1, 'flee': 1, 'fleed': 1, 'fleeing': 1, 'fleer': 1, 'flees': 1, 'fleeting': 1, 'flicering': 1, 'flicker': 1, 'flickering': 1, 'flickers': 1, 'flighty': 1, 'flimflam': 1, 'flimsy': 1, 'flirt': 1, 'flirty': 1, 'floored': 1, 'flounder': 1, 'floundering': 1, 'flout': 1, 'fluster': 1, 'foe': 1, 'fool': 1, 'fooled': 1, 'foolhardy': 1, 'foolish': 1, 'foolishly': 1, 'foolishness': 1, 'forbid': 1, 'forbidden': 1, 'forbidding': 1, 'forceful': 1, 'foreboding': 1, 'forebodingly': 1, 'forfeit': 1, 'forged': 1, 'forgetful': 1, 'forgetfully': 1, 'forgetfulness': 1, 'forlorn': 1, 'forlornly': 1, 'forsake': 1, 'forsaken': 1, 'forswear': 1, 'foul': 1, 'foully': 1, 'foulness': 1, 'fractious': 1, 'fractiously': 1, 'fracture': 1, 'fragile': 1, 'fragmented': 1, 'frail': 1, 'frantic': 1, 'frantically': 1, 'franticly': 1, 'fraud': 1, 'fraudulent': 1, 'fraught': 1, 'frazzle': 1, 'frazzled': 1, 'freak': 1, 'freaking': 1, 'freakish': 1, 'freakishly': 1, 'freaks': 1, 'freeze': 1, 'freezes': 1, 'freezing': 1, 'frenetic': 1, 'frenetically': 1, 'frenzied': 1, 'frenzy': 1, 'fret': 1, 'fretful': 1, 'frets': 1, 'friction': 1, 'frictions': 1, 'fried': 1, 'friggin': 1, 'frigging': 1, 'fright': 1, 'frighten': 1, 'frightening': 1, 'frighteningly': 1, 'frightful': 1, 'frightfully': 1, 'frigid': 1, 'frost': 1, 'frown': 1, 'froze': 1, 'frozen': 1, 'fruitless': 1, 'fruitlessly': 1, 'frustrate': 1, 'frustrated': 1, 'frustrates': 1, 'frustrating': 1, 'frustratingly': 1, 'frustration': 1, 'frustrations': 1, 'fuck': 1, 'fucking': 1, 'fudge': 1, 'fugitive': 1, 'full-blown': 1, 'fulminate': 1, 'fumble': 1, 'fume': 1, 'fumes': 1, 'fundamentalism': 1, 'funky': 1, 'funnily': 1, 'funny': 1, 'furious': 1, 'furiously': 1, 'furor': 1, 'fury': 1, 'fuss': 1, 'fussy': 1, 'fustigate': 1, 'fusty': 1, 'futile': 1, 'futilely': 1, 'futility': 1, 'fuzzy': 1, 'gabble': 1, 'gaff': 1, 'gaffe': 1, 'gainsay': 1, 'gainsayer': 1, 'gall': 1, 'galling': 1, 'gallingly': 1, 'galls': 1, 'gangster': 1, 'gape': 1, 'garbage': 1, 'garish': 1, 'gasp': 1, 'gauche': 1, 'gaudy': 1, 'gawk': 1, 'gawky': 1, 'geezer': 1, 'genocide': 1, 'get-rich': 1, 'ghastly': 1, 'ghetto': 1, 'ghosting': 1, 'gibber': 1, 'gibberish': 1, 'gibe': 1, 'giddy': 1, 'gimmick': 1, 'gimmicked': 1, 'gimmicking': 1, 'gimmicks': 1, 'gimmicky': 1, 'glare': 1, 'glaringly': 1, 'glib': 1, 'glibly': 1, 'glitch': 1, 'glitches': 1, 'gloatingly': 1, 'gloom': 1, 'gloomy': 1, 'glower': 1, 'glum': 1, 'glut': 1, 'gnawing': 1, 'goad': 1, 'goading': 1, 'god-awful': 1, 'goof': 1, 'goofy': 1, 'goon': 1, 'gossip': 1, 'graceless': 1, 'gracelessly': 1, 'graft': 1, 'grainy': 1, 'grapple': 1, 'grate': 1, 'grating': 1, 'gravely': 1, 'greasy': 1, 'greed': 1, 'greedy': 1, 'grief': 1, 'grievance': 1, 'grievances': 1, 'grieve': 1, 'grieving': 1, 'grievous': 1, 'grievously': 1, 'grim': 1, 'grimace': 1, 'grind': 1, 'gripe': 1, 'gripes': 1, 'grisly': 1, 'gritty': 1, 'gross': 1, 'grossly': 1, 'grotesque': 1, 'grouch': 1, 'grouchy': 1, 'groundless': 1, 'grouse': 1, 'growl': 1, 'grudge': 1, 'grudges': 1, 'grudging': 1, 'grudgingly': 1, 'gruesome': 1, 'gruesomely': 1, 'gruff': 1, 'grumble': 1, 'grumpier': 1, 'grumpiest': 1, 'grumpily': 1, 'grumpish': 1, 'grumpy': 1, 'guile': 1, 'guilt': 1, 'guiltily': 1, 'guilty': 1, 'gullible': 1, 'gutless': 1, 'gutter': 1, 'hack': 1, 'hacks': 1, 'haggard': 1, 'haggle': 1, 'hairloss': 1, 'halfhearted': 1, 'halfheartedly': 1, 'hallucinate': 1, 'hallucination': 1, 'hamper': 1, 'hampered': 1, 'handicapped': 1, 'hang': 1, 'hangs': 1, 'haphazard': 1, 'hapless': 1, 'harangue': 1, 'harass': 1, 'harassed': 1, 'harasses': 1, 'harassment': 1, 'harboring': 1, 'harbors': 1, 'hard': 1, 'hard-hit': 1, 'hard-line': 1, 'hard-liner': 1, 'hardball': 1, 'harden': 1, 'hardened': 1, 'hardheaded': 1, 'hardhearted': 1, 'hardliner': 1, 'hardliners': 1, 'hardship': 1, 'hardships': 1, 'harm': 1, 'harmed': 1, 'harmful': 1, 'harms': 1, 'harpy': 1, 'harridan': 1, 'harried': 1, 'harrow': 1, 'harsh': 1, 'harshly': 1, 'hasseling': 1, 'hassle': 1, 'hassled': 1, 'hassles': 1, 'haste': 1, 'hastily': 1, 'hasty': 1, 'hate': 1, 'hated': 1, 'hateful': 1, 'hatefully': 1, 'hatefulness': 1, 'hater': 1, 'haters': 1, 'hates': 1, 'hating': 1, 'hatred': 1, 'haughtily': 1, 'haughty': 1, 'haunt': 1, 'haunting': 1, 'havoc': 1, 'hawkish': 1, 'haywire': 1, 'hazard': 1, 'hazardous': 1, 'haze': 1, 'hazy': 1, 'head-aches': 1, 'headache': 1, 'headaches': 1, 'heartbreaker': 1, 'heartbreaking': 1, 'heartbreakingly': 1, 'heartless': 1, 'heathen': 1, 'heavy-handed': 1, 'heavyhearted': 1, 'heck': 1, 'heckle': 1, 'heckled': 1, 'heckles': 1, 'hectic': 1, 'hedge': 1, 'hedonistic': 1, 'heedless': 1, 'hefty': 1, 'hegemonism': 1, 'hegemonistic': 1, 'hegemony': 1, 'heinous': 1, 'hell': 1, 'hell-bent': 1, 'hellion': 1, 'hells': 1, 'helpless': 1, 'helplessly': 1, 'helplessness': 1, 'heresy': 1, 'heretic': 1, 'heretical': 1, 'hesitant': 1, 'hestitant': 1, 'hideous': 1, 'hideously': 1, 'hideousness': 1, 'high-priced': 1, 'hiliarious': 1, 'hinder': 1, 'hindrance': 1, 'hiss': 1, 'hissed': 1, 'hissing': 1, 'ho-hum': 1, 'hoard': 1, 'hoax': 1, 'hobble': 1, 'hogs': 1, 'hollow': 1, 'hoodium': 1, 'hoodwink': 1, 'hooligan': 1, 'hopeless': 1, 'hopelessly': 1, 'hopelessness': 1, 'horde': 1, 'horrendous': 1, 'horrendously': 1, 'horrible': 1, 'horrid': 1, 'horrific': 1, 'horrified': 1, 'horrifies': 1, 'horrify': 1, 'horrifying': 1, 'horrifys': 1, 'hostage': 1, 'hostile': 1, 'hostilities': 1, 'hostility': 1, 'hotbeds': 1, 'hothead': 1, 'hotheaded': 1, 'hothouse': 1, 'hubris': 1, 'huckster': 1, 'hum': 1, 'humid': 1, 'humiliate': 1, 'humiliating': 1, 'humiliation': 1, 'humming': 1, 'hung': 1, 'hurt': 1, 'hurted': 1, 'hurtful': 1, 'hurting': 1, 'hurts': 1, 'hustler': 1, 'hype': 1, 'hypocricy': 1, 'hypocrisy': 1, 'hypocrite': 1, 'hypocrites': 1, 'hypocritical': 1, 'hypocritically': 1, 'hysteria': 1, 'hysteric': 1, 'hysterical': 1, 'hysterically': 1, 'hysterics': 1, 'idiocies': 1, 'idiocy': 1, 'idiot': 1, 'idiotic': 1, 'idiotically': 1, 'idiots': 1, 'idle': 1, 'ignoble': 1, 'ignominious': 1, 'ignominiously': 1, 'ignominy': 1, 'ignorance': 1, 'ignorant': 1, 'ignore': 1, 'ill-advised': 1, 'ill-conceived': 1, 'ill-defined': 1, 'ill-designed': 1, 'ill-fated': 1, 'ill-favored': 1, 'ill-formed': 1, 'ill-mannered': 1, 'ill-natured': 1, 'ill-sorted': 1, 'ill-tempered': 1, 'ill-treated': 1, 'ill-treatment': 1, 'ill-usage': 1, 'ill-used': 1, 'illegal': 1, 'illegally': 1, 'illegitimate': 1, 'illicit': 1, 'illiterate': 1, 'illness': 1, 'illogic': 1, 'illogical': 1, 'illogically': 1, 'illusion': 1, 'illusions': 1, 'illusory': 1, 'imaginary': 1, 'imbalance': 1, 'imbecile': 1, 'imbroglio': 1, 'immaterial': 1, 'immature': 1, 'imminence': 1, 'imminently': 1, 'immobilized': 1, 'immoderate': 1, 'immoderately': 1, 'immodest': 1, 'immoral': 1, 'immorality': 1, 'immorally': 1, 'immovable': 1, 'impair': 1, 'impaired': 1, 'impasse': 1, 'impatience': 1, 'impatient': 1, 'impatiently': 1, 'impeach': 1, 'impedance': 1, 'impede': 1, 'impediment': 1, 'impending': 1, 'impenitent': 1, 'imperfect': 1, 'imperfection': 1, 'imperfections': 1, 'imperfectly': 1, 'imperialist': 1, 'imperil': 1, 'imperious': 1, 'imperiously': 1, 'impermissible': 1, 'impersonal': 1, 'impertinent': 1, 'impetuous': 1, 'impetuously': 1, 'impiety': 1, 'impinge': 1, 'impious': 1, 'implacable': 1, 'implausible': 1, 'implausibly': 1, 'implicate': 1, 'implication': 1, 'implode': 1, 'impolite': 1, 'impolitely': 1, 'impolitic': 1, 'importunate': 1, 'importune': 1, 'impose': 1, 'imposers': 1, 'imposing': 1, 'imposition': 1, 'impossible': 1, 'impossiblity': 1, 'impossibly': 1, 'impotent': 1, 'impoverish': 1, 'impoverished': 1, 'impractical': 1, 'imprecate': 1, 'imprecise': 1, 'imprecisely': 1, 'imprecision': 1, 'imprison': 1, 'imprisonment': 1, 'improbability': 1, 'improbable': 1, 'improbably': 1, 'improper': 1, 'improperly': 1, 'impropriety': 1, 'imprudence': 1, 'imprudent': 1, 'impudence': 1, 'impudent': 1, 'impudently': 1, 'impugn': 1, 'impulsive': 1, 'impulsively': 1, 'impunity': 1, 'impure': 1, 'impurity': 1, 'inability': 1, 'inaccuracies': 1, 'inaccuracy': 1, 'inaccurate': 1, 'inaccurately': 1, 'inaction': 1, 'inactive': 1, 'inadequacy': 1, 'inadequate': 1, 'inadequately': 1, 'inadverent': 1, 'inadverently': 1, 'inadvisable': 1, 'inadvisably': 1, 'inane': 1, 'inanely': 1, 'inappropriate': 1, 'inappropriately': 1, 'inapt': 1, 'inaptitude': 1, 'inarticulate': 1, 'inattentive': 1, 'inaudible': 1, 'incapable': 1, 'incapably': 1, 'incautious': 1, 'incendiary': 1, 'incense': 1, 'incessant': 1, 'incessantly': 1, 'incite': 1, 'incitement': 1, 'incivility': 1, 'inclement': 1, 'incognizant': 1, 'incoherence': 1, 'incoherent': 1, 'incoherently': 1, 'incommensurate': 1, 'incomparable': 1, 'incomparably': 1, 'incompatability': 1, 'incompatibility': 1, 'incompatible': 1, 'incompetence': 1, 'incompetent': 1, 'incompetently': 1, 'incomplete': 1, 'incompliant': 1, 'incomprehensible': 1, 'incomprehension': 1, 'inconceivable': 1, 'inconceivably': 1, 'incongruous': 1, 'incongruously': 1, 'inconsequent': 1, 'inconsequential': 1, 'inconsequentially': 1, 'inconsequently': 1, 'inconsiderate': 1, 'inconsiderately': 1, 'inconsistence': 1, 'inconsistencies': 1, 'inconsistency': 1, 'inconsistent': 1, 'inconsolable': 1, 'inconsolably': 1, 'inconstant': 1, 'inconvenience': 1, 'inconveniently': 1, 'incorrect': 1, 'incorrectly': 1, 'incorrigible': 1, 'incorrigibly': 1, 'incredulous': 1, 'incredulously': 1, 'inculcate': 1, 'indecency': 1, 'indecent': 1, 'indecently': 1, 'indecision': 1, 'indecisive': 1, 'indecisively': 1, 'indecorum': 1, 'indefensible': 1, 'indelicate': 1, 'indeterminable': 1, 'indeterminably': 1, 'indeterminate': 1, 'indifference': 1, 'indifferent': 1, 'indigent': 1, 'indignant': 1, 'indignantly': 1, 'indignation': 1, 'indignity': 1, 'indiscernible': 1, 'indiscreet': 1, 'indiscreetly': 1, 'indiscretion': 1, 'indiscriminate': 1, 'indiscriminately': 1, 'indiscriminating': 1, 'indistinguishable': 1, 'indoctrinate': 1, 'indoctrination': 1, 'indolent': 1, 'indulge': 1, 'ineffective': 1, 'ineffectively': 1, 'ineffectiveness': 1, 'ineffectual': 1, 'ineffectually': 1, 'ineffectualness': 1, 'inefficacious': 1, 'inefficacy': 1, 'inefficiency': 1, 'inefficient': 1, 'inefficiently': 1, 'inelegance': 1, 'inelegant': 1, 'ineligible': 1, 'ineloquent': 1, 'ineloquently': 1, 'inept': 1, 'ineptitude': 1, 'ineptly': 1, 'inequalities': 1, 'inequality': 1, 'inequitable': 1, 'inequitably': 1, 'inequities': 1, 'inescapable': 1, 'inescapably': 1, 'inessential': 1, 'inevitable': 1, 'inevitably': 1, 'inexcusable': 1, 'inexcusably': 1, 'inexorable': 1, 'inexorably': 1, 'inexperience': 1, 'inexperienced': 1, 'inexpert': 1, 'inexpertly': 1, 'inexpiable': 1, 'inexplainable': 1, 'inextricable': 1, 'inextricably': 1, 'infamous': 1, 'infamously': 1, 'infamy': 1, 'infected': 1, 'infection': 1, 'infections': 1, 'inferior': 1, 'inferiority': 1, 'infernal': 1, 'infest': 1, 'infested': 1, 'infidel': 1, 'infidels': 1, 'infiltrator': 1, 'infiltrators': 1, 'infirm': 1, 'inflame': 1, 'inflammation': 1, 'inflammatory': 1, 'inflammed': 1, 'inflated': 1, 'inflationary': 1, 'inflexible': 1, 'inflict': 1, 'infraction': 1, 'infringe': 1, 'infringement': 1, 'infringements': 1, 'infuriate': 1, 'infuriated': 1, 'infuriating': 1, 'infuriatingly': 1, 'inglorious': 1, 'ingrate': 1, 'ingratitude': 1, 'inhibit': 1, 'inhibition': 1, 'inhospitable': 1, 'inhospitality': 1, 'inhuman': 1, 'inhumane': 1, 'inhumanity': 1, 'inimical': 1, 'inimically': 1, 'iniquitous': 1, 'iniquity': 1, 'injudicious': 1, 'injure': 1, 'injurious': 1, 'injury': 1, 'injustice': 1, 'injustices': 1, 'innuendo': 1, 'inoperable': 1, 'inopportune': 1, 'inordinate': 1, 'inordinately': 1, 'insane': 1, 'insanely': 1, 'insanity': 1, 'insatiable': 1, 'insecure': 1, 'insecurity': 1, 'insensible': 1, 'insensitive': 1, 'insensitively': 1, 'insensitivity': 1, 'insidious': 1, 'insidiously': 1, 'insignificance': 1, 'insignificant': 1, 'insignificantly': 1, 'insincere': 1, 'insincerely': 1, 'insincerity': 1, 'insinuate': 1, 'insinuating': 1, 'insinuation': 1, 'insociable': 1, 'insolence': 1, 'insolent': 1, 'insolently': 1, 'insolvent': 1, 'insouciance': 1, 'instability': 1, 'instable': 1, 'instigate': 1, 'instigator': 1, 'instigators': 1, 'insubordinate': 1, 'insubstantial': 1, 'insubstantially': 1, 'insufferable': 1, 'insufferably': 1, 'insufficiency': 1, 'insufficient': 1, 'insufficiently': 1, 'insular': 1, 'insult': 1, 'insulted': 1, 'insulting': 1, 'insultingly': 1, 'insults': 1, 'insupportable': 1, 'insupportably': 1, 'insurmountable': 1, 'insurmountably': 1, 'insurrection': 1, 'intefere': 1, 'inteferes': 1, 'intense': 1, 'interfere': 1, 'interference': 1, 'interferes': 1, 'intermittent': 1, 'interrupt': 1, 'interruption': 1, 'interruptions': 1, 'intimidate': 1, 'intimidating': 1, 'intimidatingly': 1, 'intimidation': 1, 'intolerable': 1, 'intolerablely': 1, 'intolerance': 1, 'intoxicate': 1, 'intractable': 1, 'intransigence': 1, 'intransigent': 1, 'intrude': 1, 'intrusion': 1, 'intrusive': 1, 'inundate': 1, 'inundated': 1, 'invader': 1, 'invalid': 1, 'invalidate': 1, 'invalidity': 1, 'invasive': 1, 'invective': 1, 'inveigle': 1, 'invidious': 1, 'invidiously': 1, 'invidiousness': 1, 'invisible': 1, 'involuntarily': 1, 'involuntary': 1, 'irascible': 1, 'irate': 1, 'irately': 1, 'ire': 1, 'irk': 1, 'irked': 1, 'irking': 1, 'irks': 1, 'irksome': 1, 'irksomely': 1, 'irksomeness': 1, 'irksomenesses': 1, 'ironic': 1, 'ironical': 1, 'ironically': 1, 'ironies': 1, 'irony': 1, 'irragularity': 1, 'irrational': 1, 'irrationalities': 1, 'irrationality': 1, 'irrationally': 1, 'irrationals': 1, 'irreconcilable': 1, 'irrecoverable': 1, 'irrecoverableness': 1, 'irrecoverablenesses': 1, 'irrecoverably': 1, 'irredeemable': 1, 'irredeemably': 1, 'irreformable': 1, 'irregular': 1, 'irregularity': 1, 'irrelevance': 1, 'irrelevant': 1, 'irreparable': 1, 'irreplacible': 1, 'irrepressible': 1, 'irresolute': 1, 'irresolvable': 1, 'irresponsible': 1, 'irresponsibly': 1, 'irretating': 1, 'irretrievable': 1, 'irreversible': 1, 'irritable': 1, 'irritably': 1, 'irritant': 1, 'irritate': 1, 'irritated': 1, 'irritating': 1, 'irritation': 1, 'irritations': 1, 'isolate': 1, 'isolated': 1, 'isolation': 1, 'issue': 1, 'issues': 1, 'itch': 1, 'itching': 1, 'itchy': 1, 'jabber': 1, 'jaded': 1, 'jagged': 1, 'jam': 1, 'jarring': 1, 'jaundiced': 1, 'jealous': 1, 'jealously': 1, 'jealousness': 1, 'jealousy': 1, 'jeer': 1, 'jeering': 1, 'jeeringly': 1, 'jeers': 1, 'jeopardize': 1, 'jeopardy': 1, 'jerk': 1, 'jerky': 1, 'jitter': 1, 'jitters': 1, 'jittery': 1, 'job-killing': 1, 'jobless': 1, 'joke': 1, 'joker': 1, 'jolt': 1, 'judder': 1, 'juddering': 1, 'judders': 1, 'jumpy': 1, 'junk': 1, 'junky': 1, 'junkyard': 1, 'jutter': 1, 'jutters': 1, 'kaput': 1, 'kill': 1, 'killed': 1, 'killer': 1, 'killing': 1, 'killjoy': 1, 'kills': 1, 'knave': 1, 'knife': 1, 'knock': 1, 'knotted': 1, 'kook': 1, 'kooky': 1, 'lack': 1, 'lackadaisical': 1, 'lacked': 1, 'lackey': 1, 'lackeys': 1, 'lacking': 1, 'lackluster': 1, 'lacks': 1, 'laconic': 1, 'lag': 1, 'lagged': 1, 'lagging': 1, 'laggy': 1, 'lags': 1, 'laid-off': 1, 'lambast': 1, 'lambaste': 1, 'lame': 1, 'lame-duck': 1, 'lament': 1, 'lamentable': 1, 'lamentably': 1, 'languid': 1, 'languish': 1, 'languor': 1, 'languorous': 1, 'languorously': 1, 'lanky': 1, 'lapse': 1, 'lapsed': 1, 'lapses': 1, 'lascivious': 1, 'last-ditch': 1, 'latency': 1, 'laughable': 1, 'laughably': 1, 'laughingstock': 1, 'lawbreaker': 1, 'lawbreaking': 1, 'lawless': 1, 'lawlessness': 1, 'layoff': 1, 'layoff-happy': 1, 'lazy': 1, 'leak': 1, 'leakage': 1, 'leakages': 1, 'leaking': 1, 'leaks': 1, 'leaky': 1, 'lech': 1, 'lecher': 1, 'lecherous': 1, 'lechery': 1, 'leech': 1, 'leer': 1, 'leery': 1, 'left-leaning': 1, 'lemon': 1, 'lengthy': 1, 'less-developed': 1, 'lesser-known': 1, 'letch': 1, 'lethal': 1, 'lethargic': 1, 'lethargy': 1, 'lewd': 1, 'lewdly': 1, 'lewdness': 1, 'liability': 1, 'liable': 1, 'liar': 1, 'liars': 1, 'licentious': 1, 'licentiously': 1, 'licentiousness': 1, 'lie': 1, 'lied': 1, 'lier': 1, 'lies': 1, 'life-threatening': 1, 'lifeless': 1, 'limit': 1, 'limitation': 1, 'limitations': 1, 'limited': 1, 'limits': 1, 'limp': 1, 'listless': 1, 'litigious': 1, 'little-known': 1, 'livid': 1, 'lividly': 1, 'loath': 1, 'loathe': 1, 'loathing': 1, 'loathly': 1, 'loathsome': 1, 'loathsomely': 1, 'lone': 1, 'loneliness': 1, 'lonely': 1, 'loner': 1, 'lonesome': 1, 'long-time': 1, 'long-winded': 1, 'longing': 1, 'longingly': 1, 'loophole': 1, 'loopholes': 1, 'loose': 1, 'loot': 1, 'lorn': 1, 'lose': 1, 'loser': 1, 'losers': 1, 'loses': 1, 'losing': 1, 'loss': 1, 'losses': 1, 'lost': 1, 'loud': 1, 'louder': 1, 'lousy': 1, 'loveless': 1, 'lovelorn': 1, 'low-rated': 1, 'lowly': 1, 'ludicrous': 1, 'ludicrously': 1, 'lugubrious': 1, 'lukewarm': 1, 'lull': 1, 'lumpy': 1, 'lunatic': 1, 'lunaticism': 1, 'lurch': 1, 'lure': 1, 'lurid': 1, 'lurk': 1, 'lurking': 1, 'lying': 1, 'macabre': 1, 'mad': 1, 'madden': 1, 'maddening': 1, 'maddeningly': 1, 'madder': 1, 'madly': 1, 'madman': 1, 'madness': 1, 'maladjusted': 1, 'maladjustment': 1, 'malady': 1, 'malaise': 1, 'malcontent': 1, 'malcontented': 1, 'maledict': 1, 'malevolence': 1, 'malevolent': 1, 'malevolently': 1, 'malice': 1, 'malicious': 1, 'maliciously': 1, 'maliciousness': 1, 'malign': 1, 'malignant': 1, 'malodorous': 1, 'maltreatment': 1, 'mangle': 1, 'mangled': 1, 'mangles': 1, 'mangling': 1, 'mania': 1, 'maniac': 1, 'maniacal': 1, 'manic': 1, 'manipulate': 1, 'manipulation': 1, 'manipulative': 1, 'manipulators': 1, 'mar': 1, 'marginal': 1, 'marginally': 1, 'martyrdom': 1, 'martyrdom-seeking': 1, 'mashed': 1, 'massacre': 1, 'massacres': 1, 'matte': 1, 'mawkish': 1, 'mawkishly': 1, 'mawkishness': 1, 'meager': 1, 'meaningless': 1, 'meanness': 1, 'measly': 1, 'meddle': 1, 'meddlesome': 1, 'mediocre': 1, 'mediocrity': 1, 'melancholy': 1, 'melodramatic': 1, 'melodramatically': 1, 'meltdown': 1, 'menace': 1, 'menacing': 1, 'menacingly': 1, 'mendacious': 1, 'mendacity': 1, 'menial': 1, 'merciless': 1, 'mercilessly': 1, 'mess': 1, 'messed': 1, 'messes': 1, 'messing': 1, 'messy': 1, 'midget': 1, 'miff': 1, 'militancy': 1, 'mindless': 1, 'mindlessly': 1, 'mirage': 1, 'mire': 1, 'misalign': 1, 'misaligned': 1, 'misaligns': 1, 'misapprehend': 1, 'misbecome': 1, 'misbecoming': 1, 'misbegotten': 1, 'misbehave': 1, 'misbehavior': 1, 'miscalculate': 1, 'miscalculation': 1, 'miscellaneous': 1, 'mischief': 1, 'mischievous': 1, 'mischievously': 1, 'misconception': 1, 'misconceptions': 1, 'miscreant': 1, 'miscreants': 1, 'misdirection': 1, 'miser': 1, 'miserable': 1, 'miserableness': 1, 'miserably': 1, 'miseries': 1, 'miserly': 1, 'misery': 1, 'misfit': 1, 'misfortune': 1, 'misgiving': 1, 'misgivings': 1, 'misguidance': 1, 'misguide': 1, 'misguided': 1, 'mishandle': 1, 'mishap': 1, 'misinform': 1, 'misinformed': 1, 'misinterpret': 1, 'misjudge': 1, 'misjudgment': 1, 'mislead': 1, 'misleading': 1, 'misleadingly': 1, 'mislike': 1, 'mismanage': 1, 'mispronounce': 1, 'mispronounced': 1, 'mispronounces': 1, 'misread': 1, 'misreading': 1, 'misrepresent': 1, 'misrepresentation': 1, 'miss': 1, 'missed': 1, 'misses': 1, 'misstatement': 1, 'mist': 1, 'mistake': 1, 'mistaken': 1, 'mistakenly': 1, 'mistakes': 1, 'mistified': 1, 'mistress': 1, 'mistrust': 1, 'mistrustful': 1, 'mistrustfully': 1, 'mists': 1, 'misunderstand': 1, 'misunderstanding': 1, 'misunderstandings': 1, 'misunderstood': 1, 'misuse': 1, 'moan': 1, 'mobster': 1, 'mock': 1, 'mocked': 1, 'mockeries': 1, 'mockery': 1, 'mocking': 1, 'mockingly': 1, 'mocks': 1, 'molest': 1, 'molestation': 1, 'monotonous': 1, 'monotony': 1, 'monster': 1, 'monstrosities': 1, 'monstrosity': 1, 'monstrous': 1, 'monstrously': 1, 'moody': 1, 'moot': 1, 'mope': 1, 'morbid': 1, 'morbidly': 1, 'mordant': 1, 'mordantly': 1, 'moribund': 1, 'moron': 1, 'moronic': 1, 'morons': 1, 'mortification': 1, 'mortified': 1, 'mortify': 1, 'mortifying': 1, 'motionless': 1, 'motley': 1, 'mourn': 1, 'mourner': 1, 'mournful': 1, 'mournfully': 1, 'muddle': 1, 'muddy': 1, 'mudslinger': 1, 'mudslinging': 1, 'mulish': 1, 'multi-polarization': 1, 'mundane': 1, 'murder': 1, 'murderer': 1, 'murderous': 1, 'murderously': 1, 'murky': 1, 'muscle-flexing': 1, 'mushy': 1, 'musty': 1, 'mysterious': 1, 'mysteriously': 1, 'mystery': 1, 'mystify': 1, 'myth': 1, 'nag': 1, 'nagging': 1, 'naive': 1, 'naively': 1, 'narrower': 1, 'nastily': 1, 'nastiness': 1, 'nasty': 1, 'naughty': 1, 'nauseate': 1, 'nauseates': 1, 'nauseating': 1, 'nauseatingly': 1, 'naïve': 1, 'nebulous': 1, 'nebulously': 1, 'needless': 1, 'needlessly': 1, 'needy': 1, 'nefarious': 1, 'nefariously': 1, 'negate': 1, 'negation': 1, 'negative': 1, 'negatives': 1, 'negativity': 1, 'neglect': 1, 'neglected': 1, 'negligence': 1, 'negligent': 1, 'nemesis': 1, 'nepotism': 1, 'nervous': 1, 'nervously': 1, 'nervousness': 1, 'nettle': 1, 'nettlesome': 1, 'neurotic': 1, 'neurotically': 1, 'niggle': 1, 'niggles': 1, 'nightmare': 1, 'nightmarish': 1, 'nightmarishly': 1, 'nitpick': 1, 'nitpicking': 1, 'noise': 1, 'noises': 1, 'noisier': 1, 'noisy': 1, 'non-confidence': 1, 'nonexistent': 1, 'nonresponsive': 1, 'nonsense': 1, 'nosey': 1, 'notoriety': 1, 'notorious': 1, 'notoriously': 1, 'noxious': 1, 'nuisance': 1, 'numb': 1, 'obese': 1, 'object': 1, 'objection': 1, 'objectionable': 1, 'objections': 1, 'oblique': 1, 'obliterate': 1, 'obliterated': 1, 'oblivious': 1, 'obnoxious': 1, 'obnoxiously': 1, 'obscene': 1, 'obscenely': 1, 'obscenity': 1, 'obscure': 1, 'obscured': 1, 'obscures': 1, 'obscurity': 1, 'obsess': 1, 'obsessive': 1, 'obsessively': 1, 'obsessiveness': 1, 'obsolete': 1, 'obstacle': 1, 'obstinate': 1, 'obstinately': 1, 'obstruct': 1, 'obstructed': 1, 'obstructing': 1, 'obstruction': 1, 'obstructs': 1, 'obtrusive': 1, 'obtuse': 1, 'occlude': 1, 'occluded': 1, 'occludes': 1, 'occluding': 1, 'odd': 1, 'odder': 1, 'oddest': 1, 'oddities': 1, 'oddity': 1, 'oddly': 1, 'odor': 1, 'offence': 1, 'offend': 1, 'offender': 1, 'offending': 1, 'offenses': 1, 'offensive': 1, 'offensively': 1, 'offensiveness': 1, 'officious': 1, 'ominous': 1, 'ominously': 1, 'omission': 1, 'omit': 1, 'one-sided': 1, 'onerous': 1, 'onerously': 1, 'onslaught': 1, 'opinionated': 1, 'opponent': 1, 'opportunistic': 1, 'oppose': 1, 'opposition': 1, 'oppositions': 1, 'oppress': 1, 'oppression': 1, 'oppressive': 1, 'oppressively': 1, 'oppressiveness': 1, 'oppressors': 1, 'ordeal': 1, 'orphan': 1, 'ostracize': 1, 'outbreak': 1, 'outburst': 1, 'outbursts': 1, 'outcast': 1, 'outcry': 1, 'outlaw': 1, 'outmoded': 1, 'outrage': 1, 'outraged': 1, 'outrageous': 1, 'outrageously': 1, 'outrageousness': 1, 'outrages': 1, 'outsider': 1, 'over-acted': 1, 'over-awe': 1, 'over-balanced': 1, 'over-hyped': 1, 'over-priced': 1, 'over-valuation': 1, 'overact': 1, 'overacted': 1, 'overawe': 1, 'overbalance': 1, 'overbalanced': 1, 'overbearing': 1, 'overbearingly': 1, 'overblown': 1, 'overdo': 1, 'overdone': 1, 'overdue': 1, 'overemphasize': 1, 'overheat': 1, 'overkill': 1, 'overloaded': 1, 'overlook': 1, 'overpaid': 1, 'overpayed': 1, 'overplay': 1, 'overpower': 1, 'overpriced': 1, 'overrated': 1, 'overreach': 1, 'overrun': 1, 'overshadow': 1, 'oversight': 1, 'oversights': 1, 'oversimplification': 1, 'oversimplified': 1, 'oversimplify': 1, 'oversize': 1, 'overstate': 1, 'overstated': 1, 'overstatement': 1, 'overstatements': 1, 'overstates': 1, 'overtaxed': 1, 'overthrow': 1, 'overthrows': 1, 'overturn': 1, 'overweight': 1, 'overwhelm': 1, 'overwhelmed': 1, 'overwhelming': 1, 'overwhelmingly': 1, 'overwhelms': 1, 'overzealous': 1, 'overzealously': 1, 'overzelous': 1, 'pain': 1, 'painful': 1, 'painfull': 1, 'painfully': 1, 'pains': 1, 'pale': 1, 'pales': 1, 'paltry': 1, 'pan': 1, 'pandemonium': 1, 'pander': 1, 'pandering': 1, 'panders': 1, 'panic': 1, 'panick': 1, 'panicked': 1, 'panicking': 1, 'panicky': 1, 'paradoxical': 1, 'paradoxically': 1, 'paralize': 1, 'paralyzed': 1, 'paranoia': 1, 'paranoid': 1, 'parasite': 1, 'pariah': 1, 'parody': 1, 'partiality': 1, 'partisan': 1, 'partisans': 1, 'passe': 1, 'passive': 1, 'passiveness': 1, 'pathetic': 1, 'pathetically': 1, 'patronize': 1, 'paucity': 1, 'pauper': 1, 'paupers': 1, 'payback': 1, 'peculiar': 1, 'peculiarly': 1, 'pedantic': 1, 'peeled': 1, 'peeve': 1, 'peeved': 1, 'peevish': 1, 'peevishly': 1, 'penalize': 1, 'penalty': 1, 'perfidious': 1, 'perfidity': 1, 'perfunctory': 1, 'peril': 1, 'perilous': 1, 'perilously': 1, 'perish': 1, 'pernicious': 1, 'perplex': 1, 'perplexed': 1, 'perplexing': 1, 'perplexity': 1, 'persecute': 1, 'persecution': 1, 'pertinacious': 1, 'pertinaciously': 1, 'pertinacity': 1, 'perturb': 1, 'perturbed': 1, 'pervasive': 1, 'perverse': 1, 'perversely': 1, 'perversion': 1, 'perversity': 1, 'pervert': 1, 'perverted': 1, 'perverts': 1, 'pessimism': 1, 'pessimistic': 1, 'pessimistically': 1, 'pest': 1, 'pestilent': 1, 'petrified': 1, 'petrify': 1, 'pettifog': 1, 'petty': 1, 'phobia': 1, 'phobic': 1, 'phony': 1, 'picket': 1, 'picketed': 1, 'picketing': 1, 'pickets': 1, 'picky': 1, 'pig': 1, 'pigs': 1, 'pillage': 1, 'pillory': 1, 'pimple': 1, 'pinch': 1, 'pique': 1, 'pitiable': 1, 'pitiful': 1, 'pitifully': 1, 'pitiless': 1, 'pitilessly': 1, 'pittance': 1, 'pity': 1, 'plagiarize': 1, 'plague': 1, 'plasticky': 1, 'plaything': 1, 'plea': 1, 'pleas': 1, 'plebeian': 1, 'plight': 1, 'plot': 1, 'plotters': 1, 'ploy': 1, 'plunder': 1, 'plunderer': 1, 'pointless': 1, 'pointlessly': 1, 'poison': 1, 'poisonous': 1, 'poisonously': 1, 'pokey': 1, 'poky': 1, 'polarisation': 1, 'polemize': 1, 'pollute': 1, 'polluter': 1, 'polluters': 1, 'polution': 1, 'pompous': 1, 'poor': 1, 'poorer': 1, 'poorest': 1, 'poorly': 1, 'posturing': 1, 'pout': 1, 'poverty': 1, 'powerless': 1, 'prate': 1, 'pratfall': 1, 'prattle': 1, 'precarious': 1, 'precariously': 1, 'precipitate': 1, 'precipitous': 1, 'predatory': 1, 'predicament': 1, 'prejudge': 1, 'prejudice': 1, 'prejudices': 1, 'prejudicial': 1, 'premeditated': 1, 'preoccupy': 1, 'preposterous': 1, 'preposterously': 1, 'presumptuous': 1, 'presumptuously': 1, 'pretence': 1, 'pretend': 1, 'pretense': 1, 'pretentious': 1, 'pretentiously': 1, 'prevaricate': 1, 'pricey': 1, 'pricier': 1, 'prick': 1, 'prickle': 1, 'prickles': 1, 'prideful': 1, 'prik': 1, 'primitive': 1, 'prison': 1, 'prisoner': 1, 'problem': 1, 'problematic': 1, 'problems': 1, 'procrastinate': 1, 'procrastinates': 1, 'procrastination': 1, 'profane': 1, 'profanity': 1, 'prohibit': 1, 'prohibitive': 1, 'prohibitively': 1, 'propaganda': 1, 'propagandize': 1, 'proprietary': 1, 'prosecute': 1, 'protest': 1, 'protested': 1, 'protesting': 1, 'protests': 1, 'protracted': 1, 'provocation': 1, 'provocative': 1, 'provoke': 1, 'pry': 1, 'pugnacious': 1, 'pugnaciously': 1, 'pugnacity': 1, 'punch': 1, 'punish': 1, 'punishable': 1, 'punitive': 1, 'punk': 1, 'puny': 1, 'puppet': 1, 'puppets': 1, 'puzzled': 1, 'puzzlement': 1, 'puzzling': 1, 'quack': 1, 'qualm': 1, 'qualms': 1, 'quandary': 1, 'quarrel': 1, 'quarrellous': 1, 'quarrellously': 1, 'quarrels': 1, 'quarrelsome': 1, 'quash': 1, 'queer': 1, 'questionable': 1, 'quibble': 1, 'quibbles': 1, 'quitter': 1, 'rabid': 1, 'racism': 1, 'racist': 1, 'racists': 1, 'racy': 1, 'radical': 1, 'radicalization': 1, 'radically': 1, 'radicals': 1, 'rage': 1, 'ragged': 1, 'raging': 1, 'rail': 1, 'raked': 1, 'rampage': 1, 'rampant': 1, 'ramshackle': 1, 'rancor': 1, 'randomly': 1, 'rankle': 1, 'rant': 1, 'ranted': 1, 'ranting': 1, 'rantingly': 1, 'rants': 1, 'rape': 1, 'raped': 1, 'raping': 1, 'rascal': 1, 'rascals': 1, 'rash': 1, 'rattle': 1, 'rattled': 1, 'rattles': 1, 'ravage': 1, 'raving': 1, 'reactionary': 1, 'rebellious': 1, 'rebuff': 1, 'rebuke': 1, 'recalcitrant': 1, 'recant': 1, 'recession': 1, 'recessionary': 1, 'reckless': 1, 'recklessly': 1, 'recklessness': 1, 'recoil': 1, 'recourses': 1, 'redundancy': 1, 'redundant': 1, 'refusal': 1, 'refuse': 1, 'refused': 1, 'refuses': 1, 'refusing': 1, 'refutation': 1, 'refute': 1, 'refuted': 1, 'refutes': 1, 'refuting': 1, 'regress': 1, 'regression': 1, 'regressive': 1, 'regret': 1, 'regreted': 1, 'regretful': 1, 'regretfully': 1, 'regrets': 1, 'regrettable': 1, 'regrettably': 1, 'regretted': 1, 'reject': 1, 'rejected': 1, 'rejecting': 1, 'rejection': 1, 'rejects': 1, 'relapse': 1, 'relentless': 1, 'relentlessly': 1, 'relentlessness': 1, 'reluctance': 1, 'reluctant': 1, 'reluctantly': 1, 'remorse': 1, 'remorseful': 1, 'remorsefully': 1, 'remorseless': 1, 'remorselessly': 1, 'remorselessness': 1, 'renounce': 1, 'renunciation': 1, 'repel': 1, 'repetitive': 1, 'reprehensible': 1, 'reprehensibly': 1, 'reprehension': 1, 'reprehensive': 1, 'repress': 1, 'repression': 1, 'repressive': 1, 'reprimand': 1, 'reproach': 1, 'reproachful': 1, 'reprove': 1, 'reprovingly': 1, 'repudiate': 1, 'repudiation': 1, 'repugn': 1, 'repugnance': 1, 'repugnant': 1, 'repugnantly': 1, 'repulse': 1, 'repulsed': 1, 'repulsing': 1, 'repulsive': 1, 'repulsively': 1, 'repulsiveness': 1, 'resent': 1, 'resentful': 1, 'resentment': 1, 'resignation': 1, 'resigned': 1, 'resistance': 1, 'restless': 1, 'restlessness': 1, 'restrict': 1, 'restricted': 1, 'restriction': 1, 'restrictive': 1, 'resurgent': 1, 'retaliate': 1, 'retaliatory': 1, 'retard': 1, 'retarded': 1, 'retardedness': 1, 'retards': 1, 'reticent': 1, 'retract': 1, 'retreat': 1, 'retreated': 1, 'revenge': 1, 'revengeful': 1, 'revengefully': 1, 'revert': 1, 'revile': 1, 'reviled': 1, 'revoke': 1, 'revolt': 1, 'revolting': 1, 'revoltingly': 1, 'revulsion': 1, 'revulsive': 1, 'rhapsodize': 1, 'rhetoric': 1, 'rhetorical': 1, 'ricer': 1, 'ridicule': 1, 'ridicules': 1, 'ridiculous': 1, 'ridiculously': 1, 'rife': 1, 'rift': 1, 'rifts': 1, 'rigid': 1, 'rigidity': 1, 'rigidness': 1, 'rile': 1, 'riled': 1, 'rip': 1, 'rip-off': 1, 'ripoff': 1, 'ripped': 1, 'risk': 1, 'risks': 1, 'risky': 1, 'rival': 1, 'rivalry': 1, 'roadblocks': 1, 'rocky': 1, 'rogue': 1, 'rollercoaster': 1, 'rot': 1, 'rotten': 1, 'rough': 1, 'rremediable': 1, 'rubbish': 1, 'rude': 1, 'rue': 1, 'ruffian': 1, 'ruffle': 1, 'ruin': 1, 'ruined': 1, 'ruining': 1, 'ruinous': 1, 'ruins': 1, 'rumbling': 1, 'rumor': 1, 'rumors': 1, 'rumours': 1, 'rumple': 1, 'run-down': 1, 'runaway': 1, 'rupture': 1, 'rust': 1, 'rusts': 1, 'rusty': 1, 'rut': 1, 'ruthless': 1, 'ruthlessly': 1, 'ruthlessness': 1, 'ruts': 1, 'sabotage': 1, 'sack': 1, 'sacrificed': 1, 'sad': 1, 'sadden': 1, 'sadly': 1, 'sadness': 1, 'sag': 1, 'sagged': 1, 'sagging': 1, 'saggy': 1, 'sags': 1, 'salacious': 1, 'sanctimonious': 1, 'sap': 1, 'sarcasm': 1, 'sarcastic': 1, 'sarcastically': 1, 'sardonic': 1, 'sardonically': 1, 'sass': 1, 'satirical': 1, 'satirize': 1, 'savage': 1, 'savaged': 1, 'savagery': 1, 'savages': 1, 'scaly': 1, 'scam': 1, 'scams': 1, 'scandal': 1, 'scandalize': 1, 'scandalized': 1, 'scandalous': 1, 'scandalously': 1, 'scandals': 1, 'scandel': 1, 'scandels': 1, 'scant': 1, 'scapegoat': 1, 'scar': 1, 'scarce': 1, 'scarcely': 1, 'scarcity': 1, 'scare': 1, 'scared': 1, 'scarier': 1, 'scariest': 1, 'scarily': 1, 'scarred': 1, 'scars': 1, 'scary': 1, 'scathing': 1, 'scathingly': 1, 'sceptical': 1, 'scoff': 1, 'scoffingly': 1, 'scold': 1, 'scolded': 1, 'scolding': 1, 'scoldingly': 1, 'scorching': 1, 'scorchingly': 1, 'scorn': 1, 'scornful': 1, 'scornfully': 1, 'scoundrel': 1, 'scourge': 1, 'scowl': 1, 'scramble': 1, 'scrambled': 1, 'scrambles': 1, 'scrambling': 1, 'scrap': 1, 'scratch': 1, 'scratched': 1, 'scratches': 1, 'scratchy': 1, 'scream': 1, 'screech': 1, 'screw-up': 1, 'screwed': 1, 'screwed-up': 1, 'screwy': 1, 'scuff': 1, 'scuffs': 1, 'scum': 1, 'scummy': 1, 'second-class': 1, 'second-tier': 1, 'secretive': 1, 'sedentary': 1, 'seedy': 1, 'seethe': 1, 'seething': 1, 'self-coup': 1, 'self-criticism': 1, 'self-defeating': 1, 'self-destructive': 1, 'self-humiliation': 1, 'self-interest': 1, 'self-interested': 1, 'self-serving': 1, 'selfinterested': 1, 'selfish': 1, 'selfishly': 1, 'selfishness': 1, 'semi-retarded': 1, 'senile': 1, 'sensationalize': 1, 'senseless': 1, 'senselessly': 1, 'seriousness': 1, 'sermonize': 1, 'servitude': 1, 'set-up': 1, 'setback': 1, 'setbacks': 1, 'sever': 1, 'severe': 1, 'severity': 1, 'sh*t': 1, 'shabby': 1, 'shadowy': 1, 'shady': 1, 'shake': 1, 'shaky': 1, 'shallow': 1, 'sham': 1, 'shambles': 1, 'shame': 1, 'shameful': 1, 'shamefully': 1, 'shamefulness': 1, 'shameless': 1, 'shamelessly': 1, 'shamelessness': 1, 'shark': 1, 'sharply': 1, 'shatter': 1, 'shemale': 1, 'shimmer': 1, 'shimmy': 1, 'shipwreck': 1, 'shirk': 1, 'shirker': 1, 'shit': 1, 'shiver': 1, 'shock': 1, 'shocked': 1, 'shocking': 1, 'shockingly': 1, 'shoddy': 1, 'short-lived': 1, 'shortage': 1, 'shortchange': 1, 'shortcoming': 1, 'shortcomings': 1, 'shortness': 1, 'shortsighted': 1, 'shortsightedness': 1, 'showdown': 1, 'shrew': 1, 'shriek': 1, 'shrill': 1, 'shrilly': 1, 'shrivel': 1, 'shroud': 1, 'shrouded': 1, 'shrug': 1, 'shun': 1, 'shunned': 1, 'sick': 1, 'sicken': 1, 'sickening': 1, 'sickeningly': 1, 'sickly': 1, 'sickness': 1, 'sidetrack': 1, 'sidetracked': 1, 'siege': 1, 'sillily': 1, 'silly': 1, 'simplistic': 1, 'simplistically': 1, 'sin': 1, 'sinful': 1, 'sinfully': 1, 'sinister': 1, 'sinisterly': 1, 'sink': 1, 'sinking': 1, 'skeletons': 1, 'skeptic': 1, 'skeptical': 1, 'skeptically': 1, 'skepticism': 1, 'sketchy': 1, 'skimpy': 1, 'skinny': 1, 'skittish': 1, 'skittishly': 1, 'skulk': 1, 'slack': 1, 'slander': 1, 'slanderer': 1, 'slanderous': 1, 'slanderously': 1, 'slanders': 1, 'slap': 1, 'slashing': 1, 'slaughter': 1, 'slaughtered': 1, 'slave': 1, 'slaves': 1, 'sleazy': 1, 'slime': 1, 'slog': 1, 'slogged': 1, 'slogging': 1, 'slogs': 1, 'sloooooooooooooow': 1, 'sloooow': 1, 'slooow': 1, 'sloow': 1, 'sloppily': 1, 'sloppy': 1, 'sloth': 1, 'slothful': 1, 'slow': 1, 'slow-moving': 1, 'slowed': 1, 'slower': 1, 'slowest': 1, 'slowly': 1, 'sloww': 1, 'slowww': 1, 'slowwww': 1, 'slug': 1, 'sluggish': 1, 'slump': 1, 'slumping': 1, 'slumpping': 1, 'slur': 1, 'slut': 1, 'sluts': 1, 'sly': 1, 'smack': 1, 'smallish': 1, 'smash': 1, 'smear': 1, 'smell': 1, 'smelled': 1, 'smelling': 1, 'smells': 1, 'smelly': 1, 'smelt': 1, 'smoke': 1, 'smokescreen': 1, 'smolder': 1, 'smoldering': 1, 'smother': 1, 'smoulder': 1, 'smouldering': 1, 'smudge': 1, 'smudged': 1, 'smudges': 1, 'smudging': 1, 'smug': 1, 'smugly': 1, 'smut': 1, 'smuttier': 1, 'smuttiest': 1, 'smutty': 1, 'snag': 1, 'snagged': 1, 'snagging': 1, 'snags': 1, 'snappish': 1, 'snappishly': 1, 'snare': 1, 'snarky': 1, 'snarl': 1, 'sneak': 1, 'sneakily': 1, 'sneaky': 1, 'sneer': 1, 'sneering': 1, 'sneeringly': 1, 'snob': 1, 'snobbish': 1, 'snobby': 1, 'snobish': 1, 'snobs': 1, 'snub': 1, 'so-cal': 1, 'soapy': 1, 'sob': 1, 'sober': 1, 'sobering': 1, 'solemn': 1, 'solicitude': 1, 'somber': 1, 'sore': 1, 'sorely': 1, 'soreness': 1, 'sorrow': 1, 'sorrowful': 1, 'sorrowfully': 1, 'sour': 1, 'sourly': 1, 'spade': 1, 'spank': 1, 'spendy': 1, 'spew': 1, 'spewed': 1, 'spewing': 1, 'spews': 1, 'spilling': 1, 'spinster': 1, 'spiritless': 1, 'spite': 1, 'spiteful': 1, 'spitefully': 1, 'spitefulness': 1, 'splatter': 1, 'split': 1, 'splitting': 1, 'spoil': 1, 'spoilage': 1, 'spoilages': 1, 'spoiled': 1, 'spoilled': 1, 'spoils': 1, 'spook': 1, 'spookier': 1, 'spookiest': 1, 'spookily': 1, 'spooky': 1, 'spoon-fed': 1, 'spoon-feed': 1, 'spoonfed': 1, 'sporadic': 1, 'spotty': 1, 'spurious': 1, 'spurn': 1, 'sputter': 1, 'squabble': 1, 'squabbling': 1, 'squander': 1, 'squash': 1, 'squeak': 1, 'squeaks': 1, 'squeaky': 1, 'squeal': 1, 'squealing': 1, 'squeals': 1, 'squirm': 1, 'stab': 1, 'stagnant': 1, 'stagnate': 1, 'stagnation': 1, 'staid': 1, 'stain': 1, 'stains': 1, 'stale': 1, 'stalemate': 1, 'stall': 1, 'stalls': 1, 'stammer': 1, 'stampede': 1, 'standstill': 1, 'stark': 1, 'starkly': 1, 'startle': 1, 'startling': 1, 'startlingly': 1, 'starvation': 1, 'starve': 1, 'static': 1, 'steal': 1, 'stealing': 1, 'steals': 1, 'steep': 1, 'steeply': 1, 'stench': 1, 'stereotype': 1, 'stereotypical': 1, 'stereotypically': 1, 'stern': 1, 'stew': 1, 'sticky': 1, 'stiff': 1, 'stiffness': 1, 'stifle': 1, 'stifling': 1, 'stiflingly': 1, 'stigma': 1, 'stigmatize': 1, 'sting': 1, 'stinging': 1, 'stingingly': 1, 'stingy': 1, 'stink': 1, 'stinks': 1, 'stodgy': 1, 'stole': 1, 'stolen': 1, 'stooge': 1, 'stooges': 1, 'stormy': 1, 'straggle': 1, 'straggler': 1, 'strain': 1, 'strained': 1, 'straining': 1, 'strange': 1, 'strangely': 1, 'stranger': 1, 'strangest': 1, 'strangle': 1, 'streaky': 1, 'strenuous': 1, 'stress': 1, 'stresses': 1, 'stressful': 1, 'stressfully': 1, 'stricken': 1, 'strict': 1, 'strictly': 1, 'strident': 1, 'stridently': 1, 'strife': 1, 'strike': 1, 'stringent': 1, 'stringently': 1, 'struck': 1, 'struggle': 1, 'struggled': 1, 'struggles': 1, 'struggling': 1, 'strut': 1, 'stubborn': 1, 'stubbornly': 1, 'stubbornness': 1, 'stuck': 1, 'stuffy': 1, 'stumble': 1, 'stumbled': 1, 'stumbles': 1, 'stump': 1, 'stumped': 1, 'stumps': 1, 'stun': 1, 'stunt': 1, 'stunted': 1, 'stupid': 1, 'stupidest': 1, 'stupidity': 1, 'stupidly': 1, 'stupified': 1, 'stupify': 1, 'stupor': 1, 'stutter': 1, 'stuttered': 1, 'stuttering': 1, 'stutters': 1, 'sty': 1, 'stymied': 1, 'sub-par': 1, 'subdued': 1, 'subjected': 1, 'subjection': 1, 'subjugate': 1, 'subjugation': 1, 'submissive': 1, 'subordinate': 1, 'subpoena': 1, 'subpoenas': 1, 'subservience': 1, 'subservient': 1, 'substandard': 1, 'subtract': 1, 'subversion': 1, 'subversive': 1, 'subversively': 1, 'subvert': 1, 'succumb': 1, 'suck': 1, 'sucked': 1, 'sucker': 1, 'sucks': 1, 'sucky': 1, 'sue': 1, 'sued': 1, 'sueing': 1, 'sues': 1, 'suffer': 1, 'suffered': 1, 'sufferer': 1, 'sufferers': 1, 'suffering': 1, 'suffers': 1, 'suffocate': 1, 'sugar-coat': 1, 'sugar-coated': 1, 'sugarcoated': 1, 'suicidal': 1, 'suicide': 1, 'sulk': 1, 'sullen': 1, 'sully': 1, 'sunder': 1, 'sunk': 1, 'sunken': 1, 'superficial': 1, 'superficiality': 1, 'superficially': 1, 'superfluous': 1, 'superstition': 1, 'superstitious': 1, 'suppress': 1, 'suppression': 1, 'surrender': 1, 'susceptible': 1, 'suspect': 1, 'suspicion': 1, 'suspicions': 1, 'suspicious': 1, 'suspiciously': 1, 'swagger': 1, 'swamped': 1, 'sweaty': 1, 'swelled': 1, 'swelling': 1, 'swindle': 1, 'swipe': 1, 'swollen': 1, 'symptom': 1, 'symptoms': 1, 'syndrome': 1, 'taboo': 1, 'tacky': 1, 'taint': 1, 'tainted': 1, 'tamper': 1, 'tangle': 1, 'tangled': 1, 'tangles': 1, 'tank': 1, 'tanked': 1, 'tanks': 1, 'tantrum': 1, 'tardy': 1, 'tarnish': 1, 'tarnished': 1, 'tarnishes': 1, 'tarnishing': 1, 'tattered': 1, 'taunt': 1, 'taunting': 1, 'tauntingly': 1, 'taunts': 1, 'taut': 1, 'tawdry': 1, 'taxing': 1, 'tease': 1, 'teasingly': 1, 'tedious': 1, 'tediously': 1, 'temerity': 1, 'temper': 1, 'tempest': 1, 'temptation': 1, 'tenderness': 1, 'tense': 1, 'tension': 1, 'tentative': 1, 'tentatively': 1, 'tenuous': 1, 'tenuously': 1, 'tepid': 1, 'terrible': 1, 'terribleness': 1, 'terribly': 1, 'terror': 1, 'terror-genic': 1, 'terrorism': 1, 'terrorize': 1, 'testily': 1, 'testy': 1, 'tetchily': 1, 'tetchy': 1, 'thankless': 1, 'thicker': 1, 'thirst': 1, 'thorny': 1, 'thoughtless': 1, 'thoughtlessly': 1, 'thoughtlessness': 1, 'thrash': 1, 'threat': 1, 'threaten': 1, 'threatening': 1, 'threats': 1, 'threesome': 1, 'throb': 1, 'throbbed': 1, 'throbbing': 1, 'throbs': 1, 'throttle': 1, 'thug': 1, 'thumb-down': 1, 'thumbs-down': 1, 'thwart': 1, 'time-consuming': 1, 'timid': 1, 'timidity': 1, 'timidly': 1, 'timidness': 1, 'tin-y': 1, 'tingled': 1, 'tingling': 1, 'tired': 1, 'tiresome': 1, 'tiring': 1, 'tiringly': 1, 'toil': 1, 'toll': 1, 'top-heavy': 1, 'topple': 1, 'torment': 1, 'tormented': 1, 'torrent': 1, 'tortuous': 1, 'torture': 1, 'tortured': 1, 'tortures': 1, 'torturing': 1, 'torturous': 1, 'torturously': 1, 'totalitarian': 1, 'touchy': 1, 'toughness': 1, 'tout': 1, 'touted': 1, 'touts': 1, 'toxic': 1, 'traduce': 1, 'tragedy': 1, 'tragic': 1, 'tragically': 1, 'traitor': 1, 'traitorous': 1, 'traitorously': 1, 'tramp': 1, 'trample': 1, 'transgress': 1, 'transgression': 1, 'trap': 1, 'traped': 1, 'trapped': 1, 'trash': 1, 'trashed': 1, 'trashy': 1, 'trauma': 1, 'traumatic': 1, 'traumatically': 1, 'traumatize': 1, 'traumatized': 1, 'travesties': 1, 'travesty': 1, 'treacherous': 1, 'treacherously': 1, 'treachery': 1, 'treason': 1, 'treasonous': 1, 'trick': 1, 'tricked': 1, 'trickery': 1, 'tricky': 1, 'trivial': 1, 'trivialize': 1, 'trouble': 1, 'troubled': 1, 'troublemaker': 1, 'troubles': 1, 'troublesome': 1, 'troublesomely': 1, 'troubling': 1, 'troublingly': 1, 'truant': 1, 'tumble': 1, 'tumbled': 1, 'tumbles': 1, 'tumultuous': 1, 'turbulent': 1, 'turmoil': 1, 'twist': 1, 'twisted': 1, 'twists': 1, 'two-faced': 1, 'two-faces': 1, 'tyrannical': 1, 'tyrannically': 1, 'tyranny': 1, 'tyrant': 1, 'ugh': 1, 'uglier': 1, 'ugliest': 1, 'ugliness': 1, 'ugly': 1, 'ulterior': 1, 'ultimatum': 1, 'ultimatums': 1, 'ultra-hardline': 1, 'un-viewable': 1, 'unable': 1, 'unacceptable': 1, 'unacceptablely': 1, 'unacceptably': 1, 'unaccessible': 1, 'unaccustomed': 1, 'unachievable': 1, 'unaffordable': 1, 'unappealing': 1, 'unattractive': 1, 'unauthentic': 1, 'unavailable': 1, 'unavoidably': 1, 'unbearable': 1, 'unbearablely': 1, 'unbelievable': 1, 'unbelievably': 1, 'uncaring': 1, 'uncertain': 1, 'uncivil': 1, 'uncivilized': 1, 'unclean': 1, 'unclear': 1, 'uncollectible': 1, 'uncomfortable': 1, 'uncomfortably': 1, 'uncomfy': 1, 'uncompetitive': 1, 'uncompromising': 1, 'uncompromisingly': 1, 'unconfirmed': 1, 'unconstitutional': 1, 'uncontrolled': 1, 'unconvincing': 1, 'unconvincingly': 1, 'uncooperative': 1, 'uncouth': 1, 'uncreative': 1, 'undecided': 1, 'undefined': 1, 'undependability': 1, 'undependable': 1, 'undercut': 1, 'undercuts': 1, 'undercutting': 1, 'underdog': 1, 'underestimate': 1, 'underlings': 1, 'undermine': 1, 'undermined': 1, 'undermines': 1, 'undermining': 1, 'underpaid': 1, 'underpowered': 1, 'undersized': 1, 'undesirable': 1, 'undetermined': 1, 'undid': 1, 'undignified': 1, 'undissolved': 1, 'undocumented': 1, 'undone': 1, 'undue': 1, 'unease': 1, 'uneasily': 1, 'uneasiness': 1, 'uneasy': 1, 'uneconomical': 1, 'unemployed': 1, 'unequal': 1, 'unethical': 1, 'uneven': 1, 'uneventful': 1, 'unexpected': 1, 'unexpectedly': 1, 'unexplained': 1, 'unfairly': 1, 'unfaithful': 1, 'unfaithfully': 1, 'unfamiliar': 1, 'unfavorable': 1, 'unfeeling': 1, 'unfinished': 1, 'unfit': 1, 'unforeseen': 1, 'unforgiving': 1, 'unfortunate': 1, 'unfounded': 1, 'unfriendly': 1, 'unfulfilled': 1, 'unfunded': 1, 'ungovernable': 1, 'ungrateful': 1, 'unhappily': 1, 'unhappiness': 1, 'unhappy': 1, 'unhealthy': 1, 'unhelpful': 1, 'unilateralism': 1, 'unimaginable': 1, 'unimaginably': 1, 'unimportant': 1, 'uninformed': 1, 'uninsured': 1, 'unintelligible': 1, 'unintelligile': 1, 'unipolar': 1, 'unjust': 1, 'unjustifiable': 1, 'unjustifiably': 1, 'unjustified': 1, 'unjustly': 1, 'unkind': 1, 'unkindly': 1, 'unknown': 1, 'unlamentable': 1, 'unlamentably': 1, 'unlawful': 1, 'unlawfully': 1, 'unlawfulness': 1, 'unleash': 1, 'unlicensed': 1, 'unlucky': 1, 'unmoved': 1, 'unnatural': 1, 'unnaturally': 1, 'unnecessary': 1, 'unneeded': 1, 'unnerve': 1, 'unnerved': 1, 'unnerving': 1, 'unnervingly': 1, 'unnoticed': 1, 'unobserved': 1, 'unorthodox': 1, 'unorthodoxy': 1, 'unpleasant': 1, 'unpleasantries': 1, 'unpopular': 1, 'unpredictable': 1, 'unprepared': 1, 'unproductive': 1, 'unprofitable': 1, 'unprove': 1, 'unproved': 1, 'unproven': 1, 'unproves': 1, 'unproving': 1, 'unqualified': 1, 'unravel': 1, 'unraveled': 1, 'unreachable': 1, 'unreadable': 1, 'unrealistic': 1, 'unreasonable': 1, 'unreasonably': 1, 'unrelenting': 1, 'unrelentingly': 1, 'unreliability': 1, 'unreliable': 1, 'unresolved': 1, 'unresponsive': 1, 'unrest': 1, 'unruly': 1, 'unsafe': 1, 'unsatisfactory': 1, 'unsavory': 1, 'unscrupulous': 1, 'unscrupulously': 1, 'unsecure': 1, 'unseemly': 1, 'unsettle': 1, 'unsettled': 1, 'unsettling': 1, 'unsettlingly': 1, 'unskilled': 1, 'unsophisticated': 1, 'unsound': 1, 'unspeakable': 1, 'unspeakablely': 1, 'unspecified': 1, 'unstable': 1, 'unsteadily': 1, 'unsteadiness': 1, 'unsteady': 1, 'unsuccessful': 1, 'unsuccessfully': 1, 'unsupported': 1, 'unsupportive': 1, 'unsure': 1, 'unsuspecting': 1, 'unsustainable': 1, 'untenable': 1, 'untested': 1, 'unthinkable': 1, 'unthinkably': 1, 'untimely': 1, 'untouched': 1, 'untrue': 1, 'untrustworthy': 1, 'untruthful': 1, 'unusable': 1, 'unusably': 1, 'unuseable': 1, 'unuseably': 1, 'unusual': 1, 'unusually': 1, 'unviewable': 1, 'unwanted': 1, 'unwarranted': 1, 'unwatchable': 1, 'unwelcome': 1, 'unwell': 1, 'unwieldy': 1, 'unwilling': 1, 'unwillingly': 1, 'unwillingness': 1, 'unwise': 1, 'unwisely': 1, 'unworkable': 1, 'unworthy': 1, 'unyielding': 1, 'upbraid': 1, 'upheaval': 1, 'uprising': 1, 'uproar': 1, 'uproarious': 1, 'uproariously': 1, 'uproarous': 1, 'uproarously': 1, 'uproot': 1, 'upset': 1, 'upseting': 1, 'upsets': 1, 'upsetting': 1, 'upsettingly': 1, 'urgent': 1, 'useless': 1, 'usurp': 1, 'usurper': 1, 'utterly': 1, 'vagrant': 1, 'vague': 1, 'vagueness': 1, 'vain': 1, 'vainly': 1, 'vanity': 1, 'vehement': 1, 'vehemently': 1, 'vengeance': 1, 'vengeful': 1, 'vengefully': 1, 'vengefulness': 1, 'venom': 1, 'venomous': 1, 'venomously': 1, 'vent': 1, 'vestiges': 1, 'vex': 1, 'vexation': 1, 'vexing': 1, 'vexingly': 1, 'vibrate': 1, 'vibrated': 1, 'vibrates': 1, 'vibrating': 1, 'vibration': 1, 'vice': 1, 'vicious': 1, 'viciously': 1, 'viciousness': 1, 'victimize': 1, 'vile': 1, 'vileness': 1, 'vilify': 1, 'villainous': 1, 'villainously': 1, 'villains': 1, 'villian': 1, 'villianous': 1, 'villianously': 1, 'villify': 1, 'vindictive': 1, 'vindictively': 1, 'vindictiveness': 1, 'violate': 1, 'violation': 1, 'violator': 1, 'violators': 1, 'violent': 1, 'violently': 1, 'viper': 1, 'virulence': 1, 'virulent': 1, 'virulently': 1, 'virus': 1, 'vociferous': 1, 'vociferously': 1, 'volatile': 1, 'volatility': 1, 'vomit': 1, 'vomited': 1, 'vomiting': 1, 'vomits': 1, 'vulgar': 1, 'vulnerable': 1, 'wack': 1, 'wail': 1, 'wallow': 1, 'wane': 1, 'waning': 1, 'wanton': 1, 'war-like': 1, 'warily': 1, 'wariness': 1, 'warlike': 1, 'warned': 1, 'warning': 1, 'warp': 1, 'warped': 1, 'wary': 1, 'washed-out': 1, 'waste': 1, 'wasted': 1, 'wasteful': 1, 'wastefulness': 1, 'wasting': 1, 'water-down': 1, 'watered-down': 1, 'wayward': 1, 'weak': 1, 'weaken': 1, 'weakening': 1, 'weaker': 1, 'weakness': 1, 'weaknesses': 1, 'weariness': 1, 'wearisome': 1, 'weary': 1, 'wedge': 1, 'weed': 1, 'weep': 1, 'weird': 1, 'weirdly': 1, 'wheedle': 1, 'whimper': 1, 'whine': 1, 'whining': 1, 'whiny': 1, 'whips': 1, 'whore': 1, 'whores': 1, 'wicked': 1, 'wickedly': 1, 'wickedness': 1, 'wild': 1, 'wildly': 1, 'wiles': 1, 'wilt': 1, 'wily': 1, 'wimpy': 1, 'wince': 1, 'wobble': 1, 'wobbled': 1, 'wobbles': 1, 'woe': 1, 'woebegone': 1, 'woeful': 1, 'woefully': 1, 'womanizer': 1, 'womanizing': 1, 'worn': 1, 'worried': 1, 'worriedly': 1, 'worrier': 1, 'worries': 1, 'worrisome': 1, 'worry': 1, 'worrying': 1, 'worryingly': 1, 'worse': 1, 'worsen': 1, 'worsening': 1, 'worst': 1, 'worthless': 1, 'worthlessly': 1, 'worthlessness': 1, 'wound': 1, 'wounds': 1, 'wrangle': 1, 'wrath': 1, 'wreak': 1, 'wreaked': 1, 'wreaks': 1, 'wreck': 1, 'wrest': 1, 'wrestle': 1, 'wretch': 1, 'wretched': 1, 'wretchedly': 1, 'wretchedness': 1, 'wrinkle': 1, 'wrinkled': 1, 'wrinkles': 1, 'wrip': 1, 'wripped': 1, 'wripping': 1, 'writhe': 1, 'wrong': 1, 'wrongful': 1, 'wrongly': 1, 'wrought': 1, 'yawn': 1, 'zap': 1, 'zapped': 1, 'zaps': 1, 'zealot': 1, 'zealous': 1, 'zealously': 1, 'zombie': 1}\n"
          ]
        }
      ]
    },
    {
      "cell_type": "markdown",
      "source": [
        "\n",
        "*   Define positive and negative dictionaries and then printing it.\n"
      ],
      "metadata": {
        "id": "o8MLQDgb8dFI"
      }
    },
    {
      "cell_type": "markdown",
      "source": [
        "###Extracting Derived variables\n",
        "\n",
        "* We convert the text into a list of tokens using the nltk tokenize module and use these tokens to calculate the 4 variables described below:\n"
      ],
      "metadata": {
        "id": "eQIxaTwAu2ib"
      }
    },
    {
      "cell_type": "markdown",
      "source": [
        "### **Positive Score**\n",
        "\n",
        "* This score is calculated by assigning the value of +1 for each word if found in the Positive Dictionary and then adding up all the values."
      ],
      "metadata": {
        "id": "XkriMsCiNG1e"
      }
    },
    {
      "cell_type": "code",
      "source": [
        "# Calculate Positive Score\n",
        "def calculate_positive_score(tokens):\n",
        "    return sum(positive_dictionary.get(token, 0) for token in tokens)"
      ],
      "metadata": {
        "id": "mGbOKUpgrN9r"
      },
      "execution_count": null,
      "outputs": []
    },
    {
      "cell_type": "code",
      "source": [
        "df['Positive_Score'] = df['Cleaned_Text'].apply(lambda x: calculate_positive_score(x.split()))"
      ],
      "metadata": {
        "id": "e6WSSOdHsw2g"
      },
      "execution_count": null,
      "outputs": []
    },
    {
      "cell_type": "markdown",
      "source": [
        "### **Negative Score**\n",
        "\n",
        "* This score is calculated by assigning the value of -1 for each word if found in the Negative Dictionary and then adding up all the values. We multiply the score with -1 so that the score is a positive number.\n"
      ],
      "metadata": {
        "id": "ZS6_rpRZOVmx"
      }
    },
    {
      "cell_type": "code",
      "source": [
        "# Calculate Negative Score\n",
        "def calculate_negative_score(tokens):\n",
        "    return sum(negative_dictionary.get(token, 0) for token in tokens) * -1"
      ],
      "metadata": {
        "id": "xfQH-lkWrVRL"
      },
      "execution_count": null,
      "outputs": []
    },
    {
      "cell_type": "code",
      "source": [
        "df['Negative_Score'] = df['Cleaned_Text'].apply(lambda x: calculate_negative_score(x.split()))"
      ],
      "metadata": {
        "id": "IvBEgiF-szYg"
      },
      "execution_count": null,
      "outputs": []
    },
    {
      "cell_type": "markdown",
      "source": [
        "### **Polarity Score**\n",
        "\n",
        "* This is the score that determines if a given text is positive or negative in nature. It is calculated by using the formula:\n",
        "\n",
        "* Polarity Score = (Positive Score – Negative Score)/ ((Positive Score + Negative Score) + 0.000001)\n",
        "\n",
        "* Range is from -1 to +1\n"
      ],
      "metadata": {
        "id": "I3ZDwf_2Ob5p"
      }
    },
    {
      "cell_type": "code",
      "source": [
        "# Calculate Polarity Score\n",
        "def calculate_polarity_score(positive_score, negative_score):\n",
        "    return (positive_score - negative_score) / ((positive_score + negative_score) + 0.000001)"
      ],
      "metadata": {
        "id": "lTJcaiJ8rZV6"
      },
      "execution_count": null,
      "outputs": []
    },
    {
      "cell_type": "code",
      "source": [
        "df['Polarity_Score'] = df.apply(lambda row: calculate_polarity_score(row['Positive_Score'], row['Negative_Score']), axis=1)"
      ],
      "metadata": {
        "id": "IQm_D5wIs2dD"
      },
      "execution_count": null,
      "outputs": []
    },
    {
      "cell_type": "markdown",
      "source": [
        "### **Subjectivity Score**\n",
        "\n",
        "* This is the score that determines if a given text is objective or subjective. It is calculated by using the formula:\n",
        "\n",
        "* Subjectivity Score = (Positive Score + Negative Score)/ ((Total Words after cleaning) + 0.000001)\n",
        "\n",
        "* Range is from 0 to +1\n"
      ],
      "metadata": {
        "id": "NG0puxUkOlh6"
      }
    },
    {
      "cell_type": "code",
      "source": [
        "# Calculate Subjectivity Score\n",
        "def calculate_subjectivity_score(positive_score, negative_score, total_words):\n",
        "    return (positive_score + negative_score) / (total_words + 0.000001)"
      ],
      "metadata": {
        "id": "MvOOa7KZrg8M"
      },
      "execution_count": null,
      "outputs": []
    },
    {
      "cell_type": "code",
      "source": [
        "df['Subjectivity_Score'] = df.apply(lambda row: calculate_subjectivity_score(row['Positive_Score'], row['Negative_Score'], len(row['Cleaned_Text'].split())), axis=1)"
      ],
      "metadata": {
        "id": "EOURoFods5aG"
      },
      "execution_count": null,
      "outputs": []
    },
    {
      "cell_type": "code",
      "source": [
        "df.head()"
      ],
      "metadata": {
        "colab": {
          "base_uri": "https://localhost:8080/",
          "height": 556
        },
        "id": "OpEH4jZwr1XS",
        "outputId": "797a64b0-0231-4d74-d7b3-d51ce7ad3c65"
      },
      "execution_count": null,
      "outputs": [
        {
          "output_type": "execute_result",
          "data": {
            "text/plain": [
              "            URL_ID                                                URL  \\\n",
              "0  blackassign0001  https://insights.blackcoffer.com/rising-it-cit...   \n",
              "1  blackassign0002  https://insights.blackcoffer.com/rising-it-cit...   \n",
              "2  blackassign0003  https://insights.blackcoffer.com/internet-dema...   \n",
              "3  blackassign0004  https://insights.blackcoffer.com/rise-of-cyber...   \n",
              "4  blackassign0005  https://insights.blackcoffer.com/ott-platform-...   \n",
              "\n",
              "                                               Title  \\\n",
              "0  Rising IT cities and its impact on the economy...   \n",
              "1  Rising IT Cities and Their Impact on the Econo...   \n",
              "2  Internet Demand's Evolution, Communication Imp...   \n",
              "3  Rise of Cybercrime and its Effect in upcoming ...   \n",
              "4  OTT platform and its impact on the entertainme...   \n",
              "\n",
              "                                                Text  \\\n",
              "0  We have seen a huge development and dependence...   \n",
              "1  Throughout history, from the industrial revolu...   \n",
              "2  Introduction In the span of just a few decades...   \n",
              "3  The way we live, work, and communicate has unq...   \n",
              "4  The year 2040 is poised to witness a continued...   \n",
              "\n",
              "                                        Cleaned_Text  Positive_Score  \\\n",
              "0  huge development dependence people technology ...               6   \n",
              "1  history, industrial revolution 18th century de...              45   \n",
              "2  Introduction span decades, internet undergone ...              33   \n",
              "3  live, work, communicate unquestionably changed...              29   \n",
              "4  year 2040 poised witness continued revolution ...              17   \n",
              "\n",
              "   Negative_Score  Polarity_Score  Subjectivity_Score  \n",
              "0              -1        1.400000            0.030303  \n",
              "1             -23        3.090909            0.028758  \n",
              "2             -19        3.714285            0.022508  \n",
              "3             -58       -3.000000           -0.047934  \n",
              "4              -7        2.400000            0.027322  "
            ],
            "text/html": [
              "\n",
              "  <div id=\"df-9ca681f7-fa6d-47cb-9369-a8e276bbac4d\" class=\"colab-df-container\">\n",
              "    <div>\n",
              "<style scoped>\n",
              "    .dataframe tbody tr th:only-of-type {\n",
              "        vertical-align: middle;\n",
              "    }\n",
              "\n",
              "    .dataframe tbody tr th {\n",
              "        vertical-align: top;\n",
              "    }\n",
              "\n",
              "    .dataframe thead th {\n",
              "        text-align: right;\n",
              "    }\n",
              "</style>\n",
              "<table border=\"1\" class=\"dataframe\">\n",
              "  <thead>\n",
              "    <tr style=\"text-align: right;\">\n",
              "      <th></th>\n",
              "      <th>URL_ID</th>\n",
              "      <th>URL</th>\n",
              "      <th>Title</th>\n",
              "      <th>Text</th>\n",
              "      <th>Cleaned_Text</th>\n",
              "      <th>Positive_Score</th>\n",
              "      <th>Negative_Score</th>\n",
              "      <th>Polarity_Score</th>\n",
              "      <th>Subjectivity_Score</th>\n",
              "    </tr>\n",
              "  </thead>\n",
              "  <tbody>\n",
              "    <tr>\n",
              "      <th>0</th>\n",
              "      <td>blackassign0001</td>\n",
              "      <td>https://insights.blackcoffer.com/rising-it-cit...</td>\n",
              "      <td>Rising IT cities and its impact on the economy...</td>\n",
              "      <td>We have seen a huge development and dependence...</td>\n",
              "      <td>huge development dependence people technology ...</td>\n",
              "      <td>6</td>\n",
              "      <td>-1</td>\n",
              "      <td>1.400000</td>\n",
              "      <td>0.030303</td>\n",
              "    </tr>\n",
              "    <tr>\n",
              "      <th>1</th>\n",
              "      <td>blackassign0002</td>\n",
              "      <td>https://insights.blackcoffer.com/rising-it-cit...</td>\n",
              "      <td>Rising IT Cities and Their Impact on the Econo...</td>\n",
              "      <td>Throughout history, from the industrial revolu...</td>\n",
              "      <td>history, industrial revolution 18th century de...</td>\n",
              "      <td>45</td>\n",
              "      <td>-23</td>\n",
              "      <td>3.090909</td>\n",
              "      <td>0.028758</td>\n",
              "    </tr>\n",
              "    <tr>\n",
              "      <th>2</th>\n",
              "      <td>blackassign0003</td>\n",
              "      <td>https://insights.blackcoffer.com/internet-dema...</td>\n",
              "      <td>Internet Demand's Evolution, Communication Imp...</td>\n",
              "      <td>Introduction In the span of just a few decades...</td>\n",
              "      <td>Introduction span decades, internet undergone ...</td>\n",
              "      <td>33</td>\n",
              "      <td>-19</td>\n",
              "      <td>3.714285</td>\n",
              "      <td>0.022508</td>\n",
              "    </tr>\n",
              "    <tr>\n",
              "      <th>3</th>\n",
              "      <td>blackassign0004</td>\n",
              "      <td>https://insights.blackcoffer.com/rise-of-cyber...</td>\n",
              "      <td>Rise of Cybercrime and its Effect in upcoming ...</td>\n",
              "      <td>The way we live, work, and communicate has unq...</td>\n",
              "      <td>live, work, communicate unquestionably changed...</td>\n",
              "      <td>29</td>\n",
              "      <td>-58</td>\n",
              "      <td>-3.000000</td>\n",
              "      <td>-0.047934</td>\n",
              "    </tr>\n",
              "    <tr>\n",
              "      <th>4</th>\n",
              "      <td>blackassign0005</td>\n",
              "      <td>https://insights.blackcoffer.com/ott-platform-...</td>\n",
              "      <td>OTT platform and its impact on the entertainme...</td>\n",
              "      <td>The year 2040 is poised to witness a continued...</td>\n",
              "      <td>year 2040 poised witness continued revolution ...</td>\n",
              "      <td>17</td>\n",
              "      <td>-7</td>\n",
              "      <td>2.400000</td>\n",
              "      <td>0.027322</td>\n",
              "    </tr>\n",
              "  </tbody>\n",
              "</table>\n",
              "</div>\n",
              "    <div class=\"colab-df-buttons\">\n",
              "\n",
              "  <div class=\"colab-df-container\">\n",
              "    <button class=\"colab-df-convert\" onclick=\"convertToInteractive('df-9ca681f7-fa6d-47cb-9369-a8e276bbac4d')\"\n",
              "            title=\"Convert this dataframe to an interactive table.\"\n",
              "            style=\"display:none;\">\n",
              "\n",
              "  <svg xmlns=\"http://www.w3.org/2000/svg\" height=\"24px\" viewBox=\"0 -960 960 960\">\n",
              "    <path d=\"M120-120v-720h720v720H120Zm60-500h600v-160H180v160Zm220 220h160v-160H400v160Zm0 220h160v-160H400v160ZM180-400h160v-160H180v160Zm440 0h160v-160H620v160ZM180-180h160v-160H180v160Zm440 0h160v-160H620v160Z\"/>\n",
              "  </svg>\n",
              "    </button>\n",
              "\n",
              "  <style>\n",
              "    .colab-df-container {\n",
              "      display:flex;\n",
              "      gap: 12px;\n",
              "    }\n",
              "\n",
              "    .colab-df-convert {\n",
              "      background-color: #E8F0FE;\n",
              "      border: none;\n",
              "      border-radius: 50%;\n",
              "      cursor: pointer;\n",
              "      display: none;\n",
              "      fill: #1967D2;\n",
              "      height: 32px;\n",
              "      padding: 0 0 0 0;\n",
              "      width: 32px;\n",
              "    }\n",
              "\n",
              "    .colab-df-convert:hover {\n",
              "      background-color: #E2EBFA;\n",
              "      box-shadow: 0px 1px 2px rgba(60, 64, 67, 0.3), 0px 1px 3px 1px rgba(60, 64, 67, 0.15);\n",
              "      fill: #174EA6;\n",
              "    }\n",
              "\n",
              "    .colab-df-buttons div {\n",
              "      margin-bottom: 4px;\n",
              "    }\n",
              "\n",
              "    [theme=dark] .colab-df-convert {\n",
              "      background-color: #3B4455;\n",
              "      fill: #D2E3FC;\n",
              "    }\n",
              "\n",
              "    [theme=dark] .colab-df-convert:hover {\n",
              "      background-color: #434B5C;\n",
              "      box-shadow: 0px 1px 3px 1px rgba(0, 0, 0, 0.15);\n",
              "      filter: drop-shadow(0px 1px 2px rgba(0, 0, 0, 0.3));\n",
              "      fill: #FFFFFF;\n",
              "    }\n",
              "  </style>\n",
              "\n",
              "    <script>\n",
              "      const buttonEl =\n",
              "        document.querySelector('#df-9ca681f7-fa6d-47cb-9369-a8e276bbac4d button.colab-df-convert');\n",
              "      buttonEl.style.display =\n",
              "        google.colab.kernel.accessAllowed ? 'block' : 'none';\n",
              "\n",
              "      async function convertToInteractive(key) {\n",
              "        const element = document.querySelector('#df-9ca681f7-fa6d-47cb-9369-a8e276bbac4d');\n",
              "        const dataTable =\n",
              "          await google.colab.kernel.invokeFunction('convertToInteractive',\n",
              "                                                    [key], {});\n",
              "        if (!dataTable) return;\n",
              "\n",
              "        const docLinkHtml = 'Like what you see? Visit the ' +\n",
              "          '<a target=\"_blank\" href=https://colab.research.google.com/notebooks/data_table.ipynb>data table notebook</a>'\n",
              "          + ' to learn more about interactive tables.';\n",
              "        element.innerHTML = '';\n",
              "        dataTable['output_type'] = 'display_data';\n",
              "        await google.colab.output.renderOutput(dataTable, element);\n",
              "        const docLink = document.createElement('div');\n",
              "        docLink.innerHTML = docLinkHtml;\n",
              "        element.appendChild(docLink);\n",
              "      }\n",
              "    </script>\n",
              "  </div>\n",
              "\n",
              "\n",
              "<div id=\"df-55704670-4db8-4f84-96cb-b5293682bfdb\">\n",
              "  <button class=\"colab-df-quickchart\" onclick=\"quickchart('df-55704670-4db8-4f84-96cb-b5293682bfdb')\"\n",
              "            title=\"Suggest charts\"\n",
              "            style=\"display:none;\">\n",
              "\n",
              "<svg xmlns=\"http://www.w3.org/2000/svg\" height=\"24px\"viewBox=\"0 0 24 24\"\n",
              "     width=\"24px\">\n",
              "    <g>\n",
              "        <path d=\"M19 3H5c-1.1 0-2 .9-2 2v14c0 1.1.9 2 2 2h14c1.1 0 2-.9 2-2V5c0-1.1-.9-2-2-2zM9 17H7v-7h2v7zm4 0h-2V7h2v10zm4 0h-2v-4h2v4z\"/>\n",
              "    </g>\n",
              "</svg>\n",
              "  </button>\n",
              "\n",
              "<style>\n",
              "  .colab-df-quickchart {\n",
              "      --bg-color: #E8F0FE;\n",
              "      --fill-color: #1967D2;\n",
              "      --hover-bg-color: #E2EBFA;\n",
              "      --hover-fill-color: #174EA6;\n",
              "      --disabled-fill-color: #AAA;\n",
              "      --disabled-bg-color: #DDD;\n",
              "  }\n",
              "\n",
              "  [theme=dark] .colab-df-quickchart {\n",
              "      --bg-color: #3B4455;\n",
              "      --fill-color: #D2E3FC;\n",
              "      --hover-bg-color: #434B5C;\n",
              "      --hover-fill-color: #FFFFFF;\n",
              "      --disabled-bg-color: #3B4455;\n",
              "      --disabled-fill-color: #666;\n",
              "  }\n",
              "\n",
              "  .colab-df-quickchart {\n",
              "    background-color: var(--bg-color);\n",
              "    border: none;\n",
              "    border-radius: 50%;\n",
              "    cursor: pointer;\n",
              "    display: none;\n",
              "    fill: var(--fill-color);\n",
              "    height: 32px;\n",
              "    padding: 0;\n",
              "    width: 32px;\n",
              "  }\n",
              "\n",
              "  .colab-df-quickchart:hover {\n",
              "    background-color: var(--hover-bg-color);\n",
              "    box-shadow: 0 1px 2px rgba(60, 64, 67, 0.3), 0 1px 3px 1px rgba(60, 64, 67, 0.15);\n",
              "    fill: var(--button-hover-fill-color);\n",
              "  }\n",
              "\n",
              "  .colab-df-quickchart-complete:disabled,\n",
              "  .colab-df-quickchart-complete:disabled:hover {\n",
              "    background-color: var(--disabled-bg-color);\n",
              "    fill: var(--disabled-fill-color);\n",
              "    box-shadow: none;\n",
              "  }\n",
              "\n",
              "  .colab-df-spinner {\n",
              "    border: 2px solid var(--fill-color);\n",
              "    border-color: transparent;\n",
              "    border-bottom-color: var(--fill-color);\n",
              "    animation:\n",
              "      spin 1s steps(1) infinite;\n",
              "  }\n",
              "\n",
              "  @keyframes spin {\n",
              "    0% {\n",
              "      border-color: transparent;\n",
              "      border-bottom-color: var(--fill-color);\n",
              "      border-left-color: var(--fill-color);\n",
              "    }\n",
              "    20% {\n",
              "      border-color: transparent;\n",
              "      border-left-color: var(--fill-color);\n",
              "      border-top-color: var(--fill-color);\n",
              "    }\n",
              "    30% {\n",
              "      border-color: transparent;\n",
              "      border-left-color: var(--fill-color);\n",
              "      border-top-color: var(--fill-color);\n",
              "      border-right-color: var(--fill-color);\n",
              "    }\n",
              "    40% {\n",
              "      border-color: transparent;\n",
              "      border-right-color: var(--fill-color);\n",
              "      border-top-color: var(--fill-color);\n",
              "    }\n",
              "    60% {\n",
              "      border-color: transparent;\n",
              "      border-right-color: var(--fill-color);\n",
              "    }\n",
              "    80% {\n",
              "      border-color: transparent;\n",
              "      border-right-color: var(--fill-color);\n",
              "      border-bottom-color: var(--fill-color);\n",
              "    }\n",
              "    90% {\n",
              "      border-color: transparent;\n",
              "      border-bottom-color: var(--fill-color);\n",
              "    }\n",
              "  }\n",
              "</style>\n",
              "\n",
              "  <script>\n",
              "    async function quickchart(key) {\n",
              "      const quickchartButtonEl =\n",
              "        document.querySelector('#' + key + ' button');\n",
              "      quickchartButtonEl.disabled = true;  // To prevent multiple clicks.\n",
              "      quickchartButtonEl.classList.add('colab-df-spinner');\n",
              "      try {\n",
              "        const charts = await google.colab.kernel.invokeFunction(\n",
              "            'suggestCharts', [key], {});\n",
              "      } catch (error) {\n",
              "        console.error('Error during call to suggestCharts:', error);\n",
              "      }\n",
              "      quickchartButtonEl.classList.remove('colab-df-spinner');\n",
              "      quickchartButtonEl.classList.add('colab-df-quickchart-complete');\n",
              "    }\n",
              "    (() => {\n",
              "      let quickchartButtonEl =\n",
              "        document.querySelector('#df-55704670-4db8-4f84-96cb-b5293682bfdb button');\n",
              "      quickchartButtonEl.style.display =\n",
              "        google.colab.kernel.accessAllowed ? 'block' : 'none';\n",
              "    })();\n",
              "  </script>\n",
              "</div>\n",
              "\n",
              "    </div>\n",
              "  </div>\n"
            ],
            "application/vnd.google.colaboratory.intrinsic+json": {
              "type": "dataframe",
              "variable_name": "df",
              "summary": "{\n  \"name\": \"df\",\n  \"rows\": 100,\n  \"fields\": [\n    {\n      \"column\": \"URL_ID\",\n      \"properties\": {\n        \"dtype\": \"string\",\n        \"num_unique_values\": 100,\n        \"samples\": [\n          \"blackassign0084\",\n          \"blackassign0054\",\n          \"blackassign0071\"\n        ],\n        \"semantic_type\": \"\",\n        \"description\": \"\"\n      }\n    },\n    {\n      \"column\": \"URL\",\n      \"properties\": {\n        \"dtype\": \"string\",\n        \"num_unique_values\": 100,\n        \"samples\": [\n          \"https://insights.blackcoffer.com/how-voice-search-makes-your-business-a-successful-business/\",\n          \"https://insights.blackcoffer.com/how-google-fit-measure-heart-and-respiratory-rates-using-a-phone/\",\n          \"https://insights.blackcoffer.com/how-to-overcome-your-fear-of-making-mistakes-2/\"\n        ],\n        \"semantic_type\": \"\",\n        \"description\": \"\"\n      }\n    },\n    {\n      \"column\": \"Title\",\n      \"properties\": {\n        \"dtype\": \"string\",\n        \"num_unique_values\": 93,\n        \"samples\": [\n          \"All you need to know about online marketing\",\n          \"An outlook of healthcare by the year 2040, and how it will impact human lives.\",\n          \"Are we any closer to preventing a nuclear holocaust?\"\n        ],\n        \"semantic_type\": \"\",\n        \"description\": \"\"\n      }\n    },\n    {\n      \"column\": \"Text\",\n      \"properties\": {\n        \"dtype\": \"string\",\n        \"num_unique_values\": 98,\n        \"samples\": [\n          \"Nature has blessed humanity with earth, a rounded globe where all essential necessity lies in the hand of a human. Though in this 21st-century building Space shuttle and exploring space has become an obvious activity among the human raise, now with the inclusion of Start-ups like Space X once dreamed for reaching out at space now is coming true. We all have to agree upon a fact that in the Growth of industrialization we have generated a humungous carbon footprint and colonize at outer space will create a much-needed area for our survival. With time the human race has visualized and has undergone many transformations, and these transformations may for starters were not that effective but were a major role at existence to this age. Be it a natural transformation like shifting of tectonic plates or manmade like Dumping water and damaging water bodies, somehow have affected usual life of humans so creating space of humans is what next humans are eyeing for. All this idea for Colonizing in outer space emerged when NASA was able to launch a space shuttle with a heavy payload in the late 1990s this idea didn\\u2019t stir brain at that time but later was like apple eyes when various articles from astronauts and their writeup came into limelight and this idea saw its progression, space exploration was not a new normal, companies were petrified by the number of investments that these kinds of projects ask for. But things change with the entry of PayPal\\u2019s owner Elon Musk, in 2002 where he laid stones of Space X, with NASA providing the launchpad for their exploration. Being space travel legitimate there where many bottlenecks knowing the nature of outer space will boost the idea of colonizing, here one has to realize the optimum. But the main target that these company put forward with themself was to not just get into other planet but to get back at earth safely, earlier these projects due to high fund was always subdued and priority was given to the rocket technology. Thus, this unimaginable quest for the search of space was far-fetched though. Now being in 2020 we do not find it out of a place of colonizing outside of space, the kind of emergence of technologies has led to the escalation of spreading the roots of human existence, the plan for reaching out to outer space too plays a key role for this idea too. Proper Planning, Analysing, Organising, and Executing were required for these projects to be successful for deeper know how I would like to mention here an example of Space X, According to them they wud be successful for sending Rockets by 2022 and would able to colonize by 2050, For achieving these vision they have planned a total of 36 times pre-launch of the same rocket which they will be launching by 2020. Not only that they have already placed their star link satellites which will provide the basic network connectivity for their colonized world, they have planned this to that extent that they have targeted a profit of $ 22 billion yearly by 2025. Already they have sent the first manned rocket successfully what Elon musk plan is to create that infrastructure by which going to Mars with cost as a regular air flight ticket all this will lead to better chances for colonizing at another planet. With setting up their commercial flight once started to the red planet it wud just be a stepping stone for the colonizing at the outer space. But the fundamental change that people have to undergo while living on another planet will be a change in gravity and being able to be near to live support if any technical issues arise to their suit until unless we find a similar place like the earth that is the change which humans have to adjust. Aspects like Ultraviolet rays too will play an immense role in the survival, but with the rate of technology expanding and challenging at very boundaries there are not many days left when we find solutions to these aspects but this idea of colonizing has more to do with monetary terms it has been projected that building a colony at space will cost at about $10 Trillian which is more than many countries GDP. Placing that much of an amount and getting funding for such highly anticipated projects is tough. Elon to have addressed with these questions with an open Door he believes that this cost is nothing when we find a route to colonize space and these costs will be justifiable when space exploration will reach new heights. Also, our world is around water and the percentage of land comparison to water is too less. Whereas the population is increasing with the speed and the level of excitement in order to search for new things and the obsession with the new and innovative things never going to finish. Because in the end, we do not satisfy what we have achieved, we are only looking for other things and crave to achieve that. In order to achieve that planning is most crucial stage. As of now we have searched 9 planets but still didn\\u2019t shortlisted the outcomes. But according to the 3-decade theory of ELON MUSK, it seems to be possible. As the most important thing to survive is the atmospheric environment, whether is this suitable or not, and in order to make it suitable what steps had to take and maintain the suitable level of oxygen.\\u00a0 The missions are now what everyone is focusing about. Finding the source of water, because its 2nd crucial thing which is needed to survive. Apart from the excitement and the things, the threats or the uncertainties are bound to happen like any kind of mammal which could occur during construction or after that. So the security for that or any protection so that uncertainties could be replicated. After the basic things, other factors like what are the natural habitats available there, whether the plants could be grown over there or not. If yes, then what types of plants could survive there. The environment for the animals is safe or not. Because to balance the nature we need all types of animals, natural habitat, even insects and other small things which seems to be ignorable but plays an important role in maintaining the environmental balance. For e.g.\\u00a0 \\u2013 Ants are among the leading predators of other insects, helping to keep pest populations low.\\u00a0 Ants move approximately the same amount of soil as earthworms, loosening the soil in the process and increasing air and water movement into the ground.\\u00a0 They keep the ecosystem clean of dead insect carcasses and aid in the destruction and decomposition of plant and animal matter.\\u00a0So, every small thing contributes in its own way. Another matter of concern is the level of artificial intelligence and machine learning required to maintain that kind of requirement. Because as the current scenario, we need energy to run any vehicle or even for the robotics. So, the availability of the energy and the source of energy is needed. And apart from this, the heat of sun is equally important in order to maintain the level. Because with artificial air we can survive but not for so long. So, in order to remain healthy as well the calculation has to be done. When thinking about disease, you may have heard in the news about the concern that antibiotics (such as penicillin) \\u2013 which help fight infections \\u2013 may eventually stop working. Global health organisations are trying to reduce the use of antibiotics, especially for conditions that aren\\u2019t serious. This is because their overuse in recent years means that they\\u2019re becoming less effective. But still we can survive without antibiotics. Because there are ways\\u00a0of dealing with diseases caused by bacteria such as isolation which is how they were treated before penicillin. It might sound like something set firmly in the realm of fantasy, but experts in private industry and governments around the world are trying to understand how feasible it would be to establish a lunar base. Some scientists think humans could survive comfortably on the moon. In some ways, the very minimal gravity of the moon might actually be more conducive to life than the microgravity astronauts experience on the International Space Station. Although it hasn\\u2019t been formally tested, some experts hypothesize that the small amount of gravitational force put on an astronaut\\u2019s body when on the moon\\u00a0could help stem some of the adverse effects like bone-density and muscle loss that space flyers experience while living in microgravity on the International Space Station. By using the moon\\u2019s indigenous material, space agencies can save money on the cost of flying pricey missions to and from the moon\\u2019s surface.\\u00a0Once on the moon, instead of having to stage costly missions aimed at delivering oxygen and other necessary resources from Earth, experts might be able to actually use the material to manufacture gasses needed to sustain life on the satellite. On earth, we are protected from radioactive solar winds and cosmic rays by our own magnet field known as the magnetosphere. But out in the space, we can\\u2019t rely on this type of protection, and in order to make that protection, it could take a lot but yes with more upgraded technology it could achieve. Although till now the approximate value of the project is $10 trillion. But the aim is to make the fare equivalent to the normal air fare. As once we are comfortable with all the resources, securities for uncertainties, risk analysis, and the probability of survival of the human being and many other factors after consideration, then development won\\u2019t take much time. Because to construct a building it take normally 8-9 months. Which is totally acceptable. But the main concern is the density of the land, i.e. whether the land has the capacity to bear that much weight or not. And the type of land is adaptable for cultivation or nor. Although land can be converted into different types of cultivation but with the help of upgraded technology. In order to transport the equipments on the regular basis, a large amount of fuel Is required, and other factors as well and Built the propellor depo for rocket landing building various infrastructure for the city one by one will create a way forward for idea of Colonizing at outer space.\",\n          \"The way work is being done now is destined to undergo massive transformational changes which will impact humans and their ways of working dramatically. With the development of the new machine programs, A.I. is all set to take over the humans in their workplace as no other did. Now we are not only in competition with other beings but with robots too. And robots will overcome us in our fields of work. At present we are being surrounded by A.I. from dusk till dawn, from facial recognition present in our mobile application to dating websites/applications which uses decision making as their algorithms and learn from the past data as well. It is believed that A.I. has grown over 270% over the last years. First, let us know what A.I. is and all the fuss going on about it?A.I. as defined by the internet is simply \\u2018simulation of human intelligence in machines that are programmed to think like humans and mimic their actions\\u2019. This translates to, it can work as a human being just at fast speed and with 100% accuracy.In my definition I would define A.I. as the god form of human beings. Now the question that arises is, what does A.I. entails for the future? A.I. is fancy enough to continue existing in our minds all the time, but it does come with certain limitations and threats which is a cause for a peaceful sleep for most of the workers. With its introduction to different areas of the workplace, it is clear that half of the human jobs would be taken up by A.I. and then there would arise a need for more jobs for humans in new upcoming AI-based ventures in different industries. Thereby giving us our fair share back to us. In a survey, it was found that some believed that AI will be devastating for humans and while some professionals and tech-savvy people believed that inculcating AI technology into business and our daily lives would be a remarkable step as it will lead to the flourishment of business in the future and give them a competitive edge over their rivals. People believed that when these advanced technologies would come together to work with humans, they will produce a smarter strategic decision with productive collaborative practices. More modern technology prevailing in the organization will lead to stress reduction and produce more satisfying results thereby making the organization more efficient. The Organizations who are in use of the AI technology responds by saying that their managers are more comfortable using A.I. and are accustomed to it and the organizations are now looking forward to having integration of higher-end technology systems, as it is believed that new technology will result in more productivity thereby making more profits in the long run. Many jobs today require AI and humans working in collaboration, which creates a positive signal that in the future to humans would be working closely with the technology. Beyond just training and developing these machines, humans would be working in close vicinity with them and making decisions on how to act on the result that is given by the machine. It can be said that both the AI advanced technology and human can\\u2019t remain in the workforce without each other, as the technology will produce accurate and top-notch results but it requires someone to make delivery.e.g., in a firm, an AI-based system produces results based on historical data but there is a need for someone to analyze and communicate and present this data to the respective stakeholders whether inside or outside of the organization. Various uses of artificial intelligence technology in day-to-day functions in regards to interactions with humans are: Artificial intelligence as we know works on algorithms, neural networks, and deep learning which all are analytical tools that help AI in taking analytical decisions based on the data provided. Whereas, humans on the other hand take higher-level decisions based on \\u2018Intuition\\u2019 sometimes, which refers to the gut feeling that generates in humans concerning any situation or challenge. AI alone can\\u2019t work to handle critical situations on its own as it needs humans for it to reciprocate them and share the information with stakeholders, and humans alone can\\u2019t anticipate much on the accurate and fast-paced analytical solutions to the problems persisting in place of the situation. The strength of humans and AI working in synergy can be surprisingly beneficial and advantageous to organizations. It is believed that machines in the future would be eating up our traditional jobs. But the reality seems to be turning otherwise. The future trend shows that in future the AI-powered technology would take up jobs that were being done by humans but in return would produce more jobs that would require human interference with them. As and when the newer technology is approaching more and more countries are now proceeding towards GIG Economies, and so in the future, we can witness an increase in freelance jobs and the permanent labor market norms could reduce drastically. Some of the jobs today will be replaced by AI which is in the transportation or retail commerce sector that can be 100% automated in the future years. There is an \\u2018Amazon Go\\u2019 store that uses this technology which goes by the name \\u2018Just walk out technology\\u2019 wherein there is no need for any human-induced workforce and all the operations are carried out by AI-powered technologies, which is indeed a breakthrough technology in today\\u2019s world. Rather than eating up our jobs AI in return will be creating more jobs in the future by creating massive innovations thereby fueling up many new industries and thereby giving us our fair share of jobs back. There will be a lot of demand placed on the upcoming young workforce which is also categorized as \\u2018Gen Z\\u2019. They are expected to know more about technology and would be high in demand. \\u00a0These young generations are required to learn new skills which are needed to survive in the dynamic changing environment, and as most of the activities that are carried out by workers will be automated, there will be demand for people working in the back office and maintaining and developing the technology to its best versions. \\u00a0 AI powered technology has its limitations which makes it a rigid system to hold on to and also which makes it a costly affair at the initial stage. \\u00a0 It was predicted that the cost of electricity to power a supercharged AI model was around $4.6 million. So, this super-powered AI can be purchased only by big fortune firms and thereby creating more value to their net worth. One of the major limitations of AI is that it can contain biased data as the scientists who put in the data can create biasedness and so the resultant output of the same would have a biased report. These machines as do not have neuroscience-based technology in them yet which enables them to carry human emotions to understand complex situations and a creative way out of that, they tend to have a lack of out of box thinking which in the case is rigid in themselves as they are programmed to work on a single task and they cannot perform more than a single task at the same time. It is also believed that there exists no creativity among the computer, no matter it is fast-paced, but they are not intelligent. Businesses and organizations need to understand and anticipate the opportunities that the future holds for them and they need to start training their employees based on today\\u2019s dynamic changing technology. While it\\u2019s still unclear what does the future holds for us, but the anticipation of it could benefit us in several ways. As we are unclear about what the future looks like, we need to think in probable terms how it could turn out to be and then employ specific training programs for the employees of the organization.The training the employees are needed to be done on a continuous and lifetime basis which means that education won\\u2019t be only limited to PG degrees but will be now a lifetime process of learning. As the Covid-19 changed the scenario of the work patterns around the world, we now need to think strategically about the working dynamics of the future and how does it look like compared to the pre-covid and post-covid scenario. Employees will be playing a major role in transforming the organizations and work practices in the upcoming future, so organizations need to select and recruit the best candidates among the pool and then provide them with best practices of the new machines and make proficient in their area of work. Policies need to be developed to hire the best people and then retaining the talent in the organization. There needs to be a continuous scanning of the environment by the organizations to comprehend any new trends and assess them, not all trends will be beneficial for organizations, they must be aware of the prospects and plan for the future systematically and consistently. There lies a possibility in future certain years from now, we could have machines who will have general human intelligence who would be able to answer deep meaningful questions asking \\u2018Why are the curtains blue?\\u2019, would be able to clean cars, play politics and tell jokes to us, and by using deep and machine learning programs their level of intelligence would be beyond mathematical calculations to us. That\\u2019s how good machines will be in the future, but to make ourselves competitive with machines, we would need to train ourselves for the impending ambiguous future ahead of us. Humans and machines need to work in synergy to get beneficial and satisfying results for both parties. Machines are indeed going take away many of our jobs, but let me make you sleep peacefully tonight, the machines aren\\u2019t arriving until we\\u2019re retired. \\u00a0\",\n          \"COVID 19 has bought the world to its knees. With businesses being shut, travel being banned, schools, and colleges being closed, we have observed an impeccable amount of sorrow and despise along with a great amount of mental torture and destruction. Though situations are improving now, and the lockdowns are being lifted, it is a fact that it cannot be shunned that this virus will have a long term impact on people, and the effects will not only be felt economically and physically but also mentally. We\\u2019ve been reading articles regarding the impact of COVID 19 on the economy, education, mental health, and every other possible aspect. But one topic which has not been talked about much is the impact of COVID 19 on office space and co-working industries. Well, it is quite obvious that offices will start functioning now, but, the COVID period hasn\\u2019t ended. This means that social distancing will also have to be followed in offices; where it will be a problem to do so because of the lack of adequate infrastructure and space. The same will be the condition in co-working industries, wherein employees of different companies come and work together under the same roof. However, these problems are quite obvious (though people haven\\u2019t thought about them much), but the fact which people fail to notice and understand is that the meaning of space is not only limited to infrastructural space which is measured in square foot or square meters; but it also extends to metal space, or for that fact, space in the minds of people for others and their thoughts as well as opinions. Coronavirus has left a big scratch in our country; just the way a car needs repair after an accident, our country will also need repair after the control of this virus. But, unlike a car, our country will require a large amount of time to get restored and to stand straight without any support. Needless to say, the economic stability of our country will definitely be hit because of this reason. But the problem is since the earnings of the employers will reduce, it will subsequently lead to a drop in the salary of the employees. While some employees might be preferred by their bosses and may receive a raise regularly, others might be subjected to unfair treatment and made to do the same amount of work for a lower salary. People tend to overlook the thin line which exists between cooperation and competition. The problem doesn\\u2019t arise when such a situation happens wherein an employee is getting paid more than the other, but instead, it arises when people start to compare their earnings as well as benefits to that of others. And in today\\u2019s world, where people keep money at the top of their priority list, comparisons will play a very important role in the performance of employees and their company. Since there will exist inequalities and partialities in companies, there will also exist a sense of hatred and competition among the employees of the same company; who will compete to get a better position or a raise in their salary. This may seem beneficial to some as it might compel the employees to work harder and better, but however, will bring huge losses in the long run. The fact is; employees might end up doing unethical acts which will help them to make a better impression in their boss\\u2019s eyes. Moreover, since there will be comparisons among the employees, it might happen that the \\u2018Employee of the Month\\u2019 ends up being hated by all other employees in the company. Another situation that might arise is that of bluffing and pretending; wherein employees tend to show that they work very hard but they don\\u2019t. This might be practiced by showing the boss that they are working when he is on around, and then chilling the rest of the time when the boss goes home or sits in his office. In fact, employees might also lose interest in working if they sense repeated partialities and inequalities; which they might show by quitting the jobs or not performing to their best. Such situations will definitely arise in companies and offices; wherein employees will compete for attention and resources; which will have a great impact on the company and its functioning. And all this will happen because of only one thing; lack of office mental space i.e. space in the minds of people working together in a particular office for cooperation and teamwork, along with ignorance of the fact that things will get better and eventually the same after some time. Another kind of industry and companies that will be affected due to the long-lasting impact of COVID 19 is the co-working industry and offices. This is because, there will be a shortage of resources and the income of people, but the maintenance cost to be born for the infrastructure, as well the rent will remain the same. Because of this, employees will be told by the company owners to exploit the resources present in the offices and use them to the fullest; to compensate for the losses being born and to make better use of the money being used. However, the number of resources will be the same, and so, there will be a case of competition between employees of different companies to use resources and take benefits of the same. If the above two situations happen to occur at the same time (which they most likely will), we will observe a scene of intra-company as well as inter-company competition. Also, our personal relations with other employees in the company might also be affected due to this comparison and competition; which itself will be a result of limited mental space. COVID 19 will have severe impacts on the office (mental) space of companies and people.\\u00a0 People\\u2019s thoughts, how they treat others, along with accepting defeat and rejection will be an important aspect of everyone\\u2019s lives. Moreover, we might also observe a shoot in the intensity and frequency of office people going to psychologists; because of repeated rejection and unfair treatment. However, we need to cope with this thing and realize that it is indeed very important for us to start preparing to expand our mental space and that this competition and comparison will not stay for long and should not affect our personal relations and life at any cost.\"\n        ],\n        \"semantic_type\": \"\",\n        \"description\": \"\"\n      }\n    },\n    {\n      \"column\": \"Cleaned_Text\",\n      \"properties\": {\n        \"dtype\": \"string\",\n        \"num_unique_values\": 98,\n        \"samples\": [\n          \"Nature blessed humanity earth, rounded globe essential necessity lies hand human. 21st-century building Space shuttle exploring space obvious activity human raise, inclusion Start-ups Space dreamed reaching space coming true. agree fact Growth industrialization generated humungous carbon footprint colonize outer space create much-needed area survival. time human race visualized undergone transformations, transformations starters effective major role existence age. natural transformation shifting tectonic plates manmade Dumping water damaging water bodies, affected usual life humans creating space humans humans eyeing for. idea Colonizing outer space emerged NASA launch space shuttle heavy payload late 1990s idea didn\\u2019t stir brain time apple eyes articles astronauts writeup limelight idea progression, space exploration normal, companies petrified number investments kinds projects for. things change entry PayPal\\u2019s owner Elon Musk, 2002 laid stones Space X, NASA providing launchpad exploration. space travel legitimate bottlenecks knowing nature outer space boost idea colonizing, realize optimum. main target company put forward themself planet back earth safely, earlier projects due high fund subdued priority rocket technology. Thus, unimaginable quest search space far-fetched though. 2020 find place colonizing space, kind emergence technologies led escalation spreading roots human existence, plan reaching outer space plays key role idea too. Proper Planning, Analysing, Organising, Executing required projects successful deeper mention Space X, wud successful sending Rockets 2022 colonize 2050, achieving vision planned total 36 times pre-launch rocket launching 2020. star link satellites provide basic network connectivity colonized world, planned extent targeted profit $ 22 billion yearly 2025. manned rocket successfully Elon musk plan create infrastructure Mars cost regular air flight ticket lead chances colonizing planet. setting commercial flight started red planet wud stepping stone colonizing outer space. fundamental change people undergo living planet change gravity live support technical issues arise suit find similar place earth change humans adjust. Aspects Ultraviolet rays play immense role survival, rate technology expanding challenging boundaries days left find solutions aspects idea colonizing monetary terms projected building colony space cost $10 Trillian countries GDP. Placing amount funding highly anticipated projects tough. Elon addressed questions open Door believes cost find route colonize space costs justifiable space exploration reach heights. Also, world water percentage land comparison water less. population increasing speed level excitement order search things obsession innovative things finish. end, satisfy achieved, things crave achieve that. order achieve planning crucial stage. searched 9 planets didn\\u2019t shortlisted outcomes. 3-decade theory ELON MUSK, possible. important thing survive atmospheric environment, suitable not, order make suitable steps maintain suitable level oxygen. missions focusing about. Finding source water, 2nd crucial thing needed survive. excitement things, threats uncertainties bound happen kind mammal occur construction that. security protection uncertainties replicated. basic things, factors natural habitats there, plants grown not. yes, types plants survive there. environment animals safe not. balance nature types animals, natural habitat, insects small things ignorable plays important role maintaining environmental balance. e.g. \\u2013 Ants leading predators insects, helping pest populations low. Ants move approximately amount soil earthworms, loosening soil process increasing air water movement ground. ecosystem clean dead insect carcasses aid destruction decomposition plant animal matter. So, small thing contributes way. matter concern level artificial intelligence machine learning required maintain kind requirement. current scenario, energy run vehicle robotics. So, availability energy source energy needed. this, heat sun equally important order maintain level. artificial air survive long. So, order remain healthy calculation done. thinking disease, heard news concern antibiotics (such penicillin) \\u2013 fight infections \\u2013 eventually stop working. Global health organisations reduce antibiotics, conditions aren\\u2019t serious. overuse recent years means they\\u2019re effective. survive antibiotics. ways dealing diseases caused bacteria isolation treated penicillin. sound set firmly realm fantasy, experts private industry governments world understand feasible establish lunar base. scientists humans survive comfortably moon. ways, minimal gravity moon conducive life microgravity astronauts experience International Space Station. hasn\\u2019t formally tested, experts hypothesize small amount gravitational force put astronaut\\u2019s body moon stem adverse effects bone-density muscle loss space flyers experience living microgravity International Space Station. moon\\u2019s indigenous material, space agencies save money cost flying pricey missions moon\\u2019s surface. moon, stage costly missions aimed delivering oxygen resources Earth, experts material manufacture gasses needed sustain life satellite. earth, protected radioactive solar winds cosmic rays magnet field magnetosphere. space, can\\u2019t rely type protection, order make protection, lot upgraded technology achieve. till approximate project $10 trillion. aim make fare equivalent normal air fare. comfortable resources, securities uncertainties, risk analysis, probability survival human factors consideration, development won\\u2019t time. construct building 8-9 months. totally acceptable. main concern density land, i.e. land capacity bear weight not. type land adaptable cultivation nor. land converted types cultivation upgraded technology. order transport equipments regular basis, large amount fuel required, factors Built propellor depo rocket landing building infrastructure city create forward idea Colonizing outer space.\",\n          \"work destined undergo massive transformational impact humans ways working dramatically. development machine programs, A.I. set humans workplace did. competition beings robots too. robots overcome fields work. present surrounded A.I. dusk till dawn, facial recognition present mobile application dating websites/applications decision making algorithms learn past data well. believed A.I. grown 270% years. First, A.I. fuss it?A.I. defined internet simply \\u2018simulation human intelligence machines programmed humans mimic actions\\u2019. translates to, work human fast speed 100% accuracy.In definition define A.I. god form human beings. question arises is, A.I. entails future? A.I. fancy continue existing minds time, limitations threats peaceful sleep workers. introduction areas workplace, clear half human jobs A.I. arise jobs humans upcoming AI-based ventures industries. giving fair share back us. survey, found believed AI devastating humans professionals tech-savvy people believed inculcating AI technology business daily lives remarkable step lead flourishment business future give competitive edge rivals. People believed advanced technologies work humans, produce smarter strategic decision productive collaborative practices. modern technology prevailing organization lead stress reduction produce satisfying results making organization efficient. Organizations AI technology responds managers comfortable A.I. accustomed organizations forward integration higher-end technology systems, believed technology result productivity making profits long run. jobs today require AI humans working collaboration, creates positive signal future humans working closely technology. training developing machines, humans working close vicinity making decisions act result machine. AI advanced technology human can\\u2019t remain workforce other, technology produce accurate top-notch results requires make delivery.e.g., firm, AI-based system produces results based historical data analyze communicate present data respective stakeholders inside organization. artificial intelligence technology day-to-day functions interactions humans are: Artificial intelligence works algorithms, neural networks, deep learning analytical tools AI taking analytical decisions based data provided. Whereas, humans hand higher-level decisions based \\u2018Intuition\\u2019 sometimes, refers gut feeling generates humans situation challenge. AI can\\u2019t work handle critical situations humans reciprocate share information stakeholders, humans can\\u2019t anticipate accurate fast-paced analytical solutions problems persisting place situation. strength humans AI working synergy surprisingly beneficial advantageous organizations. believed machines future eating traditional jobs. reality turning otherwise. future trend shows future AI-powered technology jobs humans return produce jobs require human interference them. newer technology approaching countries proceeding GIG Economies, future, witness increase freelance jobs permanent labor market norms reduce drastically. jobs today replaced AI transportation retail commerce sector 100% automated future years. \\u2018Amazon Go\\u2019 store technology \\u2018Just walk technology\\u2019 human-induced workforce operations carried AI-powered technologies, breakthrough technology today\\u2019s world. eating jobs AI return creating jobs future creating massive innovations fueling industries giving fair share jobs back. lot demand upcoming young workforce categorized \\u2018Gen Z\\u2019. expected technology high demand. young generations required learn skills needed survive dynamic changing environment, activities carried workers automated, demand people working back office maintaining developing technology versions. AI powered technology limitations makes rigid system hold makes costly affair initial stage. predicted cost electricity power supercharged AI model $4.6 million. So, super-powered AI purchased big fortune firms creating net worth. major limitations AI biased data scientists put data create biasedness resultant output biased report. machines neuroscience-based technology enables carry human emotions understand complex situations creative that, tend lack box thinking case rigid programmed work single task perform single task time. believed exists creativity computer, matter fast-paced, intelligent. Businesses organizations understand anticipate opportunities future holds start training employees based today\\u2019s dynamic changing technology. it\\u2019s unclear future holds us, anticipation benefit ways. unclear future like, probable terms turn employ specific training programs employees organization.The training employees needed continuous lifetime basis means education won\\u2019t limited PG degrees lifetime process learning. Covid-19 changed scenario work patterns world, strategically working dynamics future compared pre-covid post-covid scenario. Employees playing major role transforming organizations work practices upcoming future, organizations select recruit candidates pool provide practices machines make proficient area work. Policies developed hire people retaining talent organization. continuous scanning environment organizations comprehend trends assess them, trends beneficial organizations, aware prospects plan future systematically consistently. lies possibility future years now, machines general human intelligence answer deep meaningful questions \\u2018Why curtains blue?\\u2019, clean cars, play politics jokes us, deep machine learning programs level intelligence mathematical calculations us. That\\u2019s good machines future, make competitive machines, train impending ambiguous future ahead us. Humans machines work synergy beneficial satisfying results parties. Machines jobs, make sleep peacefully tonight, machines aren\\u2019t arriving we\\u2019re retired.\",\n          \"COVID 19 bought world knees. businesses shut, travel banned, schools, colleges closed, observed impeccable amount sorrow despise great amount mental torture destruction. situations improving now, lockdowns lifted, fact shunned virus long term impact people, effects felt economically physically mentally. We\\u2019ve reading articles impact COVID 19 economy, education, mental health, aspect. topic talked impact COVID 19 office space co-working industries. Well, obvious offices start functioning now, but, COVID period hasn\\u2019t ended. means social distancing offices; problem lack adequate infrastructure space. condition co-working industries, employees companies work roof. However, problems obvious (though people haven\\u2019t thought much), fact people fail notice understand meaning space limited infrastructural space measured square foot square meters; extends metal space, fact, space minds people thoughts opinions. Coronavirus left big scratch country; car repair accident, country repair control virus. But, unlike car, country require large amount time restored stand straight support. Needless say, economic stability country hit reason. problem earnings employers reduce, subsequently lead drop salary employees. employees preferred bosses receive raise regularly, subjected unfair treatment made amount work lower salary. People tend overlook thin line exists cooperation competition. problem doesn\\u2019t arise situation employee paid other, instead, arises people start compare earnings benefits others. today\\u2019s world, people money top priority list, comparisons play important role performance employees company. exist inequalities partialities companies, exist sense hatred competition employees company; compete position raise salary. beneficial compel employees work harder better, however, bring huge losses long run. fact is; employees end unethical acts make impression boss\\u2019s eyes. Moreover, comparisons employees, happen \\u2018Employee Month\\u2019 ends hated employees company. situation arise bluffing pretending; employees tend show work hard don\\u2019t. practiced showing boss working around, chilling rest time boss home sits office. fact, employees lose interest working sense repeated partialities inequalities; show quitting jobs performing best. situations arise companies offices; employees compete attention resources; great impact company functioning. happen thing; lack office mental space i.e. space minds people working office cooperation teamwork, ignorance fact things eventually time. kind industry companies affected due long-lasting impact COVID 19 co-working industry offices. because, shortage resources income people, maintenance cost born infrastructure, rent remain same. this, employees told company owners exploit resources present offices fullest; compensate losses born make money used. However, number resources same, so, case competition employees companies resources benefits same. situations happen occur time (which will), observe scene intra-company inter-company competition. Also, personal relations employees company affected due comparison competition; result limited mental space. COVID 19 severe impacts office (mental) space companies people. People\\u2019s thoughts, treat others, accepting defeat rejection important aspect everyone\\u2019s lives. Moreover, observe shoot intensity frequency office people psychologists; repeated rejection unfair treatment. However, cope thing realize important start preparing expand mental space competition comparison stay long affect personal relations life cost.\"\n        ],\n        \"semantic_type\": \"\",\n        \"description\": \"\"\n      }\n    },\n    {\n      \"column\": \"Positive_Score\",\n      \"properties\": {\n        \"dtype\": \"number\",\n        \"std\": 16,\n        \"min\": 0,\n        \"max\": 78,\n        \"num_unique_values\": 48,\n        \"samples\": [\n          46,\n          19,\n          54\n        ],\n        \"semantic_type\": \"\",\n        \"description\": \"\"\n      }\n    },\n    {\n      \"column\": \"Negative_Score\",\n      \"properties\": {\n        \"dtype\": \"number\",\n        \"std\": 15,\n        \"min\": -60,\n        \"max\": 0,\n        \"num_unique_values\": 42,\n        \"samples\": [\n          -16,\n          -10,\n          -51\n        ],\n        \"semantic_type\": \"\",\n        \"description\": \"\"\n      }\n    },\n    {\n      \"column\": \"Polarity_Score\",\n      \"properties\": {\n        \"dtype\": \"number\",\n        \"std\": 9.473649292123435,\n        \"min\": -39.00001950000975,\n        \"max\": 51.999974000013,\n        \"num_unique_values\": 95,\n        \"samples\": [\n          1.812499943359377,\n          1.2222221543209915,\n          2.199999780000022\n        ],\n        \"semantic_type\": \"\",\n        \"description\": \"\"\n      }\n    },\n    {\n      \"column\": \"Subjectivity_Score\",\n      \"properties\": {\n        \"dtype\": \"number\",\n        \"std\": 0.0368209952638895,\n        \"min\": -0.10089686076032094,\n        \"max\": 0.0981595089013512,\n        \"num_unique_values\": 96,\n        \"samples\": [\n          0.05223880584020198,\n          -0.004860267308796759,\n          0.014492753518168453\n        ],\n        \"semantic_type\": \"\",\n        \"description\": \"\"\n      }\n    }\n  ]\n}"
            }
          },
          "metadata": {},
          "execution_count": 42
        }
      ]
    },
    {
      "cell_type": "code",
      "source": [
        "df['Positive_Score'].value_counts()"
      ],
      "metadata": {
        "colab": {
          "base_uri": "https://localhost:8080/"
        },
        "id": "O7aoWf6Yr2ji",
        "outputId": "e1d6486a-6708-436c-8603-6144492550af"
      },
      "execution_count": null,
      "outputs": [
        {
          "output_type": "execute_result",
          "data": {
            "text/plain": [
              "Positive_Score\n",
              "21    6\n",
              "18    6\n",
              "17    5\n",
              "45    4\n",
              "0     4\n",
              "16    4\n",
              "26    4\n",
              "27    3\n",
              "11    3\n",
              "30    3\n",
              "25    3\n",
              "34    3\n",
              "31    3\n",
              "29    3\n",
              "7     2\n",
              "6     2\n",
              "3     2\n",
              "5     2\n",
              "14    2\n",
              "19    2\n",
              "38    2\n",
              "53    2\n",
              "33    2\n",
              "55    2\n",
              "20    2\n",
              "15    2\n",
              "28    1\n",
              "37    1\n",
              "70    1\n",
              "35    1\n",
              "65    1\n",
              "42    1\n",
              "48    1\n",
              "23    1\n",
              "78    1\n",
              "46    1\n",
              "54    1\n",
              "57    1\n",
              "39    1\n",
              "13    1\n",
              "24    1\n",
              "8     1\n",
              "1     1\n",
              "32    1\n",
              "22    1\n",
              "2     1\n",
              "12    1\n",
              "10    1\n",
              "Name: count, dtype: int64"
            ]
          },
          "metadata": {},
          "execution_count": 43
        }
      ]
    },
    {
      "cell_type": "code",
      "source": [
        "df['Negative_Score'].value_counts()"
      ],
      "metadata": {
        "colab": {
          "base_uri": "https://localhost:8080/"
        },
        "id": "qz474Eapr_08",
        "outputId": "4a6c64d1-0da1-4b6f-8969-a9c703d9803a"
      },
      "execution_count": null,
      "outputs": [
        {
          "output_type": "execute_result",
          "data": {
            "text/plain": [
              "Negative_Score\n",
              " 0     7\n",
              "-5     5\n",
              "-2     5\n",
              "-9     5\n",
              "-6     4\n",
              "-24    4\n",
              "-19    4\n",
              "-13    4\n",
              "-1     4\n",
              "-23    4\n",
              "-22    3\n",
              "-21    3\n",
              "-10    3\n",
              "-28    3\n",
              "-7     3\n",
              "-34    3\n",
              "-36    2\n",
              "-3     2\n",
              "-37    2\n",
              "-29    2\n",
              "-8     2\n",
              "-20    2\n",
              "-16    2\n",
              "-14    2\n",
              "-31    2\n",
              "-26    2\n",
              "-51    1\n",
              "-58    1\n",
              "-18    1\n",
              "-11    1\n",
              "-17    1\n",
              "-15    1\n",
              "-40    1\n",
              "-60    1\n",
              "-54    1\n",
              "-59    1\n",
              "-46    1\n",
              "-4     1\n",
              "-38    1\n",
              "-39    1\n",
              "-48    1\n",
              "-41    1\n",
              "Name: count, dtype: int64"
            ]
          },
          "metadata": {},
          "execution_count": 44
        }
      ]
    },
    {
      "cell_type": "code",
      "source": [
        "df['Polarity_Score'].value_counts()"
      ],
      "metadata": {
        "colab": {
          "base_uri": "https://localhost:8080/"
        },
        "id": "dNi5MtFysB3b",
        "outputId": "476a0f85-ce43-423b-ab0a-2d77ff43b2ef"
      },
      "execution_count": null,
      "outputs": [
        {
          "output_type": "execute_result",
          "data": {
            "text/plain": [
              "Polarity_Score\n",
              " 0.000000     3\n",
              " 7.857142     2\n",
              " 6.333331     2\n",
              "-16.000004    2\n",
              " 7.399999     1\n",
              "             ..\n",
              " 4.294117     1\n",
              " 2.793103     1\n",
              " 16.333328    1\n",
              " 19.999990    1\n",
              "-39.000020    1\n",
              "Name: count, Length: 95, dtype: int64"
            ]
          },
          "metadata": {},
          "execution_count": 45
        }
      ]
    },
    {
      "cell_type": "code",
      "source": [
        "df['Subjectivity_Score'].value_counts()"
      ],
      "metadata": {
        "colab": {
          "base_uri": "https://localhost:8080/"
        },
        "id": "uJd5ffbhsFK7",
        "outputId": "ba9a6f7c-bb22-4495-b001-2f005428736c"
      },
      "execution_count": null,
      "outputs": [
        {
          "output_type": "execute_result",
          "data": {
            "text/plain": [
              "Subjectivity_Score\n",
              " 0.000000    3\n",
              " 0.060241    2\n",
              " 0.010574    2\n",
              " 0.009225    1\n",
              "-0.009524    1\n",
              "            ..\n",
              " 0.028074    1\n",
              " 0.005310    1\n",
              " 0.003356    1\n",
              " 0.014433    1\n",
              " 0.023256    1\n",
              "Name: count, Length: 96, dtype: int64"
            ]
          },
          "metadata": {},
          "execution_count": 46
        }
      ]
    },
    {
      "cell_type": "markdown",
      "source": [
        "###Count syllables in a word"
      ],
      "metadata": {
        "id": "Kkfu67FLDmoP"
      }
    },
    {
      "cell_type": "code",
      "source": [
        "def syllable_count(word):\n",
        "    if word.lower() in d:\n",
        "        return max([len(list(y for y in x if y[-1].isdigit())) for x in d[word.lower()]])\n",
        "    else:\n",
        "       return 1"
      ],
      "metadata": {
        "id": "EJhRFP-rvhcY"
      },
      "execution_count": null,
      "outputs": []
    },
    {
      "cell_type": "code",
      "source": [
        "# Load CMU Pronouncing Dictionary\n",
        "d = cmudict.dict()"
      ],
      "metadata": {
        "id": "9QZsc-hr00aE"
      },
      "execution_count": null,
      "outputs": []
    },
    {
      "cell_type": "code",
      "source": [
        "def tokenize_sentences(text):\n",
        "  return sent_tokenize(text)"
      ],
      "metadata": {
        "id": "pvjLQ6HC013y"
      },
      "execution_count": null,
      "outputs": []
    },
    {
      "cell_type": "code",
      "source": [
        "def tokenize_words(sentence):\n",
        "  return word_tokenize(sentence)"
      ],
      "metadata": {
        "id": "0-6nWaYc1ONT"
      },
      "execution_count": null,
      "outputs": []
    },
    {
      "cell_type": "code",
      "source": [
        "df['Sentences'] = df['Cleaned_Text'].apply(tokenize_sentences)\n",
        "df['Words'] = df['Sentences'].apply(lambda x: [tokenize_words(sentence) for sentence in x])"
      ],
      "metadata": {
        "id": "OGIclo3-1SwT"
      },
      "execution_count": null,
      "outputs": []
    },
    {
      "cell_type": "code",
      "source": [
        "df.head()"
      ],
      "metadata": {
        "colab": {
          "base_uri": "https://localhost:8080/",
          "height": 556
        },
        "id": "9DK078Le16Vo",
        "outputId": "72f65265-5c48-4a96-8e05-22492ddb49b3"
      },
      "execution_count": null,
      "outputs": [
        {
          "output_type": "execute_result",
          "data": {
            "text/plain": [
              "            URL_ID                                                URL  \\\n",
              "0  blackassign0001  https://insights.blackcoffer.com/rising-it-cit...   \n",
              "1  blackassign0002  https://insights.blackcoffer.com/rising-it-cit...   \n",
              "2  blackassign0003  https://insights.blackcoffer.com/internet-dema...   \n",
              "3  blackassign0004  https://insights.blackcoffer.com/rise-of-cyber...   \n",
              "4  blackassign0005  https://insights.blackcoffer.com/ott-platform-...   \n",
              "\n",
              "                                               Title  \\\n",
              "0  Rising IT cities and its impact on the economy...   \n",
              "1  Rising IT Cities and Their Impact on the Econo...   \n",
              "2  Internet Demand's Evolution, Communication Imp...   \n",
              "3  Rise of Cybercrime and its Effect in upcoming ...   \n",
              "4  OTT platform and its impact on the entertainme...   \n",
              "\n",
              "                                                Text  \\\n",
              "0  We have seen a huge development and dependence...   \n",
              "1  Throughout history, from the industrial revolu...   \n",
              "2  Introduction In the span of just a few decades...   \n",
              "3  The way we live, work, and communicate has unq...   \n",
              "4  The year 2040 is poised to witness a continued...   \n",
              "\n",
              "                                        Cleaned_Text  Positive_Score  \\\n",
              "0  huge development dependence people technology ...               6   \n",
              "1  history, industrial revolution 18th century de...              45   \n",
              "2  Introduction span decades, internet undergone ...              33   \n",
              "3  live, work, communicate unquestionably changed...              29   \n",
              "4  year 2040 poised witness continued revolution ...              17   \n",
              "\n",
              "   Negative_Score  Polarity_Score  Subjectivity_Score  \\\n",
              "0              -1        1.400000            0.030303   \n",
              "1             -23        3.090909            0.028758   \n",
              "2             -19        3.714285            0.022508   \n",
              "3             -58       -3.000000           -0.047934   \n",
              "4              -7        2.400000            0.027322   \n",
              "\n",
              "                                           Sentences  \\\n",
              "0  [huge development dependence people technology...   \n",
              "1  [history, industrial revolution 18th century d...   \n",
              "2  [Introduction span decades, internet undergone...   \n",
              "3  [live, work, communicate unquestionably change...   \n",
              "4  [year 2040 poised witness continued revolution...   \n",
              "\n",
              "                                               Words  \n",
              "0  [[huge, development, dependence, people, techn...  \n",
              "1  [[history, ,, industrial, revolution, 18th, ce...  \n",
              "2  [[Introduction, span, decades, ,, internet, un...  \n",
              "3  [[live, ,, work, ,, communicate, unquestionabl...  \n",
              "4  [[year, 2040, poised, witness, continued, revo...  "
            ],
            "text/html": [
              "\n",
              "  <div id=\"df-3e2e45af-dce4-49fa-92be-7924292efa3a\" class=\"colab-df-container\">\n",
              "    <div>\n",
              "<style scoped>\n",
              "    .dataframe tbody tr th:only-of-type {\n",
              "        vertical-align: middle;\n",
              "    }\n",
              "\n",
              "    .dataframe tbody tr th {\n",
              "        vertical-align: top;\n",
              "    }\n",
              "\n",
              "    .dataframe thead th {\n",
              "        text-align: right;\n",
              "    }\n",
              "</style>\n",
              "<table border=\"1\" class=\"dataframe\">\n",
              "  <thead>\n",
              "    <tr style=\"text-align: right;\">\n",
              "      <th></th>\n",
              "      <th>URL_ID</th>\n",
              "      <th>URL</th>\n",
              "      <th>Title</th>\n",
              "      <th>Text</th>\n",
              "      <th>Cleaned_Text</th>\n",
              "      <th>Positive_Score</th>\n",
              "      <th>Negative_Score</th>\n",
              "      <th>Polarity_Score</th>\n",
              "      <th>Subjectivity_Score</th>\n",
              "      <th>Sentences</th>\n",
              "      <th>Words</th>\n",
              "    </tr>\n",
              "  </thead>\n",
              "  <tbody>\n",
              "    <tr>\n",
              "      <th>0</th>\n",
              "      <td>blackassign0001</td>\n",
              "      <td>https://insights.blackcoffer.com/rising-it-cit...</td>\n",
              "      <td>Rising IT cities and its impact on the economy...</td>\n",
              "      <td>We have seen a huge development and dependence...</td>\n",
              "      <td>huge development dependence people technology ...</td>\n",
              "      <td>6</td>\n",
              "      <td>-1</td>\n",
              "      <td>1.400000</td>\n",
              "      <td>0.030303</td>\n",
              "      <td>[huge development dependence people technology...</td>\n",
              "      <td>[[huge, development, dependence, people, techn...</td>\n",
              "    </tr>\n",
              "    <tr>\n",
              "      <th>1</th>\n",
              "      <td>blackassign0002</td>\n",
              "      <td>https://insights.blackcoffer.com/rising-it-cit...</td>\n",
              "      <td>Rising IT Cities and Their Impact on the Econo...</td>\n",
              "      <td>Throughout history, from the industrial revolu...</td>\n",
              "      <td>history, industrial revolution 18th century de...</td>\n",
              "      <td>45</td>\n",
              "      <td>-23</td>\n",
              "      <td>3.090909</td>\n",
              "      <td>0.028758</td>\n",
              "      <td>[history, industrial revolution 18th century d...</td>\n",
              "      <td>[[history, ,, industrial, revolution, 18th, ce...</td>\n",
              "    </tr>\n",
              "    <tr>\n",
              "      <th>2</th>\n",
              "      <td>blackassign0003</td>\n",
              "      <td>https://insights.blackcoffer.com/internet-dema...</td>\n",
              "      <td>Internet Demand's Evolution, Communication Imp...</td>\n",
              "      <td>Introduction In the span of just a few decades...</td>\n",
              "      <td>Introduction span decades, internet undergone ...</td>\n",
              "      <td>33</td>\n",
              "      <td>-19</td>\n",
              "      <td>3.714285</td>\n",
              "      <td>0.022508</td>\n",
              "      <td>[Introduction span decades, internet undergone...</td>\n",
              "      <td>[[Introduction, span, decades, ,, internet, un...</td>\n",
              "    </tr>\n",
              "    <tr>\n",
              "      <th>3</th>\n",
              "      <td>blackassign0004</td>\n",
              "      <td>https://insights.blackcoffer.com/rise-of-cyber...</td>\n",
              "      <td>Rise of Cybercrime and its Effect in upcoming ...</td>\n",
              "      <td>The way we live, work, and communicate has unq...</td>\n",
              "      <td>live, work, communicate unquestionably changed...</td>\n",
              "      <td>29</td>\n",
              "      <td>-58</td>\n",
              "      <td>-3.000000</td>\n",
              "      <td>-0.047934</td>\n",
              "      <td>[live, work, communicate unquestionably change...</td>\n",
              "      <td>[[live, ,, work, ,, communicate, unquestionabl...</td>\n",
              "    </tr>\n",
              "    <tr>\n",
              "      <th>4</th>\n",
              "      <td>blackassign0005</td>\n",
              "      <td>https://insights.blackcoffer.com/ott-platform-...</td>\n",
              "      <td>OTT platform and its impact on the entertainme...</td>\n",
              "      <td>The year 2040 is poised to witness a continued...</td>\n",
              "      <td>year 2040 poised witness continued revolution ...</td>\n",
              "      <td>17</td>\n",
              "      <td>-7</td>\n",
              "      <td>2.400000</td>\n",
              "      <td>0.027322</td>\n",
              "      <td>[year 2040 poised witness continued revolution...</td>\n",
              "      <td>[[year, 2040, poised, witness, continued, revo...</td>\n",
              "    </tr>\n",
              "  </tbody>\n",
              "</table>\n",
              "</div>\n",
              "    <div class=\"colab-df-buttons\">\n",
              "\n",
              "  <div class=\"colab-df-container\">\n",
              "    <button class=\"colab-df-convert\" onclick=\"convertToInteractive('df-3e2e45af-dce4-49fa-92be-7924292efa3a')\"\n",
              "            title=\"Convert this dataframe to an interactive table.\"\n",
              "            style=\"display:none;\">\n",
              "\n",
              "  <svg xmlns=\"http://www.w3.org/2000/svg\" height=\"24px\" viewBox=\"0 -960 960 960\">\n",
              "    <path d=\"M120-120v-720h720v720H120Zm60-500h600v-160H180v160Zm220 220h160v-160H400v160Zm0 220h160v-160H400v160ZM180-400h160v-160H180v160Zm440 0h160v-160H620v160ZM180-180h160v-160H180v160Zm440 0h160v-160H620v160Z\"/>\n",
              "  </svg>\n",
              "    </button>\n",
              "\n",
              "  <style>\n",
              "    .colab-df-container {\n",
              "      display:flex;\n",
              "      gap: 12px;\n",
              "    }\n",
              "\n",
              "    .colab-df-convert {\n",
              "      background-color: #E8F0FE;\n",
              "      border: none;\n",
              "      border-radius: 50%;\n",
              "      cursor: pointer;\n",
              "      display: none;\n",
              "      fill: #1967D2;\n",
              "      height: 32px;\n",
              "      padding: 0 0 0 0;\n",
              "      width: 32px;\n",
              "    }\n",
              "\n",
              "    .colab-df-convert:hover {\n",
              "      background-color: #E2EBFA;\n",
              "      box-shadow: 0px 1px 2px rgba(60, 64, 67, 0.3), 0px 1px 3px 1px rgba(60, 64, 67, 0.15);\n",
              "      fill: #174EA6;\n",
              "    }\n",
              "\n",
              "    .colab-df-buttons div {\n",
              "      margin-bottom: 4px;\n",
              "    }\n",
              "\n",
              "    [theme=dark] .colab-df-convert {\n",
              "      background-color: #3B4455;\n",
              "      fill: #D2E3FC;\n",
              "    }\n",
              "\n",
              "    [theme=dark] .colab-df-convert:hover {\n",
              "      background-color: #434B5C;\n",
              "      box-shadow: 0px 1px 3px 1px rgba(0, 0, 0, 0.15);\n",
              "      filter: drop-shadow(0px 1px 2px rgba(0, 0, 0, 0.3));\n",
              "      fill: #FFFFFF;\n",
              "    }\n",
              "  </style>\n",
              "\n",
              "    <script>\n",
              "      const buttonEl =\n",
              "        document.querySelector('#df-3e2e45af-dce4-49fa-92be-7924292efa3a button.colab-df-convert');\n",
              "      buttonEl.style.display =\n",
              "        google.colab.kernel.accessAllowed ? 'block' : 'none';\n",
              "\n",
              "      async function convertToInteractive(key) {\n",
              "        const element = document.querySelector('#df-3e2e45af-dce4-49fa-92be-7924292efa3a');\n",
              "        const dataTable =\n",
              "          await google.colab.kernel.invokeFunction('convertToInteractive',\n",
              "                                                    [key], {});\n",
              "        if (!dataTable) return;\n",
              "\n",
              "        const docLinkHtml = 'Like what you see? Visit the ' +\n",
              "          '<a target=\"_blank\" href=https://colab.research.google.com/notebooks/data_table.ipynb>data table notebook</a>'\n",
              "          + ' to learn more about interactive tables.';\n",
              "        element.innerHTML = '';\n",
              "        dataTable['output_type'] = 'display_data';\n",
              "        await google.colab.output.renderOutput(dataTable, element);\n",
              "        const docLink = document.createElement('div');\n",
              "        docLink.innerHTML = docLinkHtml;\n",
              "        element.appendChild(docLink);\n",
              "      }\n",
              "    </script>\n",
              "  </div>\n",
              "\n",
              "\n",
              "<div id=\"df-53a538d4-ed97-417b-b036-992f6fa6dee9\">\n",
              "  <button class=\"colab-df-quickchart\" onclick=\"quickchart('df-53a538d4-ed97-417b-b036-992f6fa6dee9')\"\n",
              "            title=\"Suggest charts\"\n",
              "            style=\"display:none;\">\n",
              "\n",
              "<svg xmlns=\"http://www.w3.org/2000/svg\" height=\"24px\"viewBox=\"0 0 24 24\"\n",
              "     width=\"24px\">\n",
              "    <g>\n",
              "        <path d=\"M19 3H5c-1.1 0-2 .9-2 2v14c0 1.1.9 2 2 2h14c1.1 0 2-.9 2-2V5c0-1.1-.9-2-2-2zM9 17H7v-7h2v7zm4 0h-2V7h2v10zm4 0h-2v-4h2v4z\"/>\n",
              "    </g>\n",
              "</svg>\n",
              "  </button>\n",
              "\n",
              "<style>\n",
              "  .colab-df-quickchart {\n",
              "      --bg-color: #E8F0FE;\n",
              "      --fill-color: #1967D2;\n",
              "      --hover-bg-color: #E2EBFA;\n",
              "      --hover-fill-color: #174EA6;\n",
              "      --disabled-fill-color: #AAA;\n",
              "      --disabled-bg-color: #DDD;\n",
              "  }\n",
              "\n",
              "  [theme=dark] .colab-df-quickchart {\n",
              "      --bg-color: #3B4455;\n",
              "      --fill-color: #D2E3FC;\n",
              "      --hover-bg-color: #434B5C;\n",
              "      --hover-fill-color: #FFFFFF;\n",
              "      --disabled-bg-color: #3B4455;\n",
              "      --disabled-fill-color: #666;\n",
              "  }\n",
              "\n",
              "  .colab-df-quickchart {\n",
              "    background-color: var(--bg-color);\n",
              "    border: none;\n",
              "    border-radius: 50%;\n",
              "    cursor: pointer;\n",
              "    display: none;\n",
              "    fill: var(--fill-color);\n",
              "    height: 32px;\n",
              "    padding: 0;\n",
              "    width: 32px;\n",
              "  }\n",
              "\n",
              "  .colab-df-quickchart:hover {\n",
              "    background-color: var(--hover-bg-color);\n",
              "    box-shadow: 0 1px 2px rgba(60, 64, 67, 0.3), 0 1px 3px 1px rgba(60, 64, 67, 0.15);\n",
              "    fill: var(--button-hover-fill-color);\n",
              "  }\n",
              "\n",
              "  .colab-df-quickchart-complete:disabled,\n",
              "  .colab-df-quickchart-complete:disabled:hover {\n",
              "    background-color: var(--disabled-bg-color);\n",
              "    fill: var(--disabled-fill-color);\n",
              "    box-shadow: none;\n",
              "  }\n",
              "\n",
              "  .colab-df-spinner {\n",
              "    border: 2px solid var(--fill-color);\n",
              "    border-color: transparent;\n",
              "    border-bottom-color: var(--fill-color);\n",
              "    animation:\n",
              "      spin 1s steps(1) infinite;\n",
              "  }\n",
              "\n",
              "  @keyframes spin {\n",
              "    0% {\n",
              "      border-color: transparent;\n",
              "      border-bottom-color: var(--fill-color);\n",
              "      border-left-color: var(--fill-color);\n",
              "    }\n",
              "    20% {\n",
              "      border-color: transparent;\n",
              "      border-left-color: var(--fill-color);\n",
              "      border-top-color: var(--fill-color);\n",
              "    }\n",
              "    30% {\n",
              "      border-color: transparent;\n",
              "      border-left-color: var(--fill-color);\n",
              "      border-top-color: var(--fill-color);\n",
              "      border-right-color: var(--fill-color);\n",
              "    }\n",
              "    40% {\n",
              "      border-color: transparent;\n",
              "      border-right-color: var(--fill-color);\n",
              "      border-top-color: var(--fill-color);\n",
              "    }\n",
              "    60% {\n",
              "      border-color: transparent;\n",
              "      border-right-color: var(--fill-color);\n",
              "    }\n",
              "    80% {\n",
              "      border-color: transparent;\n",
              "      border-right-color: var(--fill-color);\n",
              "      border-bottom-color: var(--fill-color);\n",
              "    }\n",
              "    90% {\n",
              "      border-color: transparent;\n",
              "      border-bottom-color: var(--fill-color);\n",
              "    }\n",
              "  }\n",
              "</style>\n",
              "\n",
              "  <script>\n",
              "    async function quickchart(key) {\n",
              "      const quickchartButtonEl =\n",
              "        document.querySelector('#' + key + ' button');\n",
              "      quickchartButtonEl.disabled = true;  // To prevent multiple clicks.\n",
              "      quickchartButtonEl.classList.add('colab-df-spinner');\n",
              "      try {\n",
              "        const charts = await google.colab.kernel.invokeFunction(\n",
              "            'suggestCharts', [key], {});\n",
              "      } catch (error) {\n",
              "        console.error('Error during call to suggestCharts:', error);\n",
              "      }\n",
              "      quickchartButtonEl.classList.remove('colab-df-spinner');\n",
              "      quickchartButtonEl.classList.add('colab-df-quickchart-complete');\n",
              "    }\n",
              "    (() => {\n",
              "      let quickchartButtonEl =\n",
              "        document.querySelector('#df-53a538d4-ed97-417b-b036-992f6fa6dee9 button');\n",
              "      quickchartButtonEl.style.display =\n",
              "        google.colab.kernel.accessAllowed ? 'block' : 'none';\n",
              "    })();\n",
              "  </script>\n",
              "</div>\n",
              "\n",
              "    </div>\n",
              "  </div>\n"
            ],
            "application/vnd.google.colaboratory.intrinsic+json": {
              "type": "dataframe",
              "variable_name": "df",
              "summary": "{\n  \"name\": \"df\",\n  \"rows\": 100,\n  \"fields\": [\n    {\n      \"column\": \"URL_ID\",\n      \"properties\": {\n        \"dtype\": \"string\",\n        \"num_unique_values\": 100,\n        \"samples\": [\n          \"blackassign0084\",\n          \"blackassign0054\",\n          \"blackassign0071\"\n        ],\n        \"semantic_type\": \"\",\n        \"description\": \"\"\n      }\n    },\n    {\n      \"column\": \"URL\",\n      \"properties\": {\n        \"dtype\": \"string\",\n        \"num_unique_values\": 100,\n        \"samples\": [\n          \"https://insights.blackcoffer.com/how-voice-search-makes-your-business-a-successful-business/\",\n          \"https://insights.blackcoffer.com/how-google-fit-measure-heart-and-respiratory-rates-using-a-phone/\",\n          \"https://insights.blackcoffer.com/how-to-overcome-your-fear-of-making-mistakes-2/\"\n        ],\n        \"semantic_type\": \"\",\n        \"description\": \"\"\n      }\n    },\n    {\n      \"column\": \"Title\",\n      \"properties\": {\n        \"dtype\": \"string\",\n        \"num_unique_values\": 93,\n        \"samples\": [\n          \"All you need to know about online marketing\",\n          \"An outlook of healthcare by the year 2040, and how it will impact human lives.\",\n          \"Are we any closer to preventing a nuclear holocaust?\"\n        ],\n        \"semantic_type\": \"\",\n        \"description\": \"\"\n      }\n    },\n    {\n      \"column\": \"Text\",\n      \"properties\": {\n        \"dtype\": \"string\",\n        \"num_unique_values\": 98,\n        \"samples\": [\n          \"Nature has blessed humanity with earth, a rounded globe where all essential necessity lies in the hand of a human. Though in this 21st-century building Space shuttle and exploring space has become an obvious activity among the human raise, now with the inclusion of Start-ups like Space X once dreamed for reaching out at space now is coming true. We all have to agree upon a fact that in the Growth of industrialization we have generated a humungous carbon footprint and colonize at outer space will create a much-needed area for our survival. With time the human race has visualized and has undergone many transformations, and these transformations may for starters were not that effective but were a major role at existence to this age. Be it a natural transformation like shifting of tectonic plates or manmade like Dumping water and damaging water bodies, somehow have affected usual life of humans so creating space of humans is what next humans are eyeing for. All this idea for Colonizing in outer space emerged when NASA was able to launch a space shuttle with a heavy payload in the late 1990s this idea didn\\u2019t stir brain at that time but later was like apple eyes when various articles from astronauts and their writeup came into limelight and this idea saw its progression, space exploration was not a new normal, companies were petrified by the number of investments that these kinds of projects ask for. But things change with the entry of PayPal\\u2019s owner Elon Musk, in 2002 where he laid stones of Space X, with NASA providing the launchpad for their exploration. Being space travel legitimate there where many bottlenecks knowing the nature of outer space will boost the idea of colonizing, here one has to realize the optimum. But the main target that these company put forward with themself was to not just get into other planet but to get back at earth safely, earlier these projects due to high fund was always subdued and priority was given to the rocket technology. Thus, this unimaginable quest for the search of space was far-fetched though. Now being in 2020 we do not find it out of a place of colonizing outside of space, the kind of emergence of technologies has led to the escalation of spreading the roots of human existence, the plan for reaching out to outer space too plays a key role for this idea too. Proper Planning, Analysing, Organising, and Executing were required for these projects to be successful for deeper know how I would like to mention here an example of Space X, According to them they wud be successful for sending Rockets by 2022 and would able to colonize by 2050, For achieving these vision they have planned a total of 36 times pre-launch of the same rocket which they will be launching by 2020. Not only that they have already placed their star link satellites which will provide the basic network connectivity for their colonized world, they have planned this to that extent that they have targeted a profit of $ 22 billion yearly by 2025. Already they have sent the first manned rocket successfully what Elon musk plan is to create that infrastructure by which going to Mars with cost as a regular air flight ticket all this will lead to better chances for colonizing at another planet. With setting up their commercial flight once started to the red planet it wud just be a stepping stone for the colonizing at the outer space. But the fundamental change that people have to undergo while living on another planet will be a change in gravity and being able to be near to live support if any technical issues arise to their suit until unless we find a similar place like the earth that is the change which humans have to adjust. Aspects like Ultraviolet rays too will play an immense role in the survival, but with the rate of technology expanding and challenging at very boundaries there are not many days left when we find solutions to these aspects but this idea of colonizing has more to do with monetary terms it has been projected that building a colony at space will cost at about $10 Trillian which is more than many countries GDP. Placing that much of an amount and getting funding for such highly anticipated projects is tough. Elon to have addressed with these questions with an open Door he believes that this cost is nothing when we find a route to colonize space and these costs will be justifiable when space exploration will reach new heights. Also, our world is around water and the percentage of land comparison to water is too less. Whereas the population is increasing with the speed and the level of excitement in order to search for new things and the obsession with the new and innovative things never going to finish. Because in the end, we do not satisfy what we have achieved, we are only looking for other things and crave to achieve that. In order to achieve that planning is most crucial stage. As of now we have searched 9 planets but still didn\\u2019t shortlisted the outcomes. But according to the 3-decade theory of ELON MUSK, it seems to be possible. As the most important thing to survive is the atmospheric environment, whether is this suitable or not, and in order to make it suitable what steps had to take and maintain the suitable level of oxygen.\\u00a0 The missions are now what everyone is focusing about. Finding the source of water, because its 2nd crucial thing which is needed to survive. Apart from the excitement and the things, the threats or the uncertainties are bound to happen like any kind of mammal which could occur during construction or after that. So the security for that or any protection so that uncertainties could be replicated. After the basic things, other factors like what are the natural habitats available there, whether the plants could be grown over there or not. If yes, then what types of plants could survive there. The environment for the animals is safe or not. Because to balance the nature we need all types of animals, natural habitat, even insects and other small things which seems to be ignorable but plays an important role in maintaining the environmental balance. For e.g.\\u00a0 \\u2013 Ants are among the leading predators of other insects, helping to keep pest populations low.\\u00a0 Ants move approximately the same amount of soil as earthworms, loosening the soil in the process and increasing air and water movement into the ground.\\u00a0 They keep the ecosystem clean of dead insect carcasses and aid in the destruction and decomposition of plant and animal matter.\\u00a0So, every small thing contributes in its own way. Another matter of concern is the level of artificial intelligence and machine learning required to maintain that kind of requirement. Because as the current scenario, we need energy to run any vehicle or even for the robotics. So, the availability of the energy and the source of energy is needed. And apart from this, the heat of sun is equally important in order to maintain the level. Because with artificial air we can survive but not for so long. So, in order to remain healthy as well the calculation has to be done. When thinking about disease, you may have heard in the news about the concern that antibiotics (such as penicillin) \\u2013 which help fight infections \\u2013 may eventually stop working. Global health organisations are trying to reduce the use of antibiotics, especially for conditions that aren\\u2019t serious. This is because their overuse in recent years means that they\\u2019re becoming less effective. But still we can survive without antibiotics. Because there are ways\\u00a0of dealing with diseases caused by bacteria such as isolation which is how they were treated before penicillin. It might sound like something set firmly in the realm of fantasy, but experts in private industry and governments around the world are trying to understand how feasible it would be to establish a lunar base. Some scientists think humans could survive comfortably on the moon. In some ways, the very minimal gravity of the moon might actually be more conducive to life than the microgravity astronauts experience on the International Space Station. Although it hasn\\u2019t been formally tested, some experts hypothesize that the small amount of gravitational force put on an astronaut\\u2019s body when on the moon\\u00a0could help stem some of the adverse effects like bone-density and muscle loss that space flyers experience while living in microgravity on the International Space Station. By using the moon\\u2019s indigenous material, space agencies can save money on the cost of flying pricey missions to and from the moon\\u2019s surface.\\u00a0Once on the moon, instead of having to stage costly missions aimed at delivering oxygen and other necessary resources from Earth, experts might be able to actually use the material to manufacture gasses needed to sustain life on the satellite. On earth, we are protected from radioactive solar winds and cosmic rays by our own magnet field known as the magnetosphere. But out in the space, we can\\u2019t rely on this type of protection, and in order to make that protection, it could take a lot but yes with more upgraded technology it could achieve. Although till now the approximate value of the project is $10 trillion. But the aim is to make the fare equivalent to the normal air fare. As once we are comfortable with all the resources, securities for uncertainties, risk analysis, and the probability of survival of the human being and many other factors after consideration, then development won\\u2019t take much time. Because to construct a building it take normally 8-9 months. Which is totally acceptable. But the main concern is the density of the land, i.e. whether the land has the capacity to bear that much weight or not. And the type of land is adaptable for cultivation or nor. Although land can be converted into different types of cultivation but with the help of upgraded technology. In order to transport the equipments on the regular basis, a large amount of fuel Is required, and other factors as well and Built the propellor depo for rocket landing building various infrastructure for the city one by one will create a way forward for idea of Colonizing at outer space.\",\n          \"The way work is being done now is destined to undergo massive transformational changes which will impact humans and their ways of working dramatically. With the development of the new machine programs, A.I. is all set to take over the humans in their workplace as no other did. Now we are not only in competition with other beings but with robots too. And robots will overcome us in our fields of work. At present we are being surrounded by A.I. from dusk till dawn, from facial recognition present in our mobile application to dating websites/applications which uses decision making as their algorithms and learn from the past data as well. It is believed that A.I. has grown over 270% over the last years. First, let us know what A.I. is and all the fuss going on about it?A.I. as defined by the internet is simply \\u2018simulation of human intelligence in machines that are programmed to think like humans and mimic their actions\\u2019. This translates to, it can work as a human being just at fast speed and with 100% accuracy.In my definition I would define A.I. as the god form of human beings. Now the question that arises is, what does A.I. entails for the future? A.I. is fancy enough to continue existing in our minds all the time, but it does come with certain limitations and threats which is a cause for a peaceful sleep for most of the workers. With its introduction to different areas of the workplace, it is clear that half of the human jobs would be taken up by A.I. and then there would arise a need for more jobs for humans in new upcoming AI-based ventures in different industries. Thereby giving us our fair share back to us. In a survey, it was found that some believed that AI will be devastating for humans and while some professionals and tech-savvy people believed that inculcating AI technology into business and our daily lives would be a remarkable step as it will lead to the flourishment of business in the future and give them a competitive edge over their rivals. People believed that when these advanced technologies would come together to work with humans, they will produce a smarter strategic decision with productive collaborative practices. More modern technology prevailing in the organization will lead to stress reduction and produce more satisfying results thereby making the organization more efficient. The Organizations who are in use of the AI technology responds by saying that their managers are more comfortable using A.I. and are accustomed to it and the organizations are now looking forward to having integration of higher-end technology systems, as it is believed that new technology will result in more productivity thereby making more profits in the long run. Many jobs today require AI and humans working in collaboration, which creates a positive signal that in the future to humans would be working closely with the technology. Beyond just training and developing these machines, humans would be working in close vicinity with them and making decisions on how to act on the result that is given by the machine. It can be said that both the AI advanced technology and human can\\u2019t remain in the workforce without each other, as the technology will produce accurate and top-notch results but it requires someone to make delivery.e.g., in a firm, an AI-based system produces results based on historical data but there is a need for someone to analyze and communicate and present this data to the respective stakeholders whether inside or outside of the organization. Various uses of artificial intelligence technology in day-to-day functions in regards to interactions with humans are: Artificial intelligence as we know works on algorithms, neural networks, and deep learning which all are analytical tools that help AI in taking analytical decisions based on the data provided. Whereas, humans on the other hand take higher-level decisions based on \\u2018Intuition\\u2019 sometimes, which refers to the gut feeling that generates in humans concerning any situation or challenge. AI alone can\\u2019t work to handle critical situations on its own as it needs humans for it to reciprocate them and share the information with stakeholders, and humans alone can\\u2019t anticipate much on the accurate and fast-paced analytical solutions to the problems persisting in place of the situation. The strength of humans and AI working in synergy can be surprisingly beneficial and advantageous to organizations. It is believed that machines in the future would be eating up our traditional jobs. But the reality seems to be turning otherwise. The future trend shows that in future the AI-powered technology would take up jobs that were being done by humans but in return would produce more jobs that would require human interference with them. As and when the newer technology is approaching more and more countries are now proceeding towards GIG Economies, and so in the future, we can witness an increase in freelance jobs and the permanent labor market norms could reduce drastically. Some of the jobs today will be replaced by AI which is in the transportation or retail commerce sector that can be 100% automated in the future years. There is an \\u2018Amazon Go\\u2019 store that uses this technology which goes by the name \\u2018Just walk out technology\\u2019 wherein there is no need for any human-induced workforce and all the operations are carried out by AI-powered technologies, which is indeed a breakthrough technology in today\\u2019s world. Rather than eating up our jobs AI in return will be creating more jobs in the future by creating massive innovations thereby fueling up many new industries and thereby giving us our fair share of jobs back. There will be a lot of demand placed on the upcoming young workforce which is also categorized as \\u2018Gen Z\\u2019. They are expected to know more about technology and would be high in demand. \\u00a0These young generations are required to learn new skills which are needed to survive in the dynamic changing environment, and as most of the activities that are carried out by workers will be automated, there will be demand for people working in the back office and maintaining and developing the technology to its best versions. \\u00a0 AI powered technology has its limitations which makes it a rigid system to hold on to and also which makes it a costly affair at the initial stage. \\u00a0 It was predicted that the cost of electricity to power a supercharged AI model was around $4.6 million. So, this super-powered AI can be purchased only by big fortune firms and thereby creating more value to their net worth. One of the major limitations of AI is that it can contain biased data as the scientists who put in the data can create biasedness and so the resultant output of the same would have a biased report. These machines as do not have neuroscience-based technology in them yet which enables them to carry human emotions to understand complex situations and a creative way out of that, they tend to have a lack of out of box thinking which in the case is rigid in themselves as they are programmed to work on a single task and they cannot perform more than a single task at the same time. It is also believed that there exists no creativity among the computer, no matter it is fast-paced, but they are not intelligent. Businesses and organizations need to understand and anticipate the opportunities that the future holds for them and they need to start training their employees based on today\\u2019s dynamic changing technology. While it\\u2019s still unclear what does the future holds for us, but the anticipation of it could benefit us in several ways. As we are unclear about what the future looks like, we need to think in probable terms how it could turn out to be and then employ specific training programs for the employees of the organization.The training the employees are needed to be done on a continuous and lifetime basis which means that education won\\u2019t be only limited to PG degrees but will be now a lifetime process of learning. As the Covid-19 changed the scenario of the work patterns around the world, we now need to think strategically about the working dynamics of the future and how does it look like compared to the pre-covid and post-covid scenario. Employees will be playing a major role in transforming the organizations and work practices in the upcoming future, so organizations need to select and recruit the best candidates among the pool and then provide them with best practices of the new machines and make proficient in their area of work. Policies need to be developed to hire the best people and then retaining the talent in the organization. There needs to be a continuous scanning of the environment by the organizations to comprehend any new trends and assess them, not all trends will be beneficial for organizations, they must be aware of the prospects and plan for the future systematically and consistently. There lies a possibility in future certain years from now, we could have machines who will have general human intelligence who would be able to answer deep meaningful questions asking \\u2018Why are the curtains blue?\\u2019, would be able to clean cars, play politics and tell jokes to us, and by using deep and machine learning programs their level of intelligence would be beyond mathematical calculations to us. That\\u2019s how good machines will be in the future, but to make ourselves competitive with machines, we would need to train ourselves for the impending ambiguous future ahead of us. Humans and machines need to work in synergy to get beneficial and satisfying results for both parties. Machines are indeed going take away many of our jobs, but let me make you sleep peacefully tonight, the machines aren\\u2019t arriving until we\\u2019re retired. \\u00a0\",\n          \"COVID 19 has bought the world to its knees. With businesses being shut, travel being banned, schools, and colleges being closed, we have observed an impeccable amount of sorrow and despise along with a great amount of mental torture and destruction. Though situations are improving now, and the lockdowns are being lifted, it is a fact that it cannot be shunned that this virus will have a long term impact on people, and the effects will not only be felt economically and physically but also mentally. We\\u2019ve been reading articles regarding the impact of COVID 19 on the economy, education, mental health, and every other possible aspect. But one topic which has not been talked about much is the impact of COVID 19 on office space and co-working industries. Well, it is quite obvious that offices will start functioning now, but, the COVID period hasn\\u2019t ended. This means that social distancing will also have to be followed in offices; where it will be a problem to do so because of the lack of adequate infrastructure and space. The same will be the condition in co-working industries, wherein employees of different companies come and work together under the same roof. However, these problems are quite obvious (though people haven\\u2019t thought about them much), but the fact which people fail to notice and understand is that the meaning of space is not only limited to infrastructural space which is measured in square foot or square meters; but it also extends to metal space, or for that fact, space in the minds of people for others and their thoughts as well as opinions. Coronavirus has left a big scratch in our country; just the way a car needs repair after an accident, our country will also need repair after the control of this virus. But, unlike a car, our country will require a large amount of time to get restored and to stand straight without any support. Needless to say, the economic stability of our country will definitely be hit because of this reason. But the problem is since the earnings of the employers will reduce, it will subsequently lead to a drop in the salary of the employees. While some employees might be preferred by their bosses and may receive a raise regularly, others might be subjected to unfair treatment and made to do the same amount of work for a lower salary. People tend to overlook the thin line which exists between cooperation and competition. The problem doesn\\u2019t arise when such a situation happens wherein an employee is getting paid more than the other, but instead, it arises when people start to compare their earnings as well as benefits to that of others. And in today\\u2019s world, where people keep money at the top of their priority list, comparisons will play a very important role in the performance of employees and their company. Since there will exist inequalities and partialities in companies, there will also exist a sense of hatred and competition among the employees of the same company; who will compete to get a better position or a raise in their salary. This may seem beneficial to some as it might compel the employees to work harder and better, but however, will bring huge losses in the long run. The fact is; employees might end up doing unethical acts which will help them to make a better impression in their boss\\u2019s eyes. Moreover, since there will be comparisons among the employees, it might happen that the \\u2018Employee of the Month\\u2019 ends up being hated by all other employees in the company. Another situation that might arise is that of bluffing and pretending; wherein employees tend to show that they work very hard but they don\\u2019t. This might be practiced by showing the boss that they are working when he is on around, and then chilling the rest of the time when the boss goes home or sits in his office. In fact, employees might also lose interest in working if they sense repeated partialities and inequalities; which they might show by quitting the jobs or not performing to their best. Such situations will definitely arise in companies and offices; wherein employees will compete for attention and resources; which will have a great impact on the company and its functioning. And all this will happen because of only one thing; lack of office mental space i.e. space in the minds of people working together in a particular office for cooperation and teamwork, along with ignorance of the fact that things will get better and eventually the same after some time. Another kind of industry and companies that will be affected due to the long-lasting impact of COVID 19 is the co-working industry and offices. This is because, there will be a shortage of resources and the income of people, but the maintenance cost to be born for the infrastructure, as well the rent will remain the same. Because of this, employees will be told by the company owners to exploit the resources present in the offices and use them to the fullest; to compensate for the losses being born and to make better use of the money being used. However, the number of resources will be the same, and so, there will be a case of competition between employees of different companies to use resources and take benefits of the same. If the above two situations happen to occur at the same time (which they most likely will), we will observe a scene of intra-company as well as inter-company competition. Also, our personal relations with other employees in the company might also be affected due to this comparison and competition; which itself will be a result of limited mental space. COVID 19 will have severe impacts on the office (mental) space of companies and people.\\u00a0 People\\u2019s thoughts, how they treat others, along with accepting defeat and rejection will be an important aspect of everyone\\u2019s lives. Moreover, we might also observe a shoot in the intensity and frequency of office people going to psychologists; because of repeated rejection and unfair treatment. However, we need to cope with this thing and realize that it is indeed very important for us to start preparing to expand our mental space and that this competition and comparison will not stay for long and should not affect our personal relations and life at any cost.\"\n        ],\n        \"semantic_type\": \"\",\n        \"description\": \"\"\n      }\n    },\n    {\n      \"column\": \"Cleaned_Text\",\n      \"properties\": {\n        \"dtype\": \"string\",\n        \"num_unique_values\": 98,\n        \"samples\": [\n          \"Nature blessed humanity earth, rounded globe essential necessity lies hand human. 21st-century building Space shuttle exploring space obvious activity human raise, inclusion Start-ups Space dreamed reaching space coming true. agree fact Growth industrialization generated humungous carbon footprint colonize outer space create much-needed area survival. time human race visualized undergone transformations, transformations starters effective major role existence age. natural transformation shifting tectonic plates manmade Dumping water damaging water bodies, affected usual life humans creating space humans humans eyeing for. idea Colonizing outer space emerged NASA launch space shuttle heavy payload late 1990s idea didn\\u2019t stir brain time apple eyes articles astronauts writeup limelight idea progression, space exploration normal, companies petrified number investments kinds projects for. things change entry PayPal\\u2019s owner Elon Musk, 2002 laid stones Space X, NASA providing launchpad exploration. space travel legitimate bottlenecks knowing nature outer space boost idea colonizing, realize optimum. main target company put forward themself planet back earth safely, earlier projects due high fund subdued priority rocket technology. Thus, unimaginable quest search space far-fetched though. 2020 find place colonizing space, kind emergence technologies led escalation spreading roots human existence, plan reaching outer space plays key role idea too. Proper Planning, Analysing, Organising, Executing required projects successful deeper mention Space X, wud successful sending Rockets 2022 colonize 2050, achieving vision planned total 36 times pre-launch rocket launching 2020. star link satellites provide basic network connectivity colonized world, planned extent targeted profit $ 22 billion yearly 2025. manned rocket successfully Elon musk plan create infrastructure Mars cost regular air flight ticket lead chances colonizing planet. setting commercial flight started red planet wud stepping stone colonizing outer space. fundamental change people undergo living planet change gravity live support technical issues arise suit find similar place earth change humans adjust. Aspects Ultraviolet rays play immense role survival, rate technology expanding challenging boundaries days left find solutions aspects idea colonizing monetary terms projected building colony space cost $10 Trillian countries GDP. Placing amount funding highly anticipated projects tough. Elon addressed questions open Door believes cost find route colonize space costs justifiable space exploration reach heights. Also, world water percentage land comparison water less. population increasing speed level excitement order search things obsession innovative things finish. end, satisfy achieved, things crave achieve that. order achieve planning crucial stage. searched 9 planets didn\\u2019t shortlisted outcomes. 3-decade theory ELON MUSK, possible. important thing survive atmospheric environment, suitable not, order make suitable steps maintain suitable level oxygen. missions focusing about. Finding source water, 2nd crucial thing needed survive. excitement things, threats uncertainties bound happen kind mammal occur construction that. security protection uncertainties replicated. basic things, factors natural habitats there, plants grown not. yes, types plants survive there. environment animals safe not. balance nature types animals, natural habitat, insects small things ignorable plays important role maintaining environmental balance. e.g. \\u2013 Ants leading predators insects, helping pest populations low. Ants move approximately amount soil earthworms, loosening soil process increasing air water movement ground. ecosystem clean dead insect carcasses aid destruction decomposition plant animal matter. So, small thing contributes way. matter concern level artificial intelligence machine learning required maintain kind requirement. current scenario, energy run vehicle robotics. So, availability energy source energy needed. this, heat sun equally important order maintain level. artificial air survive long. So, order remain healthy calculation done. thinking disease, heard news concern antibiotics (such penicillin) \\u2013 fight infections \\u2013 eventually stop working. Global health organisations reduce antibiotics, conditions aren\\u2019t serious. overuse recent years means they\\u2019re effective. survive antibiotics. ways dealing diseases caused bacteria isolation treated penicillin. sound set firmly realm fantasy, experts private industry governments world understand feasible establish lunar base. scientists humans survive comfortably moon. ways, minimal gravity moon conducive life microgravity astronauts experience International Space Station. hasn\\u2019t formally tested, experts hypothesize small amount gravitational force put astronaut\\u2019s body moon stem adverse effects bone-density muscle loss space flyers experience living microgravity International Space Station. moon\\u2019s indigenous material, space agencies save money cost flying pricey missions moon\\u2019s surface. moon, stage costly missions aimed delivering oxygen resources Earth, experts material manufacture gasses needed sustain life satellite. earth, protected radioactive solar winds cosmic rays magnet field magnetosphere. space, can\\u2019t rely type protection, order make protection, lot upgraded technology achieve. till approximate project $10 trillion. aim make fare equivalent normal air fare. comfortable resources, securities uncertainties, risk analysis, probability survival human factors consideration, development won\\u2019t time. construct building 8-9 months. totally acceptable. main concern density land, i.e. land capacity bear weight not. type land adaptable cultivation nor. land converted types cultivation upgraded technology. order transport equipments regular basis, large amount fuel required, factors Built propellor depo rocket landing building infrastructure city create forward idea Colonizing outer space.\",\n          \"work destined undergo massive transformational impact humans ways working dramatically. development machine programs, A.I. set humans workplace did. competition beings robots too. robots overcome fields work. present surrounded A.I. dusk till dawn, facial recognition present mobile application dating websites/applications decision making algorithms learn past data well. believed A.I. grown 270% years. First, A.I. fuss it?A.I. defined internet simply \\u2018simulation human intelligence machines programmed humans mimic actions\\u2019. translates to, work human fast speed 100% accuracy.In definition define A.I. god form human beings. question arises is, A.I. entails future? A.I. fancy continue existing minds time, limitations threats peaceful sleep workers. introduction areas workplace, clear half human jobs A.I. arise jobs humans upcoming AI-based ventures industries. giving fair share back us. survey, found believed AI devastating humans professionals tech-savvy people believed inculcating AI technology business daily lives remarkable step lead flourishment business future give competitive edge rivals. People believed advanced technologies work humans, produce smarter strategic decision productive collaborative practices. modern technology prevailing organization lead stress reduction produce satisfying results making organization efficient. Organizations AI technology responds managers comfortable A.I. accustomed organizations forward integration higher-end technology systems, believed technology result productivity making profits long run. jobs today require AI humans working collaboration, creates positive signal future humans working closely technology. training developing machines, humans working close vicinity making decisions act result machine. AI advanced technology human can\\u2019t remain workforce other, technology produce accurate top-notch results requires make delivery.e.g., firm, AI-based system produces results based historical data analyze communicate present data respective stakeholders inside organization. artificial intelligence technology day-to-day functions interactions humans are: Artificial intelligence works algorithms, neural networks, deep learning analytical tools AI taking analytical decisions based data provided. Whereas, humans hand higher-level decisions based \\u2018Intuition\\u2019 sometimes, refers gut feeling generates humans situation challenge. AI can\\u2019t work handle critical situations humans reciprocate share information stakeholders, humans can\\u2019t anticipate accurate fast-paced analytical solutions problems persisting place situation. strength humans AI working synergy surprisingly beneficial advantageous organizations. believed machines future eating traditional jobs. reality turning otherwise. future trend shows future AI-powered technology jobs humans return produce jobs require human interference them. newer technology approaching countries proceeding GIG Economies, future, witness increase freelance jobs permanent labor market norms reduce drastically. jobs today replaced AI transportation retail commerce sector 100% automated future years. \\u2018Amazon Go\\u2019 store technology \\u2018Just walk technology\\u2019 human-induced workforce operations carried AI-powered technologies, breakthrough technology today\\u2019s world. eating jobs AI return creating jobs future creating massive innovations fueling industries giving fair share jobs back. lot demand upcoming young workforce categorized \\u2018Gen Z\\u2019. expected technology high demand. young generations required learn skills needed survive dynamic changing environment, activities carried workers automated, demand people working back office maintaining developing technology versions. AI powered technology limitations makes rigid system hold makes costly affair initial stage. predicted cost electricity power supercharged AI model $4.6 million. So, super-powered AI purchased big fortune firms creating net worth. major limitations AI biased data scientists put data create biasedness resultant output biased report. machines neuroscience-based technology enables carry human emotions understand complex situations creative that, tend lack box thinking case rigid programmed work single task perform single task time. believed exists creativity computer, matter fast-paced, intelligent. Businesses organizations understand anticipate opportunities future holds start training employees based today\\u2019s dynamic changing technology. it\\u2019s unclear future holds us, anticipation benefit ways. unclear future like, probable terms turn employ specific training programs employees organization.The training employees needed continuous lifetime basis means education won\\u2019t limited PG degrees lifetime process learning. Covid-19 changed scenario work patterns world, strategically working dynamics future compared pre-covid post-covid scenario. Employees playing major role transforming organizations work practices upcoming future, organizations select recruit candidates pool provide practices machines make proficient area work. Policies developed hire people retaining talent organization. continuous scanning environment organizations comprehend trends assess them, trends beneficial organizations, aware prospects plan future systematically consistently. lies possibility future years now, machines general human intelligence answer deep meaningful questions \\u2018Why curtains blue?\\u2019, clean cars, play politics jokes us, deep machine learning programs level intelligence mathematical calculations us. That\\u2019s good machines future, make competitive machines, train impending ambiguous future ahead us. Humans machines work synergy beneficial satisfying results parties. Machines jobs, make sleep peacefully tonight, machines aren\\u2019t arriving we\\u2019re retired.\",\n          \"COVID 19 bought world knees. businesses shut, travel banned, schools, colleges closed, observed impeccable amount sorrow despise great amount mental torture destruction. situations improving now, lockdowns lifted, fact shunned virus long term impact people, effects felt economically physically mentally. We\\u2019ve reading articles impact COVID 19 economy, education, mental health, aspect. topic talked impact COVID 19 office space co-working industries. Well, obvious offices start functioning now, but, COVID period hasn\\u2019t ended. means social distancing offices; problem lack adequate infrastructure space. condition co-working industries, employees companies work roof. However, problems obvious (though people haven\\u2019t thought much), fact people fail notice understand meaning space limited infrastructural space measured square foot square meters; extends metal space, fact, space minds people thoughts opinions. Coronavirus left big scratch country; car repair accident, country repair control virus. But, unlike car, country require large amount time restored stand straight support. Needless say, economic stability country hit reason. problem earnings employers reduce, subsequently lead drop salary employees. employees preferred bosses receive raise regularly, subjected unfair treatment made amount work lower salary. People tend overlook thin line exists cooperation competition. problem doesn\\u2019t arise situation employee paid other, instead, arises people start compare earnings benefits others. today\\u2019s world, people money top priority list, comparisons play important role performance employees company. exist inequalities partialities companies, exist sense hatred competition employees company; compete position raise salary. beneficial compel employees work harder better, however, bring huge losses long run. fact is; employees end unethical acts make impression boss\\u2019s eyes. Moreover, comparisons employees, happen \\u2018Employee Month\\u2019 ends hated employees company. situation arise bluffing pretending; employees tend show work hard don\\u2019t. practiced showing boss working around, chilling rest time boss home sits office. fact, employees lose interest working sense repeated partialities inequalities; show quitting jobs performing best. situations arise companies offices; employees compete attention resources; great impact company functioning. happen thing; lack office mental space i.e. space minds people working office cooperation teamwork, ignorance fact things eventually time. kind industry companies affected due long-lasting impact COVID 19 co-working industry offices. because, shortage resources income people, maintenance cost born infrastructure, rent remain same. this, employees told company owners exploit resources present offices fullest; compensate losses born make money used. However, number resources same, so, case competition employees companies resources benefits same. situations happen occur time (which will), observe scene intra-company inter-company competition. Also, personal relations employees company affected due comparison competition; result limited mental space. COVID 19 severe impacts office (mental) space companies people. People\\u2019s thoughts, treat others, accepting defeat rejection important aspect everyone\\u2019s lives. Moreover, observe shoot intensity frequency office people psychologists; repeated rejection unfair treatment. However, cope thing realize important start preparing expand mental space competition comparison stay long affect personal relations life cost.\"\n        ],\n        \"semantic_type\": \"\",\n        \"description\": \"\"\n      }\n    },\n    {\n      \"column\": \"Positive_Score\",\n      \"properties\": {\n        \"dtype\": \"number\",\n        \"std\": 16,\n        \"min\": 0,\n        \"max\": 78,\n        \"num_unique_values\": 48,\n        \"samples\": [\n          46,\n          19,\n          54\n        ],\n        \"semantic_type\": \"\",\n        \"description\": \"\"\n      }\n    },\n    {\n      \"column\": \"Negative_Score\",\n      \"properties\": {\n        \"dtype\": \"number\",\n        \"std\": 15,\n        \"min\": -60,\n        \"max\": 0,\n        \"num_unique_values\": 42,\n        \"samples\": [\n          -16,\n          -10,\n          -51\n        ],\n        \"semantic_type\": \"\",\n        \"description\": \"\"\n      }\n    },\n    {\n      \"column\": \"Polarity_Score\",\n      \"properties\": {\n        \"dtype\": \"number\",\n        \"std\": 9.473649292123435,\n        \"min\": -39.00001950000975,\n        \"max\": 51.999974000013,\n        \"num_unique_values\": 95,\n        \"samples\": [\n          1.812499943359377,\n          1.2222221543209915,\n          2.199999780000022\n        ],\n        \"semantic_type\": \"\",\n        \"description\": \"\"\n      }\n    },\n    {\n      \"column\": \"Subjectivity_Score\",\n      \"properties\": {\n        \"dtype\": \"number\",\n        \"std\": 0.0368209952638895,\n        \"min\": -0.10089686076032094,\n        \"max\": 0.0981595089013512,\n        \"num_unique_values\": 96,\n        \"samples\": [\n          0.05223880584020198,\n          -0.004860267308796759,\n          0.014492753518168453\n        ],\n        \"semantic_type\": \"\",\n        \"description\": \"\"\n      }\n    },\n    {\n      \"column\": \"Sentences\",\n      \"properties\": {\n        \"dtype\": \"object\",\n        \"semantic_type\": \"\",\n        \"description\": \"\"\n      }\n    },\n    {\n      \"column\": \"Words\",\n      \"properties\": {\n        \"dtype\": \"object\",\n        \"semantic_type\": \"\",\n        \"description\": \"\"\n      }\n    }\n  ]\n}"
            }
          },
          "metadata": {},
          "execution_count": 52
        }
      ]
    },
    {
      "cell_type": "code",
      "source": [
        "df.drop(columns=['Sentences','Words'],axis=1,inplace=True)"
      ],
      "metadata": {
        "id": "cYH7HAAx3a9J"
      },
      "execution_count": null,
      "outputs": []
    },
    {
      "cell_type": "markdown",
      "source": [
        "###**Analysis of Readability**\n",
        "\n",
        "####Analysis of Readability is calculated using the Gunning Fox index formula described below.\n",
        "\n",
        "*   Average Sentence Length = the number of words / the number of sentences\n",
        "\n",
        "*   Percentage of Complex words = the number of complex words / the number of words\n",
        "\n",
        "* Fog Index = 0.4 * (Average Sentence Length + Percentage of Complex words)\n"
      ],
      "metadata": {
        "id": "AAZRyt0UWnsi"
      }
    },
    {
      "cell_type": "code",
      "source": [
        "# Calculate Average Number of Words Per Sentence\n",
        "def calculate_average_words_per_sentence(tokens):\n",
        "    num_sentences = len(tokens)\n",
        "    num_words = sum(len(sentence) for sentence in tokens)\n",
        "    return num_words / num_sentences"
      ],
      "metadata": {
        "id": "XiyX6tHV3sGj"
      },
      "execution_count": null,
      "outputs": []
    },
    {
      "cell_type": "code",
      "source": [
        "df['Average_Words_Per_Sentence'] = df['Cleaned_Text'].apply(lambda x: calculate_average_words_per_sentence([x.split()]))"
      ],
      "metadata": {
        "id": "jOc-4zwf3uuf"
      },
      "execution_count": null,
      "outputs": []
    },
    {
      "cell_type": "code",
      "source": [
        "def calculate_percentage_and_count_complex_words(text):\n",
        "    # Define complex words (for demonstration)\n",
        "    complex_words = {'complex', 'terminology', 'sophisticated'}\n",
        "\n",
        "    # Split the text into words\n",
        "    words = text.split()\n",
        "\n",
        "    # Calculate the number of complex words\n",
        "    complex_word_count = sum(1 for word in words if word.lower() in complex_words)\n",
        "\n",
        "    # Calculate the percentage of complex words\n",
        "    total_word_count = len(words)\n",
        "    percentage_complex_words = (complex_word_count / total_word_count) * 100 if total_word_count > 0 else 0\n",
        "\n",
        "    return percentage_complex_words, complex_word_count\n",
        "\n",
        "# Apply the function and create new columns in the DataFrame\n",
        "df['Percentage_of_Complex_Words'], df['Complex_Word_Count'] = zip(*df['Cleaned_Text'].apply(calculate_percentage_and_count_complex_words))"
      ],
      "metadata": {
        "id": "FFNoy4ldqSYF"
      },
      "execution_count": null,
      "outputs": []
    },
    {
      "cell_type": "code",
      "source": [
        "# Calculate Fog Index\n",
        "def calculate_fog_index(average_sentence_length, percentage_complex_words):\n",
        "    return 0.4 * (average_sentence_length + percentage_complex_words)"
      ],
      "metadata": {
        "id": "WeieEyTj5eVu"
      },
      "execution_count": null,
      "outputs": []
    },
    {
      "cell_type": "code",
      "source": [
        "df['Fog_Index'] = df.apply(lambda row: calculate_fog_index(row['Average_Words_Per_Sentence'], row['Percentage_of_Complex_Words']), axis=1)"
      ],
      "metadata": {
        "id": "ADidbJ-J5wYe"
      },
      "execution_count": null,
      "outputs": []
    },
    {
      "cell_type": "code",
      "source": [
        "# Calculate Word Count\n",
        "def calculate_word_count(tokens):\n",
        "    return sum(len(sentence.split()) for sentence in tokens)"
      ],
      "metadata": {
        "id": "l0SkqWvS5xi-"
      },
      "execution_count": null,
      "outputs": []
    },
    {
      "cell_type": "code",
      "source": [
        "df['Word_Count'] = df['Cleaned_Text'].apply(lambda x: calculate_word_count([x]))"
      ],
      "metadata": {
        "id": "5RhM3usJ59Hf"
      },
      "execution_count": null,
      "outputs": []
    },
    {
      "cell_type": "code",
      "source": [
        "df.head()"
      ],
      "metadata": {
        "id": "IWrbIhV25_iu",
        "colab": {
          "base_uri": "https://localhost:8080/",
          "height": 556
        },
        "outputId": "6a43eab0-1e7f-4045-cda3-d927382c429d"
      },
      "execution_count": null,
      "outputs": [
        {
          "output_type": "execute_result",
          "data": {
            "text/plain": [
              "            URL_ID                                                URL  \\\n",
              "0  blackassign0001  https://insights.blackcoffer.com/rising-it-cit...   \n",
              "1  blackassign0002  https://insights.blackcoffer.com/rising-it-cit...   \n",
              "2  blackassign0003  https://insights.blackcoffer.com/internet-dema...   \n",
              "3  blackassign0004  https://insights.blackcoffer.com/rise-of-cyber...   \n",
              "4  blackassign0005  https://insights.blackcoffer.com/ott-platform-...   \n",
              "\n",
              "                                               Title  \\\n",
              "0  Rising IT cities and its impact on the economy...   \n",
              "1  Rising IT Cities and Their Impact on the Econo...   \n",
              "2  Internet Demand's Evolution, Communication Imp...   \n",
              "3  Rise of Cybercrime and its Effect in upcoming ...   \n",
              "4  OTT platform and its impact on the entertainme...   \n",
              "\n",
              "                                                Text  \\\n",
              "0  We have seen a huge development and dependence...   \n",
              "1  Throughout history, from the industrial revolu...   \n",
              "2  Introduction In the span of just a few decades...   \n",
              "3  The way we live, work, and communicate has unq...   \n",
              "4  The year 2040 is poised to witness a continued...   \n",
              "\n",
              "                                        Cleaned_Text  Positive_Score  \\\n",
              "0  huge development dependence people technology ...               6   \n",
              "1  history, industrial revolution 18th century de...              45   \n",
              "2  Introduction span decades, internet undergone ...              33   \n",
              "3  live, work, communicate unquestionably changed...              29   \n",
              "4  year 2040 poised witness continued revolution ...              17   \n",
              "\n",
              "   Negative_Score  Polarity_Score  Subjectivity_Score  \\\n",
              "0              -1        1.400000            0.030303   \n",
              "1             -23        3.090909            0.028758   \n",
              "2             -19        3.714285            0.022508   \n",
              "3             -58       -3.000000           -0.047934   \n",
              "4              -7        2.400000            0.027322   \n",
              "\n",
              "   Average_Words_Per_Sentence  Percentage_of_Complex_Words  \\\n",
              "0                       165.0                     0.000000   \n",
              "1                       765.0                     0.000000   \n",
              "2                       622.0                     0.160772   \n",
              "3                       605.0                     0.330579   \n",
              "4                       366.0                     0.000000   \n",
              "\n",
              "   Complex_Word_Count   Fog_Index  Word_Count  \n",
              "0                   0   66.000000         165  \n",
              "1                   0  306.000000         765  \n",
              "2                   1  248.864309         622  \n",
              "3                   2  242.132231         605  \n",
              "4                   0  146.400000         366  "
            ],
            "text/html": [
              "\n",
              "  <div id=\"df-cfa2cce4-7f64-4416-960a-28663affe56c\" class=\"colab-df-container\">\n",
              "    <div>\n",
              "<style scoped>\n",
              "    .dataframe tbody tr th:only-of-type {\n",
              "        vertical-align: middle;\n",
              "    }\n",
              "\n",
              "    .dataframe tbody tr th {\n",
              "        vertical-align: top;\n",
              "    }\n",
              "\n",
              "    .dataframe thead th {\n",
              "        text-align: right;\n",
              "    }\n",
              "</style>\n",
              "<table border=\"1\" class=\"dataframe\">\n",
              "  <thead>\n",
              "    <tr style=\"text-align: right;\">\n",
              "      <th></th>\n",
              "      <th>URL_ID</th>\n",
              "      <th>URL</th>\n",
              "      <th>Title</th>\n",
              "      <th>Text</th>\n",
              "      <th>Cleaned_Text</th>\n",
              "      <th>Positive_Score</th>\n",
              "      <th>Negative_Score</th>\n",
              "      <th>Polarity_Score</th>\n",
              "      <th>Subjectivity_Score</th>\n",
              "      <th>Average_Words_Per_Sentence</th>\n",
              "      <th>Percentage_of_Complex_Words</th>\n",
              "      <th>Complex_Word_Count</th>\n",
              "      <th>Fog_Index</th>\n",
              "      <th>Word_Count</th>\n",
              "    </tr>\n",
              "  </thead>\n",
              "  <tbody>\n",
              "    <tr>\n",
              "      <th>0</th>\n",
              "      <td>blackassign0001</td>\n",
              "      <td>https://insights.blackcoffer.com/rising-it-cit...</td>\n",
              "      <td>Rising IT cities and its impact on the economy...</td>\n",
              "      <td>We have seen a huge development and dependence...</td>\n",
              "      <td>huge development dependence people technology ...</td>\n",
              "      <td>6</td>\n",
              "      <td>-1</td>\n",
              "      <td>1.400000</td>\n",
              "      <td>0.030303</td>\n",
              "      <td>165.0</td>\n",
              "      <td>0.000000</td>\n",
              "      <td>0</td>\n",
              "      <td>66.000000</td>\n",
              "      <td>165</td>\n",
              "    </tr>\n",
              "    <tr>\n",
              "      <th>1</th>\n",
              "      <td>blackassign0002</td>\n",
              "      <td>https://insights.blackcoffer.com/rising-it-cit...</td>\n",
              "      <td>Rising IT Cities and Their Impact on the Econo...</td>\n",
              "      <td>Throughout history, from the industrial revolu...</td>\n",
              "      <td>history, industrial revolution 18th century de...</td>\n",
              "      <td>45</td>\n",
              "      <td>-23</td>\n",
              "      <td>3.090909</td>\n",
              "      <td>0.028758</td>\n",
              "      <td>765.0</td>\n",
              "      <td>0.000000</td>\n",
              "      <td>0</td>\n",
              "      <td>306.000000</td>\n",
              "      <td>765</td>\n",
              "    </tr>\n",
              "    <tr>\n",
              "      <th>2</th>\n",
              "      <td>blackassign0003</td>\n",
              "      <td>https://insights.blackcoffer.com/internet-dema...</td>\n",
              "      <td>Internet Demand's Evolution, Communication Imp...</td>\n",
              "      <td>Introduction In the span of just a few decades...</td>\n",
              "      <td>Introduction span decades, internet undergone ...</td>\n",
              "      <td>33</td>\n",
              "      <td>-19</td>\n",
              "      <td>3.714285</td>\n",
              "      <td>0.022508</td>\n",
              "      <td>622.0</td>\n",
              "      <td>0.160772</td>\n",
              "      <td>1</td>\n",
              "      <td>248.864309</td>\n",
              "      <td>622</td>\n",
              "    </tr>\n",
              "    <tr>\n",
              "      <th>3</th>\n",
              "      <td>blackassign0004</td>\n",
              "      <td>https://insights.blackcoffer.com/rise-of-cyber...</td>\n",
              "      <td>Rise of Cybercrime and its Effect in upcoming ...</td>\n",
              "      <td>The way we live, work, and communicate has unq...</td>\n",
              "      <td>live, work, communicate unquestionably changed...</td>\n",
              "      <td>29</td>\n",
              "      <td>-58</td>\n",
              "      <td>-3.000000</td>\n",
              "      <td>-0.047934</td>\n",
              "      <td>605.0</td>\n",
              "      <td>0.330579</td>\n",
              "      <td>2</td>\n",
              "      <td>242.132231</td>\n",
              "      <td>605</td>\n",
              "    </tr>\n",
              "    <tr>\n",
              "      <th>4</th>\n",
              "      <td>blackassign0005</td>\n",
              "      <td>https://insights.blackcoffer.com/ott-platform-...</td>\n",
              "      <td>OTT platform and its impact on the entertainme...</td>\n",
              "      <td>The year 2040 is poised to witness a continued...</td>\n",
              "      <td>year 2040 poised witness continued revolution ...</td>\n",
              "      <td>17</td>\n",
              "      <td>-7</td>\n",
              "      <td>2.400000</td>\n",
              "      <td>0.027322</td>\n",
              "      <td>366.0</td>\n",
              "      <td>0.000000</td>\n",
              "      <td>0</td>\n",
              "      <td>146.400000</td>\n",
              "      <td>366</td>\n",
              "    </tr>\n",
              "  </tbody>\n",
              "</table>\n",
              "</div>\n",
              "    <div class=\"colab-df-buttons\">\n",
              "\n",
              "  <div class=\"colab-df-container\">\n",
              "    <button class=\"colab-df-convert\" onclick=\"convertToInteractive('df-cfa2cce4-7f64-4416-960a-28663affe56c')\"\n",
              "            title=\"Convert this dataframe to an interactive table.\"\n",
              "            style=\"display:none;\">\n",
              "\n",
              "  <svg xmlns=\"http://www.w3.org/2000/svg\" height=\"24px\" viewBox=\"0 -960 960 960\">\n",
              "    <path d=\"M120-120v-720h720v720H120Zm60-500h600v-160H180v160Zm220 220h160v-160H400v160Zm0 220h160v-160H400v160ZM180-400h160v-160H180v160Zm440 0h160v-160H620v160ZM180-180h160v-160H180v160Zm440 0h160v-160H620v160Z\"/>\n",
              "  </svg>\n",
              "    </button>\n",
              "\n",
              "  <style>\n",
              "    .colab-df-container {\n",
              "      display:flex;\n",
              "      gap: 12px;\n",
              "    }\n",
              "\n",
              "    .colab-df-convert {\n",
              "      background-color: #E8F0FE;\n",
              "      border: none;\n",
              "      border-radius: 50%;\n",
              "      cursor: pointer;\n",
              "      display: none;\n",
              "      fill: #1967D2;\n",
              "      height: 32px;\n",
              "      padding: 0 0 0 0;\n",
              "      width: 32px;\n",
              "    }\n",
              "\n",
              "    .colab-df-convert:hover {\n",
              "      background-color: #E2EBFA;\n",
              "      box-shadow: 0px 1px 2px rgba(60, 64, 67, 0.3), 0px 1px 3px 1px rgba(60, 64, 67, 0.15);\n",
              "      fill: #174EA6;\n",
              "    }\n",
              "\n",
              "    .colab-df-buttons div {\n",
              "      margin-bottom: 4px;\n",
              "    }\n",
              "\n",
              "    [theme=dark] .colab-df-convert {\n",
              "      background-color: #3B4455;\n",
              "      fill: #D2E3FC;\n",
              "    }\n",
              "\n",
              "    [theme=dark] .colab-df-convert:hover {\n",
              "      background-color: #434B5C;\n",
              "      box-shadow: 0px 1px 3px 1px rgba(0, 0, 0, 0.15);\n",
              "      filter: drop-shadow(0px 1px 2px rgba(0, 0, 0, 0.3));\n",
              "      fill: #FFFFFF;\n",
              "    }\n",
              "  </style>\n",
              "\n",
              "    <script>\n",
              "      const buttonEl =\n",
              "        document.querySelector('#df-cfa2cce4-7f64-4416-960a-28663affe56c button.colab-df-convert');\n",
              "      buttonEl.style.display =\n",
              "        google.colab.kernel.accessAllowed ? 'block' : 'none';\n",
              "\n",
              "      async function convertToInteractive(key) {\n",
              "        const element = document.querySelector('#df-cfa2cce4-7f64-4416-960a-28663affe56c');\n",
              "        const dataTable =\n",
              "          await google.colab.kernel.invokeFunction('convertToInteractive',\n",
              "                                                    [key], {});\n",
              "        if (!dataTable) return;\n",
              "\n",
              "        const docLinkHtml = 'Like what you see? Visit the ' +\n",
              "          '<a target=\"_blank\" href=https://colab.research.google.com/notebooks/data_table.ipynb>data table notebook</a>'\n",
              "          + ' to learn more about interactive tables.';\n",
              "        element.innerHTML = '';\n",
              "        dataTable['output_type'] = 'display_data';\n",
              "        await google.colab.output.renderOutput(dataTable, element);\n",
              "        const docLink = document.createElement('div');\n",
              "        docLink.innerHTML = docLinkHtml;\n",
              "        element.appendChild(docLink);\n",
              "      }\n",
              "    </script>\n",
              "  </div>\n",
              "\n",
              "\n",
              "<div id=\"df-a23ff67b-8622-4a53-b1bc-a872785aeee9\">\n",
              "  <button class=\"colab-df-quickchart\" onclick=\"quickchart('df-a23ff67b-8622-4a53-b1bc-a872785aeee9')\"\n",
              "            title=\"Suggest charts\"\n",
              "            style=\"display:none;\">\n",
              "\n",
              "<svg xmlns=\"http://www.w3.org/2000/svg\" height=\"24px\"viewBox=\"0 0 24 24\"\n",
              "     width=\"24px\">\n",
              "    <g>\n",
              "        <path d=\"M19 3H5c-1.1 0-2 .9-2 2v14c0 1.1.9 2 2 2h14c1.1 0 2-.9 2-2V5c0-1.1-.9-2-2-2zM9 17H7v-7h2v7zm4 0h-2V7h2v10zm4 0h-2v-4h2v4z\"/>\n",
              "    </g>\n",
              "</svg>\n",
              "  </button>\n",
              "\n",
              "<style>\n",
              "  .colab-df-quickchart {\n",
              "      --bg-color: #E8F0FE;\n",
              "      --fill-color: #1967D2;\n",
              "      --hover-bg-color: #E2EBFA;\n",
              "      --hover-fill-color: #174EA6;\n",
              "      --disabled-fill-color: #AAA;\n",
              "      --disabled-bg-color: #DDD;\n",
              "  }\n",
              "\n",
              "  [theme=dark] .colab-df-quickchart {\n",
              "      --bg-color: #3B4455;\n",
              "      --fill-color: #D2E3FC;\n",
              "      --hover-bg-color: #434B5C;\n",
              "      --hover-fill-color: #FFFFFF;\n",
              "      --disabled-bg-color: #3B4455;\n",
              "      --disabled-fill-color: #666;\n",
              "  }\n",
              "\n",
              "  .colab-df-quickchart {\n",
              "    background-color: var(--bg-color);\n",
              "    border: none;\n",
              "    border-radius: 50%;\n",
              "    cursor: pointer;\n",
              "    display: none;\n",
              "    fill: var(--fill-color);\n",
              "    height: 32px;\n",
              "    padding: 0;\n",
              "    width: 32px;\n",
              "  }\n",
              "\n",
              "  .colab-df-quickchart:hover {\n",
              "    background-color: var(--hover-bg-color);\n",
              "    box-shadow: 0 1px 2px rgba(60, 64, 67, 0.3), 0 1px 3px 1px rgba(60, 64, 67, 0.15);\n",
              "    fill: var(--button-hover-fill-color);\n",
              "  }\n",
              "\n",
              "  .colab-df-quickchart-complete:disabled,\n",
              "  .colab-df-quickchart-complete:disabled:hover {\n",
              "    background-color: var(--disabled-bg-color);\n",
              "    fill: var(--disabled-fill-color);\n",
              "    box-shadow: none;\n",
              "  }\n",
              "\n",
              "  .colab-df-spinner {\n",
              "    border: 2px solid var(--fill-color);\n",
              "    border-color: transparent;\n",
              "    border-bottom-color: var(--fill-color);\n",
              "    animation:\n",
              "      spin 1s steps(1) infinite;\n",
              "  }\n",
              "\n",
              "  @keyframes spin {\n",
              "    0% {\n",
              "      border-color: transparent;\n",
              "      border-bottom-color: var(--fill-color);\n",
              "      border-left-color: var(--fill-color);\n",
              "    }\n",
              "    20% {\n",
              "      border-color: transparent;\n",
              "      border-left-color: var(--fill-color);\n",
              "      border-top-color: var(--fill-color);\n",
              "    }\n",
              "    30% {\n",
              "      border-color: transparent;\n",
              "      border-left-color: var(--fill-color);\n",
              "      border-top-color: var(--fill-color);\n",
              "      border-right-color: var(--fill-color);\n",
              "    }\n",
              "    40% {\n",
              "      border-color: transparent;\n",
              "      border-right-color: var(--fill-color);\n",
              "      border-top-color: var(--fill-color);\n",
              "    }\n",
              "    60% {\n",
              "      border-color: transparent;\n",
              "      border-right-color: var(--fill-color);\n",
              "    }\n",
              "    80% {\n",
              "      border-color: transparent;\n",
              "      border-right-color: var(--fill-color);\n",
              "      border-bottom-color: var(--fill-color);\n",
              "    }\n",
              "    90% {\n",
              "      border-color: transparent;\n",
              "      border-bottom-color: var(--fill-color);\n",
              "    }\n",
              "  }\n",
              "</style>\n",
              "\n",
              "  <script>\n",
              "    async function quickchart(key) {\n",
              "      const quickchartButtonEl =\n",
              "        document.querySelector('#' + key + ' button');\n",
              "      quickchartButtonEl.disabled = true;  // To prevent multiple clicks.\n",
              "      quickchartButtonEl.classList.add('colab-df-spinner');\n",
              "      try {\n",
              "        const charts = await google.colab.kernel.invokeFunction(\n",
              "            'suggestCharts', [key], {});\n",
              "      } catch (error) {\n",
              "        console.error('Error during call to suggestCharts:', error);\n",
              "      }\n",
              "      quickchartButtonEl.classList.remove('colab-df-spinner');\n",
              "      quickchartButtonEl.classList.add('colab-df-quickchart-complete');\n",
              "    }\n",
              "    (() => {\n",
              "      let quickchartButtonEl =\n",
              "        document.querySelector('#df-a23ff67b-8622-4a53-b1bc-a872785aeee9 button');\n",
              "      quickchartButtonEl.style.display =\n",
              "        google.colab.kernel.accessAllowed ? 'block' : 'none';\n",
              "    })();\n",
              "  </script>\n",
              "</div>\n",
              "\n",
              "    </div>\n",
              "  </div>\n"
            ],
            "application/vnd.google.colaboratory.intrinsic+json": {
              "type": "dataframe",
              "variable_name": "df",
              "summary": "{\n  \"name\": \"df\",\n  \"rows\": 100,\n  \"fields\": [\n    {\n      \"column\": \"URL_ID\",\n      \"properties\": {\n        \"dtype\": \"string\",\n        \"num_unique_values\": 100,\n        \"samples\": [\n          \"blackassign0084\",\n          \"blackassign0054\",\n          \"blackassign0071\"\n        ],\n        \"semantic_type\": \"\",\n        \"description\": \"\"\n      }\n    },\n    {\n      \"column\": \"URL\",\n      \"properties\": {\n        \"dtype\": \"string\",\n        \"num_unique_values\": 100,\n        \"samples\": [\n          \"https://insights.blackcoffer.com/how-voice-search-makes-your-business-a-successful-business/\",\n          \"https://insights.blackcoffer.com/how-google-fit-measure-heart-and-respiratory-rates-using-a-phone/\",\n          \"https://insights.blackcoffer.com/how-to-overcome-your-fear-of-making-mistakes-2/\"\n        ],\n        \"semantic_type\": \"\",\n        \"description\": \"\"\n      }\n    },\n    {\n      \"column\": \"Title\",\n      \"properties\": {\n        \"dtype\": \"string\",\n        \"num_unique_values\": 93,\n        \"samples\": [\n          \"All you need to know about online marketing\",\n          \"An outlook of healthcare by the year 2040, and how it will impact human lives.\",\n          \"Are we any closer to preventing a nuclear holocaust?\"\n        ],\n        \"semantic_type\": \"\",\n        \"description\": \"\"\n      }\n    },\n    {\n      \"column\": \"Text\",\n      \"properties\": {\n        \"dtype\": \"string\",\n        \"num_unique_values\": 98,\n        \"samples\": [\n          \"Nature has blessed humanity with earth, a rounded globe where all essential necessity lies in the hand of a human. Though in this 21st-century building Space shuttle and exploring space has become an obvious activity among the human raise, now with the inclusion of Start-ups like Space X once dreamed for reaching out at space now is coming true. We all have to agree upon a fact that in the Growth of industrialization we have generated a humungous carbon footprint and colonize at outer space will create a much-needed area for our survival. With time the human race has visualized and has undergone many transformations, and these transformations may for starters were not that effective but were a major role at existence to this age. Be it a natural transformation like shifting of tectonic plates or manmade like Dumping water and damaging water bodies, somehow have affected usual life of humans so creating space of humans is what next humans are eyeing for. All this idea for Colonizing in outer space emerged when NASA was able to launch a space shuttle with a heavy payload in the late 1990s this idea didn\\u2019t stir brain at that time but later was like apple eyes when various articles from astronauts and their writeup came into limelight and this idea saw its progression, space exploration was not a new normal, companies were petrified by the number of investments that these kinds of projects ask for. But things change with the entry of PayPal\\u2019s owner Elon Musk, in 2002 where he laid stones of Space X, with NASA providing the launchpad for their exploration. Being space travel legitimate there where many bottlenecks knowing the nature of outer space will boost the idea of colonizing, here one has to realize the optimum. But the main target that these company put forward with themself was to not just get into other planet but to get back at earth safely, earlier these projects due to high fund was always subdued and priority was given to the rocket technology. Thus, this unimaginable quest for the search of space was far-fetched though. Now being in 2020 we do not find it out of a place of colonizing outside of space, the kind of emergence of technologies has led to the escalation of spreading the roots of human existence, the plan for reaching out to outer space too plays a key role for this idea too. Proper Planning, Analysing, Organising, and Executing were required for these projects to be successful for deeper know how I would like to mention here an example of Space X, According to them they wud be successful for sending Rockets by 2022 and would able to colonize by 2050, For achieving these vision they have planned a total of 36 times pre-launch of the same rocket which they will be launching by 2020. Not only that they have already placed their star link satellites which will provide the basic network connectivity for their colonized world, they have planned this to that extent that they have targeted a profit of $ 22 billion yearly by 2025. Already they have sent the first manned rocket successfully what Elon musk plan is to create that infrastructure by which going to Mars with cost as a regular air flight ticket all this will lead to better chances for colonizing at another planet. With setting up their commercial flight once started to the red planet it wud just be a stepping stone for the colonizing at the outer space. But the fundamental change that people have to undergo while living on another planet will be a change in gravity and being able to be near to live support if any technical issues arise to their suit until unless we find a similar place like the earth that is the change which humans have to adjust. Aspects like Ultraviolet rays too will play an immense role in the survival, but with the rate of technology expanding and challenging at very boundaries there are not many days left when we find solutions to these aspects but this idea of colonizing has more to do with monetary terms it has been projected that building a colony at space will cost at about $10 Trillian which is more than many countries GDP. Placing that much of an amount and getting funding for such highly anticipated projects is tough. Elon to have addressed with these questions with an open Door he believes that this cost is nothing when we find a route to colonize space and these costs will be justifiable when space exploration will reach new heights. Also, our world is around water and the percentage of land comparison to water is too less. Whereas the population is increasing with the speed and the level of excitement in order to search for new things and the obsession with the new and innovative things never going to finish. Because in the end, we do not satisfy what we have achieved, we are only looking for other things and crave to achieve that. In order to achieve that planning is most crucial stage. As of now we have searched 9 planets but still didn\\u2019t shortlisted the outcomes. But according to the 3-decade theory of ELON MUSK, it seems to be possible. As the most important thing to survive is the atmospheric environment, whether is this suitable or not, and in order to make it suitable what steps had to take and maintain the suitable level of oxygen.\\u00a0 The missions are now what everyone is focusing about. Finding the source of water, because its 2nd crucial thing which is needed to survive. Apart from the excitement and the things, the threats or the uncertainties are bound to happen like any kind of mammal which could occur during construction or after that. So the security for that or any protection so that uncertainties could be replicated. After the basic things, other factors like what are the natural habitats available there, whether the plants could be grown over there or not. If yes, then what types of plants could survive there. The environment for the animals is safe or not. Because to balance the nature we need all types of animals, natural habitat, even insects and other small things which seems to be ignorable but plays an important role in maintaining the environmental balance. For e.g.\\u00a0 \\u2013 Ants are among the leading predators of other insects, helping to keep pest populations low.\\u00a0 Ants move approximately the same amount of soil as earthworms, loosening the soil in the process and increasing air and water movement into the ground.\\u00a0 They keep the ecosystem clean of dead insect carcasses and aid in the destruction and decomposition of plant and animal matter.\\u00a0So, every small thing contributes in its own way. Another matter of concern is the level of artificial intelligence and machine learning required to maintain that kind of requirement. Because as the current scenario, we need energy to run any vehicle or even for the robotics. So, the availability of the energy and the source of energy is needed. And apart from this, the heat of sun is equally important in order to maintain the level. Because with artificial air we can survive but not for so long. So, in order to remain healthy as well the calculation has to be done. When thinking about disease, you may have heard in the news about the concern that antibiotics (such as penicillin) \\u2013 which help fight infections \\u2013 may eventually stop working. Global health organisations are trying to reduce the use of antibiotics, especially for conditions that aren\\u2019t serious. This is because their overuse in recent years means that they\\u2019re becoming less effective. But still we can survive without antibiotics. Because there are ways\\u00a0of dealing with diseases caused by bacteria such as isolation which is how they were treated before penicillin. It might sound like something set firmly in the realm of fantasy, but experts in private industry and governments around the world are trying to understand how feasible it would be to establish a lunar base. Some scientists think humans could survive comfortably on the moon. In some ways, the very minimal gravity of the moon might actually be more conducive to life than the microgravity astronauts experience on the International Space Station. Although it hasn\\u2019t been formally tested, some experts hypothesize that the small amount of gravitational force put on an astronaut\\u2019s body when on the moon\\u00a0could help stem some of the adverse effects like bone-density and muscle loss that space flyers experience while living in microgravity on the International Space Station. By using the moon\\u2019s indigenous material, space agencies can save money on the cost of flying pricey missions to and from the moon\\u2019s surface.\\u00a0Once on the moon, instead of having to stage costly missions aimed at delivering oxygen and other necessary resources from Earth, experts might be able to actually use the material to manufacture gasses needed to sustain life on the satellite. On earth, we are protected from radioactive solar winds and cosmic rays by our own magnet field known as the magnetosphere. But out in the space, we can\\u2019t rely on this type of protection, and in order to make that protection, it could take a lot but yes with more upgraded technology it could achieve. Although till now the approximate value of the project is $10 trillion. But the aim is to make the fare equivalent to the normal air fare. As once we are comfortable with all the resources, securities for uncertainties, risk analysis, and the probability of survival of the human being and many other factors after consideration, then development won\\u2019t take much time. Because to construct a building it take normally 8-9 months. Which is totally acceptable. But the main concern is the density of the land, i.e. whether the land has the capacity to bear that much weight or not. And the type of land is adaptable for cultivation or nor. Although land can be converted into different types of cultivation but with the help of upgraded technology. In order to transport the equipments on the regular basis, a large amount of fuel Is required, and other factors as well and Built the propellor depo for rocket landing building various infrastructure for the city one by one will create a way forward for idea of Colonizing at outer space.\",\n          \"The way work is being done now is destined to undergo massive transformational changes which will impact humans and their ways of working dramatically. With the development of the new machine programs, A.I. is all set to take over the humans in their workplace as no other did. Now we are not only in competition with other beings but with robots too. And robots will overcome us in our fields of work. At present we are being surrounded by A.I. from dusk till dawn, from facial recognition present in our mobile application to dating websites/applications which uses decision making as their algorithms and learn from the past data as well. It is believed that A.I. has grown over 270% over the last years. First, let us know what A.I. is and all the fuss going on about it?A.I. as defined by the internet is simply \\u2018simulation of human intelligence in machines that are programmed to think like humans and mimic their actions\\u2019. This translates to, it can work as a human being just at fast speed and with 100% accuracy.In my definition I would define A.I. as the god form of human beings. Now the question that arises is, what does A.I. entails for the future? A.I. is fancy enough to continue existing in our minds all the time, but it does come with certain limitations and threats which is a cause for a peaceful sleep for most of the workers. With its introduction to different areas of the workplace, it is clear that half of the human jobs would be taken up by A.I. and then there would arise a need for more jobs for humans in new upcoming AI-based ventures in different industries. Thereby giving us our fair share back to us. In a survey, it was found that some believed that AI will be devastating for humans and while some professionals and tech-savvy people believed that inculcating AI technology into business and our daily lives would be a remarkable step as it will lead to the flourishment of business in the future and give them a competitive edge over their rivals. People believed that when these advanced technologies would come together to work with humans, they will produce a smarter strategic decision with productive collaborative practices. More modern technology prevailing in the organization will lead to stress reduction and produce more satisfying results thereby making the organization more efficient. The Organizations who are in use of the AI technology responds by saying that their managers are more comfortable using A.I. and are accustomed to it and the organizations are now looking forward to having integration of higher-end technology systems, as it is believed that new technology will result in more productivity thereby making more profits in the long run. Many jobs today require AI and humans working in collaboration, which creates a positive signal that in the future to humans would be working closely with the technology. Beyond just training and developing these machines, humans would be working in close vicinity with them and making decisions on how to act on the result that is given by the machine. It can be said that both the AI advanced technology and human can\\u2019t remain in the workforce without each other, as the technology will produce accurate and top-notch results but it requires someone to make delivery.e.g., in a firm, an AI-based system produces results based on historical data but there is a need for someone to analyze and communicate and present this data to the respective stakeholders whether inside or outside of the organization. Various uses of artificial intelligence technology in day-to-day functions in regards to interactions with humans are: Artificial intelligence as we know works on algorithms, neural networks, and deep learning which all are analytical tools that help AI in taking analytical decisions based on the data provided. Whereas, humans on the other hand take higher-level decisions based on \\u2018Intuition\\u2019 sometimes, which refers to the gut feeling that generates in humans concerning any situation or challenge. AI alone can\\u2019t work to handle critical situations on its own as it needs humans for it to reciprocate them and share the information with stakeholders, and humans alone can\\u2019t anticipate much on the accurate and fast-paced analytical solutions to the problems persisting in place of the situation. The strength of humans and AI working in synergy can be surprisingly beneficial and advantageous to organizations. It is believed that machines in the future would be eating up our traditional jobs. But the reality seems to be turning otherwise. The future trend shows that in future the AI-powered technology would take up jobs that were being done by humans but in return would produce more jobs that would require human interference with them. As and when the newer technology is approaching more and more countries are now proceeding towards GIG Economies, and so in the future, we can witness an increase in freelance jobs and the permanent labor market norms could reduce drastically. Some of the jobs today will be replaced by AI which is in the transportation or retail commerce sector that can be 100% automated in the future years. There is an \\u2018Amazon Go\\u2019 store that uses this technology which goes by the name \\u2018Just walk out technology\\u2019 wherein there is no need for any human-induced workforce and all the operations are carried out by AI-powered technologies, which is indeed a breakthrough technology in today\\u2019s world. Rather than eating up our jobs AI in return will be creating more jobs in the future by creating massive innovations thereby fueling up many new industries and thereby giving us our fair share of jobs back. There will be a lot of demand placed on the upcoming young workforce which is also categorized as \\u2018Gen Z\\u2019. They are expected to know more about technology and would be high in demand. \\u00a0These young generations are required to learn new skills which are needed to survive in the dynamic changing environment, and as most of the activities that are carried out by workers will be automated, there will be demand for people working in the back office and maintaining and developing the technology to its best versions. \\u00a0 AI powered technology has its limitations which makes it a rigid system to hold on to and also which makes it a costly affair at the initial stage. \\u00a0 It was predicted that the cost of electricity to power a supercharged AI model was around $4.6 million. So, this super-powered AI can be purchased only by big fortune firms and thereby creating more value to their net worth. One of the major limitations of AI is that it can contain biased data as the scientists who put in the data can create biasedness and so the resultant output of the same would have a biased report. These machines as do not have neuroscience-based technology in them yet which enables them to carry human emotions to understand complex situations and a creative way out of that, they tend to have a lack of out of box thinking which in the case is rigid in themselves as they are programmed to work on a single task and they cannot perform more than a single task at the same time. It is also believed that there exists no creativity among the computer, no matter it is fast-paced, but they are not intelligent. Businesses and organizations need to understand and anticipate the opportunities that the future holds for them and they need to start training their employees based on today\\u2019s dynamic changing technology. While it\\u2019s still unclear what does the future holds for us, but the anticipation of it could benefit us in several ways. As we are unclear about what the future looks like, we need to think in probable terms how it could turn out to be and then employ specific training programs for the employees of the organization.The training the employees are needed to be done on a continuous and lifetime basis which means that education won\\u2019t be only limited to PG degrees but will be now a lifetime process of learning. As the Covid-19 changed the scenario of the work patterns around the world, we now need to think strategically about the working dynamics of the future and how does it look like compared to the pre-covid and post-covid scenario. Employees will be playing a major role in transforming the organizations and work practices in the upcoming future, so organizations need to select and recruit the best candidates among the pool and then provide them with best practices of the new machines and make proficient in their area of work. Policies need to be developed to hire the best people and then retaining the talent in the organization. There needs to be a continuous scanning of the environment by the organizations to comprehend any new trends and assess them, not all trends will be beneficial for organizations, they must be aware of the prospects and plan for the future systematically and consistently. There lies a possibility in future certain years from now, we could have machines who will have general human intelligence who would be able to answer deep meaningful questions asking \\u2018Why are the curtains blue?\\u2019, would be able to clean cars, play politics and tell jokes to us, and by using deep and machine learning programs their level of intelligence would be beyond mathematical calculations to us. That\\u2019s how good machines will be in the future, but to make ourselves competitive with machines, we would need to train ourselves for the impending ambiguous future ahead of us. Humans and machines need to work in synergy to get beneficial and satisfying results for both parties. Machines are indeed going take away many of our jobs, but let me make you sleep peacefully tonight, the machines aren\\u2019t arriving until we\\u2019re retired. \\u00a0\",\n          \"COVID 19 has bought the world to its knees. With businesses being shut, travel being banned, schools, and colleges being closed, we have observed an impeccable amount of sorrow and despise along with a great amount of mental torture and destruction. Though situations are improving now, and the lockdowns are being lifted, it is a fact that it cannot be shunned that this virus will have a long term impact on people, and the effects will not only be felt economically and physically but also mentally. We\\u2019ve been reading articles regarding the impact of COVID 19 on the economy, education, mental health, and every other possible aspect. But one topic which has not been talked about much is the impact of COVID 19 on office space and co-working industries. Well, it is quite obvious that offices will start functioning now, but, the COVID period hasn\\u2019t ended. This means that social distancing will also have to be followed in offices; where it will be a problem to do so because of the lack of adequate infrastructure and space. The same will be the condition in co-working industries, wherein employees of different companies come and work together under the same roof. However, these problems are quite obvious (though people haven\\u2019t thought about them much), but the fact which people fail to notice and understand is that the meaning of space is not only limited to infrastructural space which is measured in square foot or square meters; but it also extends to metal space, or for that fact, space in the minds of people for others and their thoughts as well as opinions. Coronavirus has left a big scratch in our country; just the way a car needs repair after an accident, our country will also need repair after the control of this virus. But, unlike a car, our country will require a large amount of time to get restored and to stand straight without any support. Needless to say, the economic stability of our country will definitely be hit because of this reason. But the problem is since the earnings of the employers will reduce, it will subsequently lead to a drop in the salary of the employees. While some employees might be preferred by their bosses and may receive a raise regularly, others might be subjected to unfair treatment and made to do the same amount of work for a lower salary. People tend to overlook the thin line which exists between cooperation and competition. The problem doesn\\u2019t arise when such a situation happens wherein an employee is getting paid more than the other, but instead, it arises when people start to compare their earnings as well as benefits to that of others. And in today\\u2019s world, where people keep money at the top of their priority list, comparisons will play a very important role in the performance of employees and their company. Since there will exist inequalities and partialities in companies, there will also exist a sense of hatred and competition among the employees of the same company; who will compete to get a better position or a raise in their salary. This may seem beneficial to some as it might compel the employees to work harder and better, but however, will bring huge losses in the long run. The fact is; employees might end up doing unethical acts which will help them to make a better impression in their boss\\u2019s eyes. Moreover, since there will be comparisons among the employees, it might happen that the \\u2018Employee of the Month\\u2019 ends up being hated by all other employees in the company. Another situation that might arise is that of bluffing and pretending; wherein employees tend to show that they work very hard but they don\\u2019t. This might be practiced by showing the boss that they are working when he is on around, and then chilling the rest of the time when the boss goes home or sits in his office. In fact, employees might also lose interest in working if they sense repeated partialities and inequalities; which they might show by quitting the jobs or not performing to their best. Such situations will definitely arise in companies and offices; wherein employees will compete for attention and resources; which will have a great impact on the company and its functioning. And all this will happen because of only one thing; lack of office mental space i.e. space in the minds of people working together in a particular office for cooperation and teamwork, along with ignorance of the fact that things will get better and eventually the same after some time. Another kind of industry and companies that will be affected due to the long-lasting impact of COVID 19 is the co-working industry and offices. This is because, there will be a shortage of resources and the income of people, but the maintenance cost to be born for the infrastructure, as well the rent will remain the same. Because of this, employees will be told by the company owners to exploit the resources present in the offices and use them to the fullest; to compensate for the losses being born and to make better use of the money being used. However, the number of resources will be the same, and so, there will be a case of competition between employees of different companies to use resources and take benefits of the same. If the above two situations happen to occur at the same time (which they most likely will), we will observe a scene of intra-company as well as inter-company competition. Also, our personal relations with other employees in the company might also be affected due to this comparison and competition; which itself will be a result of limited mental space. COVID 19 will have severe impacts on the office (mental) space of companies and people.\\u00a0 People\\u2019s thoughts, how they treat others, along with accepting defeat and rejection will be an important aspect of everyone\\u2019s lives. Moreover, we might also observe a shoot in the intensity and frequency of office people going to psychologists; because of repeated rejection and unfair treatment. However, we need to cope with this thing and realize that it is indeed very important for us to start preparing to expand our mental space and that this competition and comparison will not stay for long and should not affect our personal relations and life at any cost.\"\n        ],\n        \"semantic_type\": \"\",\n        \"description\": \"\"\n      }\n    },\n    {\n      \"column\": \"Cleaned_Text\",\n      \"properties\": {\n        \"dtype\": \"string\",\n        \"num_unique_values\": 98,\n        \"samples\": [\n          \"Nature blessed humanity earth, rounded globe essential necessity lies hand human. 21st-century building Space shuttle exploring space obvious activity human raise, inclusion Start-ups Space dreamed reaching space coming true. agree fact Growth industrialization generated humungous carbon footprint colonize outer space create much-needed area survival. time human race visualized undergone transformations, transformations starters effective major role existence age. natural transformation shifting tectonic plates manmade Dumping water damaging water bodies, affected usual life humans creating space humans humans eyeing for. idea Colonizing outer space emerged NASA launch space shuttle heavy payload late 1990s idea didn\\u2019t stir brain time apple eyes articles astronauts writeup limelight idea progression, space exploration normal, companies petrified number investments kinds projects for. things change entry PayPal\\u2019s owner Elon Musk, 2002 laid stones Space X, NASA providing launchpad exploration. space travel legitimate bottlenecks knowing nature outer space boost idea colonizing, realize optimum. main target company put forward themself planet back earth safely, earlier projects due high fund subdued priority rocket technology. Thus, unimaginable quest search space far-fetched though. 2020 find place colonizing space, kind emergence technologies led escalation spreading roots human existence, plan reaching outer space plays key role idea too. Proper Planning, Analysing, Organising, Executing required projects successful deeper mention Space X, wud successful sending Rockets 2022 colonize 2050, achieving vision planned total 36 times pre-launch rocket launching 2020. star link satellites provide basic network connectivity colonized world, planned extent targeted profit $ 22 billion yearly 2025. manned rocket successfully Elon musk plan create infrastructure Mars cost regular air flight ticket lead chances colonizing planet. setting commercial flight started red planet wud stepping stone colonizing outer space. fundamental change people undergo living planet change gravity live support technical issues arise suit find similar place earth change humans adjust. Aspects Ultraviolet rays play immense role survival, rate technology expanding challenging boundaries days left find solutions aspects idea colonizing monetary terms projected building colony space cost $10 Trillian countries GDP. Placing amount funding highly anticipated projects tough. Elon addressed questions open Door believes cost find route colonize space costs justifiable space exploration reach heights. Also, world water percentage land comparison water less. population increasing speed level excitement order search things obsession innovative things finish. end, satisfy achieved, things crave achieve that. order achieve planning crucial stage. searched 9 planets didn\\u2019t shortlisted outcomes. 3-decade theory ELON MUSK, possible. important thing survive atmospheric environment, suitable not, order make suitable steps maintain suitable level oxygen. missions focusing about. Finding source water, 2nd crucial thing needed survive. excitement things, threats uncertainties bound happen kind mammal occur construction that. security protection uncertainties replicated. basic things, factors natural habitats there, plants grown not. yes, types plants survive there. environment animals safe not. balance nature types animals, natural habitat, insects small things ignorable plays important role maintaining environmental balance. e.g. \\u2013 Ants leading predators insects, helping pest populations low. Ants move approximately amount soil earthworms, loosening soil process increasing air water movement ground. ecosystem clean dead insect carcasses aid destruction decomposition plant animal matter. So, small thing contributes way. matter concern level artificial intelligence machine learning required maintain kind requirement. current scenario, energy run vehicle robotics. So, availability energy source energy needed. this, heat sun equally important order maintain level. artificial air survive long. So, order remain healthy calculation done. thinking disease, heard news concern antibiotics (such penicillin) \\u2013 fight infections \\u2013 eventually stop working. Global health organisations reduce antibiotics, conditions aren\\u2019t serious. overuse recent years means they\\u2019re effective. survive antibiotics. ways dealing diseases caused bacteria isolation treated penicillin. sound set firmly realm fantasy, experts private industry governments world understand feasible establish lunar base. scientists humans survive comfortably moon. ways, minimal gravity moon conducive life microgravity astronauts experience International Space Station. hasn\\u2019t formally tested, experts hypothesize small amount gravitational force put astronaut\\u2019s body moon stem adverse effects bone-density muscle loss space flyers experience living microgravity International Space Station. moon\\u2019s indigenous material, space agencies save money cost flying pricey missions moon\\u2019s surface. moon, stage costly missions aimed delivering oxygen resources Earth, experts material manufacture gasses needed sustain life satellite. earth, protected radioactive solar winds cosmic rays magnet field magnetosphere. space, can\\u2019t rely type protection, order make protection, lot upgraded technology achieve. till approximate project $10 trillion. aim make fare equivalent normal air fare. comfortable resources, securities uncertainties, risk analysis, probability survival human factors consideration, development won\\u2019t time. construct building 8-9 months. totally acceptable. main concern density land, i.e. land capacity bear weight not. type land adaptable cultivation nor. land converted types cultivation upgraded technology. order transport equipments regular basis, large amount fuel required, factors Built propellor depo rocket landing building infrastructure city create forward idea Colonizing outer space.\",\n          \"work destined undergo massive transformational impact humans ways working dramatically. development machine programs, A.I. set humans workplace did. competition beings robots too. robots overcome fields work. present surrounded A.I. dusk till dawn, facial recognition present mobile application dating websites/applications decision making algorithms learn past data well. believed A.I. grown 270% years. First, A.I. fuss it?A.I. defined internet simply \\u2018simulation human intelligence machines programmed humans mimic actions\\u2019. translates to, work human fast speed 100% accuracy.In definition define A.I. god form human beings. question arises is, A.I. entails future? A.I. fancy continue existing minds time, limitations threats peaceful sleep workers. introduction areas workplace, clear half human jobs A.I. arise jobs humans upcoming AI-based ventures industries. giving fair share back us. survey, found believed AI devastating humans professionals tech-savvy people believed inculcating AI technology business daily lives remarkable step lead flourishment business future give competitive edge rivals. People believed advanced technologies work humans, produce smarter strategic decision productive collaborative practices. modern technology prevailing organization lead stress reduction produce satisfying results making organization efficient. Organizations AI technology responds managers comfortable A.I. accustomed organizations forward integration higher-end technology systems, believed technology result productivity making profits long run. jobs today require AI humans working collaboration, creates positive signal future humans working closely technology. training developing machines, humans working close vicinity making decisions act result machine. AI advanced technology human can\\u2019t remain workforce other, technology produce accurate top-notch results requires make delivery.e.g., firm, AI-based system produces results based historical data analyze communicate present data respective stakeholders inside organization. artificial intelligence technology day-to-day functions interactions humans are: Artificial intelligence works algorithms, neural networks, deep learning analytical tools AI taking analytical decisions based data provided. Whereas, humans hand higher-level decisions based \\u2018Intuition\\u2019 sometimes, refers gut feeling generates humans situation challenge. AI can\\u2019t work handle critical situations humans reciprocate share information stakeholders, humans can\\u2019t anticipate accurate fast-paced analytical solutions problems persisting place situation. strength humans AI working synergy surprisingly beneficial advantageous organizations. believed machines future eating traditional jobs. reality turning otherwise. future trend shows future AI-powered technology jobs humans return produce jobs require human interference them. newer technology approaching countries proceeding GIG Economies, future, witness increase freelance jobs permanent labor market norms reduce drastically. jobs today replaced AI transportation retail commerce sector 100% automated future years. \\u2018Amazon Go\\u2019 store technology \\u2018Just walk technology\\u2019 human-induced workforce operations carried AI-powered technologies, breakthrough technology today\\u2019s world. eating jobs AI return creating jobs future creating massive innovations fueling industries giving fair share jobs back. lot demand upcoming young workforce categorized \\u2018Gen Z\\u2019. expected technology high demand. young generations required learn skills needed survive dynamic changing environment, activities carried workers automated, demand people working back office maintaining developing technology versions. AI powered technology limitations makes rigid system hold makes costly affair initial stage. predicted cost electricity power supercharged AI model $4.6 million. So, super-powered AI purchased big fortune firms creating net worth. major limitations AI biased data scientists put data create biasedness resultant output biased report. machines neuroscience-based technology enables carry human emotions understand complex situations creative that, tend lack box thinking case rigid programmed work single task perform single task time. believed exists creativity computer, matter fast-paced, intelligent. Businesses organizations understand anticipate opportunities future holds start training employees based today\\u2019s dynamic changing technology. it\\u2019s unclear future holds us, anticipation benefit ways. unclear future like, probable terms turn employ specific training programs employees organization.The training employees needed continuous lifetime basis means education won\\u2019t limited PG degrees lifetime process learning. Covid-19 changed scenario work patterns world, strategically working dynamics future compared pre-covid post-covid scenario. Employees playing major role transforming organizations work practices upcoming future, organizations select recruit candidates pool provide practices machines make proficient area work. Policies developed hire people retaining talent organization. continuous scanning environment organizations comprehend trends assess them, trends beneficial organizations, aware prospects plan future systematically consistently. lies possibility future years now, machines general human intelligence answer deep meaningful questions \\u2018Why curtains blue?\\u2019, clean cars, play politics jokes us, deep machine learning programs level intelligence mathematical calculations us. That\\u2019s good machines future, make competitive machines, train impending ambiguous future ahead us. Humans machines work synergy beneficial satisfying results parties. Machines jobs, make sleep peacefully tonight, machines aren\\u2019t arriving we\\u2019re retired.\",\n          \"COVID 19 bought world knees. businesses shut, travel banned, schools, colleges closed, observed impeccable amount sorrow despise great amount mental torture destruction. situations improving now, lockdowns lifted, fact shunned virus long term impact people, effects felt economically physically mentally. We\\u2019ve reading articles impact COVID 19 economy, education, mental health, aspect. topic talked impact COVID 19 office space co-working industries. Well, obvious offices start functioning now, but, COVID period hasn\\u2019t ended. means social distancing offices; problem lack adequate infrastructure space. condition co-working industries, employees companies work roof. However, problems obvious (though people haven\\u2019t thought much), fact people fail notice understand meaning space limited infrastructural space measured square foot square meters; extends metal space, fact, space minds people thoughts opinions. Coronavirus left big scratch country; car repair accident, country repair control virus. But, unlike car, country require large amount time restored stand straight support. Needless say, economic stability country hit reason. problem earnings employers reduce, subsequently lead drop salary employees. employees preferred bosses receive raise regularly, subjected unfair treatment made amount work lower salary. People tend overlook thin line exists cooperation competition. problem doesn\\u2019t arise situation employee paid other, instead, arises people start compare earnings benefits others. today\\u2019s world, people money top priority list, comparisons play important role performance employees company. exist inequalities partialities companies, exist sense hatred competition employees company; compete position raise salary. beneficial compel employees work harder better, however, bring huge losses long run. fact is; employees end unethical acts make impression boss\\u2019s eyes. Moreover, comparisons employees, happen \\u2018Employee Month\\u2019 ends hated employees company. situation arise bluffing pretending; employees tend show work hard don\\u2019t. practiced showing boss working around, chilling rest time boss home sits office. fact, employees lose interest working sense repeated partialities inequalities; show quitting jobs performing best. situations arise companies offices; employees compete attention resources; great impact company functioning. happen thing; lack office mental space i.e. space minds people working office cooperation teamwork, ignorance fact things eventually time. kind industry companies affected due long-lasting impact COVID 19 co-working industry offices. because, shortage resources income people, maintenance cost born infrastructure, rent remain same. this, employees told company owners exploit resources present offices fullest; compensate losses born make money used. However, number resources same, so, case competition employees companies resources benefits same. situations happen occur time (which will), observe scene intra-company inter-company competition. Also, personal relations employees company affected due comparison competition; result limited mental space. COVID 19 severe impacts office (mental) space companies people. People\\u2019s thoughts, treat others, accepting defeat rejection important aspect everyone\\u2019s lives. Moreover, observe shoot intensity frequency office people psychologists; repeated rejection unfair treatment. However, cope thing realize important start preparing expand mental space competition comparison stay long affect personal relations life cost.\"\n        ],\n        \"semantic_type\": \"\",\n        \"description\": \"\"\n      }\n    },\n    {\n      \"column\": \"Positive_Score\",\n      \"properties\": {\n        \"dtype\": \"number\",\n        \"std\": 16,\n        \"min\": 0,\n        \"max\": 78,\n        \"num_unique_values\": 48,\n        \"samples\": [\n          46,\n          19,\n          54\n        ],\n        \"semantic_type\": \"\",\n        \"description\": \"\"\n      }\n    },\n    {\n      \"column\": \"Negative_Score\",\n      \"properties\": {\n        \"dtype\": \"number\",\n        \"std\": 15,\n        \"min\": -60,\n        \"max\": 0,\n        \"num_unique_values\": 42,\n        \"samples\": [\n          -16,\n          -10,\n          -51\n        ],\n        \"semantic_type\": \"\",\n        \"description\": \"\"\n      }\n    },\n    {\n      \"column\": \"Polarity_Score\",\n      \"properties\": {\n        \"dtype\": \"number\",\n        \"std\": 9.473649292123435,\n        \"min\": -39.00001950000975,\n        \"max\": 51.999974000013,\n        \"num_unique_values\": 95,\n        \"samples\": [\n          1.812499943359377,\n          1.2222221543209915,\n          2.199999780000022\n        ],\n        \"semantic_type\": \"\",\n        \"description\": \"\"\n      }\n    },\n    {\n      \"column\": \"Subjectivity_Score\",\n      \"properties\": {\n        \"dtype\": \"number\",\n        \"std\": 0.0368209952638895,\n        \"min\": -0.10089686076032094,\n        \"max\": 0.0981595089013512,\n        \"num_unique_values\": 96,\n        \"samples\": [\n          0.05223880584020198,\n          -0.004860267308796759,\n          0.014492753518168453\n        ],\n        \"semantic_type\": \"\",\n        \"description\": \"\"\n      }\n    },\n    {\n      \"column\": \"Average_Words_Per_Sentence\",\n      \"properties\": {\n        \"dtype\": \"number\",\n        \"std\": 310.73583246184785,\n        \"min\": 0.0,\n        \"max\": 2220.0,\n        \"num_unique_values\": 94,\n        \"samples\": [\n          788.0,\n          296.0,\n          369.0\n        ],\n        \"semantic_type\": \"\",\n        \"description\": \"\"\n      }\n    },\n    {\n      \"column\": \"Percentage_of_Complex_Words\",\n      \"properties\": {\n        \"dtype\": \"number\",\n        \"std\": 0.09818138934436688,\n        \"min\": 0.0,\n        \"max\": 0.4761904761904762,\n        \"num_unique_values\": 21,\n        \"samples\": [\n          0.0,\n          0.1201923076923077,\n          0.13003901170351106\n        ],\n        \"semantic_type\": \"\",\n        \"description\": \"\"\n      }\n    },\n    {\n      \"column\": \"Complex_Word_Count\",\n      \"properties\": {\n        \"dtype\": \"number\",\n        \"std\": 0,\n        \"min\": 0,\n        \"max\": 4,\n        \"num_unique_values\": 5,\n        \"samples\": [\n          1,\n          3,\n          2\n        ],\n        \"semantic_type\": \"\",\n        \"description\": \"\"\n      }\n    },\n    {\n      \"column\": \"Fog_Index\",\n      \"properties\": {\n        \"dtype\": \"number\",\n        \"std\": 124.30453191829325,\n        \"min\": 0.0,\n        \"max\": 888.0,\n        \"num_unique_values\": 95,\n        \"samples\": [\n          208.8,\n          118.4,\n          55.2\n        ],\n        \"semantic_type\": \"\",\n        \"description\": \"\"\n      }\n    },\n    {\n      \"column\": \"Word_Count\",\n      \"properties\": {\n        \"dtype\": \"number\",\n        \"std\": 310,\n        \"min\": 0,\n        \"max\": 2220,\n        \"num_unique_values\": 94,\n        \"samples\": [\n          788,\n          296,\n          369\n        ],\n        \"semantic_type\": \"\",\n        \"description\": \"\"\n      }\n    }\n  ]\n}"
            }
          },
          "metadata": {},
          "execution_count": 61
        }
      ]
    },
    {
      "cell_type": "markdown",
      "source": [
        "###calculate average sentence length"
      ],
      "metadata": {
        "id": "afXz2nbdIET7"
      }
    },
    {
      "cell_type": "code",
      "source": [
        "# Function to calculate average sentence length\n",
        "def calculate_average_sentence_length(text):\n",
        "    sentences = sent_tokenize(text)\n",
        "    num_sentences = len(sentences)\n",
        "    num_words = len(text.split())\n",
        "\n",
        "    # Handle division by zero\n",
        "    if num_sentences == 0:\n",
        "        return 0\n",
        "\n",
        "    return num_words / num_sentences"
      ],
      "metadata": {
        "id": "4l3Q57h3CBL2"
      },
      "execution_count": null,
      "outputs": []
    },
    {
      "cell_type": "code",
      "source": [
        "# Calculate Average Sentence Length for each document\n",
        "df['Average_Sentence_Length'] = df['Text'].apply(calculate_average_sentence_length)"
      ],
      "metadata": {
        "id": "16yH0erWCCuW"
      },
      "execution_count": null,
      "outputs": []
    },
    {
      "cell_type": "code",
      "source": [
        "df.head()"
      ],
      "metadata": {
        "colab": {
          "base_uri": "https://localhost:8080/",
          "height": 556
        },
        "id": "GUZromqewCX6",
        "outputId": "7dbe7c66-24dc-469d-c9b3-69a0c6c5fe79"
      },
      "execution_count": null,
      "outputs": [
        {
          "output_type": "execute_result",
          "data": {
            "text/plain": [
              "            URL_ID                                                URL  \\\n",
              "0  blackassign0001  https://insights.blackcoffer.com/rising-it-cit...   \n",
              "1  blackassign0002  https://insights.blackcoffer.com/rising-it-cit...   \n",
              "2  blackassign0003  https://insights.blackcoffer.com/internet-dema...   \n",
              "3  blackassign0004  https://insights.blackcoffer.com/rise-of-cyber...   \n",
              "4  blackassign0005  https://insights.blackcoffer.com/ott-platform-...   \n",
              "\n",
              "                                               Title  \\\n",
              "0  Rising IT cities and its impact on the economy...   \n",
              "1  Rising IT Cities and Their Impact on the Econo...   \n",
              "2  Internet Demand's Evolution, Communication Imp...   \n",
              "3  Rise of Cybercrime and its Effect in upcoming ...   \n",
              "4  OTT platform and its impact on the entertainme...   \n",
              "\n",
              "                                                Text  \\\n",
              "0  We have seen a huge development and dependence...   \n",
              "1  Throughout history, from the industrial revolu...   \n",
              "2  Introduction In the span of just a few decades...   \n",
              "3  The way we live, work, and communicate has unq...   \n",
              "4  The year 2040 is poised to witness a continued...   \n",
              "\n",
              "                                        Cleaned_Text  Positive_Score  \\\n",
              "0  huge development dependence people technology ...               6   \n",
              "1  history, industrial revolution 18th century de...              45   \n",
              "2  Introduction span decades, internet undergone ...              33   \n",
              "3  live, work, communicate unquestionably changed...              29   \n",
              "4  year 2040 poised witness continued revolution ...              17   \n",
              "\n",
              "   Negative_Score  Polarity_Score  Subjectivity_Score  \\\n",
              "0              -1        1.400000            0.030303   \n",
              "1             -23        3.090909            0.028758   \n",
              "2             -19        3.714285            0.022508   \n",
              "3             -58       -3.000000           -0.047934   \n",
              "4              -7        2.400000            0.027322   \n",
              "\n",
              "   Average_Words_Per_Sentence  Percentage_of_Complex_Words  \\\n",
              "0                       165.0                     0.000000   \n",
              "1                       765.0                     0.000000   \n",
              "2                       622.0                     0.160772   \n",
              "3                       605.0                     0.330579   \n",
              "4                       366.0                     0.000000   \n",
              "\n",
              "   Complex_Word_Count   Fog_Index  Word_Count  Average_Sentence_Length  \n",
              "0                   0   66.000000         165                14.083333  \n",
              "1                   0  306.000000         765                18.142857  \n",
              "2                   1  248.864309         622                18.857143  \n",
              "3                   2  242.132231         605                20.431373  \n",
              "4                   0  146.400000         366                17.710526  "
            ],
            "text/html": [
              "\n",
              "  <div id=\"df-91c00001-3809-4667-b3f3-54e186517ce4\" class=\"colab-df-container\">\n",
              "    <div>\n",
              "<style scoped>\n",
              "    .dataframe tbody tr th:only-of-type {\n",
              "        vertical-align: middle;\n",
              "    }\n",
              "\n",
              "    .dataframe tbody tr th {\n",
              "        vertical-align: top;\n",
              "    }\n",
              "\n",
              "    .dataframe thead th {\n",
              "        text-align: right;\n",
              "    }\n",
              "</style>\n",
              "<table border=\"1\" class=\"dataframe\">\n",
              "  <thead>\n",
              "    <tr style=\"text-align: right;\">\n",
              "      <th></th>\n",
              "      <th>URL_ID</th>\n",
              "      <th>URL</th>\n",
              "      <th>Title</th>\n",
              "      <th>Text</th>\n",
              "      <th>Cleaned_Text</th>\n",
              "      <th>Positive_Score</th>\n",
              "      <th>Negative_Score</th>\n",
              "      <th>Polarity_Score</th>\n",
              "      <th>Subjectivity_Score</th>\n",
              "      <th>Average_Words_Per_Sentence</th>\n",
              "      <th>Percentage_of_Complex_Words</th>\n",
              "      <th>Complex_Word_Count</th>\n",
              "      <th>Fog_Index</th>\n",
              "      <th>Word_Count</th>\n",
              "      <th>Average_Sentence_Length</th>\n",
              "    </tr>\n",
              "  </thead>\n",
              "  <tbody>\n",
              "    <tr>\n",
              "      <th>0</th>\n",
              "      <td>blackassign0001</td>\n",
              "      <td>https://insights.blackcoffer.com/rising-it-cit...</td>\n",
              "      <td>Rising IT cities and its impact on the economy...</td>\n",
              "      <td>We have seen a huge development and dependence...</td>\n",
              "      <td>huge development dependence people technology ...</td>\n",
              "      <td>6</td>\n",
              "      <td>-1</td>\n",
              "      <td>1.400000</td>\n",
              "      <td>0.030303</td>\n",
              "      <td>165.0</td>\n",
              "      <td>0.000000</td>\n",
              "      <td>0</td>\n",
              "      <td>66.000000</td>\n",
              "      <td>165</td>\n",
              "      <td>14.083333</td>\n",
              "    </tr>\n",
              "    <tr>\n",
              "      <th>1</th>\n",
              "      <td>blackassign0002</td>\n",
              "      <td>https://insights.blackcoffer.com/rising-it-cit...</td>\n",
              "      <td>Rising IT Cities and Their Impact on the Econo...</td>\n",
              "      <td>Throughout history, from the industrial revolu...</td>\n",
              "      <td>history, industrial revolution 18th century de...</td>\n",
              "      <td>45</td>\n",
              "      <td>-23</td>\n",
              "      <td>3.090909</td>\n",
              "      <td>0.028758</td>\n",
              "      <td>765.0</td>\n",
              "      <td>0.000000</td>\n",
              "      <td>0</td>\n",
              "      <td>306.000000</td>\n",
              "      <td>765</td>\n",
              "      <td>18.142857</td>\n",
              "    </tr>\n",
              "    <tr>\n",
              "      <th>2</th>\n",
              "      <td>blackassign0003</td>\n",
              "      <td>https://insights.blackcoffer.com/internet-dema...</td>\n",
              "      <td>Internet Demand's Evolution, Communication Imp...</td>\n",
              "      <td>Introduction In the span of just a few decades...</td>\n",
              "      <td>Introduction span decades, internet undergone ...</td>\n",
              "      <td>33</td>\n",
              "      <td>-19</td>\n",
              "      <td>3.714285</td>\n",
              "      <td>0.022508</td>\n",
              "      <td>622.0</td>\n",
              "      <td>0.160772</td>\n",
              "      <td>1</td>\n",
              "      <td>248.864309</td>\n",
              "      <td>622</td>\n",
              "      <td>18.857143</td>\n",
              "    </tr>\n",
              "    <tr>\n",
              "      <th>3</th>\n",
              "      <td>blackassign0004</td>\n",
              "      <td>https://insights.blackcoffer.com/rise-of-cyber...</td>\n",
              "      <td>Rise of Cybercrime and its Effect in upcoming ...</td>\n",
              "      <td>The way we live, work, and communicate has unq...</td>\n",
              "      <td>live, work, communicate unquestionably changed...</td>\n",
              "      <td>29</td>\n",
              "      <td>-58</td>\n",
              "      <td>-3.000000</td>\n",
              "      <td>-0.047934</td>\n",
              "      <td>605.0</td>\n",
              "      <td>0.330579</td>\n",
              "      <td>2</td>\n",
              "      <td>242.132231</td>\n",
              "      <td>605</td>\n",
              "      <td>20.431373</td>\n",
              "    </tr>\n",
              "    <tr>\n",
              "      <th>4</th>\n",
              "      <td>blackassign0005</td>\n",
              "      <td>https://insights.blackcoffer.com/ott-platform-...</td>\n",
              "      <td>OTT platform and its impact on the entertainme...</td>\n",
              "      <td>The year 2040 is poised to witness a continued...</td>\n",
              "      <td>year 2040 poised witness continued revolution ...</td>\n",
              "      <td>17</td>\n",
              "      <td>-7</td>\n",
              "      <td>2.400000</td>\n",
              "      <td>0.027322</td>\n",
              "      <td>366.0</td>\n",
              "      <td>0.000000</td>\n",
              "      <td>0</td>\n",
              "      <td>146.400000</td>\n",
              "      <td>366</td>\n",
              "      <td>17.710526</td>\n",
              "    </tr>\n",
              "  </tbody>\n",
              "</table>\n",
              "</div>\n",
              "    <div class=\"colab-df-buttons\">\n",
              "\n",
              "  <div class=\"colab-df-container\">\n",
              "    <button class=\"colab-df-convert\" onclick=\"convertToInteractive('df-91c00001-3809-4667-b3f3-54e186517ce4')\"\n",
              "            title=\"Convert this dataframe to an interactive table.\"\n",
              "            style=\"display:none;\">\n",
              "\n",
              "  <svg xmlns=\"http://www.w3.org/2000/svg\" height=\"24px\" viewBox=\"0 -960 960 960\">\n",
              "    <path d=\"M120-120v-720h720v720H120Zm60-500h600v-160H180v160Zm220 220h160v-160H400v160Zm0 220h160v-160H400v160ZM180-400h160v-160H180v160Zm440 0h160v-160H620v160ZM180-180h160v-160H180v160Zm440 0h160v-160H620v160Z\"/>\n",
              "  </svg>\n",
              "    </button>\n",
              "\n",
              "  <style>\n",
              "    .colab-df-container {\n",
              "      display:flex;\n",
              "      gap: 12px;\n",
              "    }\n",
              "\n",
              "    .colab-df-convert {\n",
              "      background-color: #E8F0FE;\n",
              "      border: none;\n",
              "      border-radius: 50%;\n",
              "      cursor: pointer;\n",
              "      display: none;\n",
              "      fill: #1967D2;\n",
              "      height: 32px;\n",
              "      padding: 0 0 0 0;\n",
              "      width: 32px;\n",
              "    }\n",
              "\n",
              "    .colab-df-convert:hover {\n",
              "      background-color: #E2EBFA;\n",
              "      box-shadow: 0px 1px 2px rgba(60, 64, 67, 0.3), 0px 1px 3px 1px rgba(60, 64, 67, 0.15);\n",
              "      fill: #174EA6;\n",
              "    }\n",
              "\n",
              "    .colab-df-buttons div {\n",
              "      margin-bottom: 4px;\n",
              "    }\n",
              "\n",
              "    [theme=dark] .colab-df-convert {\n",
              "      background-color: #3B4455;\n",
              "      fill: #D2E3FC;\n",
              "    }\n",
              "\n",
              "    [theme=dark] .colab-df-convert:hover {\n",
              "      background-color: #434B5C;\n",
              "      box-shadow: 0px 1px 3px 1px rgba(0, 0, 0, 0.15);\n",
              "      filter: drop-shadow(0px 1px 2px rgba(0, 0, 0, 0.3));\n",
              "      fill: #FFFFFF;\n",
              "    }\n",
              "  </style>\n",
              "\n",
              "    <script>\n",
              "      const buttonEl =\n",
              "        document.querySelector('#df-91c00001-3809-4667-b3f3-54e186517ce4 button.colab-df-convert');\n",
              "      buttonEl.style.display =\n",
              "        google.colab.kernel.accessAllowed ? 'block' : 'none';\n",
              "\n",
              "      async function convertToInteractive(key) {\n",
              "        const element = document.querySelector('#df-91c00001-3809-4667-b3f3-54e186517ce4');\n",
              "        const dataTable =\n",
              "          await google.colab.kernel.invokeFunction('convertToInteractive',\n",
              "                                                    [key], {});\n",
              "        if (!dataTable) return;\n",
              "\n",
              "        const docLinkHtml = 'Like what you see? Visit the ' +\n",
              "          '<a target=\"_blank\" href=https://colab.research.google.com/notebooks/data_table.ipynb>data table notebook</a>'\n",
              "          + ' to learn more about interactive tables.';\n",
              "        element.innerHTML = '';\n",
              "        dataTable['output_type'] = 'display_data';\n",
              "        await google.colab.output.renderOutput(dataTable, element);\n",
              "        const docLink = document.createElement('div');\n",
              "        docLink.innerHTML = docLinkHtml;\n",
              "        element.appendChild(docLink);\n",
              "      }\n",
              "    </script>\n",
              "  </div>\n",
              "\n",
              "\n",
              "<div id=\"df-528e5ae1-e6e6-4afe-86c8-5f0f0d1e2cd2\">\n",
              "  <button class=\"colab-df-quickchart\" onclick=\"quickchart('df-528e5ae1-e6e6-4afe-86c8-5f0f0d1e2cd2')\"\n",
              "            title=\"Suggest charts\"\n",
              "            style=\"display:none;\">\n",
              "\n",
              "<svg xmlns=\"http://www.w3.org/2000/svg\" height=\"24px\"viewBox=\"0 0 24 24\"\n",
              "     width=\"24px\">\n",
              "    <g>\n",
              "        <path d=\"M19 3H5c-1.1 0-2 .9-2 2v14c0 1.1.9 2 2 2h14c1.1 0 2-.9 2-2V5c0-1.1-.9-2-2-2zM9 17H7v-7h2v7zm4 0h-2V7h2v10zm4 0h-2v-4h2v4z\"/>\n",
              "    </g>\n",
              "</svg>\n",
              "  </button>\n",
              "\n",
              "<style>\n",
              "  .colab-df-quickchart {\n",
              "      --bg-color: #E8F0FE;\n",
              "      --fill-color: #1967D2;\n",
              "      --hover-bg-color: #E2EBFA;\n",
              "      --hover-fill-color: #174EA6;\n",
              "      --disabled-fill-color: #AAA;\n",
              "      --disabled-bg-color: #DDD;\n",
              "  }\n",
              "\n",
              "  [theme=dark] .colab-df-quickchart {\n",
              "      --bg-color: #3B4455;\n",
              "      --fill-color: #D2E3FC;\n",
              "      --hover-bg-color: #434B5C;\n",
              "      --hover-fill-color: #FFFFFF;\n",
              "      --disabled-bg-color: #3B4455;\n",
              "      --disabled-fill-color: #666;\n",
              "  }\n",
              "\n",
              "  .colab-df-quickchart {\n",
              "    background-color: var(--bg-color);\n",
              "    border: none;\n",
              "    border-radius: 50%;\n",
              "    cursor: pointer;\n",
              "    display: none;\n",
              "    fill: var(--fill-color);\n",
              "    height: 32px;\n",
              "    padding: 0;\n",
              "    width: 32px;\n",
              "  }\n",
              "\n",
              "  .colab-df-quickchart:hover {\n",
              "    background-color: var(--hover-bg-color);\n",
              "    box-shadow: 0 1px 2px rgba(60, 64, 67, 0.3), 0 1px 3px 1px rgba(60, 64, 67, 0.15);\n",
              "    fill: var(--button-hover-fill-color);\n",
              "  }\n",
              "\n",
              "  .colab-df-quickchart-complete:disabled,\n",
              "  .colab-df-quickchart-complete:disabled:hover {\n",
              "    background-color: var(--disabled-bg-color);\n",
              "    fill: var(--disabled-fill-color);\n",
              "    box-shadow: none;\n",
              "  }\n",
              "\n",
              "  .colab-df-spinner {\n",
              "    border: 2px solid var(--fill-color);\n",
              "    border-color: transparent;\n",
              "    border-bottom-color: var(--fill-color);\n",
              "    animation:\n",
              "      spin 1s steps(1) infinite;\n",
              "  }\n",
              "\n",
              "  @keyframes spin {\n",
              "    0% {\n",
              "      border-color: transparent;\n",
              "      border-bottom-color: var(--fill-color);\n",
              "      border-left-color: var(--fill-color);\n",
              "    }\n",
              "    20% {\n",
              "      border-color: transparent;\n",
              "      border-left-color: var(--fill-color);\n",
              "      border-top-color: var(--fill-color);\n",
              "    }\n",
              "    30% {\n",
              "      border-color: transparent;\n",
              "      border-left-color: var(--fill-color);\n",
              "      border-top-color: var(--fill-color);\n",
              "      border-right-color: var(--fill-color);\n",
              "    }\n",
              "    40% {\n",
              "      border-color: transparent;\n",
              "      border-right-color: var(--fill-color);\n",
              "      border-top-color: var(--fill-color);\n",
              "    }\n",
              "    60% {\n",
              "      border-color: transparent;\n",
              "      border-right-color: var(--fill-color);\n",
              "    }\n",
              "    80% {\n",
              "      border-color: transparent;\n",
              "      border-right-color: var(--fill-color);\n",
              "      border-bottom-color: var(--fill-color);\n",
              "    }\n",
              "    90% {\n",
              "      border-color: transparent;\n",
              "      border-bottom-color: var(--fill-color);\n",
              "    }\n",
              "  }\n",
              "</style>\n",
              "\n",
              "  <script>\n",
              "    async function quickchart(key) {\n",
              "      const quickchartButtonEl =\n",
              "        document.querySelector('#' + key + ' button');\n",
              "      quickchartButtonEl.disabled = true;  // To prevent multiple clicks.\n",
              "      quickchartButtonEl.classList.add('colab-df-spinner');\n",
              "      try {\n",
              "        const charts = await google.colab.kernel.invokeFunction(\n",
              "            'suggestCharts', [key], {});\n",
              "      } catch (error) {\n",
              "        console.error('Error during call to suggestCharts:', error);\n",
              "      }\n",
              "      quickchartButtonEl.classList.remove('colab-df-spinner');\n",
              "      quickchartButtonEl.classList.add('colab-df-quickchart-complete');\n",
              "    }\n",
              "    (() => {\n",
              "      let quickchartButtonEl =\n",
              "        document.querySelector('#df-528e5ae1-e6e6-4afe-86c8-5f0f0d1e2cd2 button');\n",
              "      quickchartButtonEl.style.display =\n",
              "        google.colab.kernel.accessAllowed ? 'block' : 'none';\n",
              "    })();\n",
              "  </script>\n",
              "</div>\n",
              "\n",
              "    </div>\n",
              "  </div>\n"
            ],
            "application/vnd.google.colaboratory.intrinsic+json": {
              "type": "dataframe",
              "variable_name": "df",
              "summary": "{\n  \"name\": \"df\",\n  \"rows\": 100,\n  \"fields\": [\n    {\n      \"column\": \"URL_ID\",\n      \"properties\": {\n        \"dtype\": \"string\",\n        \"num_unique_values\": 100,\n        \"samples\": [\n          \"blackassign0084\",\n          \"blackassign0054\",\n          \"blackassign0071\"\n        ],\n        \"semantic_type\": \"\",\n        \"description\": \"\"\n      }\n    },\n    {\n      \"column\": \"URL\",\n      \"properties\": {\n        \"dtype\": \"string\",\n        \"num_unique_values\": 100,\n        \"samples\": [\n          \"https://insights.blackcoffer.com/how-voice-search-makes-your-business-a-successful-business/\",\n          \"https://insights.blackcoffer.com/how-google-fit-measure-heart-and-respiratory-rates-using-a-phone/\",\n          \"https://insights.blackcoffer.com/how-to-overcome-your-fear-of-making-mistakes-2/\"\n        ],\n        \"semantic_type\": \"\",\n        \"description\": \"\"\n      }\n    },\n    {\n      \"column\": \"Title\",\n      \"properties\": {\n        \"dtype\": \"string\",\n        \"num_unique_values\": 93,\n        \"samples\": [\n          \"All you need to know about online marketing\",\n          \"An outlook of healthcare by the year 2040, and how it will impact human lives.\",\n          \"Are we any closer to preventing a nuclear holocaust?\"\n        ],\n        \"semantic_type\": \"\",\n        \"description\": \"\"\n      }\n    },\n    {\n      \"column\": \"Text\",\n      \"properties\": {\n        \"dtype\": \"string\",\n        \"num_unique_values\": 98,\n        \"samples\": [\n          \"Nature has blessed humanity with earth, a rounded globe where all essential necessity lies in the hand of a human. Though in this 21st-century building Space shuttle and exploring space has become an obvious activity among the human raise, now with the inclusion of Start-ups like Space X once dreamed for reaching out at space now is coming true. We all have to agree upon a fact that in the Growth of industrialization we have generated a humungous carbon footprint and colonize at outer space will create a much-needed area for our survival. With time the human race has visualized and has undergone many transformations, and these transformations may for starters were not that effective but were a major role at existence to this age. Be it a natural transformation like shifting of tectonic plates or manmade like Dumping water and damaging water bodies, somehow have affected usual life of humans so creating space of humans is what next humans are eyeing for. All this idea for Colonizing in outer space emerged when NASA was able to launch a space shuttle with a heavy payload in the late 1990s this idea didn\\u2019t stir brain at that time but later was like apple eyes when various articles from astronauts and their writeup came into limelight and this idea saw its progression, space exploration was not a new normal, companies were petrified by the number of investments that these kinds of projects ask for. But things change with the entry of PayPal\\u2019s owner Elon Musk, in 2002 where he laid stones of Space X, with NASA providing the launchpad for their exploration. Being space travel legitimate there where many bottlenecks knowing the nature of outer space will boost the idea of colonizing, here one has to realize the optimum. But the main target that these company put forward with themself was to not just get into other planet but to get back at earth safely, earlier these projects due to high fund was always subdued and priority was given to the rocket technology. Thus, this unimaginable quest for the search of space was far-fetched though. Now being in 2020 we do not find it out of a place of colonizing outside of space, the kind of emergence of technologies has led to the escalation of spreading the roots of human existence, the plan for reaching out to outer space too plays a key role for this idea too. Proper Planning, Analysing, Organising, and Executing were required for these projects to be successful for deeper know how I would like to mention here an example of Space X, According to them they wud be successful for sending Rockets by 2022 and would able to colonize by 2050, For achieving these vision they have planned a total of 36 times pre-launch of the same rocket which they will be launching by 2020. Not only that they have already placed their star link satellites which will provide the basic network connectivity for their colonized world, they have planned this to that extent that they have targeted a profit of $ 22 billion yearly by 2025. Already they have sent the first manned rocket successfully what Elon musk plan is to create that infrastructure by which going to Mars with cost as a regular air flight ticket all this will lead to better chances for colonizing at another planet. With setting up their commercial flight once started to the red planet it wud just be a stepping stone for the colonizing at the outer space. But the fundamental change that people have to undergo while living on another planet will be a change in gravity and being able to be near to live support if any technical issues arise to their suit until unless we find a similar place like the earth that is the change which humans have to adjust. Aspects like Ultraviolet rays too will play an immense role in the survival, but with the rate of technology expanding and challenging at very boundaries there are not many days left when we find solutions to these aspects but this idea of colonizing has more to do with monetary terms it has been projected that building a colony at space will cost at about $10 Trillian which is more than many countries GDP. Placing that much of an amount and getting funding for such highly anticipated projects is tough. Elon to have addressed with these questions with an open Door he believes that this cost is nothing when we find a route to colonize space and these costs will be justifiable when space exploration will reach new heights. Also, our world is around water and the percentage of land comparison to water is too less. Whereas the population is increasing with the speed and the level of excitement in order to search for new things and the obsession with the new and innovative things never going to finish. Because in the end, we do not satisfy what we have achieved, we are only looking for other things and crave to achieve that. In order to achieve that planning is most crucial stage. As of now we have searched 9 planets but still didn\\u2019t shortlisted the outcomes. But according to the 3-decade theory of ELON MUSK, it seems to be possible. As the most important thing to survive is the atmospheric environment, whether is this suitable or not, and in order to make it suitable what steps had to take and maintain the suitable level of oxygen.\\u00a0 The missions are now what everyone is focusing about. Finding the source of water, because its 2nd crucial thing which is needed to survive. Apart from the excitement and the things, the threats or the uncertainties are bound to happen like any kind of mammal which could occur during construction or after that. So the security for that or any protection so that uncertainties could be replicated. After the basic things, other factors like what are the natural habitats available there, whether the plants could be grown over there or not. If yes, then what types of plants could survive there. The environment for the animals is safe or not. Because to balance the nature we need all types of animals, natural habitat, even insects and other small things which seems to be ignorable but plays an important role in maintaining the environmental balance. For e.g.\\u00a0 \\u2013 Ants are among the leading predators of other insects, helping to keep pest populations low.\\u00a0 Ants move approximately the same amount of soil as earthworms, loosening the soil in the process and increasing air and water movement into the ground.\\u00a0 They keep the ecosystem clean of dead insect carcasses and aid in the destruction and decomposition of plant and animal matter.\\u00a0So, every small thing contributes in its own way. Another matter of concern is the level of artificial intelligence and machine learning required to maintain that kind of requirement. Because as the current scenario, we need energy to run any vehicle or even for the robotics. So, the availability of the energy and the source of energy is needed. And apart from this, the heat of sun is equally important in order to maintain the level. Because with artificial air we can survive but not for so long. So, in order to remain healthy as well the calculation has to be done. When thinking about disease, you may have heard in the news about the concern that antibiotics (such as penicillin) \\u2013 which help fight infections \\u2013 may eventually stop working. Global health organisations are trying to reduce the use of antibiotics, especially for conditions that aren\\u2019t serious. This is because their overuse in recent years means that they\\u2019re becoming less effective. But still we can survive without antibiotics. Because there are ways\\u00a0of dealing with diseases caused by bacteria such as isolation which is how they were treated before penicillin. It might sound like something set firmly in the realm of fantasy, but experts in private industry and governments around the world are trying to understand how feasible it would be to establish a lunar base. Some scientists think humans could survive comfortably on the moon. In some ways, the very minimal gravity of the moon might actually be more conducive to life than the microgravity astronauts experience on the International Space Station. Although it hasn\\u2019t been formally tested, some experts hypothesize that the small amount of gravitational force put on an astronaut\\u2019s body when on the moon\\u00a0could help stem some of the adverse effects like bone-density and muscle loss that space flyers experience while living in microgravity on the International Space Station. By using the moon\\u2019s indigenous material, space agencies can save money on the cost of flying pricey missions to and from the moon\\u2019s surface.\\u00a0Once on the moon, instead of having to stage costly missions aimed at delivering oxygen and other necessary resources from Earth, experts might be able to actually use the material to manufacture gasses needed to sustain life on the satellite. On earth, we are protected from radioactive solar winds and cosmic rays by our own magnet field known as the magnetosphere. But out in the space, we can\\u2019t rely on this type of protection, and in order to make that protection, it could take a lot but yes with more upgraded technology it could achieve. Although till now the approximate value of the project is $10 trillion. But the aim is to make the fare equivalent to the normal air fare. As once we are comfortable with all the resources, securities for uncertainties, risk analysis, and the probability of survival of the human being and many other factors after consideration, then development won\\u2019t take much time. Because to construct a building it take normally 8-9 months. Which is totally acceptable. But the main concern is the density of the land, i.e. whether the land has the capacity to bear that much weight or not. And the type of land is adaptable for cultivation or nor. Although land can be converted into different types of cultivation but with the help of upgraded technology. In order to transport the equipments on the regular basis, a large amount of fuel Is required, and other factors as well and Built the propellor depo for rocket landing building various infrastructure for the city one by one will create a way forward for idea of Colonizing at outer space.\",\n          \"The way work is being done now is destined to undergo massive transformational changes which will impact humans and their ways of working dramatically. With the development of the new machine programs, A.I. is all set to take over the humans in their workplace as no other did. Now we are not only in competition with other beings but with robots too. And robots will overcome us in our fields of work. At present we are being surrounded by A.I. from dusk till dawn, from facial recognition present in our mobile application to dating websites/applications which uses decision making as their algorithms and learn from the past data as well. It is believed that A.I. has grown over 270% over the last years. First, let us know what A.I. is and all the fuss going on about it?A.I. as defined by the internet is simply \\u2018simulation of human intelligence in machines that are programmed to think like humans and mimic their actions\\u2019. This translates to, it can work as a human being just at fast speed and with 100% accuracy.In my definition I would define A.I. as the god form of human beings. Now the question that arises is, what does A.I. entails for the future? A.I. is fancy enough to continue existing in our minds all the time, but it does come with certain limitations and threats which is a cause for a peaceful sleep for most of the workers. With its introduction to different areas of the workplace, it is clear that half of the human jobs would be taken up by A.I. and then there would arise a need for more jobs for humans in new upcoming AI-based ventures in different industries. Thereby giving us our fair share back to us. In a survey, it was found that some believed that AI will be devastating for humans and while some professionals and tech-savvy people believed that inculcating AI technology into business and our daily lives would be a remarkable step as it will lead to the flourishment of business in the future and give them a competitive edge over their rivals. People believed that when these advanced technologies would come together to work with humans, they will produce a smarter strategic decision with productive collaborative practices. More modern technology prevailing in the organization will lead to stress reduction and produce more satisfying results thereby making the organization more efficient. The Organizations who are in use of the AI technology responds by saying that their managers are more comfortable using A.I. and are accustomed to it and the organizations are now looking forward to having integration of higher-end technology systems, as it is believed that new technology will result in more productivity thereby making more profits in the long run. Many jobs today require AI and humans working in collaboration, which creates a positive signal that in the future to humans would be working closely with the technology. Beyond just training and developing these machines, humans would be working in close vicinity with them and making decisions on how to act on the result that is given by the machine. It can be said that both the AI advanced technology and human can\\u2019t remain in the workforce without each other, as the technology will produce accurate and top-notch results but it requires someone to make delivery.e.g., in a firm, an AI-based system produces results based on historical data but there is a need for someone to analyze and communicate and present this data to the respective stakeholders whether inside or outside of the organization. Various uses of artificial intelligence technology in day-to-day functions in regards to interactions with humans are: Artificial intelligence as we know works on algorithms, neural networks, and deep learning which all are analytical tools that help AI in taking analytical decisions based on the data provided. Whereas, humans on the other hand take higher-level decisions based on \\u2018Intuition\\u2019 sometimes, which refers to the gut feeling that generates in humans concerning any situation or challenge. AI alone can\\u2019t work to handle critical situations on its own as it needs humans for it to reciprocate them and share the information with stakeholders, and humans alone can\\u2019t anticipate much on the accurate and fast-paced analytical solutions to the problems persisting in place of the situation. The strength of humans and AI working in synergy can be surprisingly beneficial and advantageous to organizations. It is believed that machines in the future would be eating up our traditional jobs. But the reality seems to be turning otherwise. The future trend shows that in future the AI-powered technology would take up jobs that were being done by humans but in return would produce more jobs that would require human interference with them. As and when the newer technology is approaching more and more countries are now proceeding towards GIG Economies, and so in the future, we can witness an increase in freelance jobs and the permanent labor market norms could reduce drastically. Some of the jobs today will be replaced by AI which is in the transportation or retail commerce sector that can be 100% automated in the future years. There is an \\u2018Amazon Go\\u2019 store that uses this technology which goes by the name \\u2018Just walk out technology\\u2019 wherein there is no need for any human-induced workforce and all the operations are carried out by AI-powered technologies, which is indeed a breakthrough technology in today\\u2019s world. Rather than eating up our jobs AI in return will be creating more jobs in the future by creating massive innovations thereby fueling up many new industries and thereby giving us our fair share of jobs back. There will be a lot of demand placed on the upcoming young workforce which is also categorized as \\u2018Gen Z\\u2019. They are expected to know more about technology and would be high in demand. \\u00a0These young generations are required to learn new skills which are needed to survive in the dynamic changing environment, and as most of the activities that are carried out by workers will be automated, there will be demand for people working in the back office and maintaining and developing the technology to its best versions. \\u00a0 AI powered technology has its limitations which makes it a rigid system to hold on to and also which makes it a costly affair at the initial stage. \\u00a0 It was predicted that the cost of electricity to power a supercharged AI model was around $4.6 million. So, this super-powered AI can be purchased only by big fortune firms and thereby creating more value to their net worth. One of the major limitations of AI is that it can contain biased data as the scientists who put in the data can create biasedness and so the resultant output of the same would have a biased report. These machines as do not have neuroscience-based technology in them yet which enables them to carry human emotions to understand complex situations and a creative way out of that, they tend to have a lack of out of box thinking which in the case is rigid in themselves as they are programmed to work on a single task and they cannot perform more than a single task at the same time. It is also believed that there exists no creativity among the computer, no matter it is fast-paced, but they are not intelligent. Businesses and organizations need to understand and anticipate the opportunities that the future holds for them and they need to start training their employees based on today\\u2019s dynamic changing technology. While it\\u2019s still unclear what does the future holds for us, but the anticipation of it could benefit us in several ways. As we are unclear about what the future looks like, we need to think in probable terms how it could turn out to be and then employ specific training programs for the employees of the organization.The training the employees are needed to be done on a continuous and lifetime basis which means that education won\\u2019t be only limited to PG degrees but will be now a lifetime process of learning. As the Covid-19 changed the scenario of the work patterns around the world, we now need to think strategically about the working dynamics of the future and how does it look like compared to the pre-covid and post-covid scenario. Employees will be playing a major role in transforming the organizations and work practices in the upcoming future, so organizations need to select and recruit the best candidates among the pool and then provide them with best practices of the new machines and make proficient in their area of work. Policies need to be developed to hire the best people and then retaining the talent in the organization. There needs to be a continuous scanning of the environment by the organizations to comprehend any new trends and assess them, not all trends will be beneficial for organizations, they must be aware of the prospects and plan for the future systematically and consistently. There lies a possibility in future certain years from now, we could have machines who will have general human intelligence who would be able to answer deep meaningful questions asking \\u2018Why are the curtains blue?\\u2019, would be able to clean cars, play politics and tell jokes to us, and by using deep and machine learning programs their level of intelligence would be beyond mathematical calculations to us. That\\u2019s how good machines will be in the future, but to make ourselves competitive with machines, we would need to train ourselves for the impending ambiguous future ahead of us. Humans and machines need to work in synergy to get beneficial and satisfying results for both parties. Machines are indeed going take away many of our jobs, but let me make you sleep peacefully tonight, the machines aren\\u2019t arriving until we\\u2019re retired. \\u00a0\",\n          \"COVID 19 has bought the world to its knees. With businesses being shut, travel being banned, schools, and colleges being closed, we have observed an impeccable amount of sorrow and despise along with a great amount of mental torture and destruction. Though situations are improving now, and the lockdowns are being lifted, it is a fact that it cannot be shunned that this virus will have a long term impact on people, and the effects will not only be felt economically and physically but also mentally. We\\u2019ve been reading articles regarding the impact of COVID 19 on the economy, education, mental health, and every other possible aspect. But one topic which has not been talked about much is the impact of COVID 19 on office space and co-working industries. Well, it is quite obvious that offices will start functioning now, but, the COVID period hasn\\u2019t ended. This means that social distancing will also have to be followed in offices; where it will be a problem to do so because of the lack of adequate infrastructure and space. The same will be the condition in co-working industries, wherein employees of different companies come and work together under the same roof. However, these problems are quite obvious (though people haven\\u2019t thought about them much), but the fact which people fail to notice and understand is that the meaning of space is not only limited to infrastructural space which is measured in square foot or square meters; but it also extends to metal space, or for that fact, space in the minds of people for others and their thoughts as well as opinions. Coronavirus has left a big scratch in our country; just the way a car needs repair after an accident, our country will also need repair after the control of this virus. But, unlike a car, our country will require a large amount of time to get restored and to stand straight without any support. Needless to say, the economic stability of our country will definitely be hit because of this reason. But the problem is since the earnings of the employers will reduce, it will subsequently lead to a drop in the salary of the employees. While some employees might be preferred by their bosses and may receive a raise regularly, others might be subjected to unfair treatment and made to do the same amount of work for a lower salary. People tend to overlook the thin line which exists between cooperation and competition. The problem doesn\\u2019t arise when such a situation happens wherein an employee is getting paid more than the other, but instead, it arises when people start to compare their earnings as well as benefits to that of others. And in today\\u2019s world, where people keep money at the top of their priority list, comparisons will play a very important role in the performance of employees and their company. Since there will exist inequalities and partialities in companies, there will also exist a sense of hatred and competition among the employees of the same company; who will compete to get a better position or a raise in their salary. This may seem beneficial to some as it might compel the employees to work harder and better, but however, will bring huge losses in the long run. The fact is; employees might end up doing unethical acts which will help them to make a better impression in their boss\\u2019s eyes. Moreover, since there will be comparisons among the employees, it might happen that the \\u2018Employee of the Month\\u2019 ends up being hated by all other employees in the company. Another situation that might arise is that of bluffing and pretending; wherein employees tend to show that they work very hard but they don\\u2019t. This might be practiced by showing the boss that they are working when he is on around, and then chilling the rest of the time when the boss goes home or sits in his office. In fact, employees might also lose interest in working if they sense repeated partialities and inequalities; which they might show by quitting the jobs or not performing to their best. Such situations will definitely arise in companies and offices; wherein employees will compete for attention and resources; which will have a great impact on the company and its functioning. And all this will happen because of only one thing; lack of office mental space i.e. space in the minds of people working together in a particular office for cooperation and teamwork, along with ignorance of the fact that things will get better and eventually the same after some time. Another kind of industry and companies that will be affected due to the long-lasting impact of COVID 19 is the co-working industry and offices. This is because, there will be a shortage of resources and the income of people, but the maintenance cost to be born for the infrastructure, as well the rent will remain the same. Because of this, employees will be told by the company owners to exploit the resources present in the offices and use them to the fullest; to compensate for the losses being born and to make better use of the money being used. However, the number of resources will be the same, and so, there will be a case of competition between employees of different companies to use resources and take benefits of the same. If the above two situations happen to occur at the same time (which they most likely will), we will observe a scene of intra-company as well as inter-company competition. Also, our personal relations with other employees in the company might also be affected due to this comparison and competition; which itself will be a result of limited mental space. COVID 19 will have severe impacts on the office (mental) space of companies and people.\\u00a0 People\\u2019s thoughts, how they treat others, along with accepting defeat and rejection will be an important aspect of everyone\\u2019s lives. Moreover, we might also observe a shoot in the intensity and frequency of office people going to psychologists; because of repeated rejection and unfair treatment. However, we need to cope with this thing and realize that it is indeed very important for us to start preparing to expand our mental space and that this competition and comparison will not stay for long and should not affect our personal relations and life at any cost.\"\n        ],\n        \"semantic_type\": \"\",\n        \"description\": \"\"\n      }\n    },\n    {\n      \"column\": \"Cleaned_Text\",\n      \"properties\": {\n        \"dtype\": \"string\",\n        \"num_unique_values\": 98,\n        \"samples\": [\n          \"Nature blessed humanity earth, rounded globe essential necessity lies hand human. 21st-century building Space shuttle exploring space obvious activity human raise, inclusion Start-ups Space dreamed reaching space coming true. agree fact Growth industrialization generated humungous carbon footprint colonize outer space create much-needed area survival. time human race visualized undergone transformations, transformations starters effective major role existence age. natural transformation shifting tectonic plates manmade Dumping water damaging water bodies, affected usual life humans creating space humans humans eyeing for. idea Colonizing outer space emerged NASA launch space shuttle heavy payload late 1990s idea didn\\u2019t stir brain time apple eyes articles astronauts writeup limelight idea progression, space exploration normal, companies petrified number investments kinds projects for. things change entry PayPal\\u2019s owner Elon Musk, 2002 laid stones Space X, NASA providing launchpad exploration. space travel legitimate bottlenecks knowing nature outer space boost idea colonizing, realize optimum. main target company put forward themself planet back earth safely, earlier projects due high fund subdued priority rocket technology. Thus, unimaginable quest search space far-fetched though. 2020 find place colonizing space, kind emergence technologies led escalation spreading roots human existence, plan reaching outer space plays key role idea too. Proper Planning, Analysing, Organising, Executing required projects successful deeper mention Space X, wud successful sending Rockets 2022 colonize 2050, achieving vision planned total 36 times pre-launch rocket launching 2020. star link satellites provide basic network connectivity colonized world, planned extent targeted profit $ 22 billion yearly 2025. manned rocket successfully Elon musk plan create infrastructure Mars cost regular air flight ticket lead chances colonizing planet. setting commercial flight started red planet wud stepping stone colonizing outer space. fundamental change people undergo living planet change gravity live support technical issues arise suit find similar place earth change humans adjust. Aspects Ultraviolet rays play immense role survival, rate technology expanding challenging boundaries days left find solutions aspects idea colonizing monetary terms projected building colony space cost $10 Trillian countries GDP. Placing amount funding highly anticipated projects tough. Elon addressed questions open Door believes cost find route colonize space costs justifiable space exploration reach heights. Also, world water percentage land comparison water less. population increasing speed level excitement order search things obsession innovative things finish. end, satisfy achieved, things crave achieve that. order achieve planning crucial stage. searched 9 planets didn\\u2019t shortlisted outcomes. 3-decade theory ELON MUSK, possible. important thing survive atmospheric environment, suitable not, order make suitable steps maintain suitable level oxygen. missions focusing about. Finding source water, 2nd crucial thing needed survive. excitement things, threats uncertainties bound happen kind mammal occur construction that. security protection uncertainties replicated. basic things, factors natural habitats there, plants grown not. yes, types plants survive there. environment animals safe not. balance nature types animals, natural habitat, insects small things ignorable plays important role maintaining environmental balance. e.g. \\u2013 Ants leading predators insects, helping pest populations low. Ants move approximately amount soil earthworms, loosening soil process increasing air water movement ground. ecosystem clean dead insect carcasses aid destruction decomposition plant animal matter. So, small thing contributes way. matter concern level artificial intelligence machine learning required maintain kind requirement. current scenario, energy run vehicle robotics. So, availability energy source energy needed. this, heat sun equally important order maintain level. artificial air survive long. So, order remain healthy calculation done. thinking disease, heard news concern antibiotics (such penicillin) \\u2013 fight infections \\u2013 eventually stop working. Global health organisations reduce antibiotics, conditions aren\\u2019t serious. overuse recent years means they\\u2019re effective. survive antibiotics. ways dealing diseases caused bacteria isolation treated penicillin. sound set firmly realm fantasy, experts private industry governments world understand feasible establish lunar base. scientists humans survive comfortably moon. ways, minimal gravity moon conducive life microgravity astronauts experience International Space Station. hasn\\u2019t formally tested, experts hypothesize small amount gravitational force put astronaut\\u2019s body moon stem adverse effects bone-density muscle loss space flyers experience living microgravity International Space Station. moon\\u2019s indigenous material, space agencies save money cost flying pricey missions moon\\u2019s surface. moon, stage costly missions aimed delivering oxygen resources Earth, experts material manufacture gasses needed sustain life satellite. earth, protected radioactive solar winds cosmic rays magnet field magnetosphere. space, can\\u2019t rely type protection, order make protection, lot upgraded technology achieve. till approximate project $10 trillion. aim make fare equivalent normal air fare. comfortable resources, securities uncertainties, risk analysis, probability survival human factors consideration, development won\\u2019t time. construct building 8-9 months. totally acceptable. main concern density land, i.e. land capacity bear weight not. type land adaptable cultivation nor. land converted types cultivation upgraded technology. order transport equipments regular basis, large amount fuel required, factors Built propellor depo rocket landing building infrastructure city create forward idea Colonizing outer space.\",\n          \"work destined undergo massive transformational impact humans ways working dramatically. development machine programs, A.I. set humans workplace did. competition beings robots too. robots overcome fields work. present surrounded A.I. dusk till dawn, facial recognition present mobile application dating websites/applications decision making algorithms learn past data well. believed A.I. grown 270% years. First, A.I. fuss it?A.I. defined internet simply \\u2018simulation human intelligence machines programmed humans mimic actions\\u2019. translates to, work human fast speed 100% accuracy.In definition define A.I. god form human beings. question arises is, A.I. entails future? A.I. fancy continue existing minds time, limitations threats peaceful sleep workers. introduction areas workplace, clear half human jobs A.I. arise jobs humans upcoming AI-based ventures industries. giving fair share back us. survey, found believed AI devastating humans professionals tech-savvy people believed inculcating AI technology business daily lives remarkable step lead flourishment business future give competitive edge rivals. People believed advanced technologies work humans, produce smarter strategic decision productive collaborative practices. modern technology prevailing organization lead stress reduction produce satisfying results making organization efficient. Organizations AI technology responds managers comfortable A.I. accustomed organizations forward integration higher-end technology systems, believed technology result productivity making profits long run. jobs today require AI humans working collaboration, creates positive signal future humans working closely technology. training developing machines, humans working close vicinity making decisions act result machine. AI advanced technology human can\\u2019t remain workforce other, technology produce accurate top-notch results requires make delivery.e.g., firm, AI-based system produces results based historical data analyze communicate present data respective stakeholders inside organization. artificial intelligence technology day-to-day functions interactions humans are: Artificial intelligence works algorithms, neural networks, deep learning analytical tools AI taking analytical decisions based data provided. Whereas, humans hand higher-level decisions based \\u2018Intuition\\u2019 sometimes, refers gut feeling generates humans situation challenge. AI can\\u2019t work handle critical situations humans reciprocate share information stakeholders, humans can\\u2019t anticipate accurate fast-paced analytical solutions problems persisting place situation. strength humans AI working synergy surprisingly beneficial advantageous organizations. believed machines future eating traditional jobs. reality turning otherwise. future trend shows future AI-powered technology jobs humans return produce jobs require human interference them. newer technology approaching countries proceeding GIG Economies, future, witness increase freelance jobs permanent labor market norms reduce drastically. jobs today replaced AI transportation retail commerce sector 100% automated future years. \\u2018Amazon Go\\u2019 store technology \\u2018Just walk technology\\u2019 human-induced workforce operations carried AI-powered technologies, breakthrough technology today\\u2019s world. eating jobs AI return creating jobs future creating massive innovations fueling industries giving fair share jobs back. lot demand upcoming young workforce categorized \\u2018Gen Z\\u2019. expected technology high demand. young generations required learn skills needed survive dynamic changing environment, activities carried workers automated, demand people working back office maintaining developing technology versions. AI powered technology limitations makes rigid system hold makes costly affair initial stage. predicted cost electricity power supercharged AI model $4.6 million. So, super-powered AI purchased big fortune firms creating net worth. major limitations AI biased data scientists put data create biasedness resultant output biased report. machines neuroscience-based technology enables carry human emotions understand complex situations creative that, tend lack box thinking case rigid programmed work single task perform single task time. believed exists creativity computer, matter fast-paced, intelligent. Businesses organizations understand anticipate opportunities future holds start training employees based today\\u2019s dynamic changing technology. it\\u2019s unclear future holds us, anticipation benefit ways. unclear future like, probable terms turn employ specific training programs employees organization.The training employees needed continuous lifetime basis means education won\\u2019t limited PG degrees lifetime process learning. Covid-19 changed scenario work patterns world, strategically working dynamics future compared pre-covid post-covid scenario. Employees playing major role transforming organizations work practices upcoming future, organizations select recruit candidates pool provide practices machines make proficient area work. Policies developed hire people retaining talent organization. continuous scanning environment organizations comprehend trends assess them, trends beneficial organizations, aware prospects plan future systematically consistently. lies possibility future years now, machines general human intelligence answer deep meaningful questions \\u2018Why curtains blue?\\u2019, clean cars, play politics jokes us, deep machine learning programs level intelligence mathematical calculations us. That\\u2019s good machines future, make competitive machines, train impending ambiguous future ahead us. Humans machines work synergy beneficial satisfying results parties. Machines jobs, make sleep peacefully tonight, machines aren\\u2019t arriving we\\u2019re retired.\",\n          \"COVID 19 bought world knees. businesses shut, travel banned, schools, colleges closed, observed impeccable amount sorrow despise great amount mental torture destruction. situations improving now, lockdowns lifted, fact shunned virus long term impact people, effects felt economically physically mentally. We\\u2019ve reading articles impact COVID 19 economy, education, mental health, aspect. topic talked impact COVID 19 office space co-working industries. Well, obvious offices start functioning now, but, COVID period hasn\\u2019t ended. means social distancing offices; problem lack adequate infrastructure space. condition co-working industries, employees companies work roof. However, problems obvious (though people haven\\u2019t thought much), fact people fail notice understand meaning space limited infrastructural space measured square foot square meters; extends metal space, fact, space minds people thoughts opinions. Coronavirus left big scratch country; car repair accident, country repair control virus. But, unlike car, country require large amount time restored stand straight support. Needless say, economic stability country hit reason. problem earnings employers reduce, subsequently lead drop salary employees. employees preferred bosses receive raise regularly, subjected unfair treatment made amount work lower salary. People tend overlook thin line exists cooperation competition. problem doesn\\u2019t arise situation employee paid other, instead, arises people start compare earnings benefits others. today\\u2019s world, people money top priority list, comparisons play important role performance employees company. exist inequalities partialities companies, exist sense hatred competition employees company; compete position raise salary. beneficial compel employees work harder better, however, bring huge losses long run. fact is; employees end unethical acts make impression boss\\u2019s eyes. Moreover, comparisons employees, happen \\u2018Employee Month\\u2019 ends hated employees company. situation arise bluffing pretending; employees tend show work hard don\\u2019t. practiced showing boss working around, chilling rest time boss home sits office. fact, employees lose interest working sense repeated partialities inequalities; show quitting jobs performing best. situations arise companies offices; employees compete attention resources; great impact company functioning. happen thing; lack office mental space i.e. space minds people working office cooperation teamwork, ignorance fact things eventually time. kind industry companies affected due long-lasting impact COVID 19 co-working industry offices. because, shortage resources income people, maintenance cost born infrastructure, rent remain same. this, employees told company owners exploit resources present offices fullest; compensate losses born make money used. However, number resources same, so, case competition employees companies resources benefits same. situations happen occur time (which will), observe scene intra-company inter-company competition. Also, personal relations employees company affected due comparison competition; result limited mental space. COVID 19 severe impacts office (mental) space companies people. People\\u2019s thoughts, treat others, accepting defeat rejection important aspect everyone\\u2019s lives. Moreover, observe shoot intensity frequency office people psychologists; repeated rejection unfair treatment. However, cope thing realize important start preparing expand mental space competition comparison stay long affect personal relations life cost.\"\n        ],\n        \"semantic_type\": \"\",\n        \"description\": \"\"\n      }\n    },\n    {\n      \"column\": \"Positive_Score\",\n      \"properties\": {\n        \"dtype\": \"number\",\n        \"std\": 16,\n        \"min\": 0,\n        \"max\": 78,\n        \"num_unique_values\": 48,\n        \"samples\": [\n          46,\n          19,\n          54\n        ],\n        \"semantic_type\": \"\",\n        \"description\": \"\"\n      }\n    },\n    {\n      \"column\": \"Negative_Score\",\n      \"properties\": {\n        \"dtype\": \"number\",\n        \"std\": 15,\n        \"min\": -60,\n        \"max\": 0,\n        \"num_unique_values\": 42,\n        \"samples\": [\n          -16,\n          -10,\n          -51\n        ],\n        \"semantic_type\": \"\",\n        \"description\": \"\"\n      }\n    },\n    {\n      \"column\": \"Polarity_Score\",\n      \"properties\": {\n        \"dtype\": \"number\",\n        \"std\": 9.473649292123435,\n        \"min\": -39.00001950000975,\n        \"max\": 51.999974000013,\n        \"num_unique_values\": 95,\n        \"samples\": [\n          1.812499943359377,\n          1.2222221543209915,\n          2.199999780000022\n        ],\n        \"semantic_type\": \"\",\n        \"description\": \"\"\n      }\n    },\n    {\n      \"column\": \"Subjectivity_Score\",\n      \"properties\": {\n        \"dtype\": \"number\",\n        \"std\": 0.0368209952638895,\n        \"min\": -0.10089686076032094,\n        \"max\": 0.0981595089013512,\n        \"num_unique_values\": 96,\n        \"samples\": [\n          0.05223880584020198,\n          -0.004860267308796759,\n          0.014492753518168453\n        ],\n        \"semantic_type\": \"\",\n        \"description\": \"\"\n      }\n    },\n    {\n      \"column\": \"Average_Words_Per_Sentence\",\n      \"properties\": {\n        \"dtype\": \"number\",\n        \"std\": 310.73583246184785,\n        \"min\": 0.0,\n        \"max\": 2220.0,\n        \"num_unique_values\": 94,\n        \"samples\": [\n          788.0,\n          296.0,\n          369.0\n        ],\n        \"semantic_type\": \"\",\n        \"description\": \"\"\n      }\n    },\n    {\n      \"column\": \"Percentage_of_Complex_Words\",\n      \"properties\": {\n        \"dtype\": \"number\",\n        \"std\": 0.09818138934436688,\n        \"min\": 0.0,\n        \"max\": 0.4761904761904762,\n        \"num_unique_values\": 21,\n        \"samples\": [\n          0.0,\n          0.1201923076923077,\n          0.13003901170351106\n        ],\n        \"semantic_type\": \"\",\n        \"description\": \"\"\n      }\n    },\n    {\n      \"column\": \"Complex_Word_Count\",\n      \"properties\": {\n        \"dtype\": \"number\",\n        \"std\": 0,\n        \"min\": 0,\n        \"max\": 4,\n        \"num_unique_values\": 5,\n        \"samples\": [\n          1,\n          3,\n          2\n        ],\n        \"semantic_type\": \"\",\n        \"description\": \"\"\n      }\n    },\n    {\n      \"column\": \"Fog_Index\",\n      \"properties\": {\n        \"dtype\": \"number\",\n        \"std\": 124.30453191829325,\n        \"min\": 0.0,\n        \"max\": 888.0,\n        \"num_unique_values\": 95,\n        \"samples\": [\n          208.8,\n          118.4,\n          55.2\n        ],\n        \"semantic_type\": \"\",\n        \"description\": \"\"\n      }\n    },\n    {\n      \"column\": \"Word_Count\",\n      \"properties\": {\n        \"dtype\": \"number\",\n        \"std\": 310,\n        \"min\": 0,\n        \"max\": 2220,\n        \"num_unique_values\": 94,\n        \"samples\": [\n          788,\n          296,\n          369\n        ],\n        \"semantic_type\": \"\",\n        \"description\": \"\"\n      }\n    },\n    {\n      \"column\": \"Average_Sentence_Length\",\n      \"properties\": {\n        \"dtype\": \"number\",\n        \"std\": 21.14631023075965,\n        \"min\": 0.0,\n        \"max\": 224.625,\n        \"num_unique_values\": 98,\n        \"samples\": [\n          25.602941176470587,\n          27.383333333333333,\n          28.864864864864863\n        ],\n        \"semantic_type\": \"\",\n        \"description\": \"\"\n      }\n    }\n  ]\n}"
            }
          },
          "metadata": {},
          "execution_count": 64
        }
      ]
    },
    {
      "cell_type": "code",
      "source": [
        "# Display the DataFrame with the new columns\n",
        "print(df[['Average_Sentence_Length', 'Percentage_of_Complex_Words', 'Fog_Index']])"
      ],
      "metadata": {
        "id": "bTfm8RvWCRZJ",
        "colab": {
          "base_uri": "https://localhost:8080/"
        },
        "outputId": "c768826d-5646-4a40-bd8d-edc4b808ba6a"
      },
      "execution_count": null,
      "outputs": [
        {
          "output_type": "stream",
          "name": "stdout",
          "text": [
            "    Average_Sentence_Length  Percentage_of_Complex_Words   Fog_Index\n",
            "0                 14.083333                     0.000000   66.000000\n",
            "1                 18.142857                     0.000000  306.000000\n",
            "2                 18.857143                     0.160772  248.864309\n",
            "3                 20.431373                     0.330579  242.132231\n",
            "4                 17.710526                     0.000000  146.400000\n",
            "..                      ...                          ...         ...\n",
            "95                22.220000                     0.000000  232.000000\n",
            "96                28.864865                     0.000000  179.600000\n",
            "97                27.600000                     0.000000   34.000000\n",
            "98                19.814815                     0.000000  107.600000\n",
            "99                30.566667                     0.000000  184.000000\n",
            "\n",
            "[100 rows x 3 columns]\n"
          ]
        }
      ]
    },
    {
      "cell_type": "markdown",
      "source": [
        "###Average Number of Words Per Sentence\n",
        "\n",
        "*   Average Number of Words Per Sentence = the total number of words / the total number of sentences"
      ],
      "metadata": {
        "id": "T-WiEIfvXWvS"
      }
    },
    {
      "cell_type": "code",
      "source": [
        "# Calculate Average Number of Words Per Sentence\n",
        "def calculate_average_words_per_sentence(text):\n",
        "    sentences = sent_tokenize(text)\n",
        "    num_sentences = len(sentences)\n",
        "    num_words = len(word_tokenize(text))\n",
        "\n",
        "    # Handle division by zero\n",
        "    if num_sentences == 0:\n",
        "        return 0\n",
        "\n",
        "    return num_words / num_sentences"
      ],
      "metadata": {
        "id": "slmsQJO2C24l"
      },
      "execution_count": null,
      "outputs": []
    },
    {
      "cell_type": "code",
      "source": [
        "df['Average_Words_Per_Sentence'] = df['Text'].apply(calculate_average_words_per_sentence)"
      ],
      "metadata": {
        "id": "R7OBObjvC5SG"
      },
      "execution_count": null,
      "outputs": []
    },
    {
      "cell_type": "markdown",
      "source": [
        "###Complex Word Count\n",
        "\n",
        "*   Complex words are words in the text that contain more than two syllables."
      ],
      "metadata": {
        "id": "yYBbruBLGRe3"
      }
    },
    {
      "cell_type": "code",
      "source": [
        "# Calculate Complex Word Count\n",
        "def calculate_complex_word_count(tokens):\n",
        "   return sum(1 for word in tokens if syllable_count(word) > 2)"
      ],
      "metadata": {
        "id": "t_D4m_PhC6sG"
      },
      "execution_count": null,
      "outputs": []
    },
    {
      "cell_type": "code",
      "source": [
        "df['Complex_Word_Count'] = df['Cleaned_Text'].apply(lambda x: calculate_complex_word_count(word_tokenize(x)))"
      ],
      "metadata": {
        "id": "URfloZhvC8km"
      },
      "execution_count": null,
      "outputs": []
    },
    {
      "cell_type": "markdown",
      "source": [
        "###Word Count\n",
        "\n",
        "*   We count the total cleaned words present in the text by\n",
        "\n",
        "removing the stop words (using stopwords class of nltk package).\n",
        "\n",
        "removing any punctuations like ? ! , . from the word before counting."
      ],
      "metadata": {
        "id": "ux9pix7RGXAY"
      }
    },
    {
      "cell_type": "code",
      "source": [
        "# Calculate Word Count (after removing stop words and punctuation)\n",
        "df['Word_Count'] = df['Cleaned_Text'].apply(lambda x: len(word_tokenize(x)))"
      ],
      "metadata": {
        "id": "eoCzs2B6C9kN"
      },
      "execution_count": null,
      "outputs": []
    },
    {
      "cell_type": "code",
      "source": [
        "# Display the DataFrame with the new columns\n",
        "print(df[['Average_Words_Per_Sentence', 'Complex_Word_Count', 'Word_Count']])"
      ],
      "metadata": {
        "id": "BTDqwOlkC_gF",
        "colab": {
          "base_uri": "https://localhost:8080/"
        },
        "outputId": "a20aced7-23d4-47ee-8994-f09fe889de5d"
      },
      "execution_count": null,
      "outputs": [
        {
          "output_type": "stream",
          "name": "stdout",
          "text": [
            "    Average_Words_Per_Sentence  Complex_Word_Count  Word_Count\n",
            "0                    15.541667                  40         200\n",
            "1                    20.909091                 319         978\n",
            "2                    21.535714                 321         772\n",
            "3                    23.568627                 266         764\n",
            "4                    19.789474                 133         445\n",
            "..                         ...                 ...         ...\n",
            "95                   24.100000                 221         672\n",
            "96                   32.270270                 143         574\n",
            "97                   32.200000                  34         108\n",
            "98                   22.185185                  57         332\n",
            "99                   34.333333                 156         573\n",
            "\n",
            "[100 rows x 3 columns]\n"
          ]
        }
      ]
    },
    {
      "cell_type": "markdown",
      "source": [
        "###Syllable Count Per Word\n",
        "\n",
        "* We count the number of Syllables in each word of the text by counting the vowels present in each word. We also handle some exceptions like words ending with \"es\",\"ed\" by not counting them as a syllable."
      ],
      "metadata": {
        "id": "HfD-5P9BvVKa"
      }
    },
    {
      "cell_type": "code",
      "source": [
        "# Function to count syllables in a word\n",
        "def syllable_count(word):\n",
        "    word = word.lower()\n",
        "    syllables = 0\n",
        "    vowels = \"aeiou\"\n",
        "    exceptions = [\"es\", \"ed\"]\n",
        "\n",
        "    if len(word) > 2 and word[-2:] in exceptions:\n",
        "        word = word[:-2]\n",
        "\n",
        "    if word[-1] == \"e\":\n",
        "        word = word[:-1]\n",
        "\n",
        "    for char in word:\n",
        "        if char in vowels:\n",
        "            syllables += 1\n",
        "\n",
        "    if word.endswith(\"le\") and len(word) > 1 and word[-2] not in vowels:\n",
        "        syllables += 1\n",
        "\n",
        "    if syllables == 0:\n",
        "        syllables = 1\n",
        "\n",
        "    return syllables"
      ],
      "metadata": {
        "id": "lH7MpA154cmx"
      },
      "execution_count": null,
      "outputs": []
    },
    {
      "cell_type": "code",
      "source": [
        "# Calculate Syllable Count Per Word\n",
        "df['Syllable_Per_Word'] = df['Cleaned_Text'].apply(lambda text: [syllable_count(word) for word in text.split()])"
      ],
      "metadata": {
        "id": "pDDda8P8DXyF"
      },
      "execution_count": null,
      "outputs": []
    },
    {
      "cell_type": "code",
      "source": [
        "df['Syllable_Per_Word']"
      ],
      "metadata": {
        "id": "jErXeWGUxApW",
        "colab": {
          "base_uri": "https://localhost:8080/"
        },
        "outputId": "c2c800c7-eae3-421e-a031-f1b437317e72"
      },
      "execution_count": null,
      "outputs": [
        {
          "output_type": "execute_result",
          "data": {
            "text/plain": [
              "0     [1, 4, 3, 2, 3, 2, 2, 4, 2, 1, 2, 2, 2, 1, 1, ...\n",
              "1     [2, 4, 5, 1, 2, 4, 3, 3, 2, 2, 4, 2, 2, 2, 2, ...\n",
              "2     [5, 1, 3, 3, 3, 4, 5, 3, 1, 2, 3, 2, 1, 2, 3, ...\n",
              "3     [2, 1, 4, 6, 1, 2, 2, 5, 3, 3, 2, 6, 2, 3, 3, ...\n",
              "4     [2, 1, 2, 2, 3, 5, 1, 5, 2, 4, 1, 4, 1, 2, 3, ...\n",
              "                            ...                        \n",
              "95    [4, 3, 2, 3, 1, 2, 3, 3, 2, 3, 2, 4, 3, 2, 2, ...\n",
              "96    [2, 1, 2, 1, 2, 3, 1, 2, 2, 2, 2, 2, 2, 3, 3, ...\n",
              "97    [3, 1, 2, 1, 1, 3, 1, 3, 3, 3, 3, 2, 1, 3, 1, ...\n",
              "98    [1, 1, 1, 2, 1, 2, 2, 1, 2, 2, 2, 2, 1, 3, 4, ...\n",
              "99    [3, 1, 2, 4, 2, 4, 2, 1, 1, 2, 2, 2, 2, 2, 2, ...\n",
              "Name: Syllable_Per_Word, Length: 100, dtype: object"
            ]
          },
          "metadata": {},
          "execution_count": 74
        }
      ]
    },
    {
      "cell_type": "markdown",
      "source": [
        "###Personal Pronouns\n",
        "\n",
        "* To calculate Personal Pronouns mentioned in the text, we use regex to find the counts of the words - “I,” “we,” “my,” “ours,” and “us”. Special care is taken so that the country name US is not included in the list.\n"
      ],
      "metadata": {
        "id": "w4Lr08AUvqaV"
      }
    },
    {
      "cell_type": "code",
      "source": [
        "# Function to count personal pronouns\n",
        "def count_personal_pronouns(text):\n",
        "    pattern = re.compile(r\"\\b(I|we|my|ours|us)\\b\", re.I)\n",
        "    matches = pattern.findall(text)\n",
        "    return len(matches)"
      ],
      "metadata": {
        "id": "9Xpg9NkkDZvF"
      },
      "execution_count": null,
      "outputs": []
    },
    {
      "cell_type": "code",
      "source": [
        "df['Personal_Pronouns'] = df['Text'].apply(count_personal_pronouns)"
      ],
      "metadata": {
        "id": "irIxLMqpDiTF"
      },
      "execution_count": null,
      "outputs": []
    },
    {
      "cell_type": "markdown",
      "source": [
        "###Average Word Length\n",
        "\n",
        "Average Word Length is calculated by the formula:\n",
        "Sum of the total number of characters in each word/Total number of words"
      ],
      "metadata": {
        "id": "W5frTK-Fvtui"
      }
    },
    {
      "cell_type": "code",
      "source": [
        "# Calculate Average Word Length\n",
        "def calculate_avg_word_length(text):\n",
        "    words = text.split()\n",
        "    num_words = len(words)\n",
        "    num_characters = sum(len(word) for word in words)\n",
        "\n",
        "    # Handle division by zero\n",
        "    if num_words == 0:\n",
        "        return 0\n",
        "\n",
        "    return num_characters / num_words"
      ],
      "metadata": {
        "id": "OPt6U6orDjXl"
      },
      "execution_count": null,
      "outputs": []
    },
    {
      "cell_type": "code",
      "source": [
        "df['Avg_Word_Length'] = df['Cleaned_Text'].apply(calculate_avg_word_length)"
      ],
      "metadata": {
        "id": "fZUEsZQ_Dk3X"
      },
      "execution_count": null,
      "outputs": []
    },
    {
      "cell_type": "code",
      "source": [
        "# Display the DataFrame with the new columns\n",
        "print(df[['Syllable_Per_Word', 'Personal_Pronouns', 'Avg_Word_Length']])"
      ],
      "metadata": {
        "id": "sNJ1J8RLDl5k",
        "colab": {
          "base_uri": "https://localhost:8080/"
        },
        "outputId": "05201a77-6aa4-4235-d1cb-a12dbf3a1b29"
      },
      "execution_count": null,
      "outputs": [
        {
          "output_type": "stream",
          "name": "stdout",
          "text": [
            "                                    Syllable_Per_Word  Personal_Pronouns  \\\n",
            "0   [1, 4, 3, 2, 3, 2, 2, 4, 2, 1, 2, 2, 2, 1, 1, ...                  4   \n",
            "1   [2, 4, 5, 1, 2, 4, 3, 3, 2, 2, 4, 2, 2, 2, 2, ...                  6   \n",
            "2   [5, 1, 3, 3, 3, 4, 5, 3, 1, 2, 3, 2, 1, 2, 3, ...                 13   \n",
            "3   [2, 1, 4, 6, 1, 2, 2, 5, 3, 3, 2, 6, 2, 3, 3, ...                  5   \n",
            "4   [2, 1, 2, 2, 3, 5, 1, 5, 2, 4, 1, 4, 1, 2, 3, ...                  6   \n",
            "..                                                ...                ...   \n",
            "95  [4, 3, 2, 3, 1, 2, 3, 3, 2, 3, 2, 4, 3, 2, 2, ...                  4   \n",
            "96  [2, 1, 2, 1, 2, 3, 1, 2, 2, 2, 2, 2, 2, 3, 3, ...                  7   \n",
            "97  [3, 1, 2, 1, 1, 3, 1, 3, 3, 3, 3, 2, 1, 3, 1, ...                  0   \n",
            "98  [1, 1, 1, 2, 1, 2, 2, 1, 2, 2, 2, 2, 1, 3, 4, ...                  4   \n",
            "99  [3, 1, 2, 4, 2, 4, 2, 1, 1, 2, 2, 2, 2, 2, 2, ...                  3   \n",
            "\n",
            "    Avg_Word_Length  \n",
            "0          6.533333  \n",
            "1          7.713725  \n",
            "2          8.527331  \n",
            "3          8.353719  \n",
            "4          7.743169  \n",
            "..              ...  \n",
            "95         7.434483  \n",
            "96         6.857461  \n",
            "97         6.917647  \n",
            "98         6.490706  \n",
            "99         7.471739  \n",
            "\n",
            "[100 rows x 3 columns]\n"
          ]
        }
      ]
    },
    {
      "cell_type": "markdown",
      "source": [
        "###Save Output"
      ],
      "metadata": {
        "id": "GI6OWPgkYCXF"
      }
    },
    {
      "cell_type": "code",
      "source": [
        "# Output Data Structure\n",
        "output_columns = [\n",
        "    'URL_ID', 'URL', 'Positive_Score', 'Negative_Score', 'Polarity_Score', 'Subjectivity_Score',\n",
        "    'Average_Sentence_Length', 'Percentage_of_Complex_Words', 'Fog_Index', 'Average_Words_Per_Sentence',\n",
        "    'Complex_Word_Count', 'Word_Count', 'Personal_Pronouns', 'Avg_Word_Length'\n",
        "]"
      ],
      "metadata": {
        "id": "OdV5EvO0D7wF"
      },
      "execution_count": null,
      "outputs": []
    },
    {
      "cell_type": "code",
      "source": [
        "# Create output DataFrame\n",
        "output_df = df[output_columns]"
      ],
      "metadata": {
        "id": "Y96FRyqEM8q8"
      },
      "execution_count": null,
      "outputs": []
    },
    {
      "cell_type": "code",
      "source": [
        "# Save the output to the specified path\n",
        "output_path = '/content/drive/MyDrive/20211030 Test Assignment-20240530T063043Z-001/20211030 Test Assignment/Output_Data_Structures1.xlsx'\n",
        "output_df.to_excel(output_path, index=False)"
      ],
      "metadata": {
        "id": "Oif5Tyun3q6g"
      },
      "execution_count": null,
      "outputs": []
    }
  ]
}